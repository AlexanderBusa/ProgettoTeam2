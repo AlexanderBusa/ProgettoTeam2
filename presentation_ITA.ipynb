{
 "cells": [
  {
   "cell_type": "markdown",
   "metadata": {},
   "source": [
    "# Presentazione"
   ]
  },
  {
   "cell_type": "markdown",
   "metadata": {},
   "source": [
    "Date\n",
    "- Demo progetto mercoledi 8 gennaio 2024"
   ]
  },
  {
   "cell_type": "code",
   "execution_count": 3,
   "metadata": {},
   "outputs": [],
   "source": [
    "import src.datasets as datasets"
   ]
  },
  {
   "cell_type": "markdown",
   "metadata": {},
   "source": [
    "## Slide 1 - titolo\n"
   ]
  },
  {
   "cell_type": "markdown",
   "metadata": {},
   "source": [
    "Progetto Team 2 Data 3 - AIDS virus infection prediction"
   ]
  },
  {
   "cell_type": "markdown",
   "metadata": {},
   "source": [
    "Il dataset proviene da uno studio clinico del 1995 ACTG 175 (AIDS Clinical Trails Group Study 175, https://clinicaltrials.gov/study/NCT00000625). \n",
    "\n",
    "Lo studio raccoglie i dati di 2139 pazienti affetti da HIV e trattati con vari farmaci antiretrovirali. \n",
    "\n",
    "L'obiettivo del progetto consiste nello sviluppo di un modello di classificazione binaria supervisionato che permetta, sulla base delle varie caratteristiche dei pazienti, di stabilire se essi hanno sviluppato la malattia AIDS alla fine dello studio. \n",
    "\n",
    "Per ogni paziente sono registrate 22 caratteristiche numeriche (8 regressori continui, 11 binari e 4 categorici non binari)"
   ]
  },
  {
   "cell_type": "code",
   "execution_count": 4,
   "metadata": {},
   "outputs": [
    {
     "data": {
      "text/plain": [
       "(2139, 23)"
      ]
     },
     "execution_count": 4,
     "metadata": {},
     "output_type": "execute_result"
    }
   ],
   "source": [
    "data = datasets.data_original()\n",
    "data.shape"
   ]
  },
  {
   "cell_type": "code",
   "execution_count": 6,
   "metadata": {},
   "outputs": [
    {
     "data": {
      "text/plain": [
       "8"
      ]
     },
     "execution_count": 6,
     "metadata": {},
     "output_type": "execute_result"
    }
   ],
   "source": [
    "cat_features = [col for col in data.columns if data[col].nunique()> 4]\n",
    "len(cat_features)"
   ]
  },
  {
   "cell_type": "code",
   "execution_count": 8,
   "metadata": {},
   "outputs": [
    {
     "data": {
      "text/plain": [
       "12"
      ]
     },
     "execution_count": 8,
     "metadata": {},
     "output_type": "execute_result"
    }
   ],
   "source": [
    "bin_features = [col for col in data.columns if data[col].nunique()==2]\n",
    "len(bin_features)"
   ]
  },
  {
   "cell_type": "code",
   "execution_count": 9,
   "metadata": {},
   "outputs": [
    {
     "data": {
      "text/plain": [
       "4"
      ]
     },
     "execution_count": 9,
     "metadata": {},
     "output_type": "execute_result"
    }
   ],
   "source": [
    "23-11-8"
   ]
  },
  {
   "cell_type": "markdown",
   "metadata": {},
   "source": [
    "## Slide 3 - descrizione "
   ]
  },
  {
   "cell_type": "markdown",
   "metadata": {},
   "source": [
    "Le caratteristiche personali, cliniche e sul decorso terapeutico dei 2139 pazienti sono descritti da 22 regressori numerici o binari riassumibili come segue. \n",
    "\n",
    "I pazienti nello studio hanno un'età media di 35 anni, un peso medio di 75 kg.  La maggior parte dei pazienti (83%) era di genere maschile e di gruppo etnico caucasico 71%. Circa il 66% ha riportato attività omosessuale e il 13% di loro ha fatto uso di droghe per via endovenosa.\n",
    "\n",
    "I partecipanti sono rimasti in trattamento in media per 879 giorni e stati suddivisi in base al trattamento ricevuto: ZDV (Zidovudina), ZDV + ddI (Didanosina), ZDV + Zal (Zalcitabina) o ddI da sola. Più della metà (58%) aveva una storia precedente di terapia antiretrovirale, con il 20% che aveva ricevuto farmaci diversi da ZDV prima dello studio. Inoltre, il 55% ha assunto ZDV nei 30 giorni precedenti l'inizio dello studio, e il tempo medio di terapia antiretrovirale pregressa è stato di 379 giorni. Il 36% dei pazienti ha interrotto il trattamento prima delle 96 settimane (offtrt).\n",
    "\n",
    "Dal punto di vista immunologico, i livelli medi di CD4 (linfociti T-helper) erano di 350/mm³ di sangue al basale e di 371 a 20 settimane (un livello superiore a 500 è considerato normale) mentre i livelli medi di CD8 (linfociti T-citotossici) erano rispettivamente di 987 e 935.\n",
    "\n",
    "L'8% dei pazienti risulta affetto da emofilia, mentre il punteggio medio di Karnofsky è pari a 95 su 100, che indica che la maggior parte dei pazienti era funzionalmente attiva. \n",
    "Il 17% mostrava sintomi precursori di AIDS al momento dell'arruolamento, ma nessuno con diagnosi della malattia. Alla fine dello studio, il 24% è stato diagnosticato con AIDS.\n",
    " \n",
    "\n",
    " \n",
    "\n"
   ]
  },
  {
   "cell_type": "code",
   "execution_count": null,
   "metadata": {},
   "outputs": [],
   "source": [
    "Caratteristiche dei Pazienti (2139)\n",
    "Età media: 35 anni\n",
    "Peso medio: 75 kg\n",
    "Genere: 83% maschi\n",
    "Etnia: 71% caucasici\n",
    "Comportamenti a rischio: 66% attività omosessuale, 13% uso di droghe IV\n",
    "Trattamenti e Terapie\n",
    "Durata media trattamento: 879 giorni\n",
    "Trattamenti: ZDV, ZDV+ddI, ZDV+Zal, ddI\n",
    "Storia pregressa: 58% terapia antiretrovirale\n",
    "Interruzione trattamento: 36% prima di 96 settimane\n",
    "Parametri Immunologici\n",
    "CD4 (basale): 350/mm³\n",
    "CD8 (basale): 987/mm³\n",
    "Condizioni Cliniche\n",
    "Emofilia: 8%\n",
    "Karnofsky: 95/100\n",
    "Sintomi precursori AIDS: 17%\n",
    "Diagnosi AIDS (fine studio): 24%"
   ]
  },
  {
   "cell_type": "code",
   "execution_count": null,
   "metadata": {},
   "outputs": [],
   "source": [
    "##"
   ]
  },
  {
   "cell_type": "code",
   "execution_count": 11,
   "metadata": {},
   "outputs": [
    {
     "data": {
      "text/plain": [
       "time        879.098177\n",
       "trt           1.520804\n",
       "age          35.248247\n",
       "wtkg         75.125311\n",
       "hemo          0.084151\n",
       "homo          0.661057\n",
       "drugs         0.131370\n",
       "karnof       95.446470\n",
       "oprior        0.021973\n",
       "z30           0.550257\n",
       "preanti     379.175783\n",
       "race          0.288453\n",
       "gender        0.827957\n",
       "str2          0.585788\n",
       "strat         1.979897\n",
       "symptom       0.172978\n",
       "treat         0.751286\n",
       "offtrt        0.362786\n",
       "cd40        350.501169\n",
       "cd420       371.307153\n",
       "cd80        986.627396\n",
       "cd820       935.369799\n",
       "infected      0.243572\n",
       "dtype: float64"
      ]
     },
     "execution_count": 11,
     "metadata": {},
     "output_type": "execute_result"
    }
   ],
   "source": [
    "data.mean()"
   ]
  },
  {
   "cell_type": "markdown",
   "metadata": {},
   "source": [
    "## Logistic regression"
   ]
  },
  {
   "cell_type": "code",
   "execution_count": null,
   "metadata": {},
   "outputs": [],
   "source": [
    "- vanilla, undersampled, oversampled, skb2, rfe10\n",
    "- onehot\n",
    "- "
   ]
  },
  {
   "cell_type": "code",
   "execution_count": null,
   "metadata": {},
   "outputs": [],
   "source": [
    "##"
   ]
  }
 ],
 "metadata": {
  "kernelspec": {
   "display_name": ".venv",
   "language": "python",
   "name": "python3"
  },
  "language_info": {
   "codemirror_mode": {
    "name": "ipython",
    "version": 3
   },
   "file_extension": ".py",
   "mimetype": "text/x-python",
   "name": "python",
   "nbconvert_exporter": "python",
   "pygments_lexer": "ipython3",
   "version": "3.13.0"
  }
 },
 "nbformat": 4,
 "nbformat_minor": 2
}
