{
 "cells": [
  {
   "cell_type": "markdown",
   "metadata": {},
   "source": [
    "# Meta model"
   ]
  },
  {
   "cell_type": "markdown",
   "metadata": {},
   "source": [
    "## Load required modules and functions"
   ]
  },
  {
   "cell_type": "code",
   "execution_count": 1,
   "metadata": {},
   "outputs": [],
   "source": [
    "import numpy as np\n",
    "import pandas as pd\n",
    "import matplotlib.pyplot as plt\n",
    "import seaborn as sns\n",
    "\n",
    "from sklearn.preprocessing import MinMaxScaler\n",
    "from sklearn.metrics import *\n",
    "from sklearn.model_selection import train_test_split, KFold, StratifiedKFold, cross_val_score\n",
    "\n",
    "from sklearn.ensemble import RandomForestClassifier\n",
    "from sklearn.feature_selection import SelectKBest, RFE\n",
    "from sklearn.feature_selection import f_classif\n",
    "from sklearn.preprocessing import StandardScaler \n",
    "from sklearn.metrics import accuracy_score\n",
    "\n",
    "from sklearn.linear_model import LogisticRegression\n",
    "\n",
    "from matplotlib_venn import venn2\n",
    "from tqdm import tqdm\n",
    "\n",
    "from imblearn.over_sampling import SMOTENC\n",
    "\n",
    "\n"
   ]
  },
  {
   "cell_type": "code",
   "execution_count": 3,
   "metadata": {},
   "outputs": [],
   "source": [
    "import pickle"
   ]
  },
  {
   "cell_type": "code",
   "execution_count": 4,
   "metadata": {},
   "outputs": [],
   "source": [
    "import src.features as features\n",
    "import src.model_selection as model_selection \n",
    "import src.functions as functions\n",
    "import src.datasets as datasets "
   ]
  },
  {
   "cell_type": "markdown",
   "metadata": {},
   "source": [
    "### Settings"
   ]
  },
  {
   "cell_type": "code",
   "execution_count": 5,
   "metadata": {},
   "outputs": [],
   "source": [
    "# default plt figuresize, smallish\n",
    "plt.rcParams[\"figure.figsize\"] = (6,3)"
   ]
  },
  {
   "cell_type": "markdown",
   "metadata": {},
   "source": [
    "## Load and prepare the data"
   ]
  },
  {
   "cell_type": "code",
   "execution_count": 6,
   "metadata": {},
   "outputs": [],
   "source": [
    "### Load dataset\n",
    "data = datasets.data_original()\n",
    "### Feature engineering \n",
    "data = features.engineer(data)\n",
    "### Train test split (unprocessed)\n",
    "X_, y_ = data.drop('infected', axis=1), data['infected']\n",
    "X_train_, X_test_, y_train_, y_test_ = train_test_split(X_, y_, test_size = 0.2, random_state=42, stratify = y_)\n"
   ]
  },
  {
   "cell_type": "markdown",
   "metadata": {},
   "source": [
    "### Scaling the data "
   ]
  },
  {
   "cell_type": "code",
   "execution_count": 7,
   "metadata": {},
   "outputs": [],
   "source": [
    "scaler = StandardScaler()\n",
    "\n",
    "X_train_scaled = scaler.fit_transform(X_train_)\n",
    "X_test_scaled = scaler.transform(X_test_)\n",
    "\n",
    "X_train_scaled = pd.DataFrame(X_train_scaled, columns = X_train_.columns)\n",
    "X_test_scaled = pd.DataFrame(X_test_scaled, columns = X_test_.columns)\n",
    "\n"
   ]
  },
  {
   "cell_type": "markdown",
   "metadata": {},
   "source": [
    "## Load and evaluate all models"
   ]
  },
  {
   "cell_type": "code",
   "execution_count": 8,
   "metadata": {},
   "outputs": [],
   "source": [
    "models = {}"
   ]
  },
  {
   "cell_type": "markdown",
   "metadata": {},
   "source": [
    "### Logistic regression"
   ]
  },
  {
   "cell_type": "code",
   "execution_count": 12,
   "metadata": {},
   "outputs": [],
   "source": [
    "models[\"Logistic\"] = pickle.load(open(\"models/logistic_RFE9.pkl\", \"rb\"))"
   ]
  },
  {
   "cell_type": "code",
   "execution_count": 13,
   "metadata": {},
   "outputs": [
    {
     "data": {
      "text/plain": [
       "9"
      ]
     },
     "execution_count": 13,
     "metadata": {},
     "output_type": "execute_result"
    }
   ],
   "source": [
    "n_features = models[\"Logistic\"].coef_.shape[1]\n",
    "n_features"
   ]
  },
  {
   "cell_type": "code",
   "execution_count": 14,
   "metadata": {},
   "outputs": [],
   "source": [
    "rfe_features = pickle.load(open(\"models/rfe_features_250103.pkl\", \"rb\"))[9]"
   ]
  },
  {
   "cell_type": "code",
   "execution_count": 15,
   "metadata": {},
   "outputs": [
    {
     "name": "stdout",
     "output_type": "stream",
     "text": [
      "['hemo', 'drugs', 'z30', 'race', 'gender', 'offtrt', 'cd420', 'time730', 'time_censored']\n"
     ]
    }
   ],
   "source": [
    "print(rfe_features)"
   ]
  },
  {
   "cell_type": "markdown",
   "metadata": {},
   "source": [
    "### Random Forest"
   ]
  },
  {
   "cell_type": "code",
   "execution_count": 17,
   "metadata": {},
   "outputs": [],
   "source": [
    "with open(\"models/random_forest_gridsearch_241218.pkl\", \"rb\") as file:\n",
    "    models[\"RandomForest\"] = pickle.load(file)"
   ]
  },
  {
   "cell_type": "markdown",
   "metadata": {},
   "source": [
    "### KNN ###"
   ]
  },
  {
   "cell_type": "code",
   "execution_count": 22,
   "metadata": {},
   "outputs": [],
   "source": [
    "with open(\"models/knn.pkl\", \"rb\") as file:\n",
    "    models[\"Knearestneighbors\"] = pickle.load(file)"
   ]
  },
  {
   "cell_type": "markdown",
   "metadata": {},
   "source": [
    "## Evaluate the models"
   ]
  },
  {
   "cell_type": "code",
   "execution_count": 23,
   "metadata": {},
   "outputs": [],
   "source": [
    "\n",
    "y_train = y_train_\n",
    "y_test = y_test_\n",
    "\n",
    "y_pred_train = {}\n",
    "y_proba_train = {}\n",
    "\n",
    "y_pred_test = {}\n",
    "y_proba_test = {}"
   ]
  },
  {
   "cell_type": "markdown",
   "metadata": {},
   "source": [
    "### Data preprocessing"
   ]
  },
  {
   "cell_type": "code",
   "execution_count": 24,
   "metadata": {},
   "outputs": [],
   "source": [
    "# by default we assing unscaled raw data to each model\n",
    "X_train_preprocessed = {modelname: X_train_ for modelname in models}\n",
    "X_test_preprocessed = {modelname: X_test_ for modelname in models}\n",
    "\n"
   ]
  },
  {
   "cell_type": "code",
   "execution_count": 25,
   "metadata": {},
   "outputs": [],
   "source": [
    "# Logistic : scaled dataset, with only selected features\n",
    "X_train_preprocessed[\"Logistic\"] = X_train_scaled[rfe_features]\n",
    "X_test_preprocessed[\"Logistic\"] = X_test_scaled[rfe_features]\n"
   ]
  },
  {
   "cell_type": "markdown",
   "metadata": {},
   "source": [
    "### Evaluate all models"
   ]
  },
  {
   "cell_type": "code",
   "execution_count": 26,
   "metadata": {},
   "outputs": [],
   "source": [
    "for model_name in models:\n",
    "    model = models[model_name]\n",
    "\n",
    "    X_train = X_train_preprocessed[model_name]\n",
    "    y_pred_train[model_name] = model.predict(X_train)\n",
    "    y_proba_train[model_name] = model.predict_proba(X_train)[:,1]\n",
    "\n",
    "    X_test = X_test_preprocessed[model_name]\n",
    "    y_pred_test[model_name] = model.predict(X_test)\n",
    "    y_proba_test[model_name] = model.predict_proba(X_test)[:,1]"
   ]
  },
  {
   "cell_type": "code",
   "execution_count": 27,
   "metadata": {},
   "outputs": [
    {
     "data": {
      "image/png": "[encoded data removed]",
      "text/plain": [
       "<Figure size 600x300 with 2 Axes>"
      ]
     },
     "metadata": {},
     "output_type": "display_data"
    },
    {
     "data": {
      "image/png": "[encoded data removed]",
      "text/plain": [
       "<Figure size 600x300 with 2 Axes>"
      ]
     },
     "metadata": {},
     "output_type": "display_data"
    },
    {
     "data": {
      "image/png": "[encoded data removed]",
      "text/plain": [
       "<Figure size 600x300 with 2 Axes>"
      ]
     },
     "metadata": {},
     "output_type": "display_data"
    }
   ],
   "source": [
    "for model_name in models:\n",
    "    sns.heatmap(confusion_matrix(y_test,y_pred_test[model_name]), annot = True, cmap = \"Blues\", fmt='d')\n",
    "    plt.title(\"Test results with \" + model_name + \" model\")\n",
    "    plt.show()\n"
   ]
  },
  {
   "cell_type": "markdown",
   "metadata": {},
   "source": [
    "### Evaluation scores\n"
   ]
  },
  {
   "cell_type": "code",
   "execution_count": 28,
   "metadata": {},
   "outputs": [],
   "source": [
    "results_test_models_list = []\n",
    "\n",
    "for model_name in models : \n",
    "    y_pred = y_pred_test[model_name]\n",
    "\n",
    "    results_test = {\n",
    "        \"model\": model_name,\n",
    "        \"accuracy\": accuracy_score(y_test,y_pred),\n",
    "        \"recall\": recall_score(y_test,y_pred),\n",
    "        \"selectivity\": recall_score(y_test,y_pred,pos_label = 0),\n",
    "        \"f1\": f1_score(y_test,y_pred),\n",
    "        \"f3\": fbeta_score(y_test,y_pred,beta = 3),\n",
    "        \"precision\": precision_score(y_test,y_pred),\n",
    "        \"NPV\": precision_score(y_test,y_pred, pos_label = 0)\n",
    "    }\n",
    "\n",
    "    results_test_models_list.append(results_test)\n",
    "\n",
    "results_test_models_df = pd.DataFrame(results_test_models_list)\n"
   ]
  },
  {
   "cell_type": "code",
   "execution_count": 29,
   "metadata": {},
   "outputs": [
    {
     "name": "stdout",
     "output_type": "stream",
     "text": [
      "               model  accuracy    recall  selectivity        f1        f3  \\\n",
      "0  Knearestneighbors  0.794393  0.557692      0.87037  0.568627  0.559846   \n",
      "1           Logistic  0.894860  0.807692      0.92284  0.788732  0.803828   \n",
      "2       RandomForest  0.897196  0.817308      0.92284  0.794393  0.812620   \n",
      "\n",
      "   precision       NPV  \n",
      "0   0.580000  0.859756  \n",
      "1   0.770642  0.937304  \n",
      "2   0.772727  0.940252  \n"
     ]
    }
   ],
   "source": [
    "print(results_test_models_df)"
   ]
  },
  {
   "cell_type": "markdown",
   "metadata": {},
   "source": [
    "## Meta model"
   ]
  },
  {
   "cell_type": "markdown",
   "metadata": {},
   "source": [
    "### Stack the model evaluations"
   ]
  },
  {
   "cell_type": "markdown",
   "metadata": {},
   "source": [
    "For each patient we evaluate each model with the probability of being infected"
   ]
  },
  {
   "cell_type": "code",
   "execution_count": null,
   "metadata": {},
   "outputs": [],
   "source": [
    "X_train_stacked = pd.DataFrame(y_proba_train)\n",
    "X_test_stacked = pd.DataFrame(y_proba_test)\n",
    "\n",
    "print(X_train_stacked.shape, X_test_stacked.shape)"
   ]
  },
  {
   "cell_type": "code",
   "execution_count": null,
   "metadata": {},
   "outputs": [],
   "source": [
    "X_train_stacked.head()"
   ]
  },
  {
   "cell_type": "markdown",
   "metadata": {},
   "source": [
    "### Visualize the stacked evaluations of the base models"
   ]
  },
  {
   "cell_type": "code",
   "execution_count": null,
   "metadata": {},
   "outputs": [],
   "source": [
    "### a simple scatterplot\n",
    "\n",
    "base_model_scatter = X_train_stacked.copy()\n",
    "base_model_scatter['y'] = y_train\n",
    "\n",
    "sns.scatterplot(data=base_model_scatter, x='Logistic', y='RandomForest', hue='y', alpha = 0.7, s=30)\n",
    "plt.show()"
   ]
  },
  {
   "cell_type": "markdown",
   "metadata": {},
   "source": [
    "### Logit transform the stacked model"
   ]
  },
  {
   "cell_type": "markdown",
   "metadata": {},
   "source": [
    "The evaluations of the models are expressed as probabilities, so in $[0,1]$. We want to transform them into log-odd ratios to $[-\\infty,\\infty]$ via the logit function"
   ]
  },
  {
   "cell_type": "code",
   "execution_count": 114,
   "metadata": {},
   "outputs": [],
   "source": [
    "def logit(X):\n",
    "    epsilon = 1e-6\n",
    "    X_clipped = np.clip(X, epsilon, 1 - epsilon)\n",
    "    return np.log(X_clipped / (1 - X_clipped))"
   ]
  },
  {
   "cell_type": "code",
   "execution_count": 115,
   "metadata": {},
   "outputs": [],
   "source": [
    "X_train_stacked_logodd = X_train_stacked.apply(logit)\n",
    "X_test_stacked_logodd = X_test_stacked.apply(logit)"
   ]
  },
  {
   "cell_type": "markdown",
   "metadata": {},
   "source": [
    "### Train the meta model"
   ]
  },
  {
   "cell_type": "code",
   "execution_count": null,
   "metadata": {},
   "outputs": [],
   "source": [
    "from sklearn.naive_bayes import GaussianNB\n",
    "\n",
    "meta_classifier = GaussianNB()\n",
    "\n",
    "meta_classifier.fit(X_train_stacked_logodd,y_train)"
   ]
  },
  {
   "cell_type": "markdown",
   "metadata": {},
   "source": [
    "### Evaluate the meta model"
   ]
  },
  {
   "cell_type": "code",
   "execution_count": 139,
   "metadata": {},
   "outputs": [],
   "source": [
    "results_test_models_list_meta = results_test_models_list.copy()\n",
    "\n",
    "\n",
    "y_pred = meta_classifier.predict(X_test_stacked_logodd)\n",
    "\n",
    "results_test = {\n",
    "    \"model\": \"meta\",\n",
    "    \"accuracy\": accuracy_score(y_test,y_pred),\n",
    "    \"recall\": recall_score(y_test,y_pred),\n",
    "    \"selectivity\": recall_score(y_test,y_pred,pos_label = 0),\n",
    "    \"f1\": f1_score(y_test,y_pred),\n",
    "    \"f3\": fbeta_score(y_test,y_pred,beta = 3),\n",
    "    \"precision\": precision_score(y_test,y_pred),\n",
    "    \"NPV\": precision_score(y_test,y_pred, pos_label = 0)\n",
    "}\n",
    "\n",
    "results_test_models_list_meta.append(results_test)\n",
    "\n",
    "results_test_models_df_meta = pd.DataFrame(results_test_models_list_meta)"
   ]
  },
  {
   "cell_type": "code",
   "execution_count": 166,
   "metadata": {},
   "outputs": [],
   "source": [
    "y_pred_test_meta = y_pred"
   ]
  },
  {
   "cell_type": "code",
   "execution_count": null,
   "metadata": {},
   "outputs": [],
   "source": [
    "results_test_models_df_meta"
   ]
  },
  {
   "cell_type": "code",
   "execution_count": null,
   "metadata": {},
   "outputs": [],
   "source": [
    "sns.heatmap(confusion_matrix(y_test,y_pred_test_meta), annot = True, cmap = \"Blues\", fmt='d')\n",
    "plt.title(\"Test results with the meta model\")\n",
    "plt.show()"
   ]
  },
  {
   "cell_type": "markdown",
   "metadata": {},
   "source": [
    "## Visualize decision boundary with two base models"
   ]
  },
  {
   "cell_type": "code",
   "execution_count": 150,
   "metadata": {},
   "outputs": [],
   "source": []
  },
  {
   "cell_type": "code",
   "execution_count": 164,
   "metadata": {},
   "outputs": [],
   "source": [
    "# let's boundary plot\n",
    "import numpy as np\n",
    "import matplotlib.pyplot as plt\n",
    "import seaborn as sns\n",
    "\n",
    "def plot_decision_boundary(fitted_meta_model, Xstackedtrain, ytrain, figsize = (10,6)):\n",
    "    \"\"\"\n",
    "    np2darray.ravel() efficiently flattens the array\n",
    "    np.c_ is like clumn_stack: it acts as zip(), into a 2d array\n",
    "    \"\"\"\n",
    "    df = Xstackedtrain.copy()\n",
    "    df['y'] = ytrain\n",
    "\n",
    "    # Create a meshgrid of points\n",
    "    ## xx.shape == (M,N) where M,N are the number of gridpoints nd the X/Y axis respectively\n",
    "    x_min, x_max, y_min, y_max = -11, 7.5, -7, 7\n",
    "    xx, yy = np.meshgrid(np.arange(x_min, x_max, 0.1),\n",
    "                        np.arange(y_min, y_max, 0.1))\n",
    "\n",
    "    ## xx.ravel().shape == (M*N,)\n",
    "    ## xy.shape = (M*N,2)\n",
    "    xy = np.c_[xx.ravel(), yy.ravel()]   \n",
    "    xy = pd.DataFrame(xy,columns = models.keys())  \n",
    "    \n",
    "    # Predict on the grid\n",
    "    Z = meta_classifier.predict(xy)\n",
    "    Z = Z.reshape(xx.shape)\n",
    "\n",
    "    # Plot the decision boundary\n",
    "    plt.figure(figsize=figsize)\n",
    "    ## scatterplot the base model predictions\n",
    "    sns.scatterplot(data=df, x='Logistic', y='RandomForest', hue='y', s= 30, alpha = 0.6)\n",
    "    ## countrouf the meta model prediction\n",
    "    plt.contourf(xx, yy, Z, alpha=0.2, levels=1)\n",
    "    plt.title(\"Decision boundary of the meta model\")\n",
    "    plt.show()"
   ]
  },
  {
   "cell_type": "code",
   "execution_count": null,
   "metadata": {},
   "outputs": [],
   "source": [
    "plot_decision_boundary(meta_classifier, X_train_stacked_logodd, y_train)\n"
   ]
  },
  {
   "cell_type": "markdown",
   "metadata": {},
   "source": [
    "## Vanilla models"
   ]
  },
  {
   "cell_type": "code",
   "execution_count": 9,
   "metadata": {},
   "outputs": [],
   "source": [
    "from sklearn.linear_model import LogisticRegression\n",
    "from sklearn.tree import DecisionTreeClassifier\n",
    "from sklearn.neighbors import KNeighborsClassifier\n",
    "from sklearn.neural_network import MLPClassifier\n",
    "from sklearn.ensemble import RandomForestClassifier\n",
    "\n",
    "\n"
   ]
  },
  {
   "cell_type": "code",
   "execution_count": 10,
   "metadata": {},
   "outputs": [],
   "source": [
    "models_vanilla = {}\n",
    "models_vanilla[\"LogisticRegression\"] = LogisticRegression(random_state=42)\n",
    "models_vanilla[\"DecisionTree\"] = DecisionTreeClassifier(random_state=42)\n",
    "models_vanilla[\"RandomForest\"] = RandomForestClassifier(random_state=42)\n",
    "models_vanilla[\"KNearestNeighbors\"] = KNeighborsClassifier()\n",
    "models_vanilla[\"ArtificialNeuralNetworkMLP\"] = MLPClassifier(random_state=42)"
   ]
  },
  {
   "cell_type": "code",
   "execution_count": 11,
   "metadata": {},
   "outputs": [],
   "source": [
    "from src.model_selection import cv_accuracy_recall"
   ]
  },
  {
   "cell_type": "code",
   "execution_count": 12,
   "metadata": {},
   "outputs": [
    {
     "data": {
      "text/html": [
       "<div>\n",
       "<style scoped>\n",
       "    .dataframe tbody tr th:only-of-type {\n",
       "        vertical-align: middle;\n",
       "    }\n",
       "\n",
       "    .dataframe tbody tr th {\n",
       "        vertical-align: top;\n",
       "    }\n",
       "\n",
       "    .dataframe thead th {\n",
       "        text-align: right;\n",
       "    }\n",
       "</style>\n",
       "<table border=\"1\" class=\"dataframe\">\n",
       "  <thead>\n",
       "    <tr style=\"text-align: right;\">\n",
       "      <th></th>\n",
       "      <th>accuracy</th>\n",
       "      <th>recall</th>\n",
       "      <th>model</th>\n",
       "    </tr>\n",
       "  </thead>\n",
       "  <tbody>\n",
       "    <tr>\n",
       "      <th>0</th>\n",
       "      <td>0.884862</td>\n",
       "      <td>0.743488</td>\n",
       "      <td>LogisticRegression_vanilla</td>\n",
       "    </tr>\n",
       "    <tr>\n",
       "      <th>1</th>\n",
       "      <td>0.851551</td>\n",
       "      <td>0.700115</td>\n",
       "      <td>DecisionTree_vanilla</td>\n",
       "    </tr>\n",
       "    <tr>\n",
       "      <th>2</th>\n",
       "      <td>0.880768</td>\n",
       "      <td>0.700229</td>\n",
       "      <td>RandomForest_vanilla</td>\n",
       "    </tr>\n",
       "    <tr>\n",
       "      <th>3</th>\n",
       "      <td>0.827579</td>\n",
       "      <td>0.474727</td>\n",
       "      <td>KNearestNeighbors_vanilla</td>\n",
       "    </tr>\n",
       "    <tr>\n",
       "      <th>4</th>\n",
       "      <td>0.877841</td>\n",
       "      <td>0.721773</td>\n",
       "      <td>ArtificialNeuralNetworkMLP_vanilla</td>\n",
       "    </tr>\n",
       "  </tbody>\n",
       "</table>\n",
       "</div>"
      ],
      "text/plain": [
       "   accuracy    recall                               model\n",
       "0  0.884862  0.743488          LogisticRegression_vanilla\n",
       "1  0.851551  0.700115                DecisionTree_vanilla\n",
       "2  0.880768  0.700229                RandomForest_vanilla\n",
       "3  0.827579  0.474727           KNearestNeighbors_vanilla\n",
       "4  0.877841  0.721773  ArtificialNeuralNetworkMLP_vanilla"
      ]
     },
     "execution_count": 12,
     "metadata": {},
     "output_type": "execute_result"
    }
   ],
   "source": [
    "cv_vanilla = []\n",
    "for modelname in models_vanilla:\n",
    "    cv_vanilla.append(cv_accuracy_recall(X_train_scaled,y_train_, models_vanilla[modelname], modelname + \"_vanilla\"))\n",
    "cv_vanilla = pd.DataFrame(cv_vanilla)\n",
    "cv_vanilla"
   ]
  },
  {
   "cell_type": "markdown",
   "metadata": {},
   "source": [
    "### Undersampled training vanilla"
   ]
  },
  {
   "cell_type": "code",
   "execution_count": 13,
   "metadata": {},
   "outputs": [],
   "source": [
    "models_vanilla = {}\n",
    "models_vanilla[\"LogisticRegression\"] = LogisticRegression(random_state=42)\n",
    "models_vanilla[\"DecisionTree\"] = DecisionTreeClassifier(random_state=42)\n",
    "models_vanilla[\"RandomForest\"] = RandomForestClassifier(random_state=42)\n",
    "models_vanilla[\"KNearestNeighbors\"] = KNeighborsClassifier()\n",
    "models_vanilla[\"ArtificialNeuralNetworkMLP\"] = MLPClassifier(random_state=42)"
   ]
  },
  {
   "cell_type": "code",
   "execution_count": 14,
   "metadata": {},
   "outputs": [],
   "source": [
    "def sample_balance_Xy(X,y, with_reindex = False):\n",
    "    df = X.copy()\n",
    "    df['infected'] = y\n",
    "    df_infected = df[df['infected']==1] \n",
    "    df_not_infected = df[df['infected']==0]\n",
    "\n",
    "    num_infected = df_infected.shape[0]\n",
    "    df_sample_not_infected = df_not_infected.sample(num_infected, random_state=42)\n",
    "\n",
    "    df_balanced = pd.concat([df_infected,df_sample_not_infected])\n",
    "    # we shuffle it once more at the end.\n",
    "    # https://stackoverflow.com/questions/29576430/shuffle-dataframe-rows\n",
    "    if with_reindex:\n",
    "        df_balanced = df_balanced.sample(frac=1).reset_index(drop=True)\n",
    "    else:\n",
    "        df_balanced = df_balanced.sample(frac=1)\n",
    "    X_balanced = df_balanced.drop(columns=['infected'])\n",
    "    y_balanced = df_balanced['infected']\n",
    "    return X_balanced,y_balanced\n"
   ]
  },
  {
   "cell_type": "code",
   "execution_count": 15,
   "metadata": {},
   "outputs": [],
   "source": [
    "X_train_balanced, y_train_balanced = sample_balance_Xy(X_train_scaled, y_train_)"
   ]
  },
  {
   "cell_type": "code",
   "execution_count": 16,
   "metadata": {},
   "outputs": [
    {
     "data": {
      "text/plain": [
       "(676, 24)"
      ]
     },
     "execution_count": 16,
     "metadata": {},
     "output_type": "execute_result"
    }
   ],
   "source": [
    "X_train_balanced.shape"
   ]
  },
  {
   "cell_type": "code",
   "execution_count": 17,
   "metadata": {},
   "outputs": [
    {
     "data": {
      "text/html": [
       "<div>\n",
       "<style scoped>\n",
       "    .dataframe tbody tr th:only-of-type {\n",
       "        vertical-align: middle;\n",
       "    }\n",
       "\n",
       "    .dataframe tbody tr th {\n",
       "        vertical-align: top;\n",
       "    }\n",
       "\n",
       "    .dataframe thead th {\n",
       "        text-align: right;\n",
       "    }\n",
       "</style>\n",
       "<table border=\"1\" class=\"dataframe\">\n",
       "  <thead>\n",
       "    <tr style=\"text-align: right;\">\n",
       "      <th></th>\n",
       "      <th>accuracy</th>\n",
       "      <th>recall</th>\n",
       "      <th>model</th>\n",
       "    </tr>\n",
       "  </thead>\n",
       "  <tbody>\n",
       "    <tr>\n",
       "      <th>0</th>\n",
       "      <td>0.505980</td>\n",
       "      <td>0.517691</td>\n",
       "      <td>LogisticRegression_balanced</td>\n",
       "    </tr>\n",
       "    <tr>\n",
       "      <th>1</th>\n",
       "      <td>0.498399</td>\n",
       "      <td>0.497410</td>\n",
       "      <td>DecisionTree_balanced</td>\n",
       "    </tr>\n",
       "    <tr>\n",
       "      <th>2</th>\n",
       "      <td>0.501362</td>\n",
       "      <td>0.485075</td>\n",
       "      <td>RandomForest_balanced</td>\n",
       "    </tr>\n",
       "    <tr>\n",
       "      <th>3</th>\n",
       "      <td>0.485163</td>\n",
       "      <td>0.502985</td>\n",
       "      <td>KNearestNeighbors_balanced</td>\n",
       "    </tr>\n",
       "    <tr>\n",
       "      <th>4</th>\n",
       "      <td>0.522179</td>\n",
       "      <td>0.508736</td>\n",
       "      <td>ArtificialNeuralNetworkMLP_balanced</td>\n",
       "    </tr>\n",
       "  </tbody>\n",
       "</table>\n",
       "</div>"
      ],
      "text/plain": [
       "   accuracy    recall                                model\n",
       "0  0.505980  0.517691          LogisticRegression_balanced\n",
       "1  0.498399  0.497410                DecisionTree_balanced\n",
       "2  0.501362  0.485075                RandomForest_balanced\n",
       "3  0.485163  0.502985           KNearestNeighbors_balanced\n",
       "4  0.522179  0.508736  ArtificialNeuralNetworkMLP_balanced"
      ]
     },
     "execution_count": 17,
     "metadata": {},
     "output_type": "execute_result"
    }
   ],
   "source": [
    "cv_vanilla_balanced = []\n",
    "for modelname in models_vanilla:\n",
    "    cv_vanilla_balanced.append(cv_accuracy_recall(X_train_balanced,y_train_balanced, models_vanilla[modelname], modelname + \"_balanced\"))\n",
    "cv_vanilla_balanced = pd.DataFrame(cv_vanilla_balanced)\n",
    "cv_vanilla_balanced"
   ]
  },
  {
   "cell_type": "markdown",
   "metadata": {},
   "source": []
  },
  {
   "cell_type": "markdown",
   "metadata": {},
   "source": []
  },
  {
   "cell_type": "markdown",
   "metadata": {},
   "source": [
    "## Oversampling vanilla"
   ]
  },
  {
   "cell_type": "code",
   "execution_count": 18,
   "metadata": {},
   "outputs": [],
   "source": [
    "from imblearn.over_sampling import SMOTENC\n"
   ]
  },
  {
   "cell_type": "code",
   "execution_count": 20,
   "metadata": {},
   "outputs": [],
   "source": [
    "from imblearn.pipeline import Pipeline, make_pipeline\n",
    "\n",
    "cat_features = [c for c in X_train_ if X_train_[c].nunique() < 5]\n",
    "smote_nc =  SMOTENC(categorical_features=cat_features, sampling_strategy=1.0, random_state=42)\n",
    "\n",
    "\n"
   ]
  },
  {
   "cell_type": "code",
   "execution_count": 23,
   "metadata": {},
   "outputs": [
    {
     "data": {
      "text/html": [
       "<div>\n",
       "<style scoped>\n",
       "    .dataframe tbody tr th:only-of-type {\n",
       "        vertical-align: middle;\n",
       "    }\n",
       "\n",
       "    .dataframe tbody tr th {\n",
       "        vertical-align: top;\n",
       "    }\n",
       "\n",
       "    .dataframe thead th {\n",
       "        text-align: right;\n",
       "    }\n",
       "</style>\n",
       "<table border=\"1\" class=\"dataframe\">\n",
       "  <thead>\n",
       "    <tr style=\"text-align: right;\">\n",
       "      <th></th>\n",
       "      <th>accuracy</th>\n",
       "      <th>recall</th>\n",
       "      <th>model</th>\n",
       "    </tr>\n",
       "  </thead>\n",
       "  <tbody>\n",
       "    <tr>\n",
       "      <th>0</th>\n",
       "      <td>0.873744</td>\n",
       "      <td>0.820138</td>\n",
       "      <td>LogisticRegression_smote</td>\n",
       "    </tr>\n",
       "    <tr>\n",
       "      <th>1</th>\n",
       "      <td>0.848052</td>\n",
       "      <td>0.752983</td>\n",
       "      <td>DecisionTree_smote</td>\n",
       "    </tr>\n",
       "    <tr>\n",
       "      <th>2</th>\n",
       "      <td>0.876670</td>\n",
       "      <td>0.788898</td>\n",
       "      <td>RandomForest_smote</td>\n",
       "    </tr>\n",
       "    <tr>\n",
       "      <th>3</th>\n",
       "      <td>0.808881</td>\n",
       "      <td>0.695468</td>\n",
       "      <td>KNearestNeighbors_smote</td>\n",
       "    </tr>\n",
       "    <tr>\n",
       "      <th>4</th>\n",
       "      <td>0.866150</td>\n",
       "      <td>0.743259</td>\n",
       "      <td>ArtificialNeuralNetworkMLP_smote</td>\n",
       "    </tr>\n",
       "  </tbody>\n",
       "</table>\n",
       "</div>"
      ],
      "text/plain": [
       "   accuracy    recall                             model\n",
       "0  0.873744  0.820138          LogisticRegression_smote\n",
       "1  0.848052  0.752983                DecisionTree_smote\n",
       "2  0.876670  0.788898                RandomForest_smote\n",
       "3  0.808881  0.695468           KNearestNeighbors_smote\n",
       "4  0.866150  0.743259  ArtificialNeuralNetworkMLP_smote"
      ]
     },
     "execution_count": 23,
     "metadata": {},
     "output_type": "execute_result"
    }
   ],
   "source": [
    "cv_vanilla_smote = []\n",
    "for modelname in models_vanilla:\n",
    "    model = models_vanilla[modelname]\n",
    "    X_ = X_train_scaled.copy()\n",
    "    y_ = y_train_\n",
    "    imba_pipeline = make_pipeline(smote_nc, model)\n",
    "    cv_vanilla_smote.append(cv_accuracy_recall(X_,y_, imba_pipeline, modelname + \"_smote\"))\n",
    "cv_vanilla_smote = pd.DataFrame(cv_vanilla_smote)\n",
    "cv_vanilla_smote"
   ]
  },
  {
   "cell_type": "code",
   "execution_count": 24,
   "metadata": {},
   "outputs": [
    {
     "data": {
      "text/html": [
       "<div>\n",
       "<style scoped>\n",
       "    .dataframe tbody tr th:only-of-type {\n",
       "        vertical-align: middle;\n",
       "    }\n",
       "\n",
       "    .dataframe tbody tr th {\n",
       "        vertical-align: top;\n",
       "    }\n",
       "\n",
       "    .dataframe thead th {\n",
       "        text-align: right;\n",
       "    }\n",
       "</style>\n",
       "<table border=\"1\" class=\"dataframe\">\n",
       "  <thead>\n",
       "    <tr style=\"text-align: right;\">\n",
       "      <th></th>\n",
       "      <th>accuracy</th>\n",
       "      <th>recall</th>\n",
       "      <th>model</th>\n",
       "    </tr>\n",
       "  </thead>\n",
       "  <tbody>\n",
       "    <tr>\n",
       "      <th>0</th>\n",
       "      <td>0.884862</td>\n",
       "      <td>0.743488</td>\n",
       "      <td>LogisticRegression_vanilla</td>\n",
       "    </tr>\n",
       "    <tr>\n",
       "      <th>1</th>\n",
       "      <td>0.851551</td>\n",
       "      <td>0.700115</td>\n",
       "      <td>DecisionTree_vanilla</td>\n",
       "    </tr>\n",
       "    <tr>\n",
       "      <th>2</th>\n",
       "      <td>0.880768</td>\n",
       "      <td>0.700229</td>\n",
       "      <td>RandomForest_vanilla</td>\n",
       "    </tr>\n",
       "    <tr>\n",
       "      <th>3</th>\n",
       "      <td>0.827579</td>\n",
       "      <td>0.474727</td>\n",
       "      <td>KNearestNeighbors_vanilla</td>\n",
       "    </tr>\n",
       "    <tr>\n",
       "      <th>4</th>\n",
       "      <td>0.877841</td>\n",
       "      <td>0.721773</td>\n",
       "      <td>ArtificialNeuralNetworkMLP_vanilla</td>\n",
       "    </tr>\n",
       "    <tr>\n",
       "      <th>0</th>\n",
       "      <td>0.873744</td>\n",
       "      <td>0.820138</td>\n",
       "      <td>LogisticRegression_smote</td>\n",
       "    </tr>\n",
       "    <tr>\n",
       "      <th>1</th>\n",
       "      <td>0.848052</td>\n",
       "      <td>0.752983</td>\n",
       "      <td>DecisionTree_smote</td>\n",
       "    </tr>\n",
       "    <tr>\n",
       "      <th>2</th>\n",
       "      <td>0.876670</td>\n",
       "      <td>0.788898</td>\n",
       "      <td>RandomForest_smote</td>\n",
       "    </tr>\n",
       "    <tr>\n",
       "      <th>3</th>\n",
       "      <td>0.808881</td>\n",
       "      <td>0.695468</td>\n",
       "      <td>KNearestNeighbors_smote</td>\n",
       "    </tr>\n",
       "    <tr>\n",
       "      <th>4</th>\n",
       "      <td>0.866150</td>\n",
       "      <td>0.743259</td>\n",
       "      <td>ArtificialNeuralNetworkMLP_smote</td>\n",
       "    </tr>\n",
       "  </tbody>\n",
       "</table>\n",
       "</div>"
      ],
      "text/plain": [
       "   accuracy    recall                               model\n",
       "0  0.884862  0.743488          LogisticRegression_vanilla\n",
       "1  0.851551  0.700115                DecisionTree_vanilla\n",
       "2  0.880768  0.700229                RandomForest_vanilla\n",
       "3  0.827579  0.474727           KNearestNeighbors_vanilla\n",
       "4  0.877841  0.721773  ArtificialNeuralNetworkMLP_vanilla\n",
       "0  0.873744  0.820138            LogisticRegression_smote\n",
       "1  0.848052  0.752983                  DecisionTree_smote\n",
       "2  0.876670  0.788898                  RandomForest_smote\n",
       "3  0.808881  0.695468             KNearestNeighbors_smote\n",
       "4  0.866150  0.743259    ArtificialNeuralNetworkMLP_smote"
      ]
     },
     "execution_count": 24,
     "metadata": {},
     "output_type": "execute_result"
    }
   ],
   "source": [
    "all_cv = pd.concat([cv_vanilla,cv_vanilla_smote])\n",
    "all_cv"
   ]
  },
  {
   "cell_type": "code",
   "execution_count": 27,
   "metadata": {},
   "outputs": [
    {
     "data": {
      "text/html": [
       "<div>\n",
       "<style scoped>\n",
       "    .dataframe tbody tr th:only-of-type {\n",
       "        vertical-align: middle;\n",
       "    }\n",
       "\n",
       "    .dataframe tbody tr th {\n",
       "        vertical-align: top;\n",
       "    }\n",
       "\n",
       "    .dataframe thead th {\n",
       "        text-align: right;\n",
       "    }\n",
       "</style>\n",
       "<table border=\"1\" class=\"dataframe\">\n",
       "  <thead>\n",
       "    <tr style=\"text-align: right;\">\n",
       "      <th></th>\n",
       "      <th>accuracy</th>\n",
       "      <th>recall</th>\n",
       "      <th>model</th>\n",
       "      <th>model_base</th>\n",
       "    </tr>\n",
       "  </thead>\n",
       "  <tbody>\n",
       "    <tr>\n",
       "      <th>0</th>\n",
       "      <td>0.884862</td>\n",
       "      <td>0.743488</td>\n",
       "      <td>LogisticRegression_vanilla</td>\n",
       "      <td>LogisticRegression</td>\n",
       "    </tr>\n",
       "    <tr>\n",
       "      <th>1</th>\n",
       "      <td>0.851551</td>\n",
       "      <td>0.700115</td>\n",
       "      <td>DecisionTree_vanilla</td>\n",
       "      <td>DecisionTree</td>\n",
       "    </tr>\n",
       "    <tr>\n",
       "      <th>2</th>\n",
       "      <td>0.880768</td>\n",
       "      <td>0.700229</td>\n",
       "      <td>RandomForest_vanilla</td>\n",
       "      <td>RandomForest</td>\n",
       "    </tr>\n",
       "    <tr>\n",
       "      <th>3</th>\n",
       "      <td>0.827579</td>\n",
       "      <td>0.474727</td>\n",
       "      <td>KNearestNeighbors_vanilla</td>\n",
       "      <td>KNearestNeighbors</td>\n",
       "    </tr>\n",
       "    <tr>\n",
       "      <th>4</th>\n",
       "      <td>0.877841</td>\n",
       "      <td>0.721773</td>\n",
       "      <td>ArtificialNeuralNetworkMLP_vanilla</td>\n",
       "      <td>ArtificialNeuralNetworkMLP</td>\n",
       "    </tr>\n",
       "    <tr>\n",
       "      <th>0</th>\n",
       "      <td>0.873744</td>\n",
       "      <td>0.820138</td>\n",
       "      <td>LogisticRegression_smote</td>\n",
       "      <td>LogisticRegression</td>\n",
       "    </tr>\n",
       "    <tr>\n",
       "      <th>1</th>\n",
       "      <td>0.848052</td>\n",
       "      <td>0.752983</td>\n",
       "      <td>DecisionTree_smote</td>\n",
       "      <td>DecisionTree</td>\n",
       "    </tr>\n",
       "    <tr>\n",
       "      <th>2</th>\n",
       "      <td>0.876670</td>\n",
       "      <td>0.788898</td>\n",
       "      <td>RandomForest_smote</td>\n",
       "      <td>RandomForest</td>\n",
       "    </tr>\n",
       "    <tr>\n",
       "      <th>3</th>\n",
       "      <td>0.808881</td>\n",
       "      <td>0.695468</td>\n",
       "      <td>KNearestNeighbors_smote</td>\n",
       "      <td>KNearestNeighbors</td>\n",
       "    </tr>\n",
       "    <tr>\n",
       "      <th>4</th>\n",
       "      <td>0.866150</td>\n",
       "      <td>0.743259</td>\n",
       "      <td>ArtificialNeuralNetworkMLP_smote</td>\n",
       "      <td>ArtificialNeuralNetworkMLP</td>\n",
       "    </tr>\n",
       "  </tbody>\n",
       "</table>\n",
       "</div>"
      ],
      "text/plain": [
       "   accuracy    recall                               model  \\\n",
       "0  0.884862  0.743488          LogisticRegression_vanilla   \n",
       "1  0.851551  0.700115                DecisionTree_vanilla   \n",
       "2  0.880768  0.700229                RandomForest_vanilla   \n",
       "3  0.827579  0.474727           KNearestNeighbors_vanilla   \n",
       "4  0.877841  0.721773  ArtificialNeuralNetworkMLP_vanilla   \n",
       "0  0.873744  0.820138            LogisticRegression_smote   \n",
       "1  0.848052  0.752983                  DecisionTree_smote   \n",
       "2  0.876670  0.788898                  RandomForest_smote   \n",
       "3  0.808881  0.695468             KNearestNeighbors_smote   \n",
       "4  0.866150  0.743259    ArtificialNeuralNetworkMLP_smote   \n",
       "\n",
       "                   model_base  \n",
       "0          LogisticRegression  \n",
       "1                DecisionTree  \n",
       "2                RandomForest  \n",
       "3           KNearestNeighbors  \n",
       "4  ArtificialNeuralNetworkMLP  \n",
       "0          LogisticRegression  \n",
       "1                DecisionTree  \n",
       "2                RandomForest  \n",
       "3           KNearestNeighbors  \n",
       "4  ArtificialNeuralNetworkMLP  "
      ]
     },
     "execution_count": 27,
     "metadata": {},
     "output_type": "execute_result"
    }
   ],
   "source": [
    "def firstme(word):\n",
    "    return word.split(\"_\")[0]\n",
    "\n",
    "all_cv[\"model_base\"] = all_cv[\"model\"].apply(firstme)\n",
    "all_cv"
   ]
  },
  {
   "cell_type": "code",
   "execution_count": 36,
   "metadata": {},
   "outputs": [
    {
     "data": {
      "image/png": "[encoded data removed]",
      "text/plain": [
       "<Figure size 700x400 with 1 Axes>"
      ]
     },
     "metadata": {},
     "output_type": "display_data"
    }
   ],
   "source": [
    "plt.figure(figsize = (7,4))\n",
    "sns.lineplot(data = all_cv, x= \"recall\", y=\"accuracy\",hue = \"model_base\")\n",
    "sns.scatterplot(data=cv_vanilla_smote, x = \"recall\", y= \"accuracy\", hue = \"model\", legend = False)\n",
    "plt.title(\"Impact of oversampling on Cross Validation Scores for vanilla models\")\n",
    "plt.show()"
   ]
  },
  {
   "cell_type": "code",
   "execution_count": null,
   "metadata": {},
   "outputs": [],
   "source": []
  }
 ],
 "metadata": {
  "kernelspec": {
   "display_name": ".venv",
   "language": "python",
   "name": "python3"
  },
  "language_info": {
   "codemirror_mode": {
    "name": "ipython",
    "version": 3
   },
   "file_extension": ".py",
   "mimetype": "text/x-python",
   "name": "python",
   "nbconvert_exporter": "python",
   "pygments_lexer": "ipython3",
   "version": "3.13.1"
  }
 },
 "nbformat": 4,
 "nbformat_minor": 2
}
