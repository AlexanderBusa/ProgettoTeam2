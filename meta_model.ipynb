{
 "cells": [
  {
   "cell_type": "markdown",
   "metadata": {},
   "source": [
    "# Meta model"
   ]
  },
  {
   "cell_type": "markdown",
   "metadata": {},
   "source": [
    "## Load required modules and functions"
   ]
  },
  {
   "cell_type": "code",
   "execution_count": 1,
   "metadata": {},
   "outputs": [],
   "source": [
    "import numpy as np\n",
    "import pandas as pd\n",
    "import matplotlib.pyplot as plt\n",
    "import seaborn as sns\n",
    "\n",
    "from sklearn.preprocessing import MinMaxScaler\n",
    "from sklearn.metrics import *\n",
    "from sklearn.model_selection import train_test_split, KFold, StratifiedKFold, cross_val_score\n",
    "\n",
    "from sklearn.ensemble import RandomForestClassifier\n",
    "from sklearn.feature_selection import SelectKBest, RFE\n",
    "from sklearn.feature_selection import f_classif\n",
    "from sklearn.preprocessing import StandardScaler \n",
    "from sklearn.metrics import accuracy_score\n",
    "\n",
    "from sklearn.linear_model import LogisticRegression\n",
    "\n",
    "from matplotlib_venn import venn2\n",
    "from tqdm import tqdm\n",
    "\n",
    "from imblearn.over_sampling import SMOTENC\n",
    "\n",
    "\n"
   ]
  },
  {
   "cell_type": "code",
   "execution_count": 2,
   "metadata": {},
   "outputs": [],
   "source": [
    "import pickle"
   ]
  },
  {
   "cell_type": "code",
   "execution_count": 3,
   "metadata": {},
   "outputs": [],
   "source": [
    "import src.features as features\n",
    "import src.model_selection as model_selection \n",
    "import src.functions as functions\n",
    "import src.datasets as datasets "
   ]
  },
  {
   "cell_type": "code",
   "execution_count": 4,
   "metadata": {},
   "outputs": [],
   "source": [
    "from sklearn.ensemble import StackingRegressor"
   ]
  },
  {
   "cell_type": "markdown",
   "metadata": {},
   "source": [
    "### Settings"
   ]
  },
  {
   "cell_type": "code",
   "execution_count": 5,
   "metadata": {},
   "outputs": [],
   "source": [
    "# default plt figuresize, smallish\n",
    "plt.rcParams[\"figure.figsize\"] = (6,3)"
   ]
  },
  {
   "cell_type": "markdown",
   "metadata": {},
   "source": [
    "## Load and prepare the data"
   ]
  },
  {
   "cell_type": "code",
   "execution_count": 6,
   "metadata": {},
   "outputs": [],
   "source": [
    "### Load dataset\n",
    "data = datasets.data_original()\n",
    "### Feature engineering \n",
    "data = features.engineer(data)\n",
    "### Train test split (unprocessed)\n",
    "X_, y_ = data.drop('infected', axis=1), data['infected']\n",
    "X_train_, X_test_, y_train_, y_test_ = train_test_split(X_, y_, test_size = 0.2, random_state=42, stratify = y_)\n"
   ]
  },
  {
   "cell_type": "markdown",
   "metadata": {},
   "source": [
    "### Scaling the data "
   ]
  },
  {
   "cell_type": "code",
   "execution_count": 7,
   "metadata": {},
   "outputs": [],
   "source": [
    "scaler = StandardScaler()\n",
    "\n",
    "X_train_scaled = scaler.fit_transform(X_train_)\n",
    "X_test_scaled = scaler.transform(X_test_)\n",
    "\n",
    "X_train_scaled = pd.DataFrame(X_train_scaled, columns = X_train_.columns)\n",
    "X_test_scaled = pd.DataFrame(X_test_scaled, columns = X_test_.columns)\n",
    "\n"
   ]
  },
  {
   "cell_type": "markdown",
   "metadata": {},
   "source": [
    "## Load and evaluate all models"
   ]
  },
  {
   "cell_type": "code",
   "execution_count": 8,
   "metadata": {},
   "outputs": [],
   "source": [
    "models = {}"
   ]
  },
  {
   "cell_type": "markdown",
   "metadata": {},
   "source": [
    "### Logistic regression"
   ]
  },
  {
   "cell_type": "code",
   "execution_count": 9,
   "metadata": {},
   "outputs": [
    {
     "name": "stderr",
     "output_type": "stream",
     "text": [
      "c:\\Users\\User\\Projects\\DHcode\\ProgettoTeam2\\.venv\\Lib\\site-packages\\sklearn\\base.py:376: InconsistentVersionWarning: Trying to unpickle estimator LogisticRegression from version 1.6.0 when using version 1.5.2. This might lead to breaking code or invalid results. Use at your own risk. For more info please refer to:\n",
      "https://scikit-learn.org/stable/model_persistence.html#security-maintainability-limitations\n",
      "  warnings.warn(\n"
     ]
    }
   ],
   "source": [
    "models[\"Logistic\"] = pickle.load(open(\"models/logistic_RFE9.pkl\", \"rb\"))"
   ]
  },
  {
   "cell_type": "code",
   "execution_count": 10,
   "metadata": {},
   "outputs": [
    {
     "data": {
      "text/plain": [
       "9"
      ]
     },
     "execution_count": 10,
     "metadata": {},
     "output_type": "execute_result"
    }
   ],
   "source": [
    "n_features = models[\"Logistic\"].coef_.shape[1]\n",
    "n_features"
   ]
  },
  {
   "cell_type": "code",
   "execution_count": 11,
   "metadata": {},
   "outputs": [],
   "source": [
    "rfe_features = pickle.load(open(\"models/rfe_features_250103.pkl\", \"rb\"))[9]"
   ]
  },
  {
   "cell_type": "code",
   "execution_count": 12,
   "metadata": {},
   "outputs": [
    {
     "name": "stdout",
     "output_type": "stream",
     "text": [
      "['hemo', 'drugs', 'z30', 'race', 'gender', 'offtrt', 'cd420', 'time730', 'time_censored']\n"
     ]
    }
   ],
   "source": [
    "print(rfe_features)"
   ]
  },
  {
   "cell_type": "markdown",
   "metadata": {},
   "source": [
    "### Random Forest"
   ]
  },
  {
   "cell_type": "code",
   "execution_count": 13,
   "metadata": {},
   "outputs": [
    {
     "name": "stderr",
     "output_type": "stream",
     "text": [
      "c:\\Users\\User\\Projects\\DHcode\\ProgettoTeam2\\.venv\\Lib\\site-packages\\sklearn\\base.py:376: InconsistentVersionWarning: Trying to unpickle estimator DecisionTreeClassifier from version 1.6.0 when using version 1.5.2. This might lead to breaking code or invalid results. Use at your own risk. For more info please refer to:\n",
      "https://scikit-learn.org/stable/model_persistence.html#security-maintainability-limitations\n",
      "  warnings.warn(\n",
      "c:\\Users\\User\\Projects\\DHcode\\ProgettoTeam2\\.venv\\Lib\\site-packages\\sklearn\\base.py:376: InconsistentVersionWarning: Trying to unpickle estimator RandomForestClassifier from version 1.6.0 when using version 1.5.2. This might lead to breaking code or invalid results. Use at your own risk. For more info please refer to:\n",
      "https://scikit-learn.org/stable/model_persistence.html#security-maintainability-limitations\n",
      "  warnings.warn(\n"
     ]
    }
   ],
   "source": [
    "with open(\"models/random_forest_gridsearch_241218.pkl\", \"rb\") as file:\n",
    "    models[\"RandomForest\"] = pickle.load(file)"
   ]
  },
  {
   "cell_type": "markdown",
   "metadata": {},
   "source": [
    "### KNN ###"
   ]
  },
  {
   "cell_type": "code",
   "execution_count": 14,
   "metadata": {},
   "outputs": [
    {
     "name": "stderr",
     "output_type": "stream",
     "text": [
      "c:\\Users\\User\\Projects\\DHcode\\ProgettoTeam2\\.venv\\Lib\\site-packages\\sklearn\\base.py:376: InconsistentVersionWarning: Trying to unpickle estimator KNeighborsClassifier from version 1.6.0 when using version 1.5.2. This might lead to breaking code or invalid results. Use at your own risk. For more info please refer to:\n",
      "https://scikit-learn.org/stable/model_persistence.html#security-maintainability-limitations\n",
      "  warnings.warn(\n"
     ]
    }
   ],
   "source": [
    "with open(\"models/knn.pkl\", \"rb\") as file:\n",
    "    models[\"Knearestneighbors\"] = pickle.load(file)"
   ]
  },
  {
   "cell_type": "markdown",
   "metadata": {},
   "source": [
    "### MLP"
   ]
  },
  {
   "cell_type": "code",
   "execution_count": 16,
   "metadata": {},
   "outputs": [],
   "source": [
    "with open(\"models/neural_network_small_20012025.pkl\", \"rb\") as file:\n",
    "    neural_networks_small = pickle.load(file)"
   ]
  },
  {
   "cell_type": "code",
   "execution_count": 18,
   "metadata": {},
   "outputs": [],
   "source": [
    "for hl in neural_networks_small:\n",
    "    models[\"MultiLayerPerceptron_\" + str(hl)] = neural_networks_small[hl]"
   ]
  },
  {
   "cell_type": "code",
   "execution_count": 20,
   "metadata": {},
   "outputs": [
    {
     "name": "stdout",
     "output_type": "stream",
     "text": [
      "dict_keys([(2,), (5,), (8, 2)])\n"
     ]
    }
   ],
   "source": [
    "print(neural_networks_small.keys())"
   ]
  },
  {
   "cell_type": "markdown",
   "metadata": {},
   "source": [
    "## Evaluate the models"
   ]
  },
  {
   "cell_type": "code",
   "execution_count": 34,
   "metadata": {},
   "outputs": [],
   "source": [
    "\n",
    "y_train = y_train_\n",
    "y_test = y_test_\n",
    "\n",
    "y_pred_train = {}\n",
    "y_proba_train = {}\n",
    "\n",
    "y_pred_test = {}\n",
    "y_proba_test = {}"
   ]
  },
  {
   "cell_type": "code",
   "execution_count": 51,
   "metadata": {},
   "outputs": [
    {
     "name": "stdout",
     "output_type": "stream",
     "text": [
      "(1711,) (428,)\n"
     ]
    }
   ],
   "source": [
    "print(y_train.shape, y_test.shape)"
   ]
  },
  {
   "cell_type": "markdown",
   "metadata": {},
   "source": [
    "### Data preprocessing"
   ]
  },
  {
   "cell_type": "code",
   "execution_count": 42,
   "metadata": {},
   "outputs": [],
   "source": [
    "# by default we assing unscaled raw data to each model\n",
    "X_train_preprocessed = {modelname: X_train_ for modelname in models}\n",
    "X_test_preprocessed = {modelname: X_test_ for modelname in models}\n",
    "\n"
   ]
  },
  {
   "cell_type": "code",
   "execution_count": 43,
   "metadata": {},
   "outputs": [],
   "source": [
    "# Logistic : scaled dataset, with only selected features\n",
    "X_train_preprocessed[\"Logistic\"] = X_train_scaled[rfe_features]\n",
    "X_test_preprocessed[\"Logistic\"] = X_test_scaled[rfe_features]\n"
   ]
  },
  {
   "cell_type": "code",
   "execution_count": 52,
   "metadata": {},
   "outputs": [],
   "source": [
    "# MLP : scaled dataset\n",
    "for modelname in X_train_preprocessed:\n",
    "    if \"MultiL\" == modelname[:6]:\n",
    "        X_train_preprocessed[modelname] = X_train_scaled\n",
    "        X_test_preprocessed[modelname] = X_test_scaled"
   ]
  },
  {
   "cell_type": "code",
   "execution_count": 53,
   "metadata": {},
   "outputs": [
    {
     "data": {
      "text/plain": [
       "dict_keys(['Logistic', 'RandomForest', 'Knearestneighbors', 'MultiLayerPerceptron_(2,)', 'MultiLayerPerceptron_(5,)', 'MultiLayerPerceptron_(8, 2)'])"
      ]
     },
     "execution_count": 53,
     "metadata": {},
     "output_type": "execute_result"
    }
   ],
   "source": [
    "X_train_preprocessed.keys()"
   ]
  },
  {
   "cell_type": "code",
   "execution_count": 54,
   "metadata": {},
   "outputs": [
    {
     "data": {
      "text/plain": [
       "dict_keys(['Logistic', 'RandomForest', 'Knearestneighbors', 'MultiLayerPerceptron_(2,)', 'MultiLayerPerceptron_(5,)', 'MultiLayerPerceptron_(8, 2)'])"
      ]
     },
     "execution_count": 54,
     "metadata": {},
     "output_type": "execute_result"
    }
   ],
   "source": [
    "X_test_preprocessed.keys()"
   ]
  },
  {
   "cell_type": "markdown",
   "metadata": {},
   "source": [
    "### Evaluate all models"
   ]
  },
  {
   "cell_type": "code",
   "execution_count": 55,
   "metadata": {},
   "outputs": [],
   "source": [
    "for model_name in models:\n",
    "    model = models[model_name]\n",
    "\n",
    "    X_train = X_train_preprocessed[model_name]\n",
    "    y_pred_train[model_name] = model.predict(X_train)\n",
    "    y_proba_train[model_name] = model.predict_proba(X_train)[:,1]\n",
    "\n",
    "    X_test = X_test_preprocessed[model_name]\n",
    "    y_pred_test[model_name] = model.predict(X_test)\n",
    "    y_proba_test[model_name] = model.predict_proba(X_test)[:,1]"
   ]
  },
  {
   "cell_type": "code",
   "execution_count": 56,
   "metadata": {},
   "outputs": [
    {
     "data": {
      "image/png": "[encoded data removed]",
      "text/plain": [
       "<Figure size 600x300 with 2 Axes>"
      ]
     },
     "metadata": {},
     "output_type": "display_data"
    },
    {
     "data": {
      "image/png": "[encoded data removed]",
      "text/plain": [
       "<Figure size 600x300 with 2 Axes>"
      ]
     },
     "metadata": {},
     "output_type": "display_data"
    },
    {
     "data": {
      "image/png": "[encoded data removed]",
      "text/plain": [
       "<Figure size 600x300 with 2 Axes>"
      ]
     },
     "metadata": {},
     "output_type": "display_data"
    },
    {
     "data": {
      "image/png": "[encoded data removed]",
      "text/plain": [
       "<Figure size 600x300 with 2 Axes>"
      ]
     },
     "metadata": {},
     "output_type": "display_data"
    },
    {
     "data": {
      "image/png": "[encoded data removed]",
      "text/plain": [
       "<Figure size 600x300 with 2 Axes>"
      ]
     },
     "metadata": {},
     "output_type": "display_data"
    },
    {
     "data": {
      "image/png": "[encoded data removed]",
      "text/plain": [
       "<Figure size 600x300 with 2 Axes>"
      ]
     },
     "metadata": {},
     "output_type": "display_data"
    }
   ],
   "source": [
    "for model_name in models:\n",
    "    sns.heatmap(confusion_matrix(y_test,y_pred_test[model_name]), annot = True, cmap = \"Blues\", fmt='d')\n",
    "    plt.title(\"Test results with \" + model_name + \" model\")\n",
    "    plt.show()\n"
   ]
  },
  {
   "cell_type": "markdown",
   "metadata": {},
   "source": [
    "### Evaluation scores\n"
   ]
  },
  {
   "cell_type": "code",
   "execution_count": 57,
   "metadata": {},
   "outputs": [],
   "source": [
    "results_test_models_list = []\n",
    "\n",
    "for model_name in models : \n",
    "    y_pred = y_pred_test[model_name]\n",
    "\n",
    "    results_test = {\n",
    "        \"model\": model_name,\n",
    "        \"accuracy\": accuracy_score(y_test,y_pred),\n",
    "        \"recall\": recall_score(y_test,y_pred),\n",
    "        \"selectivity\": recall_score(y_test,y_pred,pos_label = 0),\n",
    "        \"f1\": f1_score(y_test,y_pred),\n",
    "        \"f3\": fbeta_score(y_test,y_pred,beta = 3),\n",
    "        \"precision\": precision_score(y_test,y_pred),\n",
    "        \"NPV\": precision_score(y_test,y_pred, pos_label = 0)\n",
    "    }\n",
    "\n",
    "    results_test_models_list.append(results_test)\n",
    "\n",
    "results_test_models_df = pd.DataFrame(results_test_models_list)\n"
   ]
  },
  {
   "cell_type": "code",
   "execution_count": 58,
   "metadata": {},
   "outputs": [
    {
     "name": "stdout",
     "output_type": "stream",
     "text": [
      "                         model  accuracy    recall  selectivity        f1  \\\n",
      "0                     Logistic  0.894860  0.807692     0.922840  0.788732   \n",
      "1                 RandomForest  0.897196  0.817308     0.922840  0.794393   \n",
      "2            Knearestneighbors  0.803738  0.615385     0.864198  0.603774   \n",
      "3    MultiLayerPerceptron_(2,)  0.904206  0.740385     0.956790  0.789744   \n",
      "4    MultiLayerPerceptron_(5,)  0.901869  0.740385     0.953704  0.785714   \n",
      "5  MultiLayerPerceptron_(8, 2)  0.901869  0.740385     0.953704  0.785714   \n",
      "\n",
      "         f3  precision       NPV  \n",
      "0  0.803828   0.770642  0.937304  \n",
      "1  0.812620   0.772727  0.940252  \n",
      "2  0.613027   0.592593  0.875000  \n",
      "3  0.749757   0.846154  0.919881  \n",
      "4  0.749027   0.836957  0.919643  \n",
      "5  0.749027   0.836957  0.919643  \n"
     ]
    }
   ],
   "source": [
    "print(results_test_models_df)"
   ]
  },
  {
   "cell_type": "markdown",
   "metadata": {},
   "source": [
    "## Meta model"
   ]
  },
  {
   "cell_type": "code",
   "execution_count": 62,
   "metadata": {},
   "outputs": [],
   "source": [
    "models_to_stack = ['RandomForest','Knearestneighbors','MultiLayerPerceptron_(2,)']"
   ]
  },
  {
   "cell_type": "markdown",
   "metadata": {},
   "source": [
    "### Stack the model evaluations"
   ]
  },
  {
   "cell_type": "markdown",
   "metadata": {},
   "source": [
    "For each patient we evaluate each model with the probability of being infected"
   ]
  },
  {
   "cell_type": "code",
   "execution_count": 63,
   "metadata": {},
   "outputs": [
    {
     "name": "stdout",
     "output_type": "stream",
     "text": [
      "(1711, 6) (428, 6)\n"
     ]
    }
   ],
   "source": [
    "X_train_stacked = pd.DataFrame(y_proba_train)\n",
    "X_test_stacked = pd.DataFrame(y_proba_test)\n",
    "\n",
    "print(X_train_stacked.shape, X_test_stacked.shape)"
   ]
  },
  {
   "cell_type": "code",
   "execution_count": 64,
   "metadata": {},
   "outputs": [],
   "source": [
    "# keep only the models to stack\n",
    "X_train_stacked = X_train_stacked[models_to_stack]\n",
    "X_test_stacked = X_test_stacked[models_to_stack]"
   ]
  },
  {
   "cell_type": "code",
   "execution_count": 65,
   "metadata": {},
   "outputs": [
    {
     "data": {
      "text/html": [
       "<div>\n",
       "<style scoped>\n",
       "    .dataframe tbody tr th:only-of-type {\n",
       "        vertical-align: middle;\n",
       "    }\n",
       "\n",
       "    .dataframe tbody tr th {\n",
       "        vertical-align: top;\n",
       "    }\n",
       "\n",
       "    .dataframe thead th {\n",
       "        text-align: right;\n",
       "    }\n",
       "</style>\n",
       "<table border=\"1\" class=\"dataframe\">\n",
       "  <thead>\n",
       "    <tr style=\"text-align: right;\">\n",
       "      <th></th>\n",
       "      <th>RandomForest</th>\n",
       "      <th>Knearestneighbors</th>\n",
       "      <th>MultiLayerPerceptron_(2,)</th>\n",
       "    </tr>\n",
       "  </thead>\n",
       "  <tbody>\n",
       "    <tr>\n",
       "      <th>0</th>\n",
       "      <td>0.057052</td>\n",
       "      <td>0.0</td>\n",
       "      <td>0.017889</td>\n",
       "    </tr>\n",
       "    <tr>\n",
       "      <th>1</th>\n",
       "      <td>0.769390</td>\n",
       "      <td>0.0</td>\n",
       "      <td>0.533583</td>\n",
       "    </tr>\n",
       "    <tr>\n",
       "      <th>2</th>\n",
       "      <td>0.084080</td>\n",
       "      <td>0.0</td>\n",
       "      <td>0.045610</td>\n",
       "    </tr>\n",
       "    <tr>\n",
       "      <th>3</th>\n",
       "      <td>0.280225</td>\n",
       "      <td>0.0</td>\n",
       "      <td>0.097671</td>\n",
       "    </tr>\n",
       "    <tr>\n",
       "      <th>4</th>\n",
       "      <td>0.064569</td>\n",
       "      <td>0.0</td>\n",
       "      <td>0.019261</td>\n",
       "    </tr>\n",
       "  </tbody>\n",
       "</table>\n",
       "</div>"
      ],
      "text/plain": [
       "   RandomForest  Knearestneighbors  MultiLayerPerceptron_(2,)\n",
       "0      0.057052                0.0                   0.017889\n",
       "1      0.769390                0.0                   0.533583\n",
       "2      0.084080                0.0                   0.045610\n",
       "3      0.280225                0.0                   0.097671\n",
       "4      0.064569                0.0                   0.019261"
      ]
     },
     "execution_count": 65,
     "metadata": {},
     "output_type": "execute_result"
    }
   ],
   "source": [
    "X_train_stacked.head()"
   ]
  },
  {
   "cell_type": "code",
   "execution_count": 66,
   "metadata": {},
   "outputs": [
    {
     "data": {
      "text/plain": [
       "Knearestneighbors\n",
       "0.000000    1237\n",
       "0.857143     383\n",
       "0.142857      50\n",
       "1.000000      24\n",
       "0.714286       9\n",
       "0.571429       5\n",
       "0.428571       3\n",
       "Name: count, dtype: int64"
      ]
     },
     "execution_count": 66,
     "metadata": {},
     "output_type": "execute_result"
    }
   ],
   "source": [
    "X_train_stacked.Knearestneighbors.value_counts()"
   ]
  },
  {
   "cell_type": "markdown",
   "metadata": {},
   "source": [
    "### Visualize the stacked evaluations of the base models"
   ]
  },
  {
   "cell_type": "code",
   "execution_count": 25,
   "metadata": {},
   "outputs": [
    {
     "data": {
      "image/png": "[encoded data removed]",
      "text/plain": [
       "<Figure size 600x300 with 1 Axes>"
      ]
     },
     "metadata": {},
     "output_type": "display_data"
    }
   ],
   "source": [
    "### a simple scatterplot\n",
    "\n",
    "base_model_scatter = X_train_stacked.copy()\n",
    "base_model_scatter['y'] = y_train\n",
    "\n",
    "sns.scatterplot(data=base_model_scatter, x='Logistic', y='RandomForest', hue='y', alpha = 0.7, s=30)\n",
    "plt.show()"
   ]
  },
  {
   "cell_type": "markdown",
   "metadata": {},
   "source": [
    "### Logit transform the stacked model"
   ]
  },
  {
   "cell_type": "markdown",
   "metadata": {},
   "source": [
    "The evaluations of the models are expressed as probabilities, so in $[0,1]$. We want to transform them into log-odd ratios to $[-\\infty,\\infty]$ via the logit function"
   ]
  },
  {
   "cell_type": "code",
   "execution_count": 26,
   "metadata": {},
   "outputs": [],
   "source": [
    "def logit(X):\n",
    "    epsilon = 1e-6\n",
    "    X_clipped = np.clip(X, epsilon, 1 - epsilon)\n",
    "    return np.log(X_clipped / (1 - X_clipped))"
   ]
  },
  {
   "cell_type": "code",
   "execution_count": 27,
   "metadata": {},
   "outputs": [],
   "source": [
    "X_train_stacked_logodd = X_train_stacked.apply(logit)\n",
    "X_test_stacked_logodd = X_test_stacked.apply(logit)"
   ]
  },
  {
   "cell_type": "markdown",
   "metadata": {},
   "source": [
    "### Train the meta model"
   ]
  },
  {
   "cell_type": "code",
   "execution_count": 28,
   "metadata": {},
   "outputs": [
    {
     "data": {
      "text/html": [
       "<style>#sk-container-id-1 {\n",
       "  /* Definition of color scheme common for light and dark mode */\n",
       "  --sklearn-color-text: black;\n",
       "  --sklearn-color-line: gray;\n",
       "  /* Definition of color scheme for unfitted estimators */\n",
       "  --sklearn-color-unfitted-level-0: #fff5e6;\n",
       "  --sklearn-color-unfitted-level-1: #f6e4d2;\n",
       "  --sklearn-color-unfitted-level-2: #ffe0b3;\n",
       "  --sklearn-color-unfitted-level-3: chocolate;\n",
       "  /* Definition of color scheme for fitted estimators */\n",
       "  --sklearn-color-fitted-level-0: #f0f8ff;\n",
       "  --sklearn-color-fitted-level-1: #d4ebff;\n",
       "  --sklearn-color-fitted-level-2: #b3dbfd;\n",
       "  --sklearn-color-fitted-level-3: cornflowerblue;\n",
       "\n",
       "  /* Specific color for light theme */\n",
       "  --sklearn-color-text-on-default-background: var(--sg-text-color, var(--theme-code-foreground, var(--jp-content-font-color1, black)));\n",
       "  --sklearn-color-background: var(--sg-background-color, var(--theme-background, var(--jp-layout-color0, white)));\n",
       "  --sklearn-color-border-box: var(--sg-text-color, var(--theme-code-foreground, var(--jp-content-font-color1, black)));\n",
       "  --sklearn-color-icon: #696969;\n",
       "\n",
       "  @media (prefers-color-scheme: dark) {\n",
       "    /* Redefinition of color scheme for dark theme */\n",
       "    --sklearn-color-text-on-default-background: var(--sg-text-color, var(--theme-code-foreground, var(--jp-content-font-color1, white)));\n",
       "    --sklearn-color-background: var(--sg-background-color, var(--theme-background, var(--jp-layout-color0, #111)));\n",
       "    --sklearn-color-border-box: var(--sg-text-color, var(--theme-code-foreground, var(--jp-content-font-color1, white)));\n",
       "    --sklearn-color-icon: #878787;\n",
       "  }\n",
       "}\n",
       "\n",
       "#sk-container-id-1 {\n",
       "  color: var(--sklearn-color-text);\n",
       "}\n",
       "\n",
       "#sk-container-id-1 pre {\n",
       "  padding: 0;\n",
       "}\n",
       "\n",
       "#sk-container-id-1 input.sk-hidden--visually {\n",
       "  border: 0;\n",
       "  clip: rect(1px 1px 1px 1px);\n",
       "  clip: rect(1px, 1px, 1px, 1px);\n",
       "  height: 1px;\n",
       "  margin: -1px;\n",
       "  overflow: hidden;\n",
       "  padding: 0;\n",
       "  position: absolute;\n",
       "  width: 1px;\n",
       "}\n",
       "\n",
       "#sk-container-id-1 div.sk-dashed-wrapped {\n",
       "  border: 1px dashed var(--sklearn-color-line);\n",
       "  margin: 0 0.4em 0.5em 0.4em;\n",
       "  box-sizing: border-box;\n",
       "  padding-bottom: 0.4em;\n",
       "  background-color: var(--sklearn-color-background);\n",
       "}\n",
       "\n",
       "#sk-container-id-1 div.sk-container {\n",
       "  /* jupyter's `normalize.less` sets `[hidden] { display: none; }`\n",
       "     but bootstrap.min.css set `[hidden] { display: none !important; }`\n",
       "     so we also need the `!important` here to be able to override the\n",
       "     default hidden behavior on the sphinx rendered scikit-learn.org.\n",
       "     See: https://github.com/scikit-learn/scikit-learn/issues/21755 */\n",
       "  display: inline-block !important;\n",
       "  position: relative;\n",
       "}\n",
       "\n",
       "#sk-container-id-1 div.sk-text-repr-fallback {\n",
       "  display: none;\n",
       "}\n",
       "\n",
       "div.sk-parallel-item,\n",
       "div.sk-serial,\n",
       "div.sk-item {\n",
       "  /* draw centered vertical line to link estimators */\n",
       "  background-image: linear-gradient(var(--sklearn-color-text-on-default-background), var(--sklearn-color-text-on-default-background));\n",
       "  background-size: 2px 100%;\n",
       "  background-repeat: no-repeat;\n",
       "  background-position: center center;\n",
       "}\n",
       "\n",
       "/* Parallel-specific style estimator block */\n",
       "\n",
       "#sk-container-id-1 div.sk-parallel-item::after {\n",
       "  content: \"\";\n",
       "  width: 100%;\n",
       "  border-bottom: 2px solid var(--sklearn-color-text-on-default-background);\n",
       "  flex-grow: 1;\n",
       "}\n",
       "\n",
       "#sk-container-id-1 div.sk-parallel {\n",
       "  display: flex;\n",
       "  align-items: stretch;\n",
       "  justify-content: center;\n",
       "  background-color: var(--sklearn-color-background);\n",
       "  position: relative;\n",
       "}\n",
       "\n",
       "#sk-container-id-1 div.sk-parallel-item {\n",
       "  display: flex;\n",
       "  flex-direction: column;\n",
       "}\n",
       "\n",
       "#sk-container-id-1 div.sk-parallel-item:first-child::after {\n",
       "  align-self: flex-end;\n",
       "  width: 50%;\n",
       "}\n",
       "\n",
       "#sk-container-id-1 div.sk-parallel-item:last-child::after {\n",
       "  align-self: flex-start;\n",
       "  width: 50%;\n",
       "}\n",
       "\n",
       "#sk-container-id-1 div.sk-parallel-item:only-child::after {\n",
       "  width: 0;\n",
       "}\n",
       "\n",
       "/* Serial-specific style estimator block */\n",
       "\n",
       "#sk-container-id-1 div.sk-serial {\n",
       "  display: flex;\n",
       "  flex-direction: column;\n",
       "  align-items: center;\n",
       "  background-color: var(--sklearn-color-background);\n",
       "  padding-right: 1em;\n",
       "  padding-left: 1em;\n",
       "}\n",
       "\n",
       "\n",
       "/* Toggleable style: style used for estimator/Pipeline/ColumnTransformer box that is\n",
       "clickable and can be expanded/collapsed.\n",
       "- Pipeline and ColumnTransformer use this feature and define the default style\n",
       "- Estimators will overwrite some part of the style using the `sk-estimator` class\n",
       "*/\n",
       "\n",
       "/* Pipeline and ColumnTransformer style (default) */\n",
       "\n",
       "#sk-container-id-1 div.sk-toggleable {\n",
       "  /* Default theme specific background. It is overwritten whether we have a\n",
       "  specific estimator or a Pipeline/ColumnTransformer */\n",
       "  background-color: var(--sklearn-color-background);\n",
       "}\n",
       "\n",
       "/* Toggleable label */\n",
       "#sk-container-id-1 label.sk-toggleable__label {\n",
       "  cursor: pointer;\n",
       "  display: block;\n",
       "  width: 100%;\n",
       "  margin-bottom: 0;\n",
       "  padding: 0.5em;\n",
       "  box-sizing: border-box;\n",
       "  text-align: center;\n",
       "}\n",
       "\n",
       "#sk-container-id-1 label.sk-toggleable__label-arrow:before {\n",
       "  /* Arrow on the left of the label */\n",
       "  content: \"▸\";\n",
       "  float: left;\n",
       "  margin-right: 0.25em;\n",
       "  color: var(--sklearn-color-icon);\n",
       "}\n",
       "\n",
       "#sk-container-id-1 label.sk-toggleable__label-arrow:hover:before {\n",
       "  color: var(--sklearn-color-text);\n",
       "}\n",
       "\n",
       "/* Toggleable content - dropdown */\n",
       "\n",
       "#sk-container-id-1 div.sk-toggleable__content {\n",
       "  max-height: 0;\n",
       "  max-width: 0;\n",
       "  overflow: hidden;\n",
       "  text-align: left;\n",
       "  /* unfitted */\n",
       "  background-color: var(--sklearn-color-unfitted-level-0);\n",
       "}\n",
       "\n",
       "#sk-container-id-1 div.sk-toggleable__content.fitted {\n",
       "  /* fitted */\n",
       "  background-color: var(--sklearn-color-fitted-level-0);\n",
       "}\n",
       "\n",
       "#sk-container-id-1 div.sk-toggleable__content pre {\n",
       "  margin: 0.2em;\n",
       "  border-radius: 0.25em;\n",
       "  color: var(--sklearn-color-text);\n",
       "  /* unfitted */\n",
       "  background-color: var(--sklearn-color-unfitted-level-0);\n",
       "}\n",
       "\n",
       "#sk-container-id-1 div.sk-toggleable__content.fitted pre {\n",
       "  /* unfitted */\n",
       "  background-color: var(--sklearn-color-fitted-level-0);\n",
       "}\n",
       "\n",
       "#sk-container-id-1 input.sk-toggleable__control:checked~div.sk-toggleable__content {\n",
       "  /* Expand drop-down */\n",
       "  max-height: 200px;\n",
       "  max-width: 100%;\n",
       "  overflow: auto;\n",
       "}\n",
       "\n",
       "#sk-container-id-1 input.sk-toggleable__control:checked~label.sk-toggleable__label-arrow:before {\n",
       "  content: \"▾\";\n",
       "}\n",
       "\n",
       "/* Pipeline/ColumnTransformer-specific style */\n",
       "\n",
       "#sk-container-id-1 div.sk-label input.sk-toggleable__control:checked~label.sk-toggleable__label {\n",
       "  color: var(--sklearn-color-text);\n",
       "  background-color: var(--sklearn-color-unfitted-level-2);\n",
       "}\n",
       "\n",
       "#sk-container-id-1 div.sk-label.fitted input.sk-toggleable__control:checked~label.sk-toggleable__label {\n",
       "  background-color: var(--sklearn-color-fitted-level-2);\n",
       "}\n",
       "\n",
       "/* Estimator-specific style */\n",
       "\n",
       "/* Colorize estimator box */\n",
       "#sk-container-id-1 div.sk-estimator input.sk-toggleable__control:checked~label.sk-toggleable__label {\n",
       "  /* unfitted */\n",
       "  background-color: var(--sklearn-color-unfitted-level-2);\n",
       "}\n",
       "\n",
       "#sk-container-id-1 div.sk-estimator.fitted input.sk-toggleable__control:checked~label.sk-toggleable__label {\n",
       "  /* fitted */\n",
       "  background-color: var(--sklearn-color-fitted-level-2);\n",
       "}\n",
       "\n",
       "#sk-container-id-1 div.sk-label label.sk-toggleable__label,\n",
       "#sk-container-id-1 div.sk-label label {\n",
       "  /* The background is the default theme color */\n",
       "  color: var(--sklearn-color-text-on-default-background);\n",
       "}\n",
       "\n",
       "/* On hover, darken the color of the background */\n",
       "#sk-container-id-1 div.sk-label:hover label.sk-toggleable__label {\n",
       "  color: var(--sklearn-color-text);\n",
       "  background-color: var(--sklearn-color-unfitted-level-2);\n",
       "}\n",
       "\n",
       "/* Label box, darken color on hover, fitted */\n",
       "#sk-container-id-1 div.sk-label.fitted:hover label.sk-toggleable__label.fitted {\n",
       "  color: var(--sklearn-color-text);\n",
       "  background-color: var(--sklearn-color-fitted-level-2);\n",
       "}\n",
       "\n",
       "/* Estimator label */\n",
       "\n",
       "#sk-container-id-1 div.sk-label label {\n",
       "  font-family: monospace;\n",
       "  font-weight: bold;\n",
       "  display: inline-block;\n",
       "  line-height: 1.2em;\n",
       "}\n",
       "\n",
       "#sk-container-id-1 div.sk-label-container {\n",
       "  text-align: center;\n",
       "}\n",
       "\n",
       "/* Estimator-specific */\n",
       "#sk-container-id-1 div.sk-estimator {\n",
       "  font-family: monospace;\n",
       "  border: 1px dotted var(--sklearn-color-border-box);\n",
       "  border-radius: 0.25em;\n",
       "  box-sizing: border-box;\n",
       "  margin-bottom: 0.5em;\n",
       "  /* unfitted */\n",
       "  background-color: var(--sklearn-color-unfitted-level-0);\n",
       "}\n",
       "\n",
       "#sk-container-id-1 div.sk-estimator.fitted {\n",
       "  /* fitted */\n",
       "  background-color: var(--sklearn-color-fitted-level-0);\n",
       "}\n",
       "\n",
       "/* on hover */\n",
       "#sk-container-id-1 div.sk-estimator:hover {\n",
       "  /* unfitted */\n",
       "  background-color: var(--sklearn-color-unfitted-level-2);\n",
       "}\n",
       "\n",
       "#sk-container-id-1 div.sk-estimator.fitted:hover {\n",
       "  /* fitted */\n",
       "  background-color: var(--sklearn-color-fitted-level-2);\n",
       "}\n",
       "\n",
       "/* Specification for estimator info (e.g. \"i\" and \"?\") */\n",
       "\n",
       "/* Common style for \"i\" and \"?\" */\n",
       "\n",
       ".sk-estimator-doc-link,\n",
       "a:link.sk-estimator-doc-link,\n",
       "a:visited.sk-estimator-doc-link {\n",
       "  float: right;\n",
       "  font-size: smaller;\n",
       "  line-height: 1em;\n",
       "  font-family: monospace;\n",
       "  background-color: var(--sklearn-color-background);\n",
       "  border-radius: 1em;\n",
       "  height: 1em;\n",
       "  width: 1em;\n",
       "  text-decoration: none !important;\n",
       "  margin-left: 1ex;\n",
       "  /* unfitted */\n",
       "  border: var(--sklearn-color-unfitted-level-1) 1pt solid;\n",
       "  color: var(--sklearn-color-unfitted-level-1);\n",
       "}\n",
       "\n",
       ".sk-estimator-doc-link.fitted,\n",
       "a:link.sk-estimator-doc-link.fitted,\n",
       "a:visited.sk-estimator-doc-link.fitted {\n",
       "  /* fitted */\n",
       "  border: var(--sklearn-color-fitted-level-1) 1pt solid;\n",
       "  color: var(--sklearn-color-fitted-level-1);\n",
       "}\n",
       "\n",
       "/* On hover */\n",
       "div.sk-estimator:hover .sk-estimator-doc-link:hover,\n",
       ".sk-estimator-doc-link:hover,\n",
       "div.sk-label-container:hover .sk-estimator-doc-link:hover,\n",
       ".sk-estimator-doc-link:hover {\n",
       "  /* unfitted */\n",
       "  background-color: var(--sklearn-color-unfitted-level-3);\n",
       "  color: var(--sklearn-color-background);\n",
       "  text-decoration: none;\n",
       "}\n",
       "\n",
       "div.sk-estimator.fitted:hover .sk-estimator-doc-link.fitted:hover,\n",
       ".sk-estimator-doc-link.fitted:hover,\n",
       "div.sk-label-container:hover .sk-estimator-doc-link.fitted:hover,\n",
       ".sk-estimator-doc-link.fitted:hover {\n",
       "  /* fitted */\n",
       "  background-color: var(--sklearn-color-fitted-level-3);\n",
       "  color: var(--sklearn-color-background);\n",
       "  text-decoration: none;\n",
       "}\n",
       "\n",
       "/* Span, style for the box shown on hovering the info icon */\n",
       ".sk-estimator-doc-link span {\n",
       "  display: none;\n",
       "  z-index: 9999;\n",
       "  position: relative;\n",
       "  font-weight: normal;\n",
       "  right: .2ex;\n",
       "  padding: .5ex;\n",
       "  margin: .5ex;\n",
       "  width: min-content;\n",
       "  min-width: 20ex;\n",
       "  max-width: 50ex;\n",
       "  color: var(--sklearn-color-text);\n",
       "  box-shadow: 2pt 2pt 4pt #999;\n",
       "  /* unfitted */\n",
       "  background: var(--sklearn-color-unfitted-level-0);\n",
       "  border: .5pt solid var(--sklearn-color-unfitted-level-3);\n",
       "}\n",
       "\n",
       ".sk-estimator-doc-link.fitted span {\n",
       "  /* fitted */\n",
       "  background: var(--sklearn-color-fitted-level-0);\n",
       "  border: var(--sklearn-color-fitted-level-3);\n",
       "}\n",
       "\n",
       ".sk-estimator-doc-link:hover span {\n",
       "  display: block;\n",
       "}\n",
       "\n",
       "/* \"?\"-specific style due to the `<a>` HTML tag */\n",
       "\n",
       "#sk-container-id-1 a.estimator_doc_link {\n",
       "  float: right;\n",
       "  font-size: 1rem;\n",
       "  line-height: 1em;\n",
       "  font-family: monospace;\n",
       "  background-color: var(--sklearn-color-background);\n",
       "  border-radius: 1rem;\n",
       "  height: 1rem;\n",
       "  width: 1rem;\n",
       "  text-decoration: none;\n",
       "  /* unfitted */\n",
       "  color: var(--sklearn-color-unfitted-level-1);\n",
       "  border: var(--sklearn-color-unfitted-level-1) 1pt solid;\n",
       "}\n",
       "\n",
       "#sk-container-id-1 a.estimator_doc_link.fitted {\n",
       "  /* fitted */\n",
       "  border: var(--sklearn-color-fitted-level-1) 1pt solid;\n",
       "  color: var(--sklearn-color-fitted-level-1);\n",
       "}\n",
       "\n",
       "/* On hover */\n",
       "#sk-container-id-1 a.estimator_doc_link:hover {\n",
       "  /* unfitted */\n",
       "  background-color: var(--sklearn-color-unfitted-level-3);\n",
       "  color: var(--sklearn-color-background);\n",
       "  text-decoration: none;\n",
       "}\n",
       "\n",
       "#sk-container-id-1 a.estimator_doc_link.fitted:hover {\n",
       "  /* fitted */\n",
       "  background-color: var(--sklearn-color-fitted-level-3);\n",
       "}\n",
       "</style><div id=\"sk-container-id-1\" class=\"sk-top-container\"><div class=\"sk-text-repr-fallback\"><pre>GaussianNB()</pre><b>In a Jupyter environment, please rerun this cell to show the HTML representation or trust the notebook. <br />On GitHub, the HTML representation is unable to render, please try loading this page with nbviewer.org.</b></div><div class=\"sk-container\" hidden><div class=\"sk-item\"><div class=\"sk-estimator fitted sk-toggleable\"><input class=\"sk-toggleable__control sk-hidden--visually\" id=\"sk-estimator-id-1\" type=\"checkbox\" checked><label for=\"sk-estimator-id-1\" class=\"sk-toggleable__label fitted sk-toggleable__label-arrow fitted\">&nbsp;&nbsp;GaussianNB<a class=\"sk-estimator-doc-link fitted\" rel=\"noreferrer\" target=\"_blank\" href=\"https://scikit-learn.org/1.5/modules/generated/sklearn.naive_bayes.GaussianNB.html\">?<span>Documentation for GaussianNB</span></a><span class=\"sk-estimator-doc-link fitted\">i<span>Fitted</span></span></label><div class=\"sk-toggleable__content fitted\"><pre>GaussianNB()</pre></div> </div></div></div></div>"
      ],
      "text/plain": [
       "GaussianNB()"
      ]
     },
     "execution_count": 28,
     "metadata": {},
     "output_type": "execute_result"
    }
   ],
   "source": [
    "from sklearn.naive_bayes import GaussianNB\n",
    "\n",
    "meta_classifier = GaussianNB()\n",
    "\n",
    "meta_classifier.fit(X_train_stacked_logodd,y_train)"
   ]
  },
  {
   "cell_type": "markdown",
   "metadata": {},
   "source": [
    "### Evaluate the meta model"
   ]
  },
  {
   "cell_type": "code",
   "execution_count": 73,
   "metadata": {},
   "outputs": [],
   "source": [
    "results_test_models_list_meta = results_test_models_list.copy()\n",
    "\n",
    "\n",
    "y_pred = meta_classifier.predict(X_test_stacked_logodd)\n",
    "\n",
    "results_test = {\n",
    "    \"model\": \"meta\",\n",
    "    \"accuracy\": accuracy_score(y_test,y_pred),\n",
    "    \"recall\": recall_score(y_test,y_pred),\n",
    "    \"selectivity\": recall_score(y_test,y_pred,pos_label = 0),\n",
    "    \"f1\": f1_score(y_test,y_pred),\n",
    "    \"f3\": fbeta_score(y_test,y_pred,beta = 3),\n",
    "    \"precision\": precision_score(y_test,y_pred),\n",
    "    \"NPV\": precision_score(y_test,y_pred, pos_label = 0)\n",
    "}\n",
    "\n",
    "results_test_models_list_meta.append(results_test)\n",
    "\n",
    "results_test_models_df_meta = pd.DataFrame(results_test_models_list_meta)"
   ]
  },
  {
   "cell_type": "code",
   "execution_count": 82,
   "metadata": {},
   "outputs": [],
   "source": [
    "y_pred_test_meta = y_pred"
   ]
  },
  {
   "cell_type": "code",
   "execution_count": 84,
   "metadata": {},
   "outputs": [
    {
     "data": {
      "text/plain": [
       "array([0, 1, 1, 0, 0, 0, 0, 0, 0, 1, 0, 0, 0, 0, 0, 0, 0, 0, 1, 1, 0, 1,\n",
       "       0, 1, 0, 1, 1, 0, 0, 1, 1, 0, 0, 0, 0, 0, 1, 0, 1, 0, 0, 0, 1, 0,\n",
       "       0, 0, 0, 0, 1, 0, 0, 0, 0, 0, 0, 0, 0, 0, 0, 0, 0, 1, 0, 0, 0, 0,\n",
       "       0, 1, 0, 0, 0, 0, 0, 0, 0, 1, 1, 0, 1, 0, 0, 0, 0, 0, 0, 1, 0, 0,\n",
       "       0, 0, 0, 0, 0, 1, 0, 0, 0, 0, 1, 0, 1, 0, 1, 1, 1, 1, 1, 1, 1, 0,\n",
       "       1, 1, 0, 0, 0, 1, 1, 0, 0, 0, 0, 0, 0, 1, 0, 0, 0, 0, 0, 0, 0, 0,\n",
       "       0, 0, 0, 1, 0, 0, 0, 0, 0, 0, 0, 1, 0, 1, 0, 1, 1, 0, 0, 1, 0, 0,\n",
       "       0, 0, 0, 1, 0, 1, 1, 1, 0, 0, 1, 1, 0, 0, 0, 0, 1, 0, 0, 1, 0, 1,\n",
       "       1, 0, 0, 0, 1, 0, 1, 0, 0, 1, 1, 0, 0, 1, 0, 0, 0, 1, 0, 1, 0, 1,\n",
       "       0, 0, 0, 0, 0, 0, 1, 0, 0, 0, 0, 0, 1, 0, 0, 0, 1, 0, 0, 0, 1, 0,\n",
       "       0, 0, 0, 0, 0, 0, 0, 1, 0, 0, 1, 1, 0, 0, 1, 1, 0, 0, 0, 0, 0, 0,\n",
       "       1, 1, 1, 1, 0, 0, 1, 1, 0, 0, 1, 1, 1, 1, 1, 0, 1, 0, 0, 0, 1, 0,\n",
       "       0, 1, 1, 0, 1, 0, 0, 0, 1, 1, 1, 0, 0, 0, 0, 0, 0, 0, 0, 0, 0, 0,\n",
       "       1, 0, 0, 1, 0, 0, 1, 0, 0, 0, 0, 0, 0, 1, 0, 0, 0, 1, 0, 0, 0, 0,\n",
       "       1, 0, 0, 1, 0, 0, 0, 1, 0, 0, 0, 1, 0, 0, 0, 1, 1, 0, 0, 0, 0, 0,\n",
       "       1, 0, 1, 0, 0, 0, 0, 1, 0, 0, 0, 0, 1, 0, 0, 0, 0, 0, 1, 1, 1, 1,\n",
       "       0, 0, 1, 0, 0, 0, 0, 1, 1, 1, 0, 1, 0, 1, 0, 0, 1, 0, 0, 0, 0, 0,\n",
       "       0, 0, 0, 0, 1, 1, 1, 0, 0, 0, 1, 0, 1, 0, 0, 0, 0, 0, 0, 1, 0, 0,\n",
       "       0, 0, 0, 1, 0, 0, 1, 1, 0, 0, 0, 0, 0, 0, 0, 0, 0, 0, 0, 0, 0, 0,\n",
       "       0, 0, 0, 0, 0, 0, 0, 1, 0, 0])"
      ]
     },
     "execution_count": 84,
     "metadata": {},
     "output_type": "execute_result"
    }
   ],
   "source": [
    "y_pred_test_meta"
   ]
  },
  {
   "cell_type": "code",
   "execution_count": 75,
   "metadata": {},
   "outputs": [
    {
     "data": {
      "text/html": [
       "<div>\n",
       "<style scoped>\n",
       "    .dataframe tbody tr th:only-of-type {\n",
       "        vertical-align: middle;\n",
       "    }\n",
       "\n",
       "    .dataframe tbody tr th {\n",
       "        vertical-align: top;\n",
       "    }\n",
       "\n",
       "    .dataframe thead th {\n",
       "        text-align: right;\n",
       "    }\n",
       "</style>\n",
       "<table border=\"1\" class=\"dataframe\">\n",
       "  <thead>\n",
       "    <tr style=\"text-align: right;\">\n",
       "      <th></th>\n",
       "      <th>model</th>\n",
       "      <th>accuracy</th>\n",
       "      <th>recall</th>\n",
       "      <th>selectivity</th>\n",
       "      <th>f1</th>\n",
       "      <th>f3</th>\n",
       "      <th>precision</th>\n",
       "      <th>NPV</th>\n",
       "    </tr>\n",
       "  </thead>\n",
       "  <tbody>\n",
       "    <tr>\n",
       "      <th>0</th>\n",
       "      <td>Logistic</td>\n",
       "      <td>0.894860</td>\n",
       "      <td>0.807692</td>\n",
       "      <td>0.922840</td>\n",
       "      <td>0.788732</td>\n",
       "      <td>0.803828</td>\n",
       "      <td>0.770642</td>\n",
       "      <td>0.937304</td>\n",
       "    </tr>\n",
       "    <tr>\n",
       "      <th>1</th>\n",
       "      <td>RandomForest</td>\n",
       "      <td>0.897196</td>\n",
       "      <td>0.817308</td>\n",
       "      <td>0.922840</td>\n",
       "      <td>0.794393</td>\n",
       "      <td>0.812620</td>\n",
       "      <td>0.772727</td>\n",
       "      <td>0.940252</td>\n",
       "    </tr>\n",
       "    <tr>\n",
       "      <th>2</th>\n",
       "      <td>Knearestneighbors</td>\n",
       "      <td>0.801402</td>\n",
       "      <td>0.605769</td>\n",
       "      <td>0.864198</td>\n",
       "      <td>0.597156</td>\n",
       "      <td>0.604027</td>\n",
       "      <td>0.588785</td>\n",
       "      <td>0.872274</td>\n",
       "    </tr>\n",
       "    <tr>\n",
       "      <th>3</th>\n",
       "      <td>meta</td>\n",
       "      <td>0.873832</td>\n",
       "      <td>0.836538</td>\n",
       "      <td>0.885802</td>\n",
       "      <td>0.763158</td>\n",
       "      <td>0.820755</td>\n",
       "      <td>0.701613</td>\n",
       "      <td>0.944079</td>\n",
       "    </tr>\n",
       "  </tbody>\n",
       "</table>\n",
       "</div>"
      ],
      "text/plain": [
       "               model  accuracy    recall  selectivity        f1        f3  \\\n",
       "0           Logistic  0.894860  0.807692     0.922840  0.788732  0.803828   \n",
       "1       RandomForest  0.897196  0.817308     0.922840  0.794393  0.812620   \n",
       "2  Knearestneighbors  0.801402  0.605769     0.864198  0.597156  0.604027   \n",
       "3               meta  0.873832  0.836538     0.885802  0.763158  0.820755   \n",
       "\n",
       "   precision       NPV  \n",
       "0   0.770642  0.937304  \n",
       "1   0.772727  0.940252  \n",
       "2   0.588785  0.872274  \n",
       "3   0.701613  0.944079  "
      ]
     },
     "execution_count": 75,
     "metadata": {},
     "output_type": "execute_result"
    }
   ],
   "source": [
    "results_test_models_df_meta"
   ]
  },
  {
   "cell_type": "code",
   "execution_count": 32,
   "metadata": {},
   "outputs": [
    {
     "data": {
      "image/png": "[encoded data removed]",
      "text/plain": [
       "<Figure size 600x300 with 2 Axes>"
      ]
     },
     "metadata": {},
     "output_type": "display_data"
    }
   ],
   "source": [
    "sns.heatmap(confusion_matrix(y_test,y_pred_test_meta), annot = True, cmap = \"Blues\", fmt='d')\n",
    "plt.title(\"Test results with the meta model\")\n",
    "plt.show()"
   ]
  },
  {
   "cell_type": "markdown",
   "metadata": {},
   "source": [
    "## Case study patient 2023"
   ]
  },
  {
   "cell_type": "markdown",
   "metadata": {},
   "source": [
    "A 23 year old male, 63kg, hemo, offtrt, time censored 240, 1 anno e 6 mesi, trt2."
   ]
  },
  {
   "cell_type": "code",
   "execution_count": 61,
   "metadata": {},
   "outputs": [
    {
     "data": {
      "text/plain": [
       "[2,\n",
       " 9,\n",
       " 13,\n",
       " 15,\n",
       " 18,\n",
       " 21,\n",
       " 23,\n",
       " 28,\n",
       " 34,\n",
       " 35,\n",
       " 37,\n",
       " 42,\n",
       " 46,\n",
       " 53,\n",
       " 56,\n",
       " 60,\n",
       " 64,\n",
       " 69,\n",
       " 76,\n",
       " 87,\n",
       " 98,\n",
       " 99,\n",
       " 106,\n",
       " 116,\n",
       " 121,\n",
       " 125,\n",
       " 128,\n",
       " 134,\n",
       " 144,\n",
       " 153,\n",
       " 154,\n",
       " 155,\n",
       " 165,\n",
       " 168,\n",
       " 171,\n",
       " 173,\n",
       " 182,\n",
       " 186,\n",
       " 193,\n",
       " 195,\n",
       " 197,\n",
       " 207,\n",
       " 208,\n",
       " 215,\n",
       " 238,\n",
       " 239,\n",
       " 241,\n",
       " 251,\n",
       " 254,\n",
       " 256,\n",
       " 257,\n",
       " 262,\n",
       " 263,\n",
       " 264,\n",
       " 269,\n",
       " 274,\n",
       " 278,\n",
       " 279,\n",
       " 286,\n",
       " 291,\n",
       " 295,\n",
       " 306,\n",
       " 311,\n",
       " 317,\n",
       " 318,\n",
       " 327,\n",
       " 339,\n",
       " 344,\n",
       " 350,\n",
       " 352,\n",
       " 357,\n",
       " 359,\n",
       " 365,\n",
       " 370,\n",
       " 375,\n",
       " 377,\n",
       " 380,\n",
       " 404,\n",
       " 407,\n",
       " 409,\n",
       " 414,\n",
       " 427,\n",
       " 434,\n",
       " 436,\n",
       " 443,\n",
       " 445,\n",
       " 488,\n",
       " 489,\n",
       " 495,\n",
       " 498,\n",
       " 501,\n",
       " 506,\n",
       " 507,\n",
       " 513,\n",
       " 517,\n",
       " 519,\n",
       " 521,\n",
       " 522,\n",
       " 524,\n",
       " 528,\n",
       " 540,\n",
       " 563,\n",
       " 568,\n",
       " 573,\n",
       " 584,\n",
       " 588,\n",
       " 591,\n",
       " 597,\n",
       " 601,\n",
       " 610,\n",
       " 613,\n",
       " 616,\n",
       " 618,\n",
       " 624,\n",
       " 630,\n",
       " 631,\n",
       " 637,\n",
       " 643,\n",
       " 655,\n",
       " 664,\n",
       " 665,\n",
       " 666,\n",
       " 667,\n",
       " 677,\n",
       " 681,\n",
       " 696,\n",
       " 701,\n",
       " 703,\n",
       " 704,\n",
       " 722,\n",
       " 730,\n",
       " 735,\n",
       " 739,\n",
       " 740,\n",
       " 741,\n",
       " 743,\n",
       " 762,\n",
       " 774,\n",
       " 782,\n",
       " 783,\n",
       " 786,\n",
       " 788,\n",
       " 789,\n",
       " 796,\n",
       " 809,\n",
       " 815,\n",
       " 817,\n",
       " 829,\n",
       " 831,\n",
       " 835,\n",
       " 838,\n",
       " 843,\n",
       " 850,\n",
       " 852,\n",
       " 853,\n",
       " 856,\n",
       " 859,\n",
       " 861,\n",
       " 862,\n",
       " 864,\n",
       " 873,\n",
       " 880,\n",
       " 884,\n",
       " 894,\n",
       " 905,\n",
       " 907,\n",
       " 908,\n",
       " 910,\n",
       " 913,\n",
       " 915,\n",
       " 928,\n",
       " 929,\n",
       " 933,\n",
       " 942,\n",
       " 954,\n",
       " 956,\n",
       " 962,\n",
       " 969,\n",
       " 981,\n",
       " 984,\n",
       " 989,\n",
       " 990,\n",
       " 991,\n",
       " 994,\n",
       " 1010,\n",
       " 1013,\n",
       " 1017,\n",
       " 1025,\n",
       " 1026,\n",
       " 1027,\n",
       " 1032,\n",
       " 1045,\n",
       " 1048,\n",
       " 1049,\n",
       " 1051,\n",
       " 1055,\n",
       " 1060,\n",
       " 1061,\n",
       " 1067,\n",
       " 1072,\n",
       " 1079,\n",
       " 1092,\n",
       " 1094,\n",
       " 1099,\n",
       " 1109,\n",
       " 1113,\n",
       " 1114,\n",
       " 1120,\n",
       " 1127,\n",
       " 1131,\n",
       " 1134,\n",
       " 1136,\n",
       " 1140,\n",
       " 1141,\n",
       " 1144,\n",
       " 1152,\n",
       " 1153,\n",
       " 1161,\n",
       " 1162,\n",
       " 1164,\n",
       " 1165,\n",
       " 1168,\n",
       " 1176,\n",
       " 1179,\n",
       " 1186,\n",
       " 1187,\n",
       " 1210,\n",
       " 1223,\n",
       " 1232,\n",
       " 1234,\n",
       " 1235,\n",
       " 1254,\n",
       " 1261,\n",
       " 1264,\n",
       " 1266,\n",
       " 1267,\n",
       " 1268,\n",
       " 1272,\n",
       " 1273,\n",
       " 1289,\n",
       " 1294,\n",
       " 1298,\n",
       " 1303,\n",
       " 1306,\n",
       " 1327,\n",
       " 1336,\n",
       " 1347,\n",
       " 1349,\n",
       " 1351,\n",
       " 1352,\n",
       " 1354,\n",
       " 1355,\n",
       " 1356,\n",
       " 1360,\n",
       " 1364,\n",
       " 1365,\n",
       " 1380,\n",
       " 1389,\n",
       " 1390,\n",
       " 1400,\n",
       " 1406,\n",
       " 1409,\n",
       " 1410,\n",
       " 1414,\n",
       " 1424,\n",
       " 1429,\n",
       " 1438,\n",
       " 1439,\n",
       " 1444,\n",
       " 1455,\n",
       " 1465,\n",
       " 1473,\n",
       " 1487,\n",
       " 1488,\n",
       " 1492,\n",
       " 1494,\n",
       " 1499,\n",
       " 1501,\n",
       " 1502,\n",
       " 1508,\n",
       " 1509,\n",
       " 1511,\n",
       " 1517,\n",
       " 1518,\n",
       " 1522,\n",
       " 1528,\n",
       " 1530,\n",
       " 1531,\n",
       " 1536,\n",
       " 1541,\n",
       " 1545,\n",
       " 1551,\n",
       " 1560,\n",
       " 1561,\n",
       " 1564,\n",
       " 1565,\n",
       " 1566,\n",
       " 1568,\n",
       " 1576,\n",
       " 1588,\n",
       " 1595,\n",
       " 1606,\n",
       " 1609,\n",
       " 1616,\n",
       " 1628,\n",
       " 1629,\n",
       " 1634,\n",
       " 1637,\n",
       " 1641,\n",
       " 1646,\n",
       " 1650,\n",
       " 1651,\n",
       " 1655,\n",
       " 1658,\n",
       " 1659,\n",
       " 1668,\n",
       " 1671,\n",
       " 1673,\n",
       " 1674,\n",
       " 1685,\n",
       " 1692,\n",
       " 1694,\n",
       " 1703,\n",
       " 1708,\n",
       " 1712,\n",
       " 1718,\n",
       " 1721,\n",
       " 1723,\n",
       " 1728,\n",
       " 1748,\n",
       " 1755,\n",
       " 1761,\n",
       " 1763,\n",
       " 1767,\n",
       " 1777,\n",
       " 1778,\n",
       " 1784,\n",
       " 1785,\n",
       " 1788,\n",
       " 1789,\n",
       " 1792,\n",
       " 1802,\n",
       " 1805,\n",
       " 1806,\n",
       " 1808,\n",
       " 1809,\n",
       " 1811,\n",
       " 1812,\n",
       " 1814,\n",
       " 1817,\n",
       " 1824,\n",
       " 1825,\n",
       " 1828,\n",
       " 1834,\n",
       " 1839,\n",
       " 1843,\n",
       " 1844,\n",
       " 1848,\n",
       " 1856,\n",
       " 1857,\n",
       " 1859,\n",
       " 1862,\n",
       " 1863,\n",
       " 1865,\n",
       " 1871,\n",
       " 1872,\n",
       " 1878,\n",
       " 1884,\n",
       " 1885,\n",
       " 1886,\n",
       " 1891,\n",
       " 1892,\n",
       " 1898,\n",
       " 1909,\n",
       " 1910,\n",
       " 1911,\n",
       " 1921,\n",
       " 1924,\n",
       " 1927,\n",
       " 1930,\n",
       " 1931,\n",
       " 1942,\n",
       " 1943,\n",
       " 1944,\n",
       " 1949,\n",
       " 1951,\n",
       " 1954,\n",
       " 1955,\n",
       " 1956,\n",
       " 1960,\n",
       " 1965,\n",
       " 1966,\n",
       " 1970,\n",
       " 1971,\n",
       " 1977,\n",
       " 1980,\n",
       " 1984,\n",
       " 1985,\n",
       " 1989,\n",
       " 1995,\n",
       " 2003,\n",
       " 2006,\n",
       " 2007,\n",
       " 2008,\n",
       " 2012,\n",
       " 2014,\n",
       " 2017,\n",
       " 2023,\n",
       " 2033,\n",
       " 2039,\n",
       " 2046,\n",
       " 2048,\n",
       " 2050,\n",
       " 2052,\n",
       " 2070,\n",
       " 2072,\n",
       " 2074,\n",
       " 2079,\n",
       " 2083,\n",
       " 2084,\n",
       " 2091,\n",
       " 2099,\n",
       " 2102,\n",
       " 2107,\n",
       " 2110,\n",
       " 2113,\n",
       " 2119,\n",
       " 2134]"
      ]
     },
     "execution_count": 61,
     "metadata": {},
     "output_type": "execute_result"
    }
   ],
   "source": [
    "sorted(y_test.index)"
   ]
  },
  {
   "cell_type": "code",
   "execution_count": 62,
   "metadata": {},
   "outputs": [],
   "source": [
    "id = 99"
   ]
  },
  {
   "cell_type": "code",
   "execution_count": 63,
   "metadata": {},
   "outputs": [
    {
     "data": {
      "text/html": [
       "<div>\n",
       "<style scoped>\n",
       "    .dataframe tbody tr th:only-of-type {\n",
       "        vertical-align: middle;\n",
       "    }\n",
       "\n",
       "    .dataframe tbody tr th {\n",
       "        vertical-align: top;\n",
       "    }\n",
       "\n",
       "    .dataframe thead th {\n",
       "        text-align: right;\n",
       "    }\n",
       "</style>\n",
       "<table border=\"1\" class=\"dataframe\">\n",
       "  <thead>\n",
       "    <tr style=\"text-align: right;\">\n",
       "      <th></th>\n",
       "      <th>age</th>\n",
       "      <th>wtkg</th>\n",
       "      <th>hemo</th>\n",
       "      <th>homo</th>\n",
       "      <th>drugs</th>\n",
       "      <th>karnof</th>\n",
       "      <th>oprior</th>\n",
       "      <th>z30</th>\n",
       "      <th>preanti</th>\n",
       "      <th>race</th>\n",
       "      <th>...</th>\n",
       "      <th>offtrt</th>\n",
       "      <th>cd40</th>\n",
       "      <th>cd420</th>\n",
       "      <th>cd80</th>\n",
       "      <th>cd820</th>\n",
       "      <th>time730</th>\n",
       "      <th>time_censored</th>\n",
       "      <th>trt0</th>\n",
       "      <th>trt1</th>\n",
       "      <th>trt2</th>\n",
       "    </tr>\n",
       "  </thead>\n",
       "  <tbody>\n",
       "    <tr>\n",
       "      <th>99</th>\n",
       "      <td>33.0</td>\n",
       "      <td>83.4624</td>\n",
       "      <td>0.0</td>\n",
       "      <td>1.0</td>\n",
       "      <td>0.0</td>\n",
       "      <td>100.0</td>\n",
       "      <td>0.0</td>\n",
       "      <td>1.0</td>\n",
       "      <td>306.0</td>\n",
       "      <td>0.0</td>\n",
       "      <td>...</td>\n",
       "      <td>0.0</td>\n",
       "      <td>272.0</td>\n",
       "      <td>257.0</td>\n",
       "      <td>842.0</td>\n",
       "      <td>758.0</td>\n",
       "      <td>147.0</td>\n",
       "      <td>0.0</td>\n",
       "      <td>0.0</td>\n",
       "      <td>1.0</td>\n",
       "      <td>0.0</td>\n",
       "    </tr>\n",
       "  </tbody>\n",
       "</table>\n",
       "<p>1 rows × 24 columns</p>\n",
       "</div>"
      ],
      "text/plain": [
       "     age     wtkg  hemo  homo  drugs  karnof  oprior  z30  preanti  race  ...  \\\n",
       "99  33.0  83.4624   0.0   1.0    0.0   100.0     0.0  1.0    306.0   0.0  ...   \n",
       "\n",
       "    offtrt   cd40  cd420   cd80  cd820  time730  time_censored  trt0  trt1  \\\n",
       "99     0.0  272.0  257.0  842.0  758.0    147.0            0.0   0.0   1.0   \n",
       "\n",
       "    trt2  \n",
       "99   0.0  \n",
       "\n",
       "[1 rows x 24 columns]"
      ]
     },
     "execution_count": 63,
     "metadata": {},
     "output_type": "execute_result"
    }
   ],
   "source": [
    "patient = pd.DataFrame(X_test.loc[id]).T\n",
    "patient"
   ]
  },
  {
   "cell_type": "code",
   "execution_count": 64,
   "metadata": {},
   "outputs": [
    {
     "data": {
      "text/plain": [
       "np.int64(1)"
      ]
     },
     "execution_count": 64,
     "metadata": {},
     "output_type": "execute_result"
    }
   ],
   "source": [
    "y_test.loc[id]"
   ]
  },
  {
   "cell_type": "code",
   "execution_count": 76,
   "metadata": {},
   "outputs": [],
   "source": [
    "X_test_stacked_indexed = X_test_stacked.copy()\n",
    "X_test_stacked_indexed.index = X_test.index\n",
    "X_test_stacked_logodd_indexed = X_test_stacked_logodd.copy()\n",
    "X_test_stacked_logodd_indexed.index = X_test.index"
   ]
  },
  {
   "cell_type": "code",
   "execution_count": 108,
   "metadata": {},
   "outputs": [
    {
     "name": "stdout",
     "output_type": "stream",
     "text": [
      "308 1942\n",
      "       age  wtkg  hemo  homo  drugs  karnof  oprior  z30  preanti  race  ...  \\\n",
      "1942  30.0  75.9   0.0   1.0    0.0   100.0     0.0  0.0      0.0   0.0  ...   \n",
      "\n",
      "      offtrt   cd40  cd420   cd80  cd820  time730  time_censored  trt0  trt1  \\\n",
      "1942     1.0  580.0  343.0  950.0  874.0      0.0          318.0   0.0   1.0   \n",
      "\n",
      "      trt2  \n",
      "1942   0.0  \n",
      "\n",
      "[1 rows x 24 columns]\n",
      "      Logistic  RandomForest  Knearestneighbors\n",
      "1942  0.770323      0.423282                1.0\n",
      "[[0.01409062 0.98590938]] [1] 1\n"
     ]
    }
   ],
   "source": [
    "for i in range(len(y_test)):\n",
    "    id = y_test.index[i]\n",
    "    patient = pd.DataFrame(X_test.loc[id]).T\n",
    "    patient_stack = pd.DataFrame(X_test_stacked_indexed.loc[id]).T\n",
    "    patient_stack\n",
    "    patient_stack_logodd = pd.DataFrame(X_test_stacked_logodd_indexed.loc[id]).T\n",
    "\n",
    "    prob = meta_classifier.predict_proba(patient_stack_logodd)\n",
    "    pred = meta_classifier.predict(patient_stack_logodd)\n",
    "    ytrue = y_test.loc[id]  \n",
    "\n",
    "    knn_pred = patient_stack['Knearestneighbors'].iloc[0]\n",
    "    log_pred = patient_stack['Logistic'].iloc[0]\n",
    "    rf_pred = patient_stack['RandomForest'].iloc[0]\n",
    "\n",
    "    if knn_pred > 0.5 and log_pred > 0.5 and rf_pred < 0.5 and ytrue > 0.5:\n",
    "        print(i, id)\n",
    "        print(patient)\n",
    "        print(patient_stack)\n",
    "        print(prob, pred, ytrue)"
   ]
  },
  {
   "cell_type": "code",
   "execution_count": 66,
   "metadata": {},
   "outputs": [
    {
     "data": {
      "text/plain": [
       "array([[0.00971186, 0.99028814]])"
      ]
     },
     "execution_count": 66,
     "metadata": {},
     "output_type": "execute_result"
    }
   ],
   "source": []
  },
  {
   "cell_type": "code",
   "execution_count": 67,
   "metadata": {},
   "outputs": [
    {
     "data": {
      "text/plain": [
       "array([1])"
      ]
     },
     "execution_count": 67,
     "metadata": {},
     "output_type": "execute_result"
    }
   ],
   "source": [
    "meta_classifier.predict(patient_stack)"
   ]
  },
  {
   "cell_type": "markdown",
   "metadata": {},
   "source": [
    "## Visualize decision boundary with two base models"
   ]
  },
  {
   "cell_type": "code",
   "execution_count": 150,
   "metadata": {},
   "outputs": [],
   "source": []
  },
  {
   "cell_type": "code",
   "execution_count": 211,
   "metadata": {},
   "outputs": [],
   "source": [
    "# let's boundary plot\n",
    "import numpy as np\n",
    "import matplotlib.pyplot as plt\n",
    "import seaborn as sns\n",
    "\n",
    "def plot_decision_boundary(fitted_meta_model, Xstackedtrain, ytrain, figsize = (10,6)):\n",
    "    \"\"\"\n",
    "    np2darray.ravel() efficiently flattens the array\n",
    "    np.c_ is like clumn_stack: it acts as zip(), into a 2d array\n",
    "    \"\"\"\n",
    "    df = Xstackedtrain.copy()\n",
    "    df['y'] = ytrain\n",
    "\n",
    "    # Create a meshgrid of points\n",
    "    ## xx.shape == (M,N) where M,N are the number of gridpoints nd the X/Y axis respectively\n",
    "    x_min, x_max, y_min, y_max = -11, 7.5, -7, 7\n",
    "    xx, yy = np.meshgrid(np.arange(x_min, x_max, 0.1),\n",
    "                        np.arange(y_min, y_max, 0.1))\n",
    "\n",
    "    ## xx.ravel().shape == (M*N,)\n",
    "    ## xy.shape = (M*N,2)\n",
    "    xy = np.c_[xx.ravel(), yy.ravel()]   \n",
    "    xy = pd.DataFrame(xy,columns = models.keys())  \n",
    "    \n",
    "    # Predict on the grid\n",
    "    Z = meta_classifier.predict(xy)\n",
    "    Z = Z.reshape(xx.shape)\n",
    "\n",
    "    # Plot the decision boundary\n",
    "    plt.figure(figsize=figsize)\n",
    "    ## scatterplot the base model predictions\n",
    "    sns.scatterplot(data=df, x='Logistic', y='RandomForest', hue='y', s= 30, alpha = 0.6)\n",
    "    ## countrouf the meta model prediction\n",
    "    plt.contourf(xx, yy, Z, alpha=0.2, levels=1)\n",
    "    plt.title(\"Decision boundary of the meta model\")\n",
    "    plt.show()"
   ]
  },
  {
   "cell_type": "code",
   "execution_count": 212,
   "metadata": {},
   "outputs": [],
   "source": [
    "#plot_decision_boundary(meta_classifier, X_train_stacked_logodd, y_train)\n"
   ]
  },
  {
   "cell_type": "markdown",
   "metadata": {},
   "source": [
    "## Vanilla models"
   ]
  },
  {
   "cell_type": "code",
   "execution_count": 213,
   "metadata": {},
   "outputs": [],
   "source": [
    "from sklearn.linear_model import LogisticRegression\n",
    "from sklearn.tree import DecisionTreeClassifier\n",
    "from sklearn.neighbors import KNeighborsClassifier\n",
    "from sklearn.neural_network import MLPClassifier\n",
    "from sklearn.ensemble import RandomForestClassifier\n",
    "\n",
    "\n"
   ]
  },
  {
   "cell_type": "code",
   "execution_count": 214,
   "metadata": {},
   "outputs": [
    {
     "data": {
      "text/plain": [
       "'models_vanilla = {}\\nmodels_vanilla[\"LogisticRegression\"] = LogisticRegression(random_state=42)\\nmodels_vanilla[\"DecisionTree\"] = DecisionTreeClassifier(random_state=42)\\nmodels_vanilla[\"RandomForest\"] = RandomForestClassifier(random_state=42)\\nmodels_vanilla[\"KNearestNeighbors\"] = KNeighborsClassifier()\\nmodels_vanilla[\"ArtificialNeuralNetworkMLP\"] = MLPClassifier(random_state=42)'"
      ]
     },
     "execution_count": 214,
     "metadata": {},
     "output_type": "execute_result"
    }
   ],
   "source": [
    "'''models_vanilla = {}\n",
    "models_vanilla[\"LogisticRegression\"] = LogisticRegression(random_state=42)\n",
    "models_vanilla[\"DecisionTree\"] = DecisionTreeClassifier(random_state=42)\n",
    "models_vanilla[\"RandomForest\"] = RandomForestClassifier(random_state=42)\n",
    "models_vanilla[\"KNearestNeighbors\"] = KNeighborsClassifier()\n",
    "models_vanilla[\"ArtificialNeuralNetworkMLP\"] = MLPClassifier(random_state=42)'''"
   ]
  },
  {
   "cell_type": "code",
   "execution_count": 215,
   "metadata": {},
   "outputs": [],
   "source": [
    "models_vanilla = {}\n",
    "models_vanilla[\"RandomForest\"] =models[\"RandomForest\"]\n",
    "models_vanilla[\"KNearestNeighbors\"] = models[\"Knearestneighbors\"]\n",
    "models_vanilla[\"ArtificialNeuralNetworkMLP\"] = MLPClassifier(random_state=42)"
   ]
  },
  {
   "cell_type": "code",
   "execution_count": 216,
   "metadata": {},
   "outputs": [],
   "source": [
    "from src.model_selection import cv_accuracy_recall"
   ]
  },
  {
   "cell_type": "code",
   "execution_count": 217,
   "metadata": {},
   "outputs": [
    {
     "data": {
      "text/html": [
       "<div>\n",
       "<style scoped>\n",
       "    .dataframe tbody tr th:only-of-type {\n",
       "        vertical-align: middle;\n",
       "    }\n",
       "\n",
       "    .dataframe tbody tr th {\n",
       "        vertical-align: top;\n",
       "    }\n",
       "\n",
       "    .dataframe thead th {\n",
       "        text-align: right;\n",
       "    }\n",
       "</style>\n",
       "<table border=\"1\" class=\"dataframe\">\n",
       "  <thead>\n",
       "    <tr style=\"text-align: right;\">\n",
       "      <th></th>\n",
       "      <th>accuracy</th>\n",
       "      <th>recall</th>\n",
       "      <th>model</th>\n",
       "    </tr>\n",
       "  </thead>\n",
       "  <tbody>\n",
       "    <tr>\n",
       "      <th>0</th>\n",
       "      <td>0.878426</td>\n",
       "      <td>0.692943</td>\n",
       "      <td>RandomForest_vanilla</td>\n",
       "    </tr>\n",
       "    <tr>\n",
       "      <th>1</th>\n",
       "      <td>0.829918</td>\n",
       "      <td>0.491538</td>\n",
       "      <td>KNearestNeighbors_vanilla</td>\n",
       "    </tr>\n",
       "    <tr>\n",
       "      <th>2</th>\n",
       "      <td>0.877841</td>\n",
       "      <td>0.721773</td>\n",
       "      <td>ArtificialNeuralNetworkMLP_vanilla</td>\n",
       "    </tr>\n",
       "  </tbody>\n",
       "</table>\n",
       "</div>"
      ],
      "text/plain": [
       "   accuracy    recall                               model\n",
       "0  0.878426  0.692943                RandomForest_vanilla\n",
       "1  0.829918  0.491538           KNearestNeighbors_vanilla\n",
       "2  0.877841  0.721773  ArtificialNeuralNetworkMLP_vanilla"
      ]
     },
     "execution_count": 217,
     "metadata": {},
     "output_type": "execute_result"
    }
   ],
   "source": [
    "cv_vanilla = []\n",
    "for modelname in models_vanilla:\n",
    "    cv_vanilla.append(cv_accuracy_recall(X_train_scaled,y_train_, models_vanilla[modelname], modelname + \"_vanilla\"))\n",
    "cv_vanilla = pd.DataFrame(cv_vanilla)\n",
    "cv_vanilla"
   ]
  },
  {
   "cell_type": "markdown",
   "metadata": {},
   "source": [
    "### Undersampled training vanilla"
   ]
  },
  {
   "cell_type": "code",
   "execution_count": 218,
   "metadata": {},
   "outputs": [],
   "source": [
    "models_vanilla = {}\n",
    "models_vanilla[\"LogisticRegression\"] = LogisticRegression(random_state=42)\n",
    "models_vanilla[\"DecisionTree\"] = DecisionTreeClassifier(random_state=42)\n",
    "models_vanilla[\"RandomForest\"] = RandomForestClassifier(random_state=42)\n",
    "models_vanilla[\"KNearestNeighbors\"] = KNeighborsClassifier()\n",
    "models_vanilla[\"ArtificialNeuralNetworkMLP\"] = MLPClassifier(random_state=42)"
   ]
  },
  {
   "cell_type": "code",
   "execution_count": 219,
   "metadata": {},
   "outputs": [],
   "source": [
    "models_vanilla = {}\n",
    "models_vanilla[\"RandomForest\"] =models[\"RandomForest\"]\n",
    "models_vanilla[\"KNearestNeighbors\"] = models[\"Knearestneighbors\"]\n",
    "models_vanilla[\"ArtificialNeuralNetworkMLP\"] = MLPClassifier(random_state=42)"
   ]
  },
  {
   "cell_type": "code",
   "execution_count": 220,
   "metadata": {},
   "outputs": [
    {
     "data": {
      "text/plain": [
       "{'Logistic': LogisticRegression(random_state=42),\n",
       " 'RandomForest': RandomForestClassifier(min_samples_leaf=2, n_estimators=500),\n",
       " 'Knearestneighbors': KNeighborsClassifier(metric='manhattan', n_neighbors=3)}"
      ]
     },
     "execution_count": 220,
     "metadata": {},
     "output_type": "execute_result"
    }
   ],
   "source": [
    "models"
   ]
  },
  {
   "cell_type": "code",
   "execution_count": 221,
   "metadata": {},
   "outputs": [],
   "source": [
    "def sample_balance_Xy(X,y, with_reindex = False):\n",
    "    df = X.copy()\n",
    "    df['infected'] = y\n",
    "    df_infected = df[df['infected']==1] \n",
    "    df_not_infected = df[df['infected']==0]\n",
    "\n",
    "    num_infected = df_infected.shape[0]\n",
    "    df_sample_not_infected = df_not_infected.sample(num_infected, random_state=42)\n",
    "\n",
    "    df_balanced = pd.concat([df_infected,df_sample_not_infected])\n",
    "    # we shuffle it once more at the end.\n",
    "    # https://stackoverflow.com/questions/29576430/shuffle-dataframe-rows\n",
    "    if with_reindex:\n",
    "        df_balanced = df_balanced.sample(frac=1).reset_index(drop=True)\n",
    "    else:\n",
    "        df_balanced = df_balanced.sample(frac=1)\n",
    "    X_balanced = df_balanced.drop(columns=['infected'])\n",
    "    y_balanced = df_balanced['infected']\n",
    "    return X_balanced,y_balanced\n"
   ]
  },
  {
   "cell_type": "code",
   "execution_count": 222,
   "metadata": {},
   "outputs": [],
   "source": [
    "X_train_balanced, y_train_balanced = sample_balance_Xy(X_train_scaled, y_train_)"
   ]
  },
  {
   "cell_type": "code",
   "execution_count": 223,
   "metadata": {},
   "outputs": [
    {
     "data": {
      "text/plain": [
       "(676, 24)"
      ]
     },
     "execution_count": 223,
     "metadata": {},
     "output_type": "execute_result"
    }
   ],
   "source": [
    "X_train_balanced.shape"
   ]
  },
  {
   "cell_type": "code",
   "execution_count": 224,
   "metadata": {},
   "outputs": [
    {
     "data": {
      "text/html": [
       "<div>\n",
       "<style scoped>\n",
       "    .dataframe tbody tr th:only-of-type {\n",
       "        vertical-align: middle;\n",
       "    }\n",
       "\n",
       "    .dataframe tbody tr th {\n",
       "        vertical-align: top;\n",
       "    }\n",
       "\n",
       "    .dataframe thead th {\n",
       "        text-align: right;\n",
       "    }\n",
       "</style>\n",
       "<table border=\"1\" class=\"dataframe\">\n",
       "  <thead>\n",
       "    <tr style=\"text-align: right;\">\n",
       "      <th></th>\n",
       "      <th>accuracy</th>\n",
       "      <th>recall</th>\n",
       "      <th>model</th>\n",
       "    </tr>\n",
       "  </thead>\n",
       "  <tbody>\n",
       "    <tr>\n",
       "      <th>0</th>\n",
       "      <td>0.488137</td>\n",
       "      <td>0.484987</td>\n",
       "      <td>RandomForest_balanced</td>\n",
       "    </tr>\n",
       "    <tr>\n",
       "      <th>1</th>\n",
       "      <td>0.489651</td>\n",
       "      <td>0.479368</td>\n",
       "      <td>KNearestNeighbors_balanced</td>\n",
       "    </tr>\n",
       "    <tr>\n",
       "      <th>2</th>\n",
       "      <td>0.519270</td>\n",
       "      <td>0.541440</td>\n",
       "      <td>ArtificialNeuralNetworkMLP_balanced</td>\n",
       "    </tr>\n",
       "  </tbody>\n",
       "</table>\n",
       "</div>"
      ],
      "text/plain": [
       "   accuracy    recall                                model\n",
       "0  0.488137  0.484987                RandomForest_balanced\n",
       "1  0.489651  0.479368           KNearestNeighbors_balanced\n",
       "2  0.519270  0.541440  ArtificialNeuralNetworkMLP_balanced"
      ]
     },
     "execution_count": 224,
     "metadata": {},
     "output_type": "execute_result"
    }
   ],
   "source": [
    "cv_vanilla_balanced = []\n",
    "for modelname in models_vanilla:\n",
    "    cv_vanilla_balanced.append(cv_accuracy_recall(X_train_balanced,y_train_balanced, models_vanilla[modelname], modelname + \"_balanced\"))\n",
    "cv_vanilla_balanced = pd.DataFrame(cv_vanilla_balanced)\n",
    "cv_vanilla_balanced"
   ]
  },
  {
   "cell_type": "markdown",
   "metadata": {},
   "source": []
  },
  {
   "cell_type": "markdown",
   "metadata": {},
   "source": []
  },
  {
   "cell_type": "markdown",
   "metadata": {},
   "source": [
    "## Oversampling vanilla"
   ]
  },
  {
   "cell_type": "code",
   "execution_count": 225,
   "metadata": {},
   "outputs": [],
   "source": [
    "from imblearn.over_sampling import SMOTENC\n"
   ]
  },
  {
   "cell_type": "code",
   "execution_count": 226,
   "metadata": {},
   "outputs": [],
   "source": [
    "from imblearn.pipeline import Pipeline, make_pipeline\n",
    "\n",
    "cat_features = [c for c in X_train_ if X_train_[c].nunique() < 5]\n",
    "smote_nc =  SMOTENC(categorical_features=cat_features, sampling_strategy=1.0, random_state=42)\n",
    "\n",
    "\n"
   ]
  },
  {
   "cell_type": "code",
   "execution_count": 227,
   "metadata": {},
   "outputs": [
    {
     "name": "stderr",
     "output_type": "stream",
     "text": [
      "c:\\Users\\alexa\\Desktop\\progetto\\ProgettoTeam2\\.venv\\Lib\\site-packages\\sklearn\\utils\\_tags.py:354: FutureWarning: The SMOTENC or classes from which it inherits use `_get_tags` and `_more_tags`. Please define the `__sklearn_tags__` method, or inherit from `sklearn.base.BaseEstimator` and/or other appropriate mixins such as `sklearn.base.TransformerMixin`, `sklearn.base.ClassifierMixin`, `sklearn.base.RegressorMixin`, and `sklearn.base.OutlierMixin`. From scikit-learn 1.7, not defining `__sklearn_tags__` will raise an error.\n",
      "  warnings.warn(\n",
      "c:\\Users\\alexa\\Desktop\\progetto\\ProgettoTeam2\\.venv\\Lib\\site-packages\\sklearn\\utils\\_tags.py:354: FutureWarning: The SMOTENC or classes from which it inherits use `_get_tags` and `_more_tags`. Please define the `__sklearn_tags__` method, or inherit from `sklearn.base.BaseEstimator` and/or other appropriate mixins such as `sklearn.base.TransformerMixin`, `sklearn.base.ClassifierMixin`, `sklearn.base.RegressorMixin`, and `sklearn.base.OutlierMixin`. From scikit-learn 1.7, not defining `__sklearn_tags__` will raise an error.\n",
      "  warnings.warn(\n",
      "c:\\Users\\alexa\\Desktop\\progetto\\ProgettoTeam2\\.venv\\Lib\\site-packages\\sklearn\\utils\\_tags.py:354: FutureWarning: The SMOTENC or classes from which it inherits use `_get_tags` and `_more_tags`. Please define the `__sklearn_tags__` method, or inherit from `sklearn.base.BaseEstimator` and/or other appropriate mixins such as `sklearn.base.TransformerMixin`, `sklearn.base.ClassifierMixin`, `sklearn.base.RegressorMixin`, and `sklearn.base.OutlierMixin`. From scikit-learn 1.7, not defining `__sklearn_tags__` will raise an error.\n",
      "  warnings.warn(\n"
     ]
    },
    {
     "data": {
      "text/html": [
       "<div>\n",
       "<style scoped>\n",
       "    .dataframe tbody tr th:only-of-type {\n",
       "        vertical-align: middle;\n",
       "    }\n",
       "\n",
       "    .dataframe tbody tr th {\n",
       "        vertical-align: top;\n",
       "    }\n",
       "\n",
       "    .dataframe thead th {\n",
       "        text-align: right;\n",
       "    }\n",
       "</style>\n",
       "<table border=\"1\" class=\"dataframe\">\n",
       "  <thead>\n",
       "    <tr style=\"text-align: right;\">\n",
       "      <th></th>\n",
       "      <th>accuracy</th>\n",
       "      <th>recall</th>\n",
       "      <th>model</th>\n",
       "    </tr>\n",
       "  </thead>\n",
       "  <tbody>\n",
       "    <tr>\n",
       "      <th>0</th>\n",
       "      <td>0.875507</td>\n",
       "      <td>0.793718</td>\n",
       "      <td>RandomForest_smote</td>\n",
       "    </tr>\n",
       "    <tr>\n",
       "      <th>1</th>\n",
       "      <td>0.805364</td>\n",
       "      <td>0.659409</td>\n",
       "      <td>KNearestNeighbors_smote</td>\n",
       "    </tr>\n",
       "    <tr>\n",
       "      <th>2</th>\n",
       "      <td>0.866150</td>\n",
       "      <td>0.743259</td>\n",
       "      <td>ArtificialNeuralNetworkMLP_smote</td>\n",
       "    </tr>\n",
       "  </tbody>\n",
       "</table>\n",
       "</div>"
      ],
      "text/plain": [
       "   accuracy    recall                             model\n",
       "0  0.875507  0.793718                RandomForest_smote\n",
       "1  0.805364  0.659409           KNearestNeighbors_smote\n",
       "2  0.866150  0.743259  ArtificialNeuralNetworkMLP_smote"
      ]
     },
     "execution_count": 227,
     "metadata": {},
     "output_type": "execute_result"
    }
   ],
   "source": [
    "cv_vanilla_smote = []\n",
    "for modelname in models_vanilla:\n",
    "    model = models_vanilla[modelname]\n",
    "    X_ = X_train_scaled.copy()\n",
    "    y_ = y_train_\n",
    "    imba_pipeline = make_pipeline(smote_nc, model)\n",
    "    cv_vanilla_smote.append(cv_accuracy_recall(X_,y_, imba_pipeline, modelname + \"_smote\"))\n",
    "cv_vanilla_smote = pd.DataFrame(cv_vanilla_smote)\n",
    "cv_vanilla_smote"
   ]
  },
  {
   "cell_type": "code",
   "execution_count": 228,
   "metadata": {},
   "outputs": [
    {
     "data": {
      "text/html": [
       "<div>\n",
       "<style scoped>\n",
       "    .dataframe tbody tr th:only-of-type {\n",
       "        vertical-align: middle;\n",
       "    }\n",
       "\n",
       "    .dataframe tbody tr th {\n",
       "        vertical-align: top;\n",
       "    }\n",
       "\n",
       "    .dataframe thead th {\n",
       "        text-align: right;\n",
       "    }\n",
       "</style>\n",
       "<table border=\"1\" class=\"dataframe\">\n",
       "  <thead>\n",
       "    <tr style=\"text-align: right;\">\n",
       "      <th></th>\n",
       "      <th>accuracy</th>\n",
       "      <th>recall</th>\n",
       "      <th>model</th>\n",
       "    </tr>\n",
       "  </thead>\n",
       "  <tbody>\n",
       "    <tr>\n",
       "      <th>0</th>\n",
       "      <td>0.878426</td>\n",
       "      <td>0.692943</td>\n",
       "      <td>RandomForest_vanilla</td>\n",
       "    </tr>\n",
       "    <tr>\n",
       "      <th>1</th>\n",
       "      <td>0.829918</td>\n",
       "      <td>0.491538</td>\n",
       "      <td>KNearestNeighbors_vanilla</td>\n",
       "    </tr>\n",
       "    <tr>\n",
       "      <th>2</th>\n",
       "      <td>0.877841</td>\n",
       "      <td>0.721773</td>\n",
       "      <td>ArtificialNeuralNetworkMLP_vanilla</td>\n",
       "    </tr>\n",
       "    <tr>\n",
       "      <th>0</th>\n",
       "      <td>0.875507</td>\n",
       "      <td>0.793718</td>\n",
       "      <td>RandomForest_smote</td>\n",
       "    </tr>\n",
       "    <tr>\n",
       "      <th>1</th>\n",
       "      <td>0.805364</td>\n",
       "      <td>0.659409</td>\n",
       "      <td>KNearestNeighbors_smote</td>\n",
       "    </tr>\n",
       "    <tr>\n",
       "      <th>2</th>\n",
       "      <td>0.866150</td>\n",
       "      <td>0.743259</td>\n",
       "      <td>ArtificialNeuralNetworkMLP_smote</td>\n",
       "    </tr>\n",
       "  </tbody>\n",
       "</table>\n",
       "</div>"
      ],
      "text/plain": [
       "   accuracy    recall                               model\n",
       "0  0.878426  0.692943                RandomForest_vanilla\n",
       "1  0.829918  0.491538           KNearestNeighbors_vanilla\n",
       "2  0.877841  0.721773  ArtificialNeuralNetworkMLP_vanilla\n",
       "0  0.875507  0.793718                  RandomForest_smote\n",
       "1  0.805364  0.659409             KNearestNeighbors_smote\n",
       "2  0.866150  0.743259    ArtificialNeuralNetworkMLP_smote"
      ]
     },
     "execution_count": 228,
     "metadata": {},
     "output_type": "execute_result"
    }
   ],
   "source": [
    "all_cv = pd.concat([cv_vanilla,cv_vanilla_smote])\n",
    "all_cv"
   ]
  },
  {
   "cell_type": "code",
   "execution_count": 229,
   "metadata": {},
   "outputs": [
    {
     "data": {
      "text/html": [
       "<div>\n",
       "<style scoped>\n",
       "    .dataframe tbody tr th:only-of-type {\n",
       "        vertical-align: middle;\n",
       "    }\n",
       "\n",
       "    .dataframe tbody tr th {\n",
       "        vertical-align: top;\n",
       "    }\n",
       "\n",
       "    .dataframe thead th {\n",
       "        text-align: right;\n",
       "    }\n",
       "</style>\n",
       "<table border=\"1\" class=\"dataframe\">\n",
       "  <thead>\n",
       "    <tr style=\"text-align: right;\">\n",
       "      <th></th>\n",
       "      <th>accuracy</th>\n",
       "      <th>recall</th>\n",
       "      <th>model</th>\n",
       "      <th>model_base</th>\n",
       "    </tr>\n",
       "  </thead>\n",
       "  <tbody>\n",
       "    <tr>\n",
       "      <th>0</th>\n",
       "      <td>0.878426</td>\n",
       "      <td>0.692943</td>\n",
       "      <td>RandomForest_vanilla</td>\n",
       "      <td>RandomForest</td>\n",
       "    </tr>\n",
       "    <tr>\n",
       "      <th>1</th>\n",
       "      <td>0.829918</td>\n",
       "      <td>0.491538</td>\n",
       "      <td>KNearestNeighbors_vanilla</td>\n",
       "      <td>KNearestNeighbors</td>\n",
       "    </tr>\n",
       "    <tr>\n",
       "      <th>2</th>\n",
       "      <td>0.877841</td>\n",
       "      <td>0.721773</td>\n",
       "      <td>ArtificialNeuralNetworkMLP_vanilla</td>\n",
       "      <td>ArtificialNeuralNetworkMLP</td>\n",
       "    </tr>\n",
       "    <tr>\n",
       "      <th>0</th>\n",
       "      <td>0.875507</td>\n",
       "      <td>0.793718</td>\n",
       "      <td>RandomForest_smote</td>\n",
       "      <td>RandomForest</td>\n",
       "    </tr>\n",
       "    <tr>\n",
       "      <th>1</th>\n",
       "      <td>0.805364</td>\n",
       "      <td>0.659409</td>\n",
       "      <td>KNearestNeighbors_smote</td>\n",
       "      <td>KNearestNeighbors</td>\n",
       "    </tr>\n",
       "    <tr>\n",
       "      <th>2</th>\n",
       "      <td>0.866150</td>\n",
       "      <td>0.743259</td>\n",
       "      <td>ArtificialNeuralNetworkMLP_smote</td>\n",
       "      <td>ArtificialNeuralNetworkMLP</td>\n",
       "    </tr>\n",
       "  </tbody>\n",
       "</table>\n",
       "</div>"
      ],
      "text/plain": [
       "   accuracy    recall                               model  \\\n",
       "0  0.878426  0.692943                RandomForest_vanilla   \n",
       "1  0.829918  0.491538           KNearestNeighbors_vanilla   \n",
       "2  0.877841  0.721773  ArtificialNeuralNetworkMLP_vanilla   \n",
       "0  0.875507  0.793718                  RandomForest_smote   \n",
       "1  0.805364  0.659409             KNearestNeighbors_smote   \n",
       "2  0.866150  0.743259    ArtificialNeuralNetworkMLP_smote   \n",
       "\n",
       "                   model_base  \n",
       "0                RandomForest  \n",
       "1           KNearestNeighbors  \n",
       "2  ArtificialNeuralNetworkMLP  \n",
       "0                RandomForest  \n",
       "1           KNearestNeighbors  \n",
       "2  ArtificialNeuralNetworkMLP  "
      ]
     },
     "execution_count": 229,
     "metadata": {},
     "output_type": "execute_result"
    }
   ],
   "source": [
    "def firstme(word):\n",
    "    return word.split(\"_\")[0]\n",
    "\n",
    "all_cv[\"model_base\"] = all_cv[\"model\"].apply(firstme)\n",
    "all_cv"
   ]
  },
  {
   "cell_type": "code",
   "execution_count": 234,
   "metadata": {},
   "outputs": [
    {
     "data": {
      "image/png": "[encoded data removed]",
      "text/plain": [
       "<Figure size 600x400 with 1 Axes>"
      ]
     },
     "metadata": {},
     "output_type": "display_data"
    }
   ],
   "source": [
    "plt.figure(figsize = (6,4))\n",
    "sns.lineplot(data = all_cv, x= \"recall\", y=\"accuracy\",hue = \"model_base\")\n",
    "sns.scatterplot(data=cv_vanilla_smote, x = \"recall\", y= \"accuracy\", legend = True)\n",
    "plt.title(\"Impact of oversampling on Cv Scores for advanced models\")\n",
    "plt.show()"
   ]
  },
  {
   "cell_type": "code",
   "execution_count": null,
   "metadata": {},
   "outputs": [],
   "source": []
  }
 ],
 "metadata": {
  "kernelspec": {
   "display_name": ".venv",
   "language": "python",
   "name": "python3"
  },
  "language_info": {
   "codemirror_mode": {
    "name": "ipython",
    "version": 3
   },
   "file_extension": ".py",
   "mimetype": "text/x-python",
   "name": "python",
   "nbconvert_exporter": "python",
   "pygments_lexer": "ipython3",
   "version": "3.13.0"
  }
 },
 "nbformat": 4,
 "nbformat_minor": 2
}
