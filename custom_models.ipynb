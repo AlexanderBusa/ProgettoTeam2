{
 "cells": [
  {
   "cell_type": "markdown",
   "metadata": {},
   "source": [
    "# Custom models\n",
    "\n"
   ]
  },
  {
   "cell_type": "markdown",
   "metadata": {},
   "source": [
    "In this document we develop custom sklearn estimators. The main outcome is a hybrid machine learning model which evaluates a linear regression if a certain condition is met, and evaluates another linear regression, or gives a trivial output, if the condition is not met.  "
   ]
  },
  {
   "cell_type": "code",
   "execution_count": 1,
   "metadata": {},
   "outputs": [],
   "source": [
    "import numpy as np\n",
    "import pandas as pd\n",
    "import matplotlib.pyplot as plt\n",
    "import seaborn as sns\n",
    "\n",
    "from sklearn.preprocessing import MinMaxScaler\n",
    "from sklearn.metrics import *\n",
    "from sklearn.model_selection import train_test_split, KFold, StratifiedKFold, cross_val_score, cross_validate\n",
    "\n",
    "from sklearn.ensemble import RandomForestClassifier\n",
    "from sklearn.feature_selection import SelectKBest, RFE\n",
    "from sklearn.feature_selection import f_classif\n",
    "from sklearn.preprocessing import StandardScaler \n",
    "from sklearn.metrics import accuracy_score\n",
    "\n",
    "from sklearn.linear_model import LogisticRegression\n",
    "\n",
    "from matplotlib_venn import venn2\n",
    "from tqdm import tqdm\n",
    "\n",
    "from imblearn.over_sampling import SMOTENC\n",
    "\n",
    "\n"
   ]
  },
  {
   "cell_type": "code",
   "execution_count": 2,
   "metadata": {},
   "outputs": [],
   "source": [
    "import pickle"
   ]
  },
  {
   "cell_type": "code",
   "execution_count": 3,
   "metadata": {},
   "outputs": [],
   "source": [
    "import src.features as features\n",
    "import src.model_selection as model_selection \n",
    "import src.functions as functions\n",
    "import src.datasets as datasets "
   ]
  },
  {
   "cell_type": "markdown",
   "metadata": {},
   "source": [
    "## Developing a custom sklearn estimator"
   ]
  },
  {
   "cell_type": "markdown",
   "metadata": {},
   "source": [
    "We follow the guides at the following links \n",
    "- https://sklearn-template.readthedocs.io/en/latest/user_guide.html\n",
    "- https://scikit-learn.org/dev/developers/develop.html\n"
   ]
  },
  {
   "cell_type": "code",
   "execution_count": 4,
   "metadata": {},
   "outputs": [],
   "source": [
    "from sklearn.base import ClassifierMixin\n",
    "from sklearn.linear_model import LogisticRegression\n",
    "from sklearn.utils.validation import check_is_fitted"
   ]
  },
  {
   "cell_type": "markdown",
   "metadata": {},
   "source": [
    "### The dodel \"OffLogistic\" definition"
   ]
  },
  {
   "cell_type": "code",
   "execution_count": 28,
   "metadata": {},
   "outputs": [],
   "source": [
    "\n",
    "\n",
    "class OffLogistic(ClassifierMixin):\n",
    "    def __init__(self, random_state = 42, features = []):\n",
    "        # parameters\n",
    "        self.random_state = random_state\n",
    "\n",
    "        # internal variable, exposed to user\n",
    "        self.model_ = LogisticRegression(random_state=random_state)\n",
    "        self.features_ = features\n",
    "\n",
    "    def fit(self, X, y):\n",
    "\n",
    "        # expect feature names for X\n",
    "        # expect variables offtrt and time\n",
    "        \n",
    "\n",
    "        mask_on = X['offtrt'] < 0\n",
    "        if \"time\" in X.columns:\n",
    "            mask_time = X['time'] <= 707\n",
    "        elif \"time_censored\" in X.columns:\n",
    "            mask_time = X['time_censored'] >= -0.33836866\n",
    "\n",
    "\n",
    "        if len(self.features_) > 0:\n",
    "            X_fit = X.copy()[self.features_]\n",
    "        else:\n",
    "            X_fit = X.copy()\n",
    "\n",
    "        #X_on_time = X[mask_on & mask_time]\n",
    "        X_other = X_fit[~(mask_on & mask_time)]\n",
    "        y_other = y[~(mask_on & mask_time)]\n",
    "\n",
    "        self.model_.fit(X_other,y_other)\n",
    "\n",
    "        return self\n",
    "    \n",
    "    def predict(self,X) :\n",
    "\n",
    "        \n",
    "        if len(self.features_) > 0:\n",
    "            X_fit = X.copy()[self.features_]\n",
    "        else:\n",
    "            X_fit = X.copy()\n",
    "        \n",
    "\n",
    "        mask_on = X_fit['offtrt'] < 0\n",
    "        if \"time\" in X.columns:\n",
    "            mask_time = X_fit['time'] <= 707\n",
    "        elif \"time_censored\" in X.columns:\n",
    "            mask_time = X_fit['time_censored'] >= -0.33836866\n",
    "\n",
    "        X_on_time = X_fit[mask_on & mask_time]\n",
    "        X_other = X_fit[~(mask_on & mask_time)]\n",
    "\n",
    "        y_pred = pd.Series(index=X.index)\n",
    "\n",
    "        y_pred.loc[mask_on & mask_time] = 1\n",
    "        y_pred.loc[~(mask_on & mask_time)] = self.model_.predict(X_other)\n",
    "        \n",
    "        return y_pred \n",
    "    \n",
    "\n",
    "    def predict_proba(self,X) :\n",
    "\n",
    "        if len(self.features_) > 0:\n",
    "            X_fit = X.copy()[self.features_]\n",
    "        \n",
    "\n",
    "\n",
    "\n",
    "        mask_on = X_fit['offtrt'] < 0\n",
    "        if \"time\" in X_fit.columns:\n",
    "            mask_time = X_fit['time'] <= 707\n",
    "        elif \"time_censored\" in X.columns:\n",
    "            mask_time = X_fit['time_censored'] >= -0.33836866\n",
    "\n",
    "        X_on_time = X_fit[mask_on & mask_time]\n",
    "        X_other = X_fit[~(mask_on & mask_time)]\n",
    "\n",
    "        y_proba = pd.Series(index=X.index)\n",
    "\n",
    "        y_proba.loc[mask_on & mask_time] = (0,1)\n",
    "        y_proba.loc[~(mask_on & mask_time)] = self.model_.predict_proba(X_other)\n",
    "        \n",
    "        return y_proba\n",
    "\n",
    "\n",
    "    def get_params(self, deep=True):\n",
    "        \"\"\"\n",
    "        Return the parameters of the classifier as a dictionary.\n",
    "        The get_params function takes no arguments and returns a dict of the __init__ parameters of the estimator, together with their values.\n",
    "        \"\"\"\n",
    "        return {\"random_state\": self.random_state, \"features\": self.features_}\n",
    "\n",
    "    def set_params(self, **params):\n",
    "        \"\"\"\n",
    "        Set the parameters of the classifier.\n",
    "        \"\"\"\n",
    "        for key, value in params.items():\n",
    "            setattr(self, key, value)\n",
    "        return self\n",
    "\n",
    "\n",
    "\n",
    "\n",
    "    "
   ]
  },
  {
   "cell_type": "markdown",
   "metadata": {},
   "source": [
    "### The model \"OffLogistic2\""
   ]
  },
  {
   "cell_type": "code",
   "execution_count": 14,
   "metadata": {},
   "outputs": [],
   "source": [
    "\n",
    "class OffLogistic2(ClassifierMixin):\n",
    "    def __init__(self, \n",
    "                random_state = 42, \n",
    "                features_on = ['z30', 'cd420', 'time730'], \n",
    "                features_off = ['age', 'drugs', 'hemo', 'cd820', 'preanti', 'race', 'cd420', 'time730', 'z30', 'time_censored']):\n",
    "        # parameters\n",
    "        self.random_state = random_state\n",
    "        self.features_off = features_off\n",
    "        self.features_on = features_on\n",
    "\n",
    "        # internal variables, exposed to user\n",
    "        self.model_on_ = LogisticRegression(random_state=random_state)\n",
    "        self.model_off_ = LogisticRegression(random_state=random_state)\n",
    "    \n",
    "    def mask_on_time1(self,X,y):      \n",
    "        mask_time1 = X['time_censored']>=-0.33836866\n",
    "        mask_on = X['offtrt']<0\n",
    "\n",
    "        X_on = X[ mask_on & mask_time1]\n",
    "        y_on = y[ mask_on & mask_time1]\n",
    "\n",
    "        X_on_copy = X_on.copy() #.drop(columns = ['offtrt'])\n",
    "\n",
    "        return X_on_copy, y_on.copy(), mask_on & mask_time1\n",
    "\n",
    "    def mask_on_time2(self,X,y):      \n",
    "        mask_time2 = X['time_censored']<-0.33836866\n",
    "        mask_on = X['offtrt']<0\n",
    "\n",
    "        X_on = X[ mask_on & mask_time2]\n",
    "        y_on = y[ mask_on & mask_time2]\n",
    "        \n",
    "        X_on = X_on[self.features_on]\n",
    "\n",
    "\n",
    "        X_on_copy = X_on.copy() #.drop(columns = ['offtrt'])\n",
    "\n",
    "        return X_on_copy, y_on.copy(), mask_on & mask_time2\n",
    "\n",
    "    def mask_off(self,X,y):\n",
    "        mask_off = X['offtrt']>0\n",
    "\n",
    "        X_off = X[ mask_off]\n",
    "        y_off = y[ mask_off]\n",
    "\n",
    "        X_off = X_off[self.features_off]\n",
    "\n",
    "        X_off_copy = X_off.copy() #.drop(columns = ['offtrt'])\n",
    "\n",
    "\n",
    "        return X_off_copy, y_off, mask_off\n",
    "\n",
    "\n",
    "    def fit(self, X, y):\n",
    "\n",
    "        # expect feature names for X\n",
    "        # expect variables offtrt and time_censored\n",
    "        \n",
    "        X_on_time1, y_on_time1, mask_on_time1 = self.mask_on_time1(X,y)\n",
    "        X_on_time2, y_on_time2, mask_on_time2 = self.mask_on_time2(X,y)\n",
    "        X_off, y_off, mask_off = self.mask_off(X,y)\n",
    "        \n",
    "        self.model_on_.fit(X_on_time2,y_on_time2)\n",
    "        self.model_off_.fit(X_off,y_off)\n",
    "\n",
    "        return self\n",
    "    \n",
    "    def predict(self,X) :\n",
    "\n",
    "        \n",
    "        X_on_time1, y_on_time1, mask_on_time1 = self.mask_on_time1(X,X)\n",
    "        X_on_time2, y_on_time2, mask_on_time2 = self.mask_on_time2(X,X)\n",
    "        X_off, y_off, mask_off = self.mask_off(X,X)\n",
    "        \n",
    "        y_pred = pd.Series(index=X.index)\n",
    "\n",
    "        y_pred.loc[mask_on_time1] = 1\n",
    "        y_pred.loc[mask_on_time2] = self.model_on_.predict(X_on_time2)\n",
    "        y_pred.loc[mask_off] = self.model_off_.predict(X_off)\n",
    "        \n",
    "        return y_pred \n",
    "    \n",
    "\n",
    "    def predict_proba(self,X) :\n",
    "\n",
    "        \n",
    "        X_on_time1, y_on_time1, mask_on_time1 = self.mask_on_time1(X,X)\n",
    "        X_on_time2, y_on_time2, mask_on_time2 = self.mask_on_time2(X,X)\n",
    "        X_off, y_off, mask_off = self.mask_off(X,X)\n",
    "        \n",
    "\n",
    "        y_proba = pd.Series(index=X.index)\n",
    "\n",
    "        y_proba.loc[mask_on_time1] = [[0, 1]] * mask_on_time1.sum()\n",
    "        y_proba.loc[mask_on_time2] = self.model_on_.predict_proba(X_on_time2)\n",
    "        y_proba.loc[mask_off] = self.model_off_.predict_proba(X_off)\n",
    "        \n",
    "        return y_proba\n",
    "\n",
    "\n",
    "    def get_params(self, deep=True):\n",
    "        \"\"\"\n",
    "        Return the parameters of the classifier as a dictionary.\n",
    "        \"\"\"\n",
    "        return {\"random_state\": self.random_state, \"features_on\": self.features_on, \"features_off\": self.features_off}\n",
    "\n",
    "    def set_params(self, **params):\n",
    "        \"\"\"\n",
    "        Set the parameters of the classifier.\n",
    "        \"\"\"\n",
    "        for key, value in params.items():\n",
    "            setattr(self, key, value)\n",
    "        return self\n",
    "\n",
    "\n",
    "\n",
    "\n",
    "    "
   ]
  },
  {
   "cell_type": "markdown",
   "metadata": {},
   "source": [
    "## Load data"
   ]
  },
  {
   "cell_type": "code",
   "execution_count": 7,
   "metadata": {},
   "outputs": [],
   "source": [
    "data = datasets.data_original()"
   ]
  },
  {
   "cell_type": "code",
   "execution_count": 8,
   "metadata": {},
   "outputs": [],
   "source": [
    "data = features.engineer(data)"
   ]
  },
  {
   "cell_type": "markdown",
   "metadata": {},
   "source": [
    "### Train test split (unprocessed)"
   ]
  },
  {
   "cell_type": "code",
   "execution_count": 9,
   "metadata": {},
   "outputs": [],
   "source": [
    "X_, y_ = data.drop('infected', axis=1), data['infected']\n",
    "X_train_, X_test_, y_train_, y_test_ = train_test_split(X_, y_, test_size = 0.2, random_state=42, stratify = y_)\n"
   ]
  },
  {
   "cell_type": "markdown",
   "metadata": {},
   "source": [
    "### Oversampling train data "
   ]
  },
  {
   "cell_type": "code",
   "execution_count": 10,
   "metadata": {},
   "outputs": [],
   "source": [
    "# identify categorical features \n",
    "# The dataset does not have categorical features with more than 4 categories\n",
    "cat_features = [c for c in X_train_.columns if X_train_[c].nunique() < 5]"
   ]
  },
  {
   "cell_type": "code",
   "execution_count": 11,
   "metadata": {},
   "outputs": [],
   "source": [
    "smote_nc = SMOTENC(categorical_features=cat_features, sampling_strategy=1.0, random_state=42)\n",
    "X_oversampled, y_oversampled = smote_nc.fit_resample(X_train_, y_train_) "
   ]
  },
  {
   "cell_type": "markdown",
   "metadata": {},
   "source": [
    "### Scaling the data "
   ]
  },
  {
   "cell_type": "code",
   "execution_count": 12,
   "metadata": {},
   "outputs": [],
   "source": [
    "scaler = StandardScaler()\n",
    "\n",
    "scaler.fit(X_train_)\n",
    "\n",
    "X_train_scaled_oversampled = scaler.transform(X_oversampled)\n",
    "X_test_scaled = pd.DataFrame(scaler.transform(X_test_), columns = X_train_.columns)\n",
    "X_train_scaled = pd.DataFrame(scaler.transform(X_train_), columns = X_train_.columns)"
   ]
  },
  {
   "cell_type": "markdown",
   "metadata": {},
   "source": [
    "### Data ready for Machine Learning"
   ]
  },
  {
   "cell_type": "code",
   "execution_count": 13,
   "metadata": {},
   "outputs": [],
   "source": [
    "X_train =pd.DataFrame(X_train_scaled_oversampled,columns=X_.columns)\n",
    "X_test =pd.DataFrame(X_test_scaled,columns=X_.columns)\n",
    "y_train =y_oversampled \n",
    "y_test = y_test_ "
   ]
  },
  {
   "cell_type": "markdown",
   "metadata": {},
   "source": [
    "## Train test evaluation"
   ]
  },
  {
   "cell_type": "markdown",
   "metadata": {},
   "source": [
    "### Load and train the models"
   ]
  },
  {
   "cell_type": "code",
   "execution_count": 29,
   "metadata": {},
   "outputs": [],
   "source": [
    "model1 = OffLogistic()\n",
    "model2 = OffLogistic2()"
   ]
  },
  {
   "cell_type": "code",
   "execution_count": 30,
   "metadata": {},
   "outputs": [
    {
     "data": {
      "text/plain": [
       "<__main__.OffLogistic2 at 0x133e0cb6210>"
      ]
     },
     "execution_count": 30,
     "metadata": {},
     "output_type": "execute_result"
    }
   ],
   "source": [
    "model1.fit(X_train,y_train)\n",
    "model2.fit(X_train,y_train)"
   ]
  },
  {
   "cell_type": "markdown",
   "metadata": {},
   "source": [
    "### Test accuracy and recall"
   ]
  },
  {
   "cell_type": "code",
   "execution_count": 31,
   "metadata": {},
   "outputs": [],
   "source": [
    "y_pred1 = model1.predict(X_test)\n",
    "y_pred2 = model2.predict(X_test)"
   ]
  },
  {
   "cell_type": "code",
   "execution_count": 33,
   "metadata": {},
   "outputs": [
    {
     "name": "stdout",
     "output_type": "stream",
     "text": [
      "OffLogistic test accuracy 0.8995327102803738\n",
      "OffLogistic2 test accuracy 0.9112149532710281\n"
     ]
    }
   ],
   "source": [
    "print(\"OffLogistic test accuracy\", accuracy_score(y_pred1,y_test))\n",
    "print(\"OffLogistic2 test accuracy\", accuracy_score(y_pred2,y_test))"
   ]
  },
  {
   "cell_type": "code",
   "execution_count": 34,
   "metadata": {},
   "outputs": [
    {
     "name": "stdout",
     "output_type": "stream",
     "text": [
      "OffLogistic test recall 0.7850467289719626\n",
      "OffLogistic2 test recall 0.8055555555555556\n"
     ]
    }
   ],
   "source": [
    "print(\"OffLogistic test recall\", recall_score(y_pred1,y_test))\n",
    "print(\"OffLogistic2 test recall\", recall_score(y_pred2,y_test))"
   ]
  },
  {
   "cell_type": "markdown",
   "metadata": {},
   "source": [
    "## CV scoring ad hoc"
   ]
  },
  {
   "cell_type": "code",
   "execution_count": 33,
   "metadata": {},
   "outputs": [],
   "source": [
    "from sklearn.base import clone\n"
   ]
  },
  {
   "cell_type": "code",
   "execution_count": 52,
   "metadata": {},
   "outputs": [],
   "source": [
    "def cv_accuracy_recall(Xtrain, ytrain, model, title= \"modelname\", verbose = False, n_splits = 5):\n",
    "    # Create the K-Fold cross-validator\n",
    "    cv = StratifiedKFold(n_splits=n_splits, shuffle=True, random_state=42)\n",
    "    \n",
    "    X_train_reindexed = Xtrain.copy()\n",
    "    X_train_reindexed.reset_index(inplace=True, drop = True)\n",
    "    y_train_reindexed = ytrain.copy()\n",
    "    y_train_reindexed.reset_index(drop=True, inplace=True)\n",
    "    \n",
    "    recall = []\n",
    "    accuracy = []\n",
    "    i = 0\n",
    "\n",
    "    # source https://kiwidamien.github.io/how-to-do-cross-validation-when-upsampling-data.html\n",
    "    for train_fold_index, val_fold_index in cv.split(X_train_reindexed, y_train_reindexed):\n",
    "        \n",
    "\n",
    "\n",
    "        # Get the training data\n",
    "        X_train_fold, y_train_fold = X_train_reindexed.iloc[train_fold_index], y_train_reindexed[train_fold_index]\n",
    "        # Get the validation data\n",
    "        X_val_fold, y_val_fold = X_train_reindexed.iloc[val_fold_index], y_train_reindexed[val_fold_index]\n",
    "\n",
    "        if verbose:\n",
    "            print(\"fold number :\", i)\n",
    "\n",
    "        # create a untrained copy of the model with same hyperparameters\n",
    "        model_cv = clone(model)\n",
    "        \n",
    "        model_cv.fit(X_train_fold, y_train_fold)\n",
    "        y_pred  = model_cv.predict(X_val_fold)\n",
    "\n",
    "        accuracy.append(accuracy_score(y_pred,y_val_fold))\n",
    "        recall.append(recall_score(y_pred,y_val_fold))\n",
    "\n",
    "        i+=1\n",
    "\n",
    "    cv_scores = {\n",
    "        \"model\" : title,\n",
    "        \"accuracy\" : sum(accuracy)/n_splits,\n",
    "        \"recall\" : sum(recall)/n_splits\n",
    "    }\n",
    "    return cv_scores"
   ]
  },
  {
   "cell_type": "code",
   "execution_count": 53,
   "metadata": {},
   "outputs": [
    {
     "data": {
      "text/plain": [
       "{'model': 'OffLogistic10',\n",
       " 'accuracy': 0.8866110855369718,\n",
       " 'recall': np.float64(0.7926048611462132)}"
      ]
     },
     "execution_count": 53,
     "metadata": {},
     "output_type": "execute_result"
    }
   ],
   "source": [
    "cv_accuracy_recall(X_train_scaled,y_train_,model, \"OffLogistic10\")"
   ]
  },
  {
   "cell_type": "markdown",
   "metadata": {},
   "source": [
    "## CV scoring imnblearn"
   ]
  },
  {
   "cell_type": "code",
   "execution_count": 23,
   "metadata": {},
   "outputs": [],
   "source": [
    "from imblearn.over_sampling import SMOTENC\n",
    "from imblearn.pipeline import Pipeline, make_pipeline\n",
    "\n",
    "cat_features = [c for c in X_train_ if X_train_[c].nunique() < 5]\n",
    "smote_nc =  SMOTENC(categorical_features=cat_features, sampling_strategy=1.0, random_state=42)"
   ]
  },
  {
   "cell_type": "code",
   "execution_count": 25,
   "metadata": {},
   "outputs": [],
   "source": [
    "from src.model_selection import cv_accuracy_recall"
   ]
  },
  {
   "cell_type": "code",
   "execution_count": 31,
   "metadata": {},
   "outputs": [
    {
     "data": {
      "text/plain": [
       "{'accuracy': np.float64(nan),\n",
       " 'recall': np.float64(nan),\n",
       " 'model': 'OffLogistic10'}"
      ]
     },
     "execution_count": 31,
     "metadata": {},
     "output_type": "execute_result"
    }
   ],
   "source": [
    "model = OffLogistic(features=rfe_features)\n",
    "imba_pipeline = make_pipeline(smote_nc, model)\n",
    "cv_accuracy_recall(X_,y_, imba_pipeline, \"OffLogistic10\")"
   ]
  },
  {
   "cell_type": "markdown",
   "metadata": {},
   "source": []
  },
  {
   "cell_type": "code",
   "execution_count": 29,
   "metadata": {},
   "outputs": [
    {
     "data": {
      "text/plain": [
       "Index(['age', 'wtkg', 'hemo', 'homo', 'drugs', 'karnof', 'oprior', 'z30',\n",
       "       'preanti', 'race', 'gender', 'str2', 'strat', 'symptom', 'offtrt',\n",
       "       'cd40', 'cd420', 'cd80', 'cd820', 'time730', 'time_censored', 'trt0',\n",
       "       'trt1', 'trt2'],\n",
       "      dtype='object')"
      ]
     },
     "execution_count": 29,
     "metadata": {},
     "output_type": "execute_result"
    }
   ],
   "source": [
    "X_train.columns"
   ]
  },
  {
   "cell_type": "markdown",
   "metadata": {},
   "source": [
    "## 042-Sprint2 feature selection for oversampled data"
   ]
  },
  {
   "cell_type": "code",
   "execution_count": 243,
   "metadata": {},
   "outputs": [],
   "source": [
    "\n",
    "def cv_mean_scores(Xtrain, ytrain, model = OffLogistic(), n_splits  = 5):\n",
    "    # Create the K-Fold cross-validator\n",
    "    cv = StratifiedKFold(n_splits=n_splits, shuffle=True, random_state=42)\n",
    "     \n",
    "    # Choose the scores to be computed\n",
    "    selectivity_score = make_scorer(recall_score, pos_label = 0)\n",
    "\n",
    "    f3_score = make_scorer(fbeta_score,beta = 3)\n",
    "\n",
    "    my_scores= {\n",
    "        \"accuracy\": \"accuracy\",\n",
    "        \"f3\": f3_score,\n",
    "        \"recall\": \"recall\",\n",
    "        \"selectivity\": selectivity_score, \n",
    "        \"precision\": \"precision\",\n",
    "        \"f1\": \"f1\"\n",
    "    }\n",
    "\n",
    "    # Perform cross-validation measuring the scores\n",
    "    cv_results = cross_validate(\n",
    "        model, Xtrain, ytrain, cv=cv, n_jobs=-1, scoring= my_scores\n",
    "    )\n",
    "\n",
    "\n",
    "    # Calculate the mean of each score\n",
    "    mean_scores =  {score : cv_results[\"test_\"+score].mean() for score in my_scores}\n",
    "    return mean_scores\n",
    "\n"
   ]
  },
  {
   "cell_type": "markdown",
   "metadata": {},
   "source": [
    "### 042-043 Cross-validation for RFE "
   ]
  },
  {
   "cell_type": "code",
   "execution_count": 244,
   "metadata": {},
   "outputs": [],
   "source": [
    "def rfe_kfold_cv(X, y, max_k=None, cv=5, verbose = False):\n",
    "    if max_k is None:\n",
    "        max_k = X.shape[1]\n",
    "    \n",
    "    results_rfe_kfold_cv = []\n",
    "    for k in range(1, max_k + 1):\n",
    "        \n",
    "        \n",
    "        rfe = RFE(estimator=LogisticRegression(), n_features_to_select=k)\n",
    "        rfe.fit(X, y)\n",
    "        selected_features = list(set(X.columns[rfe.support_]).union(set(['offtrt', 'time_censored'])))\n",
    "        \n",
    "        model = OffLogistic(features=selected_features)\n",
    "        skf = StratifiedKFold(n_splits=cv, shuffle=True, random_state=42)\n",
    "        \n",
    "        cv_scores = cv_mean_scores(X[selected_features], y, model)\n",
    "        \n",
    "        cv_scores[\"k\"] = k\n",
    "        cv_scores[\"features\"] = list(selected_features)\n",
    "\n",
    "        results_rfe_kfold_cv.append( cv_scores)\n",
    "\n",
    "        if verbose:\n",
    "            print(k)\n",
    "            print(pd.DataFrame(cv_scores))\n",
    "    \n",
    "    return pd.DataFrame(results_rfe_kfold_cv).set_index('k')"
   ]
  },
  {
   "cell_type": "code",
   "execution_count": 245,
   "metadata": {},
   "outputs": [],
   "source": [
    "results_rfe_kfold_cv = rfe_kfold_cv(X_train,y_train,cv=5)\n"
   ]
  },
  {
   "cell_type": "code",
   "execution_count": 246,
   "metadata": {},
   "outputs": [
    {
     "name": "stdout",
     "output_type": "stream",
     "text": [
      "    accuracy  f3  recall  selectivity  precision  f1  \\\n",
      "k                                                      \n",
      "1        NaN NaN     NaN          NaN        NaN NaN   \n",
      "2        NaN NaN     NaN          NaN        NaN NaN   \n",
      "3        NaN NaN     NaN          NaN        NaN NaN   \n",
      "4        NaN NaN     NaN          NaN        NaN NaN   \n",
      "5        NaN NaN     NaN          NaN        NaN NaN   \n",
      "6        NaN NaN     NaN          NaN        NaN NaN   \n",
      "7        NaN NaN     NaN          NaN        NaN NaN   \n",
      "8        NaN NaN     NaN          NaN        NaN NaN   \n",
      "9        NaN NaN     NaN          NaN        NaN NaN   \n",
      "10       NaN NaN     NaN          NaN        NaN NaN   \n",
      "11       NaN NaN     NaN          NaN        NaN NaN   \n",
      "12       NaN NaN     NaN          NaN        NaN NaN   \n",
      "13       NaN NaN     NaN          NaN        NaN NaN   \n",
      "14       NaN NaN     NaN          NaN        NaN NaN   \n",
      "15       NaN NaN     NaN          NaN        NaN NaN   \n",
      "16       NaN NaN     NaN          NaN        NaN NaN   \n",
      "17       NaN NaN     NaN          NaN        NaN NaN   \n",
      "18       NaN NaN     NaN          NaN        NaN NaN   \n",
      "19       NaN NaN     NaN          NaN        NaN NaN   \n",
      "20       NaN NaN     NaN          NaN        NaN NaN   \n",
      "21       NaN NaN     NaN          NaN        NaN NaN   \n",
      "22       NaN NaN     NaN          NaN        NaN NaN   \n",
      "23       NaN NaN     NaN          NaN        NaN NaN   \n",
      "24       NaN NaN     NaN          NaN        NaN NaN   \n",
      "\n",
      "                                             features  \n",
      "k                                                      \n",
      "1                    [time730, offtrt, time_censored]  \n",
      "2                    [time730, time_censored, offtrt]  \n",
      "3             [time_censored, time730, cd420, offtrt]  \n",
      "4       [race, time_censored, time730, cd420, offtrt]  \n",
      "5   [race, hemo, time_censored, time730, cd420, of...  \n",
      "6   [race, hemo, time_censored, time730, cd420, dr...  \n",
      "7   [hemo, time730, offtrt, time_censored, race, z...  \n",
      "8   [hemo, gender, time730, offtrt, time_censored,...  \n",
      "9   [hemo, gender, time730, offtrt, time_censored,...  \n",
      "10  [hemo, gender, time730, offtrt, time_censored,...  \n",
      "11  [trt2, hemo, gender, time730, offtrt, time_cen...  \n",
      "12  [trt2, hemo, gender, time730, offtrt, time_cen...  \n",
      "13  [trt2, hemo, gender, time730, offtrt, time_cen...  \n",
      "14  [trt2, hemo, gender, time730, offtrt, time_cen...  \n",
      "15  [trt2, hemo, gender, age, time730, offtrt, tim...  \n",
      "16  [trt2, karnof, gender, time730, offtrt, trt1, ...  \n",
      "17  [trt2, karnof, gender, time730, offtrt, trt1, ...  \n",
      "18  [trt2, karnof, gender, time730, offtrt, cd40, ...  \n",
      "19  [trt2, karnof, gender, time730, wtkg, offtrt, ...  \n",
      "20  [trt2, karnof, gender, time730, wtkg, offtrt, ...  \n",
      "21  [trt2, karnof, gender, time730, wtkg, offtrt, ...  \n",
      "22  [trt2, karnof, gender, time730, wtkg, offtrt, ...  \n",
      "23  [trt2, karnof, gender, time730, wtkg, offtrt, ...  \n",
      "24  [trt2, karnof, gender, time730, wtkg, offtrt, ...  \n"
     ]
    }
   ],
   "source": [
    "print(results_rfe_kfold_cv)\n"
   ]
  },
  {
   "cell_type": "code",
   "execution_count": 247,
   "metadata": {},
   "outputs": [
    {
     "name": "stdout",
     "output_type": "stream",
     "text": [
      "0 {'time730', 'offtrt', 'time_censored'}\n",
      "1 set()\n",
      "2 {'cd420'}\n",
      "3 {'race'}\n",
      "4 {'hemo'}\n",
      "5 {'drugs'}\n",
      "6 {'z30'}\n",
      "7 {'gender'}\n",
      "8 set()\n",
      "9 {'trt1'}\n",
      "10 {'trt2'}\n",
      "11 {'str2'}\n",
      "12 {'preanti'}\n",
      "13 {'cd80'}\n",
      "14 {'age'}\n",
      "15 {'karnof'}\n",
      "16 {'cd820'}\n",
      "17 {'cd40'}\n",
      "18 {'wtkg'}\n",
      "19 {'trt0'}\n",
      "20 {'oprior'}\n",
      "21 {'symptom'}\n",
      "22 {'homo'}\n",
      "23 {'strat'}\n"
     ]
    }
   ],
   "source": [
    "old_rfe_features = set()\n",
    "for k in range(len(results_rfe_kfold_cv['features'])):\n",
    "    new_rfe_features = set(list(results_rfe_kfold_cv['features'])[k])\n",
    "    new_feature = new_rfe_features - old_rfe_features\n",
    "    old_rfe_features = new_rfe_features\n",
    "    print(k, new_feature)\n"
   ]
  },
  {
   "cell_type": "code",
   "execution_count": 294,
   "metadata": {},
   "outputs": [
    {
     "name": "stdout",
     "output_type": "stream",
     "text": [
      "3 0.8200934579439252 0.5944055944055944 compare 0.8200934579439252 0.5944055944055944\n",
      "3 0.8200934579439252 0.5944055944055944 compare 0.8200934579439252 0.5944055944055944\n",
      "4 0.852803738317757 0.6541353383458647 compare 0.852803738317757 0.6496350364963503\n",
      "5 0.8714953271028038 0.6991869918699187 compare 0.866822429906542 0.688\n",
      "6 0.8691588785046729 0.7 compare 0.8644859813084113 0.6885245901639344\n",
      "7 0.8714953271028038 0.7130434782608696 compare 0.8691588785046729 0.7068965517241379\n",
      "8 0.8878504672897196 0.7592592592592593 compare 0.8855140186915887 0.7477477477477478\n",
      "9 0.8925233644859814 0.7685185185185185 compare 0.8948598130841121 0.7706422018348624\n",
      "9 0.8925233644859814 0.7685185185185185 compare 0.8948598130841121 0.7706422018348624\n",
      "10 0.9018691588785047 0.7980769230769231 compare 0.8948598130841121 0.7757009345794392\n",
      "11 0.897196261682243 0.7777777777777778 compare 0.8878504672897196 0.75\n",
      "12 0.8901869158878505 0.7663551401869159 compare 0.8878504672897196 0.7545454545454545\n",
      "13 0.897196261682243 0.7830188679245284 compare 0.8878504672897196 0.7545454545454545\n",
      "14 0.8995327102803738 0.7850467289719626 compare 0.8878504672897196 0.7545454545454545\n",
      "15 0.8995327102803738 0.7904761904761904 compare 0.897196261682243 0.7777777777777778\n",
      "16 0.9042056074766355 0.794392523364486 compare 0.8948598130841121 0.7706422018348624\n",
      "17 0.9042056074766355 0.794392523364486 compare 0.8925233644859814 0.7685185185185185\n",
      "18 0.8995327102803738 0.7798165137614679 compare 0.8925233644859814 0.7685185185185185\n",
      "19 0.897196261682243 0.7830188679245284 compare 0.8878504672897196 0.7545454545454545\n",
      "20 0.8995327102803738 0.7850467289719626 compare 0.8878504672897196 0.7545454545454545\n",
      "21 0.8995327102803738 0.7850467289719626 compare 0.8878504672897196 0.7545454545454545\n",
      "22 0.8995327102803738 0.7850467289719626 compare 0.8855140186915887 0.7477477477477478\n",
      "23 0.8995327102803738 0.7850467289719626 compare 0.8855140186915887 0.7477477477477478\n",
      "24 0.8995327102803738 0.7850467289719626 compare 0.8855140186915887 0.7477477477477478\n"
     ]
    }
   ],
   "source": [
    "for rfe_features in results_rfe_kfold_cv['features']:\n",
    "    #rfe_features = ['hemo', 'drugs', 'z30', 'race', 'gender', 'offtrt', 'cd420', 'time730', 'time_censored', 'cd80']\n",
    "\n",
    "    model = OffLogistic(features=rfe_features)\n",
    "    model.fit(X_train,y_train)\n",
    "    y_pred = model.predict(X_test)\n",
    "    acc = accuracy_score(y_pred,y_test)\n",
    "    rec = recall_score(y_pred,y_test)\n",
    "\n",
    "    model = LogisticRegression(random_state = 42)\n",
    "    X_rfe = X_train[rfe_features]\n",
    "    model.fit(X_rfe,y_train)\n",
    "    y_pred = model.predict(X_test[rfe_features])\n",
    "    acc2 = accuracy_score(y_pred,y_test)\n",
    "    rec2 = recall_score(y_pred,y_test)\n",
    "\n",
    "    print(len(rfe_features), acc, rec , \"compare\", acc2, rec2)"
   ]
  },
  {
   "cell_type": "code",
   "execution_count": 295,
   "metadata": {},
   "outputs": [],
   "source": [
    "def testme(k):\n",
    "    global all_features\n",
    "    rfe_features = all_features[:k]\n",
    "    model = OffLogistic(features=rfe_features)\n",
    "    model.fit(X_train,y_train)\n",
    "    y_pred = model.predict(X_test)\n",
    "    acc = accuracy_score(y_pred,y_test)\n",
    "    rec = recall_score(y_pred,y_test)\n",
    "\n",
    "    model = LogisticRegression(random_state = 42)\n",
    "    X_rfe = X_train[rfe_features]\n",
    "    model.fit(X_rfe,y_train)\n",
    "    y_pred = model.predict(X_test[rfe_features])\n",
    "    acc2 = accuracy_score(y_pred,y_test)\n",
    "    rec2 = recall_score(y_pred,y_test)\n",
    "\n",
    "    print(len(rfe_features), round(acc,5), round(rec,5) , \"compare\", round(acc2,5), round(rec2,5))"
   ]
  },
  {
   "cell_type": "code",
   "execution_count": null,
   "metadata": {},
   "outputs": [],
   "source": [
    " {'cd420'}\n",
    "3 {'race'}\n",
    "4 {'hemo'}\n",
    "5 {'drugs'}\n",
    "6 {'z30'}\n",
    "7 {'gender'}\n",
    "8 set()\n",
    "9 {'trt1'}\n",
    "10 {'trt2'}\n",
    "11 {'str2'}\n",
    "12 {'preanti'}"
   ]
  },
  {
   "cell_type": "code",
   "execution_count": 333,
   "metadata": {},
   "outputs": [
    {
     "name": "stdout",
     "output_type": "stream",
     "text": [
      "2 0.79907 0.59574 compare 0.79907 0.59574\n",
      "3 0.82009 0.59441 compare 0.82009 0.59441\n",
      "4 0.8528 0.65414 compare 0.8528 0.64964\n",
      "5 0.85981 0.6746 compare 0.85981 0.6746\n",
      "6 0.86215 0.68 compare 0.85748 0.672\n",
      "7 0.86449 0.68852 compare 0.87383 0.70492\n",
      "8 0.8785 0.72414 compare 0.8715 0.70248\n",
      "9 0.89019 0.74359 compare 0.88084 0.7265\n",
      "10 0.89019 0.74359 compare 0.88084 0.7265\n",
      "11 0.89019 0.74359 compare 0.88084 0.7265\n",
      "12 0.89486 0.76106 compare 0.89252 0.75893\n"
     ]
    }
   ],
   "source": [
    "all_features = \"time_censored offtrt time730 cd420 gender z30 trt1 trt2 hemo  z30 gender drugs  homo   \".split()\n",
    "for k in range(2,len(all_features)):\n",
    "    testme(k)\n"
   ]
  },
  {
   "cell_type": "markdown",
   "metadata": {},
   "source": [
    "### 042-045 Visualize Cross-validation scores "
   ]
  },
  {
   "cell_type": "code",
   "execution_count": 248,
   "metadata": {},
   "outputs": [
    {
     "data": {
      "image/png": "[encoded data removed]",
      "text/plain": [
       "<Figure size 640x480 with 1 Axes>"
      ]
     },
     "metadata": {},
     "output_type": "display_data"
    }
   ],
   "source": [
    "results_by_score = {}\n",
    "for score in [\"accuracy\", \"f3\", \"recall\", \"selectivity\"]:\n",
    "    results_by_score[score] = results_rfe_kfold_cv.copy()\n",
    "    results_by_score[score]['label'] = \"RFE cv \" + score\n",
    "    results_by_score[score][\"score\"] = results_rfe_kfold_cv[score]\n",
    "\n",
    "\n",
    "results_all = pd.concat(results_by_score.values())\n",
    "\n",
    "sns.lineplot(data = results_all, x = \"k\", y = \"score\", hue=\"label\")\n",
    "plt.ylabel(\"cv accuracy\")\n",
    "plt.xlabel(\"k = number of features\")\n",
    "plt.title(\"RFE scores on the oversampled dataset\")\n",
    "plt.show()"
   ]
  },
  {
   "cell_type": "markdown",
   "metadata": {},
   "source": [
    "## 046 Choose best models "
   ]
  },
  {
   "cell_type": "markdown",
   "metadata": {},
   "source": [
    "Here we choose the best models selected with both the RFE algorithm."
   ]
  },
  {
   "cell_type": "code",
   "execution_count": 249,
   "metadata": {},
   "outputs": [
    {
     "name": "stdout",
     "output_type": "stream",
     "text": [
      "selected features for performance: 9 ['hemo', 'gender', 'time730', 'offtrt', 'time_censored', 'race', 'z30', 'cd420', 'drugs']\n",
      "\n",
      "selected features for simplicity: 4 ['race', 'time_censored', 'time730', 'cd420', 'offtrt']\n"
     ]
    }
   ],
   "source": [
    "k_rfe = 9\n",
    "rfe_selected_features=results_rfe_kfold_cv.loc[k_rfe,\"features\"]\n",
    "\n",
    "k_skb = 4\n",
    "skb_selected_features=results_rfe_kfold_cv.loc[k_skb,\"features\"]\n",
    "\n",
    "print(f\"selected features for performance:\",k_rfe, rfe_selected_features) \n",
    "print(f\"\\nselected features for simplicity:\",k_skb, skb_selected_features) "
   ]
  },
  {
   "cell_type": "markdown",
   "metadata": {},
   "source": [
    "Now we fit the best models"
   ]
  },
  {
   "cell_type": "code",
   "execution_count": 250,
   "metadata": {},
   "outputs": [
    {
     "data": {
      "text/plain": [
       "<__main__.OffLogistic at 0x1b014986330>"
      ]
     },
     "execution_count": 250,
     "metadata": {},
     "output_type": "execute_result"
    }
   ],
   "source": [
    "model_rfe = OffLogistic(random_state=42) \n",
    "X_rfe_train = X_train[rfe_selected_features]\n",
    "X_rfe_test = X_test[rfe_selected_features]\n",
    "model_rfe.fit(X_rfe_train,y_train)"
   ]
  },
  {
   "cell_type": "code",
   "execution_count": 251,
   "metadata": {},
   "outputs": [
    {
     "data": {
      "text/plain": [
       "<__main__.OffLogistic at 0x1b01537c710>"
      ]
     },
     "execution_count": 251,
     "metadata": {},
     "output_type": "execute_result"
    }
   ],
   "source": [
    "model_skb = OffLogistic(random_state=42) \n",
    "X_skb_train = X_train[skb_selected_features]\n",
    "X_skb_test = X_test[skb_selected_features]\n",
    "model_skb.fit(X_skb_train,y_train)"
   ]
  },
  {
   "cell_type": "markdown",
   "metadata": {},
   "source": [
    "## 047 Discuss model performance"
   ]
  },
  {
   "cell_type": "code",
   "execution_count": 252,
   "metadata": {},
   "outputs": [],
   "source": [
    "f3_score = make_scorer(fbeta_score, beta = 3)"
   ]
  },
  {
   "cell_type": "code",
   "execution_count": 253,
   "metadata": {},
   "outputs": [],
   "source": [
    "from sklearn.model_selection import cross_validate \n",
    "def cv_mean_scores(Xtrain, ytrain, model = OffLogistic(random_state=42), n_splits  = 5):\n",
    "    # Create the K-Fold cross-validator\n",
    "    cv = StratifiedKFold(n_splits=n_splits, shuffle=True, random_state=42)\n",
    "     \n",
    "    # Choose the scores to be computed\n",
    "    selectivity_score = make_scorer(recall_score, pos_label = 0)\n",
    "    negative_predictive_value = make_scorer(precision_score, pos_label = 0)\n",
    "\n",
    "\n",
    "    my_scores= {\n",
    "        \"accuracy\": \"accuracy\",\n",
    "        \"recall\": \"recall\",   # true positive rate\n",
    "        \"selectivity\": selectivity_score,   # true negative rate\n",
    "        \"precision\": \"precision\",  # positive predictive value \n",
    "        \"NPV\": negative_predictive_value, # negative predictive value,\n",
    "        \"f1\": \"f1\",\n",
    "        \"f3\": f3_score,\n",
    "        \"ROC_AUC\": \"roc_auc\"\n",
    "    }\n",
    "\n",
    "    # Perform cross-validation measuring the scores\n",
    "    cv_results = cross_validate(\n",
    "        model, Xtrain, ytrain, cv=cv, n_jobs=-1, scoring= my_scores\n",
    "    )\n",
    "\n",
    "\n",
    "    # Calculate the mean of each score\n",
    "    mean_scores =  {score : cv_results[\"test_\"+score].mean() for score in my_scores}\n",
    "    return mean_scores"
   ]
  },
  {
   "cell_type": "markdown",
   "metadata": {},
   "source": [
    "We evaluate the best SKB model"
   ]
  },
  {
   "cell_type": "code",
   "execution_count": 254,
   "metadata": {},
   "outputs": [
    {
     "name": "stdout",
     "output_type": "stream",
     "text": [
      "accuracy : nan\n",
      "recall : nan\n",
      "selectivity : nan\n",
      "precision : nan\n",
      "NPV : nan\n",
      "f1 : nan\n",
      "f3 : nan\n",
      "ROC_AUC : nan\n"
     ]
    }
   ],
   "source": [
    "best_skb_cv_scores = cv_mean_scores(X_skb_train,y_train)\n",
    "for score in best_skb_cv_scores:\n",
    "    print(score, \":\", f\"{best_skb_cv_scores[score]:.3f}\") "
   ]
  },
  {
   "cell_type": "code",
   "execution_count": 257,
   "metadata": {},
   "outputs": [
    {
     "name": "stdout",
     "output_type": "stream",
     "text": [
      "accuracy : nan\n",
      "recall : nan\n",
      "selectivity : nan\n",
      "precision : nan\n",
      "NPV : nan\n",
      "f1 : nan\n",
      "f3 : nan\n",
      "ROC_AUC : nan\n"
     ]
    }
   ],
   "source": [
    "best_rfe_cv_scores = cv_mean_scores(X_rfe_train,y_train)\n",
    "for score in best_rfe_cv_scores:\n",
    "    print(score, \":\", f\"{best_rfe_cv_scores[score]:.3f}\") "
   ]
  },
  {
   "cell_type": "markdown",
   "metadata": {},
   "source": [
    "The model has no obvious weaknesses and it is very good on Recall (true positive rate), which is actually what we care about the most. \n",
    "In cross-validation, if a patient is truly \"infected\" then the model classifies the patient correctly 92% of the times, on cv_average. "
   ]
  },
  {
   "cell_type": "markdown",
   "metadata": {},
   "source": [
    "**Caveat** We are doing cross validation on a train set in which the target class \"infected\" has been oversampled. For this reason the score \"Recall\" may be too optimistic."
   ]
  },
  {
   "cell_type": "markdown",
   "metadata": {},
   "source": [
    "## 048 Interpret model coefficients "
   ]
  },
  {
   "cell_type": "code",
   "execution_count": 256,
   "metadata": {},
   "outputs": [
    {
     "ename": "AttributeError",
     "evalue": "'OffLogistic' object has no attribute 'intercept_'",
     "output_type": "error",
     "traceback": [
      "\u001b[1;31m---------------------------------------------------------------------------\u001b[0m",
      "\u001b[1;31mAttributeError\u001b[0m                            Traceback (most recent call last)",
      "Cell \u001b[1;32mIn[256], line 3\u001b[0m\n\u001b[0;32m      1\u001b[0m \u001b[38;5;66;03m# model intercept:\u001b[39;00m\n\u001b[1;32m----> 3\u001b[0m intercept_rfe \u001b[38;5;241m=\u001b[39m \u001b[43mmodel_rfe\u001b[49m\u001b[38;5;241;43m.\u001b[39;49m\u001b[43mintercept_\u001b[49m[\u001b[38;5;241m0\u001b[39m]\n\u001b[0;32m      4\u001b[0m intercept_skb \u001b[38;5;241m=\u001b[39m model_skb\u001b[38;5;241m.\u001b[39mintercept_[\u001b[38;5;241m0\u001b[39m]\n\u001b[0;32m      7\u001b[0m \u001b[38;5;28mprint\u001b[39m(\u001b[38;5;124mf\u001b[39m\u001b[38;5;124m\"\u001b[39m\u001b[38;5;124mThe intercept of the best SKB model is equal to \u001b[39m\u001b[38;5;132;01m{\u001b[39;00mintercept_skb\u001b[38;5;132;01m:\u001b[39;00m\u001b[38;5;124m.4f\u001b[39m\u001b[38;5;132;01m}\u001b[39;00m\u001b[38;5;124m\"\u001b[39m)\n",
      "\u001b[1;31mAttributeError\u001b[0m: 'OffLogistic' object has no attribute 'intercept_'"
     ]
    }
   ],
   "source": [
    "# model intercept:\n",
    "\n",
    "intercept_rfe = model_rfe.intercept_[0]\n",
    "intercept_skb = model_skb.intercept_[0]\n",
    "\n",
    "\n",
    "print(f\"The intercept of the best SKB model is equal to {intercept_skb:.4f}\")\n",
    "print(f\"The intercept of the best RFE model is equal to {intercept_rfe:.4f}\")"
   ]
  },
  {
   "cell_type": "markdown",
   "metadata": {},
   "source": [
    "The intercept is negative. It means that an average patient is evaluated by the models with a bias. This bias is towards the \"non-infected\" class. "
   ]
  },
  {
   "cell_type": "code",
   "execution_count": 186,
   "metadata": {},
   "outputs": [
    {
     "ename": "NameError",
     "evalue": "name 'model_skb' is not defined",
     "output_type": "error",
     "traceback": [
      "\u001b[1;31m---------------------------------------------------------------------------\u001b[0m",
      "\u001b[1;31mNameError\u001b[0m                                 Traceback (most recent call last)",
      "Cell \u001b[1;32mIn[186], line 5\u001b[0m\n\u001b[0;32m      1\u001b[0m \u001b[38;5;66;03m# we calculate the model coefficients for each feature \u001b[39;00m\n\u001b[0;32m      3\u001b[0m coefficients_skb \u001b[38;5;241m=\u001b[39m pd\u001b[38;5;241m.\u001b[39mDataFrame({\n\u001b[0;32m      4\u001b[0m     \u001b[38;5;124m\"\u001b[39m\u001b[38;5;124mfeature\u001b[39m\u001b[38;5;124m\"\u001b[39m: skb_selected_features,\n\u001b[1;32m----> 5\u001b[0m     \u001b[38;5;124m\"\u001b[39m\u001b[38;5;124mcoefficient\u001b[39m\u001b[38;5;124m\"\u001b[39m: \u001b[43mmodel_skb\u001b[49m\u001b[38;5;241m.\u001b[39mcoef_[\u001b[38;5;241m0\u001b[39m]\n\u001b[0;32m      6\u001b[0m })\n\u001b[0;32m      8\u001b[0m coefficients_rfe \u001b[38;5;241m=\u001b[39m pd\u001b[38;5;241m.\u001b[39mDataFrame({\n\u001b[0;32m      9\u001b[0m     \u001b[38;5;124m\"\u001b[39m\u001b[38;5;124mfeature\u001b[39m\u001b[38;5;124m\"\u001b[39m: rfe_selected_features,\n\u001b[0;32m     10\u001b[0m     \u001b[38;5;124m\"\u001b[39m\u001b[38;5;124mcoefficient\u001b[39m\u001b[38;5;124m\"\u001b[39m: model_rfe\u001b[38;5;241m.\u001b[39mcoef_[\u001b[38;5;241m0\u001b[39m]\n\u001b[0;32m     11\u001b[0m })\n\u001b[0;32m     13\u001b[0m coefficients_rfe\u001b[38;5;241m.\u001b[39msort_values(by\u001b[38;5;241m=\u001b[39m\u001b[38;5;124m\"\u001b[39m\u001b[38;5;124mcoefficient\u001b[39m\u001b[38;5;124m\"\u001b[39m, inplace\u001b[38;5;241m=\u001b[39m\u001b[38;5;28;01mTrue\u001b[39;00m)\n",
      "\u001b[1;31mNameError\u001b[0m: name 'model_skb' is not defined"
     ]
    }
   ],
   "source": [
    "# we calculate the model coefficients for each feature \n",
    "\n",
    "coefficients_skb = pd.DataFrame({\n",
    "    \"feature\": skb_selected_features,\n",
    "    \"coefficient\": model_skb.coef_[0]\n",
    "})\n",
    "\n",
    "coefficients_rfe = pd.DataFrame({\n",
    "    \"feature\": rfe_selected_features,\n",
    "    \"coefficient\": model_rfe.coef_[0]\n",
    "})\n",
    "\n",
    "coefficients_rfe.sort_values(by=\"coefficient\", inplace=True)\n",
    "coefficients_skb.sort_values(by=\"coefficient\", inplace=True)\n"
   ]
  },
  {
   "cell_type": "code",
   "execution_count": 187,
   "metadata": {},
   "outputs": [
    {
     "ename": "NameError",
     "evalue": "name 'coefficients_skb' is not defined",
     "output_type": "error",
     "traceback": [
      "\u001b[1;31m---------------------------------------------------------------------------\u001b[0m",
      "\u001b[1;31mNameError\u001b[0m                                 Traceback (most recent call last)",
      "Cell \u001b[1;32mIn[187], line 3\u001b[0m\n\u001b[0;32m      1\u001b[0m fig, axes \u001b[38;5;241m=\u001b[39m plt\u001b[38;5;241m.\u001b[39msubplots(\u001b[38;5;241m1\u001b[39m,\u001b[38;5;241m2\u001b[39m, figsize \u001b[38;5;241m=\u001b[39m (\u001b[38;5;241m8\u001b[39m,\u001b[38;5;241m3\u001b[39m))\n\u001b[1;32m----> 3\u001b[0m sns\u001b[38;5;241m.\u001b[39mbarplot(data \u001b[38;5;241m=\u001b[39m \u001b[43mcoefficients_skb\u001b[49m, y \u001b[38;5;241m=\u001b[39m \u001b[38;5;124m\"\u001b[39m\u001b[38;5;124mfeature\u001b[39m\u001b[38;5;124m\"\u001b[39m, x \u001b[38;5;241m=\u001b[39m \u001b[38;5;124m\"\u001b[39m\u001b[38;5;124mcoefficient\u001b[39m\u001b[38;5;124m\"\u001b[39m, ax \u001b[38;5;241m=\u001b[39m axes[\u001b[38;5;241m0\u001b[39m])\n\u001b[0;32m      4\u001b[0m sns\u001b[38;5;241m.\u001b[39mbarplot(data \u001b[38;5;241m=\u001b[39m coefficients_rfe, y \u001b[38;5;241m=\u001b[39m \u001b[38;5;124m\"\u001b[39m\u001b[38;5;124mfeature\u001b[39m\u001b[38;5;124m\"\u001b[39m, x \u001b[38;5;241m=\u001b[39m \u001b[38;5;124m\"\u001b[39m\u001b[38;5;124mcoefficient\u001b[39m\u001b[38;5;124m\"\u001b[39m, ax \u001b[38;5;241m=\u001b[39m axes[\u001b[38;5;241m1\u001b[39m])\n\u001b[0;32m      6\u001b[0m axes[\u001b[38;5;241m0\u001b[39m]\u001b[38;5;241m.\u001b[39mset_title(\u001b[38;5;124m\"\u001b[39m\u001b[38;5;124mScaled coefficients for best SKB model\u001b[39m\u001b[38;5;124m\"\u001b[39m)\n",
      "\u001b[1;31mNameError\u001b[0m: name 'coefficients_skb' is not defined"
     ]
    },
    {
     "data": {
      "image/png": "[encoded data removed]",
      "text/plain": [
       "<Figure size 800x300 with 2 Axes>"
      ]
     },
     "metadata": {},
     "output_type": "display_data"
    }
   ],
   "source": [
    "fig, axes = plt.subplots(1,2, figsize = (8,3))\n",
    "\n",
    "sns.barplot(data = coefficients_skb, y = \"feature\", x = \"coefficient\", ax = axes[0])\n",
    "sns.barplot(data = coefficients_rfe, y = \"feature\", x = \"coefficient\", ax = axes[1])\n",
    "\n",
    "axes[0].set_title(\"Scaled coefficients for best SKB model\")\n",
    "axes[1].set_title(\"Scaled coefficients for best RFE model\")\n",
    "\n",
    "plt.tight_layout()\n",
    "plt.show()"
   ]
  },
  {
   "cell_type": "markdown",
   "metadata": {},
   "source": [
    "## 049 Render coefficients insights "
   ]
  },
  {
   "cell_type": "markdown",
   "metadata": {},
   "source": [
    "### 049-a Obtain coefficients for the unscaled variables"
   ]
  },
  {
   "cell_type": "markdown",
   "metadata": {},
   "source": [
    "The coefficients found in 048 are relative to the features scaled with StandardScaler. They are therefore hard to interpret as they are. \n",
    "We now calculate the coefficients one gets for the un-scaled regressors. "
   ]
  },
  {
   "cell_type": "code",
   "execution_count": 188,
   "metadata": {},
   "outputs": [
    {
     "data": {
      "text/html": [
       "<div>\n",
       "<style scoped>\n",
       "    .dataframe tbody tr th:only-of-type {\n",
       "        vertical-align: middle;\n",
       "    }\n",
       "\n",
       "    .dataframe tbody tr th {\n",
       "        vertical-align: top;\n",
       "    }\n",
       "\n",
       "    .dataframe thead th {\n",
       "        text-align: right;\n",
       "    }\n",
       "</style>\n",
       "<table border=\"1\" class=\"dataframe\">\n",
       "  <thead>\n",
       "    <tr style=\"text-align: right;\">\n",
       "      <th></th>\n",
       "      <th>feature</th>\n",
       "      <th>scaling_factor</th>\n",
       "    </tr>\n",
       "  </thead>\n",
       "  <tbody>\n",
       "    <tr>\n",
       "      <th>0</th>\n",
       "      <td>age</td>\n",
       "      <td>8.676423</td>\n",
       "    </tr>\n",
       "    <tr>\n",
       "      <th>1</th>\n",
       "      <td>wtkg</td>\n",
       "      <td>13.182555</td>\n",
       "    </tr>\n",
       "    <tr>\n",
       "      <th>2</th>\n",
       "      <td>hemo</td>\n",
       "      <td>0.274985</td>\n",
       "    </tr>\n",
       "  </tbody>\n",
       "</table>\n",
       "</div>"
      ],
      "text/plain": [
       "  feature  scaling_factor\n",
       "0     age        8.676423\n",
       "1    wtkg       13.182555\n",
       "2    hemo        0.274985"
      ]
     },
     "execution_count": 188,
     "metadata": {},
     "output_type": "execute_result"
    }
   ],
   "source": [
    "# for each variable we calculate the rate of scaling \n",
    "scaling_factors = pd.DataFrame({\n",
    "    \"feature\": X_.columns,\n",
    "    \"scaling_factor\": scaler.scale_\n",
    "})\n",
    "scaling_factors.head(3)"
   ]
  },
  {
   "cell_type": "code",
   "execution_count": 189,
   "metadata": {},
   "outputs": [
    {
     "ename": "NameError",
     "evalue": "name 'coefficients_skb' is not defined",
     "output_type": "error",
     "traceback": [
      "\u001b[1;31m---------------------------------------------------------------------------\u001b[0m",
      "\u001b[1;31mNameError\u001b[0m                                 Traceback (most recent call last)",
      "Cell \u001b[1;32mIn[189], line 2\u001b[0m\n\u001b[0;32m      1\u001b[0m \u001b[38;5;66;03m# we merge with model coefficients \u001b[39;00m\n\u001b[1;32m----> 2\u001b[0m coefficients_and_scaling_skb \u001b[38;5;241m=\u001b[39m \u001b[43mcoefficients_skb\u001b[49m\u001b[38;5;241m.\u001b[39mmerge(scaling_factors)\n\u001b[0;32m      3\u001b[0m coefficients_and_scaling_rfe \u001b[38;5;241m=\u001b[39m coefficients_rfe\u001b[38;5;241m.\u001b[39mmerge(scaling_factors)\n\u001b[0;32m      5\u001b[0m \u001b[38;5;66;03m# calculate un-scaled coefficient\u001b[39;00m\n",
      "\u001b[1;31mNameError\u001b[0m: name 'coefficients_skb' is not defined"
     ]
    }
   ],
   "source": [
    "# we merge with model coefficients \n",
    "coefficients_and_scaling_skb = coefficients_skb.merge(scaling_factors)\n",
    "coefficients_and_scaling_rfe = coefficients_rfe.merge(scaling_factors)\n",
    "\n",
    "# calculate un-scaled coefficient\n",
    "coefficients_and_scaling_skb[\"coefficient_unscaled\"] = coefficients_and_scaling_skb[\"coefficient\"] / coefficients_and_scaling_skb[\"scaling_factor\"]\n",
    "coefficients_and_scaling_rfe[\"coefficient_unscaled\"] = coefficients_and_scaling_rfe[\"coefficient\"] / coefficients_and_scaling_rfe[\"scaling_factor\"]\n",
    "\n",
    "# order and print the results\n",
    "coefficients_and_scaling_skb.sort_values(by=\"coefficient\", ascending=False, inplace=True)\n",
    "coefficients_and_scaling_rfe.sort_values(by=\"coefficient\", ascending=False, inplace=True)\n",
    "\n",
    "print(\"Feature coefficients of the model selected by SKB:\")\n",
    "print(coefficients_and_scaling_skb)\n",
    "print()\n",
    "print(\"Feature coefficients of the model selected by RFE:\")\n",
    "print(coefficients_and_scaling_skb)\n",
    "\n"
   ]
  },
  {
   "cell_type": "markdown",
   "metadata": {},
   "source": [
    "### 049-b Model coefficients separately for binary vs continuous features"
   ]
  },
  {
   "cell_type": "markdown",
   "metadata": {},
   "source": [
    "The log-odd contribution of our categorical variables is binary. The contribution of continuous features is proportional to their value. \n",
    "It is best to interpret the two types of variables separately. "
   ]
  },
  {
   "cell_type": "code",
   "execution_count": 190,
   "metadata": {},
   "outputs": [
    {
     "ename": "NameError",
     "evalue": "name 'coefficients_and_scaling_skb' is not defined",
     "output_type": "error",
     "traceback": [
      "\u001b[1;31m---------------------------------------------------------------------------\u001b[0m",
      "\u001b[1;31mNameError\u001b[0m                                 Traceback (most recent call last)",
      "Cell \u001b[1;32mIn[190], line 2\u001b[0m\n\u001b[0;32m      1\u001b[0m \u001b[38;5;66;03m# we filter the categorical (binary) features \u001b[39;00m\n\u001b[1;32m----> 2\u001b[0m binary_skb_mask \u001b[38;5;241m=\u001b[39m \u001b[43mcoefficients_and_scaling_skb\u001b[49m[\u001b[38;5;124m'\u001b[39m\u001b[38;5;124mfeature\u001b[39m\u001b[38;5;124m'\u001b[39m]\u001b[38;5;241m.\u001b[39misin(cat_features)\n\u001b[0;32m      3\u001b[0m binary_rfe_mask \u001b[38;5;241m=\u001b[39m coefficients_and_scaling_rfe[\u001b[38;5;124m'\u001b[39m\u001b[38;5;124mfeature\u001b[39m\u001b[38;5;124m'\u001b[39m]\u001b[38;5;241m.\u001b[39misin(cat_features)\n\u001b[0;32m      5\u001b[0m coefficients_unscaled_skb_binary \u001b[38;5;241m=\u001b[39m coefficients_and_scaling_skb[binary_skb_mask]\u001b[38;5;241m.\u001b[39mdrop(columns \u001b[38;5;241m=\u001b[39m [\u001b[38;5;124m\"\u001b[39m\u001b[38;5;124mcoefficient\u001b[39m\u001b[38;5;124m\"\u001b[39m,\u001b[38;5;124m\"\u001b[39m\u001b[38;5;124mscaling_factor\u001b[39m\u001b[38;5;124m\"\u001b[39m])\n",
      "\u001b[1;31mNameError\u001b[0m: name 'coefficients_and_scaling_skb' is not defined"
     ]
    }
   ],
   "source": [
    "# we filter the categorical (binary) features \n",
    "binary_skb_mask = coefficients_and_scaling_skb['feature'].isin(cat_features)\n",
    "binary_rfe_mask = coefficients_and_scaling_rfe['feature'].isin(cat_features)\n",
    "\n",
    "coefficients_unscaled_skb_binary = coefficients_and_scaling_skb[binary_skb_mask].drop(columns = [\"coefficient\",\"scaling_factor\"])\n",
    "coefficients_unscaled_rfe_binary = coefficients_and_scaling_rfe[binary_rfe_mask].drop(columns = [\"coefficient\",\"scaling_factor\"])\n",
    "\n",
    "coefficients_unscaled_skb_continuous = coefficients_and_scaling_skb[~binary_skb_mask].drop(columns = [\"coefficient\",\"scaling_factor\"])\n",
    "coefficients_unscaled_rfe_continuous = coefficients_and_scaling_rfe[~binary_rfe_mask].drop(columns = [\"coefficient\",\"scaling_factor\"])\n",
    "\n",
    "# print for example\n",
    "coefficients_unscaled_skb_binary\n"
   ]
  },
  {
   "cell_type": "markdown",
   "metadata": {},
   "source": [
    "To better understand and compare the variables and coefficients we further custom-rescale the continuous variables."
   ]
  },
  {
   "cell_type": "code",
   "execution_count": 191,
   "metadata": {},
   "outputs": [
    {
     "ename": "NameError",
     "evalue": "name 'coefficients_unscaled_skb_continuous' is not defined",
     "output_type": "error",
     "traceback": [
      "\u001b[1;31m---------------------------------------------------------------------------\u001b[0m",
      "\u001b[1;31mNameError\u001b[0m                                 Traceback (most recent call last)",
      "Cell \u001b[1;32mIn[191], line 3\u001b[0m\n\u001b[0;32m      1\u001b[0m \u001b[38;5;66;03m# custom scale continuous features \u001b[39;00m\n\u001b[1;32m----> 3\u001b[0m \u001b[38;5;28;01mfor\u001b[39;00m coefficients_unscaled \u001b[38;5;129;01min\u001b[39;00m [\u001b[43mcoefficients_unscaled_skb_continuous\u001b[49m, coefficients_unscaled_rfe_continuous]:\n\u001b[0;32m      4\u001b[0m \n\u001b[0;32m      5\u001b[0m     \u001b[38;5;66;03m# - time730, time_censored : unit = month (scale 30)\u001b[39;00m\n\u001b[0;32m      6\u001b[0m     time_features_mask \u001b[38;5;241m=\u001b[39m coefficients_unscaled[\u001b[38;5;124m\"\u001b[39m\u001b[38;5;124mfeature\u001b[39m\u001b[38;5;124m\"\u001b[39m]\u001b[38;5;241m.\u001b[39misin([\u001b[38;5;124m\"\u001b[39m\u001b[38;5;124mtime730\u001b[39m\u001b[38;5;124m\"\u001b[39m,\u001b[38;5;124m\"\u001b[39m\u001b[38;5;124mtime_censored\u001b[39m\u001b[38;5;124m\"\u001b[39m])\n\u001b[0;32m      8\u001b[0m     coefficients_unscaled\u001b[38;5;241m.\u001b[39mloc[time_features_mask, \u001b[38;5;124m\"\u001b[39m\u001b[38;5;124mfeature\u001b[39m\u001b[38;5;124m\"\u001b[39m] \u001b[38;5;241m+\u001b[39m\u001b[38;5;241m=\u001b[39m \u001b[38;5;124m\"\u001b[39m\u001b[38;5;124m (months)\u001b[39m\u001b[38;5;124m\"\u001b[39m\n",
      "\u001b[1;31mNameError\u001b[0m: name 'coefficients_unscaled_skb_continuous' is not defined"
     ]
    }
   ],
   "source": [
    "# custom scale continuous features \n",
    "\n",
    "for coefficients_unscaled in [coefficients_unscaled_skb_continuous, coefficients_unscaled_rfe_continuous]:\n",
    "\n",
    "    # - time730, time_censored : unit = month (scale 30)\n",
    "    time_features_mask = coefficients_unscaled[\"feature\"].isin([\"time730\",\"time_censored\"])\n",
    "\n",
    "    coefficients_unscaled.loc[time_features_mask, \"feature\"] += \" (months)\"\n",
    "    coefficients_unscaled.loc[time_features_mask, \"coefficient_unscaled\"] *= 30\n",
    "\n",
    "    # - cd40, cd420 : unit = hundreds (scale 100)\n",
    "    lab_features_mask = coefficients_unscaled[\"feature\"].isin([\"cd40\",\"cd420\"])\n",
    "\n",
    "    coefficients_unscaled.loc[lab_features_mask, \"feature\"] += \" (x100)\"\n",
    "    coefficients_unscaled.loc[lab_features_mask, \"coefficient_unscaled\"] *= 100\n",
    "\n",
    "print(\"Unscaled coefficients for SKB model\")\n",
    "print(coefficients_unscaled_skb_continuous)\n",
    "print()\n",
    "print(\"Unscaled coefficients for RFE model\")\n",
    "print(coefficients_unscaled_rfe_continuous)\n"
   ]
  },
  {
   "cell_type": "markdown",
   "metadata": {},
   "source": [
    "### 049-c Visualize coefficients of unscaled variables"
   ]
  },
  {
   "cell_type": "code",
   "execution_count": 192,
   "metadata": {},
   "outputs": [
    {
     "ename": "NameError",
     "evalue": "name 'coefficients_unscaled_skb_binary' is not defined",
     "output_type": "error",
     "traceback": [
      "\u001b[1;31m---------------------------------------------------------------------------\u001b[0m",
      "\u001b[1;31mNameError\u001b[0m                                 Traceback (most recent call last)",
      "Cell \u001b[1;32mIn[192], line 4\u001b[0m\n\u001b[0;32m      1\u001b[0m \u001b[38;5;66;03m# Plot coefficients of binary features \u001b[39;00m\n\u001b[0;32m      2\u001b[0m fig, axes \u001b[38;5;241m=\u001b[39m plt\u001b[38;5;241m.\u001b[39msubplots(\u001b[38;5;241m1\u001b[39m,\u001b[38;5;241m2\u001b[39m, figsize \u001b[38;5;241m=\u001b[39m (\u001b[38;5;241m12\u001b[39m,\u001b[38;5;241m3\u001b[39m))\n\u001b[1;32m----> 4\u001b[0m sns\u001b[38;5;241m.\u001b[39mbarplot(data \u001b[38;5;241m=\u001b[39m \u001b[43mcoefficients_unscaled_skb_binary\u001b[49m, y \u001b[38;5;241m=\u001b[39m \u001b[38;5;124m\"\u001b[39m\u001b[38;5;124mfeature\u001b[39m\u001b[38;5;124m\"\u001b[39m, x \u001b[38;5;241m=\u001b[39m \u001b[38;5;124m\"\u001b[39m\u001b[38;5;124mcoefficient_unscaled\u001b[39m\u001b[38;5;124m\"\u001b[39m, ax \u001b[38;5;241m=\u001b[39m axes[\u001b[38;5;241m0\u001b[39m])\n\u001b[0;32m      5\u001b[0m sns\u001b[38;5;241m.\u001b[39mbarplot(data \u001b[38;5;241m=\u001b[39m coefficients_unscaled_rfe_binary, y \u001b[38;5;241m=\u001b[39m \u001b[38;5;124m\"\u001b[39m\u001b[38;5;124mfeature\u001b[39m\u001b[38;5;124m\"\u001b[39m, x \u001b[38;5;241m=\u001b[39m \u001b[38;5;124m\"\u001b[39m\u001b[38;5;124mcoefficient_unscaled\u001b[39m\u001b[38;5;124m\"\u001b[39m, ax \u001b[38;5;241m=\u001b[39m axes[\u001b[38;5;241m1\u001b[39m])\n\u001b[0;32m      7\u001b[0m axes[\u001b[38;5;241m0\u001b[39m]\u001b[38;5;241m.\u001b[39mset_title(\u001b[38;5;124m\"\u001b[39m\u001b[38;5;124mUnscaled coefficients for best SKB model\u001b[39m\u001b[38;5;124m\"\u001b[39m)\n",
      "\u001b[1;31mNameError\u001b[0m: name 'coefficients_unscaled_skb_binary' is not defined"
     ]
    },
    {
     "data": {
      "image/png": "[encoded data removed]",
      "text/plain": [
       "<Figure size 1200x300 with 2 Axes>"
      ]
     },
     "metadata": {},
     "output_type": "display_data"
    }
   ],
   "source": [
    "# Plot coefficients of binary features \n",
    "fig, axes = plt.subplots(1,2, figsize = (12,3))\n",
    "\n",
    "sns.barplot(data = coefficients_unscaled_skb_binary, y = \"feature\", x = \"coefficient_unscaled\", ax = axes[0])\n",
    "sns.barplot(data = coefficients_unscaled_rfe_binary, y = \"feature\", x = \"coefficient_unscaled\", ax = axes[1])\n",
    "\n",
    "axes[0].set_title(\"Unscaled coefficients for best SKB model\")\n",
    "axes[1].set_title(\"Unscaled coefficients for best RFE model\")\n",
    "\n",
    "axes[0].set_ylabel(\"binary features\")\n",
    "axes[1].set_ylabel(\"binary features\")\n",
    "plt.tight_layout()\n",
    "plt.show()\n",
    "\n",
    "# Plot coefficients of continuous features\n",
    "fig, axes = plt.subplots(1,2, figsize = (12,3))\n",
    "\n",
    "sns.barplot(data = coefficients_unscaled_skb_continuous, y = \"feature\", x = \"coefficient_unscaled\", ax = axes[0])\n",
    "sns.barplot(data = coefficients_unscaled_rfe_continuous, y = \"feature\", x = \"coefficient_unscaled\", ax = axes[1])\n",
    "\n",
    "axes[0].set_title(\"Unscaled coefficients for best SKB model\")\n",
    "axes[1].set_title(\"Unscaled coefficients for best RFE model\")\n",
    "\n",
    "axes[0].set_ylabel(\"continuous features\")\n",
    "axes[1].set_ylabel(\"continous features\")\n",
    "\n",
    "plt.tight_layout()\n",
    "plt.show()"
   ]
  },
  {
   "cell_type": "markdown",
   "metadata": {},
   "source": []
  },
  {
   "cell_type": "markdown",
   "metadata": {},
   "source": [
    "## 050 + 052 Test set performance "
   ]
  },
  {
   "cell_type": "markdown",
   "metadata": {},
   "source": [
    "### Test performance with RFE"
   ]
  },
  {
   "cell_type": "code",
   "execution_count": null,
   "metadata": {},
   "outputs": [],
   "source": [
    "y_pred_rfe = model_rfe.predict(X_rfe_test)"
   ]
  },
  {
   "cell_type": "code",
   "execution_count": null,
   "metadata": {},
   "outputs": [
    {
     "data": {
      "text/plain": [
       "{'accuracy': 0.8948598130841121,\n",
       " 'recall': np.float64(0.8076923076923077),\n",
       " 'selectivity': np.float64(0.9228395061728395),\n",
       " 'precision': np.float64(0.7706422018348624),\n",
       " 'NPV': np.float64(0.9373040752351097),\n",
       " 'f1': np.float64(0.7887323943661971),\n",
       " 'f3': np.float64(0.8038277511961722)}"
      ]
     },
     "metadata": {},
     "output_type": "display_data"
    }
   ],
   "source": [
    "results_test_rfe = {\n",
    "    \"accuracy\": accuracy_score(y_test,y_pred_rfe),\n",
    "    \"recall\": recall_score(y_test,y_pred_rfe),\n",
    "    \"selectivity\": recall_score(y_test,y_pred_rfe,pos_label = 0),\n",
    "    \"precision\": precision_score(y_test,y_pred_rfe),\n",
    "    \"NPV\": precision_score(y_test,y_pred_rfe, pos_label = 0),\n",
    "    \"f1\": f1_score(y_test,y_pred_rfe),\n",
    "    \"f3\": fbeta_score(y_test,y_pred_rfe,beta = 3)\n",
    "}\n",
    "\n",
    "results_test_rfe"
   ]
  },
  {
   "cell_type": "markdown",
   "metadata": {},
   "source": [
    "The recall score has dropped. The reason is clear: in cross-validation we used over-sampling. It would be better to oversample as part of the model. "
   ]
  },
  {
   "cell_type": "markdown",
   "metadata": {},
   "source": [
    "### Test performance with SKB"
   ]
  },
  {
   "cell_type": "code",
   "execution_count": 193,
   "metadata": {},
   "outputs": [
    {
     "ename": "NameError",
     "evalue": "name 'model_skb' is not defined",
     "output_type": "error",
     "traceback": [
      "\u001b[1;31m---------------------------------------------------------------------------\u001b[0m",
      "\u001b[1;31mNameError\u001b[0m                                 Traceback (most recent call last)",
      "Cell \u001b[1;32mIn[193], line 1\u001b[0m\n\u001b[1;32m----> 1\u001b[0m y_pred_skb \u001b[38;5;241m=\u001b[39m \u001b[43mmodel_skb\u001b[49m\u001b[38;5;241m.\u001b[39mpredict(X_skb_test)\n",
      "\u001b[1;31mNameError\u001b[0m: name 'model_skb' is not defined"
     ]
    }
   ],
   "source": [
    "y_pred_skb = model_skb.predict(X_skb_test)"
   ]
  },
  {
   "cell_type": "code",
   "execution_count": 194,
   "metadata": {},
   "outputs": [
    {
     "ename": "NameError",
     "evalue": "name 'y_pred_skb' is not defined",
     "output_type": "error",
     "traceback": [
      "\u001b[1;31m---------------------------------------------------------------------------\u001b[0m",
      "\u001b[1;31mNameError\u001b[0m                                 Traceback (most recent call last)",
      "Cell \u001b[1;32mIn[194], line 2\u001b[0m\n\u001b[0;32m      1\u001b[0m results_test_skb \u001b[38;5;241m=\u001b[39m {\n\u001b[1;32m----> 2\u001b[0m     \u001b[38;5;124m\"\u001b[39m\u001b[38;5;124maccuracy\u001b[39m\u001b[38;5;124m\"\u001b[39m: accuracy_score(y_test,\u001b[43my_pred_skb\u001b[49m),\n\u001b[0;32m      3\u001b[0m     \u001b[38;5;124m\"\u001b[39m\u001b[38;5;124mrecall\u001b[39m\u001b[38;5;124m\"\u001b[39m: recall_score(y_test,y_pred_skb),\n\u001b[0;32m      4\u001b[0m     \u001b[38;5;124m\"\u001b[39m\u001b[38;5;124mselectivity\u001b[39m\u001b[38;5;124m\"\u001b[39m: recall_score(y_test,y_pred_skb,pos_label \u001b[38;5;241m=\u001b[39m \u001b[38;5;241m0\u001b[39m),\n\u001b[0;32m      5\u001b[0m     \u001b[38;5;124m\"\u001b[39m\u001b[38;5;124mprecision\u001b[39m\u001b[38;5;124m\"\u001b[39m: precision_score(y_test,y_pred_skb),\n\u001b[0;32m      6\u001b[0m     \u001b[38;5;124m\"\u001b[39m\u001b[38;5;124mNPV\u001b[39m\u001b[38;5;124m\"\u001b[39m: precision_score(y_test,y_pred_skb, pos_label \u001b[38;5;241m=\u001b[39m \u001b[38;5;241m0\u001b[39m),\n\u001b[0;32m      7\u001b[0m     \u001b[38;5;124m\"\u001b[39m\u001b[38;5;124mf1\u001b[39m\u001b[38;5;124m\"\u001b[39m: f1_score(y_test,y_pred_skb),\n\u001b[0;32m      8\u001b[0m     \u001b[38;5;124m\"\u001b[39m\u001b[38;5;124mf3\u001b[39m\u001b[38;5;124m\"\u001b[39m: fbeta_score(y_test,y_pred_rfe,beta \u001b[38;5;241m=\u001b[39m \u001b[38;5;241m3\u001b[39m)\n\u001b[0;32m      9\u001b[0m \n\u001b[0;32m     10\u001b[0m }\n\u001b[0;32m     12\u001b[0m results_test_skb\n",
      "\u001b[1;31mNameError\u001b[0m: name 'y_pred_skb' is not defined"
     ]
    }
   ],
   "source": [
    "results_test_skb = {\n",
    "    \"accuracy\": accuracy_score(y_test,y_pred_skb),\n",
    "    \"recall\": recall_score(y_test,y_pred_skb),\n",
    "    \"selectivity\": recall_score(y_test,y_pred_skb,pos_label = 0),\n",
    "    \"precision\": precision_score(y_test,y_pred_skb),\n",
    "    \"NPV\": precision_score(y_test,y_pred_skb, pos_label = 0),\n",
    "    \"f1\": f1_score(y_test,y_pred_skb),\n",
    "    \"f3\": fbeta_score(y_test,y_pred_rfe,beta = 3)\n",
    "\n",
    "}\n",
    "\n",
    "results_test_skb"
   ]
  },
  {
   "cell_type": "markdown",
   "metadata": {},
   "source": [
    "Interestingly, the recall is higher than the selectivity with this model. It would be interesting to know which features do help to increase the recall score.\n"
   ]
  },
  {
   "cell_type": "code",
   "execution_count": 195,
   "metadata": {},
   "outputs": [
    {
     "name": "stdout",
     "output_type": "stream",
     "text": [
      "['hemo', 'gender', 'time730', 'offtrt', 'time_censored', 'race', 'z30', 'cd420', 'drugs']\n",
      "['race', 'time_censored', 'time730', 'cd420', 'offtrt']\n"
     ]
    }
   ],
   "source": [
    "print(rfe_selected_features)\n",
    "print(skb_selected_features)"
   ]
  },
  {
   "cell_type": "markdown",
   "metadata": {},
   "source": [
    "## 051 Confusion matrix \n"
   ]
  },
  {
   "cell_type": "code",
   "execution_count": 196,
   "metadata": {},
   "outputs": [
    {
     "ename": "NameError",
     "evalue": "name 'y_pred_rfe' is not defined",
     "output_type": "error",
     "traceback": [
      "\u001b[1;31m---------------------------------------------------------------------------\u001b[0m",
      "\u001b[1;31mNameError\u001b[0m                                 Traceback (most recent call last)",
      "Cell \u001b[1;32mIn[196], line 1\u001b[0m\n\u001b[1;32m----> 1\u001b[0m cm_rfe  \u001b[38;5;241m=\u001b[39m confusion_matrix(y_test,\u001b[43my_pred_rfe\u001b[49m)\n\u001b[0;32m      2\u001b[0m cm_skb  \u001b[38;5;241m=\u001b[39m confusion_matrix(y_test,y_pred_skb)\n",
      "\u001b[1;31mNameError\u001b[0m: name 'y_pred_rfe' is not defined"
     ]
    }
   ],
   "source": [
    "cm_rfe  = confusion_matrix(y_test,y_pred_rfe)\n",
    "cm_skb  = confusion_matrix(y_test,y_pred_skb)"
   ]
  },
  {
   "cell_type": "code",
   "execution_count": 197,
   "metadata": {},
   "outputs": [
    {
     "ename": "NameError",
     "evalue": "name 'cm_skb' is not defined",
     "output_type": "error",
     "traceback": [
      "\u001b[1;31m---------------------------------------------------------------------------\u001b[0m",
      "\u001b[1;31mNameError\u001b[0m                                 Traceback (most recent call last)",
      "Cell \u001b[1;32mIn[197], line 3\u001b[0m\n\u001b[0;32m      1\u001b[0m fig,ax \u001b[38;5;241m=\u001b[39m plt\u001b[38;5;241m.\u001b[39msubplots(\u001b[38;5;241m1\u001b[39m,\u001b[38;5;241m2\u001b[39m,figsize \u001b[38;5;241m=\u001b[39m (\u001b[38;5;241m8\u001b[39m,\u001b[38;5;241m3\u001b[39m))\n\u001b[1;32m----> 3\u001b[0m sns\u001b[38;5;241m.\u001b[39mheatmap(\u001b[43mcm_skb\u001b[49m, annot\u001b[38;5;241m=\u001b[39m\u001b[38;5;28;01mTrue\u001b[39;00m, fmt\u001b[38;5;241m=\u001b[39m\u001b[38;5;124m'\u001b[39m\u001b[38;5;124md\u001b[39m\u001b[38;5;124m'\u001b[39m, cmap\u001b[38;5;241m=\u001b[39m\u001b[38;5;124m'\u001b[39m\u001b[38;5;124mBlues\u001b[39m\u001b[38;5;124m'\u001b[39m, cbar\u001b[38;5;241m=\u001b[39m\u001b[38;5;28;01mFalse\u001b[39;00m, ax \u001b[38;5;241m=\u001b[39m ax[\u001b[38;5;241m0\u001b[39m])\n\u001b[0;32m      4\u001b[0m sns\u001b[38;5;241m.\u001b[39mheatmap(cm_rfe, annot\u001b[38;5;241m=\u001b[39m\u001b[38;5;28;01mTrue\u001b[39;00m, fmt\u001b[38;5;241m=\u001b[39m\u001b[38;5;124m'\u001b[39m\u001b[38;5;124md\u001b[39m\u001b[38;5;124m'\u001b[39m, cmap\u001b[38;5;241m=\u001b[39m\u001b[38;5;124m'\u001b[39m\u001b[38;5;124mBlues\u001b[39m\u001b[38;5;124m'\u001b[39m, cbar\u001b[38;5;241m=\u001b[39m\u001b[38;5;28;01mFalse\u001b[39;00m, ax \u001b[38;5;241m=\u001b[39m ax[\u001b[38;5;241m1\u001b[39m])\n\u001b[0;32m      6\u001b[0m ax[\u001b[38;5;241m0\u001b[39m]\u001b[38;5;241m.\u001b[39mset_title(\u001b[38;5;124m\"\u001b[39m\u001b[38;5;124mConfusion matrix of SKB model\u001b[39m\u001b[38;5;124m\"\u001b[39m)\n",
      "\u001b[1;31mNameError\u001b[0m: name 'cm_skb' is not defined"
     ]
    },
    {
     "data": {
      "image/png": "[encoded data removed]",
      "text/plain": [
       "<Figure size 800x300 with 2 Axes>"
      ]
     },
     "metadata": {},
     "output_type": "display_data"
    }
   ],
   "source": [
    "fig,ax = plt.subplots(1,2,figsize = (8,3))\n",
    "\n",
    "sns.heatmap(cm_skb, annot=True, fmt='d', cmap='Blues', cbar=False, ax = ax[0])\n",
    "sns.heatmap(cm_rfe, annot=True, fmt='d', cmap='Blues', cbar=False, ax = ax[1])\n",
    "\n",
    "ax[0].set_title(\"Confusion matrix of SKB model\")\n",
    "ax[1].set_title(\"Confusion matrix of RFE model\")\n",
    "for i in [0,1]:\n",
    "    ax[i].set_xlabel(\"Predicted Labels\")\n",
    "    ax[i].set_ylabel(\"True Labels\")\n",
    "\n",
    "plt.show()"
   ]
  },
  {
   "cell_type": "code",
   "execution_count": null,
   "metadata": {},
   "outputs": [
    {
     "data": {
      "text/plain": [
       "array([299,  25])"
      ]
     },
     "metadata": {},
     "output_type": "display_data"
    }
   ],
   "source": [
    "cm_rfe [0]"
   ]
  },
  {
   "cell_type": "code",
   "execution_count": null,
   "metadata": {},
   "outputs": [
    {
     "data": {
      "text/plain": [
       "[324, 104]"
      ]
     },
     "metadata": {},
     "output_type": "display_data"
    }
   ],
   "source": [
    "\n",
    "num_test = [int(sum(cm_rfe[0])),int(sum(cm_rfe[1]))]\n",
    "num_test"
   ]
  },
  {
   "cell_type": "markdown",
   "metadata": {},
   "source": [
    "## 053 Visualize confusion matrix data"
   ]
  },
  {
   "cell_type": "code",
   "execution_count": null,
   "metadata": {},
   "outputs": [
    {
     "data": {
      "image/png": "[encoded data removed]",
      "text/plain": [
       "<Figure size 700x300 with 2 Axes>"
      ]
     },
     "metadata": {},
     "output_type": "display_data"
    },
    {
     "data": {
      "image/png": "[encoded data removed]",
      "text/plain": [
       "<Figure size 700x300 with 2 Axes>"
      ]
     },
     "metadata": {},
     "output_type": "display_data"
    }
   ],
   "source": [
    "fig,ax = plt.subplots(1,2,figsize = (7,3))\n",
    "\n",
    "# true infected vs true not infected test data count\n",
    "num_test = [int(sum(cm_skb[0])),int(sum(cm_skb[1]))]\n",
    "\n",
    "\n",
    "ax[0].set_title(\"True positives vs false negatives\")\n",
    "ax[1].set_title(\"True negatives vs False positives\")\n",
    "labels_pie = [[\"FN\", \"TP\"],[\"FP\", \"TN\"]]\n",
    "\n",
    "for i in [0,1]:\n",
    "    ax[i].pie(cm_skb[i], \n",
    "        labels = labels_pie[i], \n",
    "        colors = [sns.color_palette()[i], sns.color_palette()[1-i]], \n",
    "        radius = np.sqrt(2*num_test[i] / (num_test[0] + num_test[1])),\n",
    "        autopct= lambda p: f'{int(num_test[i] * p / 100 )}') # to compute the count instead of the percentage\n",
    "    \n",
    "ax[0].set_xlabel(f\"Selectivity: {results_test_skb[\"selectivity\"]:.3f}\")\n",
    "ax[1].set_xlabel(f\"Recall: {results_test_skb[\"recall\"]:.3f}\")\n",
    "fig.suptitle(\"Test performance for simple model\")\n",
    "plt.tight_layout()\n",
    "plt.show()\n",
    "\n",
    "\n",
    "fig,ax = plt.subplots(1,2,figsize = (7,3))\n",
    "\n",
    "# true infected vs true not infected test data count\n",
    "num_test = [int(sum(cm_rfe[0])),int(sum(cm_rfe[1]))]\n",
    "\n",
    "\n",
    "ax[0].set_title(\"True positives vs false negatives\")\n",
    "ax[1].set_title(\"True negatives vs False positives\")\n",
    "labels_pie = [[\"FN\", \"TP\"],[\"FP\", \"TN\"]]\n",
    "\n",
    "for i in [0,1]:\n",
    "    ax[i].pie(cm_rfe[i], \n",
    "        labels = labels_pie[i], \n",
    "        colors = [sns.color_palette()[i], sns.color_palette()[1-i]], \n",
    "        radius = np.sqrt(2*num_test[i] / (num_test[0] + num_test[1])),\n",
    "        autopct= lambda p: f'{int(num_test[i] * p / 100 )}') # to compute the count instead of the percentage\n",
    "    \n",
    "ax[0].set_xlabel(f\"Selectivity: {results_test_rfe[\"selectivity\"]:.3f}\")\n",
    "ax[1].set_xlabel(f\"Recall: {results_test_rfe[\"recall\"]:.3f}\")\n",
    "fig.suptitle(\"Test performance for performant model\")\n",
    "\n",
    "\n",
    "plt.tight_layout()\n",
    "plt.show()\n",
    "\n"
   ]
  },
  {
   "cell_type": "markdown",
   "metadata": {},
   "source": [
    "## Save Logistic Regression Model"
   ]
  },
  {
   "cell_type": "code",
   "execution_count": 198,
   "metadata": {},
   "outputs": [],
   "source": [
    "import pickle"
   ]
  },
  {
   "cell_type": "code",
   "execution_count": null,
   "metadata": {},
   "outputs": [],
   "source": [
    "# Save model to file\n",
    "model = model_rfe\n",
    "filename = \"models/logistic_RFE9.pkl\"\n",
    "file = open(filename, \"wb\")\n",
    "#pickle.dump(model, file)\n",
    "\n",
    "# The wb indicates that the file is opened for writing in binary mode.\n",
    "\n",
    "\n"
   ]
  },
  {
   "cell_type": "markdown",
   "metadata": {},
   "source": [
    "We also save to file the features"
   ]
  },
  {
   "cell_type": "code",
   "execution_count": null,
   "metadata": {},
   "outputs": [],
   "source": [
    "#pickle.dump(results_rfe_kfold_cv['features'], open(\"models/rfe_features_250103.pkl\", \"wb\"))"
   ]
  },
  {
   "cell_type": "code",
   "execution_count": null,
   "metadata": {},
   "outputs": [],
   "source": []
  },
  {
   "cell_type": "code",
   "execution_count": null,
   "metadata": {},
   "outputs": [],
   "source": []
  }
 ],
 "metadata": {
  "kernelspec": {
   "display_name": ".venv",
   "language": "python",
   "name": "python3"
  },
  "language_info": {
   "codemirror_mode": {
    "name": "ipython",
    "version": 3
   },
   "file_extension": ".py",
   "mimetype": "text/x-python",
   "name": "python",
   "nbconvert_exporter": "python",
   "pygments_lexer": "ipython3",
   "version": "3.13.0"
  }
 },
 "nbformat": 4,
 "nbformat_minor": 2
}
