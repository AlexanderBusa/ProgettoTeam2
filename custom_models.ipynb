{
 "cells": [
  {
   "cell_type": "markdown",
   "metadata": {},
   "source": [
    "# Custom models\n",
    "\n"
   ]
  },
  {
   "cell_type": "markdown",
   "metadata": {},
   "source": [
    "In this document we develop custom sklearn estimators. The main outcome is a hybrid machine learning model which evaluates a linear regression if a certain condition is met, and evaluates another linear regression, or gives a trivial output, if the condition is not met.  "
   ]
  },
  {
   "cell_type": "code",
   "execution_count": 8,
   "metadata": {},
   "outputs": [],
   "source": [
    "import numpy as np\n",
    "import pandas as pd\n",
    "import matplotlib.pyplot as plt\n",
    "import seaborn as sns\n",
    "\n",
    "from sklearn.preprocessing import MinMaxScaler\n",
    "from sklearn.metrics import *\n",
    "from sklearn.model_selection import train_test_split, KFold, StratifiedKFold, cross_val_score, cross_validate\n",
    "\n",
    "from sklearn.ensemble import RandomForestClassifier\n",
    "from sklearn.feature_selection import SelectKBest, RFE\n",
    "from sklearn.feature_selection import f_classif\n",
    "from sklearn.preprocessing import StandardScaler \n",
    "from sklearn.metrics import accuracy_score\n",
    "\n",
    "from sklearn.linear_model import LogisticRegression\n",
    "\n",
    "from matplotlib_venn import venn2\n",
    "from tqdm import tqdm\n",
    "\n",
    "from imblearn.over_sampling import SMOTENC\n",
    "\n",
    "\n"
   ]
  },
  {
   "cell_type": "code",
   "execution_count": 9,
   "metadata": {},
   "outputs": [],
   "source": [
    "import pickle"
   ]
  },
  {
   "cell_type": "code",
   "execution_count": 10,
   "metadata": {},
   "outputs": [],
   "source": [
    "import src.features as features\n",
    "import src.model_selection as model_selection \n",
    "import src.functions as functions\n",
    "import src.datasets as datasets "
   ]
  },
  {
   "cell_type": "markdown",
   "metadata": {},
   "source": [
    "## Developing a custom sklearn estimator"
   ]
  },
  {
   "cell_type": "markdown",
   "metadata": {},
   "source": [
    "We follow the guides at the following links \n",
    "- https://sklearn-template.readthedocs.io/en/latest/user_guide.html\n",
    "- https://scikit-learn.org/dev/developers/develop.html\n"
   ]
  },
  {
   "cell_type": "code",
   "execution_count": 11,
   "metadata": {},
   "outputs": [],
   "source": [
    "from sklearn.base import ClassifierMixin\n",
    "from sklearn.linear_model import LogisticRegression\n",
    "from sklearn.utils.validation import check_is_fitted"
   ]
  },
  {
   "cell_type": "markdown",
   "metadata": {},
   "source": [
    "### The model \"OffLogistic\" definition"
   ]
  },
  {
   "cell_type": "code",
   "execution_count": 12,
   "metadata": {},
   "outputs": [],
   "source": [
    "\n",
    "\n",
    "class OffLogistic(ClassifierMixin):\n",
    "    def __init__(self, random_state = 42, features = []):\n",
    "        # parameters\n",
    "        self.random_state = random_state\n",
    "\n",
    "        # internal variable, exposed to user\n",
    "        self.model_ = LogisticRegression(random_state=random_state)\n",
    "        self.features_ = features\n",
    "\n",
    "    def fit(self, X, y):\n",
    "\n",
    "        # expect feature names for X\n",
    "        # expect variables offtrt and time\n",
    "        \n",
    "\n",
    "        mask_on = X['offtrt'] < 0\n",
    "        if \"time\" in X.columns:\n",
    "            mask_time = X['time'] <= 707\n",
    "        elif \"time_censored\" in X.columns:\n",
    "            mask_time = X['time_censored'] >= -0.33836866\n",
    "\n",
    "\n",
    "        if len(self.features_) > 0:\n",
    "            X_fit = X.copy()[self.features_]\n",
    "        else:\n",
    "            X_fit = X.copy()\n",
    "\n",
    "        #X_on_time = X[mask_on & mask_time]\n",
    "        X_other = X_fit[~(mask_on & mask_time)]\n",
    "        y_other = y[~(mask_on & mask_time)]\n",
    "\n",
    "        self.model_.fit(X_other,y_other)\n",
    "\n",
    "        return self\n",
    "    \n",
    "    def predict(self,X) :\n",
    "\n",
    "        \n",
    "        if len(self.features_) > 0:\n",
    "            X_fit = X.copy()[self.features_]\n",
    "        else:\n",
    "            X_fit = X.copy()\n",
    "        \n",
    "\n",
    "        mask_on = X_fit['offtrt'] < 0\n",
    "        if \"time\" in X.columns:\n",
    "            mask_time = X_fit['time'] <= 707\n",
    "        elif \"time_censored\" in X.columns:\n",
    "            mask_time = X_fit['time_censored'] >= -0.33836866\n",
    "\n",
    "        X_on_time = X_fit[mask_on & mask_time]\n",
    "        X_other = X_fit[~(mask_on & mask_time)]\n",
    "\n",
    "        y_pred = pd.Series(index=X.index)\n",
    "\n",
    "        y_pred.loc[mask_on & mask_time] = 1\n",
    "        y_pred.loc[~(mask_on & mask_time)] = self.model_.predict(X_other)\n",
    "        \n",
    "        return y_pred \n",
    "    \n",
    "\n",
    "    def predict_proba(self,X) :\n",
    "\n",
    "        if len(self.features_) > 0:\n",
    "            X_fit = X.copy()[self.features_]\n",
    "        \n",
    "\n",
    "\n",
    "\n",
    "        mask_on = X_fit['offtrt'] < 0\n",
    "        if \"time\" in X_fit.columns:\n",
    "            mask_time = X_fit['time'] <= 707\n",
    "        elif \"time_censored\" in X.columns:\n",
    "            mask_time = X_fit['time_censored'] >= -0.33836866\n",
    "\n",
    "        X_on_time = X_fit[mask_on & mask_time]\n",
    "        X_other = X_fit[~(mask_on & mask_time)]\n",
    "\n",
    "        y_proba = pd.Series(index=X.index)\n",
    "\n",
    "        y_proba.loc[mask_on & mask_time] = (0,1)\n",
    "        y_proba.loc[~(mask_on & mask_time)] = self.model_.predict_proba(X_other)\n",
    "        \n",
    "        return y_proba\n",
    "\n",
    "\n",
    "    def get_params(self, deep=True):\n",
    "        \"\"\"\n",
    "        Return the parameters of the classifier as a dictionary.\n",
    "        The get_params function takes no arguments and returns a dict of the __init__ parameters of the estimator, together with their values.\n",
    "        \"\"\"\n",
    "        return {\"random_state\": self.random_state, \"features\": self.features_}\n",
    "\n",
    "    def set_params(self, **params):\n",
    "        \"\"\"\n",
    "        Set the parameters of the classifier.\n",
    "        \"\"\"\n",
    "        for key, value in params.items():\n",
    "            setattr(self, key, value)\n",
    "        return self\n",
    "\n",
    "\n",
    "\n",
    "\n",
    "    "
   ]
  },
  {
   "cell_type": "markdown",
   "metadata": {},
   "source": [
    "### The model \"OffLogistic2\""
   ]
  },
  {
   "cell_type": "code",
   "execution_count": 13,
   "metadata": {},
   "outputs": [],
   "source": [
    "\n",
    "class OffLogistic2(ClassifierMixin):\n",
    "    def __init__(self, \n",
    "                random_state = 42, \n",
    "                features_on = ['z30', 'cd420', 'time730'], \n",
    "                features_off = ['age', 'drugs', 'hemo', 'cd820', 'preanti', 'race', 'cd420', 'time730', 'z30', 'time_censored']):\n",
    "        # parameters\n",
    "        self.random_state = random_state\n",
    "        self.features_off = features_off\n",
    "        self.features_on = features_on\n",
    "\n",
    "        # internal variables, exposed to user\n",
    "        self.model_on_ = LogisticRegression(random_state=random_state)\n",
    "        self.model_off_ = LogisticRegression(random_state=random_state)\n",
    "    \n",
    "    def mask_on_time1(self,X,y):      \n",
    "        mask_time1 = X['time_censored']>=-0.33836866\n",
    "        mask_on = X['offtrt']<0\n",
    "\n",
    "        X_on = X[ mask_on & mask_time1]\n",
    "        y_on = y[ mask_on & mask_time1]\n",
    "\n",
    "        X_on_copy = X_on.copy() #.drop(columns = ['offtrt'])\n",
    "\n",
    "        return X_on_copy, y_on.copy(), mask_on & mask_time1\n",
    "\n",
    "    def mask_on_time2(self,X,y):      \n",
    "        mask_time2 = X['time_censored']<-0.33836866\n",
    "        mask_on = X['offtrt']<0\n",
    "\n",
    "        X_on = X[ mask_on & mask_time2]\n",
    "        y_on = y[ mask_on & mask_time2]\n",
    "        \n",
    "        X_on = X_on[self.features_on]\n",
    "\n",
    "\n",
    "        X_on_copy = X_on.copy() #.drop(columns = ['offtrt'])\n",
    "\n",
    "        return X_on_copy, y_on.copy(), mask_on & mask_time2\n",
    "\n",
    "    def mask_off(self,X,y):\n",
    "        mask_off = X['offtrt']>0\n",
    "\n",
    "        X_off = X[ mask_off]\n",
    "        y_off = y[ mask_off]\n",
    "\n",
    "        X_off = X_off[self.features_off]\n",
    "\n",
    "        X_off_copy = X_off.copy() #.drop(columns = ['offtrt'])\n",
    "\n",
    "\n",
    "        return X_off_copy, y_off, mask_off\n",
    "\n",
    "\n",
    "    def fit(self, X, y):\n",
    "\n",
    "        # expect feature names for X\n",
    "        # expect variables offtrt and time_censored\n",
    "        \n",
    "        X_on_time1, y_on_time1, mask_on_time1 = self.mask_on_time1(X,y)\n",
    "        X_on_time2, y_on_time2, mask_on_time2 = self.mask_on_time2(X,y)\n",
    "        X_off, y_off, mask_off = self.mask_off(X,y)\n",
    "        \n",
    "        self.model_on_.fit(X_on_time2,y_on_time2)\n",
    "        self.model_off_.fit(X_off,y_off)\n",
    "\n",
    "        return self\n",
    "    \n",
    "    def predict(self,X) :\n",
    "\n",
    "        \n",
    "        X_on_time1, y_on_time1, mask_on_time1 = self.mask_on_time1(X,X)\n",
    "        X_on_time2, y_on_time2, mask_on_time2 = self.mask_on_time2(X,X)\n",
    "        X_off, y_off, mask_off = self.mask_off(X,X)\n",
    "        \n",
    "        y_pred = pd.Series(index=X.index)\n",
    "\n",
    "        y_pred.loc[mask_on_time1] = 1\n",
    "        y_pred.loc[mask_on_time2] = self.model_on_.predict(X_on_time2)\n",
    "        y_pred.loc[mask_off] = self.model_off_.predict(X_off)\n",
    "        \n",
    "        return y_pred \n",
    "    \n",
    "\n",
    "    def predict_proba(self,X) :\n",
    "\n",
    "        \n",
    "        X_on_time1, y_on_time1, mask_on_time1 = self.mask_on_time1(X,X)\n",
    "        X_on_time2, y_on_time2, mask_on_time2 = self.mask_on_time2(X,X)\n",
    "        X_off, y_off, mask_off = self.mask_off(X,X)\n",
    "        \n",
    "\n",
    "        y_proba = pd.Series(index=X.index)\n",
    "\n",
    "        y_proba.loc[mask_on_time1] = [[0, 1]] * mask_on_time1.sum()\n",
    "        y_proba.loc[mask_on_time2] = self.model_on_.predict_proba(X_on_time2)\n",
    "        y_proba.loc[mask_off] = self.model_off_.predict_proba(X_off)\n",
    "        \n",
    "        return y_proba\n",
    "\n",
    "\n",
    "    def get_params(self, deep=True):\n",
    "        \"\"\"\n",
    "        Return the parameters of the classifier as a dictionary.\n",
    "        \"\"\"\n",
    "        return {\"random_state\": self.random_state, \"features_on\": self.features_on, \"features_off\": self.features_off}\n",
    "\n",
    "    def set_params(self, **params):\n",
    "        \"\"\"\n",
    "        Set the parameters of the classifier.\n",
    "        \"\"\"\n",
    "        for key, value in params.items():\n",
    "            setattr(self, key, value)\n",
    "        return self\n",
    "\n",
    "\n",
    "\n",
    "\n",
    "    "
   ]
  },
  {
   "cell_type": "markdown",
   "metadata": {},
   "source": [
    "### The model Offlogistic3 with scaler and oversampler"
   ]
  },
  {
   "cell_type": "code",
   "execution_count": 14,
   "metadata": {},
   "outputs": [],
   "source": [
    "from imblearn.over_sampling import SMOTENC\n"
   ]
  },
  {
   "cell_type": "code",
   "execution_count": 39,
   "metadata": {},
   "outputs": [],
   "source": [
    "\n",
    "class OffLogistic3(ClassifierMixin):\n",
    "    def __init__(self, \n",
    "                random_state = 42, \n",
    "                features_on = ['z30', 'cd420', 'time730'], \n",
    "                features_off = ['age', 'drugs', 'hemo', 'cd820', 'preanti', 'race', 'cd420', 'time730', 'z30', 'time_censored']):\n",
    "        # parameters\n",
    "        self.random_state = random_state\n",
    "        self.features_off = features_off\n",
    "        self.features_on = features_on\n",
    "\n",
    "        # internal variables, exposed to user\n",
    "        self.scaler_on_ = StandardScaler()\n",
    "        self.scaler_off_ = StandardScaler()\n",
    "        self.cat_features_on = [c for c in features_on if c in self.all_cat_features()]\n",
    "        self.cat_features_off = [c for c in features_off if c in self.all_cat_features()]\n",
    "        self.smote_on_ = SMOTENC(categorical_features=self.cat_features_on, sampling_strategy=1.0, random_state=42)\n",
    "        self.smote_off_ = SMOTENC(categorical_features=self.cat_features_off, sampling_strategy=1.0, random_state=42)\n",
    "        self.model_on_ = LogisticRegression(random_state=random_state)\n",
    "        self.model_off_ = LogisticRegression(random_state=random_state)\n",
    "    \n",
    "    def all_cat_features(self):\n",
    "        \n",
    "        return  ['hemo', 'homo', 'drugs', 'karnof',\n",
    "                'oprior', 'z30', 'race', 'gender',\n",
    "                'str2', 'strat', 'symptom', 'offtrt',\n",
    "                'trt0', 'trt1', 'trt2']\n",
    "\n",
    "    def mask_on_time1(self,X,y):      \n",
    "        #mask_time1 = X['time_censored']>=-0.33836866\n",
    "        mask_time1 = X['time_censored']>=23\n",
    "        mask_on = X['offtrt']==0\n",
    "\n",
    "        X_on = X[ mask_on & mask_time1]\n",
    "        y_on = y[ mask_on & mask_time1]\n",
    "\n",
    "        X_on_copy = X_on.copy() #.drop(columns = ['offtrt'])\n",
    "\n",
    "        return X_on_copy, y_on.copy(), mask_on & mask_time1\n",
    "\n",
    "    def mask_on_time2(self,X,y):      \n",
    "        mask_time2 = X['time_censored']<23\n",
    "        mask_on = X['offtrt']==0\n",
    "\n",
    "        X_on = X[ mask_on & mask_time2]\n",
    "        y_on = y[ mask_on & mask_time2]\n",
    "        \n",
    "        X_on = X_on[self.features_on]\n",
    "\n",
    "\n",
    "        X_on_copy = X_on.copy() #.drop(columns = ['offtrt'])\n",
    "\n",
    "        return X_on_copy, y_on.copy(), mask_on & mask_time2\n",
    "\n",
    "    def mask_off(self,X,y):\n",
    "        mask_off = X['offtrt']==1\n",
    "\n",
    "        X_off = X[ mask_off]\n",
    "        y_off = y[ mask_off]\n",
    "\n",
    "        X_off = X_off[self.features_off]\n",
    "\n",
    "        X_off_copy = X_off.copy() #.drop(columns = ['offtrt'])\n",
    "\n",
    "\n",
    "        return X_off_copy, y_off, mask_off\n",
    "\n",
    "\n",
    "    def fit(self, X, y):\n",
    "\n",
    "        # expect feature names for X\n",
    "        # expect variables offtrt and time_censored\n",
    "        # requires unscaled data\n",
    "        \n",
    "        X_on_time1, y_on_time1, mask_on_time1 = self.mask_on_time1(X,y)\n",
    "        X_on_time2, y_on_time2, mask_on_time2 = self.mask_on_time2(X,y)\n",
    "        X_off, y_off, mask_off = self.mask_off(X,y)\n",
    "\n",
    "        self.scaler_on_.fit(X_on_time2)\n",
    "        self.scaler_off_.fit(X_off)\n",
    "\n",
    "        X_on_scaled = pd.DataFrame( self.scaler_on_.transform(X_on_time2), columns = self.features_on)\n",
    "        X_off_scaled = pd.DataFrame( self.scaler_off_.transform(X_off), columns = self.features_off)\n",
    "\n",
    "        X_on_smote, y_on_smote = self.smote_on_.fit_resample(X_on_scaled,y_on_time2)\n",
    "        X_off_smote, y_off_smote = self.smote_on_.fit_resample(X_off_scaled,y_off)\n",
    "        \n",
    "        self.model_on_.fit(X_on_smote,y_on_smote)\n",
    "        self.model_off_.fit(X_off_smote,y_off_smote)\n",
    "\n",
    "        return self\n",
    "    \n",
    "    def predict(self,X) :\n",
    "\n",
    "        \n",
    "        _,          _,  mask_on_time1 = self.mask_on_time1(X,X)\n",
    "        X_on_time2, _,  mask_on_time2 = self.mask_on_time2(X,X)\n",
    "        X_off,      _,  mask_off = self.mask_off(X,X)\n",
    "        \n",
    "        y_pred = pd.Series(index=X.index)\n",
    "\n",
    "        X_on_test_scaled = pd.DataFrame(self.scaler_on_.transform(X_on_time2), columns = self.features_on )\n",
    "        X_off_test_scaled = pd.DataFrame(self.scaler_off_.transform(X_off),columns = self.features_off )\n",
    "\n",
    "        y_pred.loc[mask_on_time1] = 1\n",
    "        y_pred.loc[mask_on_time2] = self.model_on_.predict(X_on_test_scaled)\n",
    "        y_pred.loc[mask_off] = self.model_off_.predict(X_off_test_scaled)\n",
    "        \n",
    "        return y_pred \n",
    "    \n",
    "\n",
    "    def predict_proba(self,X) :\n",
    "\n",
    "        _,          _,  mask_on_time1 = self.mask_on_time1(X,X)\n",
    "        X_on_time2, _,  mask_on_time2 = self.mask_on_time2(X,X)\n",
    "        X_off,      _,  mask_off = self.mask_off(X,X)\n",
    "        \n",
    "        X_on_test_scaled = pd.DataFrame(self.scaler_on_.transform(X_on_time2), columns = self.features_on )\n",
    "        X_off_test_scaled = pd.DataFrame(self.scaler_off_.transform(X_off),columns = self.features_off )\n",
    "\n",
    "        y_proba = pd.Series(index=X.index)\n",
    "\n",
    "        y_proba.loc[mask_on_time1] = [[0, 1]] * mask_on_time1.sum()\n",
    "        y_proba.loc[mask_on_time2] = self.model_on_.predict_proba(X_on_test_scaled)\n",
    "        y_proba.loc[mask_off] = self.model_off_.predict_proba(X_off_test_scaled)\n",
    "        \n",
    "        return y_proba\n",
    "\n",
    "\n",
    "    def get_params(self, deep=True):\n",
    "        \"\"\"\n",
    "        Return the parameters of the classifier as a dictionary.\n",
    "        \"\"\"\n",
    "        return {\"random_state\": self.random_state, \"features_on\": self.features_on, \"features_off\": self.features_off}\n",
    "\n",
    "    def set_params(self, **params):\n",
    "        \"\"\"\n",
    "        Set the parameters of the classifier.\n",
    "        \"\"\"\n",
    "        for key, value in params.items():\n",
    "            setattr(self, key, value)\n",
    "\n",
    "        self.cat_features_on = [c for c in self.features_on if c in self.all_cat_features()]\n",
    "        self.cat_features_off = [c for c in self.features_off if c in self.all_cat_features()]\n",
    "        self.smote_on_ = SMOTENC(categorical_features=self.cat_features_on, sampling_strategy=1.0, random_state=42)\n",
    "        self.smote_off_ = SMOTENC(categorical_features=self.cat_features_off, sampling_strategy=1.0, random_state=42)\n",
    "        self.model_on_ = LogisticRegression(random_state=self.random_state)\n",
    "        self.model_off_ = LogisticRegression(random_state=self.random_state)\n",
    "    \n",
    "        return self\n",
    "\n",
    "\n",
    "\n",
    "\n",
    "    "
   ]
  },
  {
   "cell_type": "markdown",
   "metadata": {},
   "source": [
    "## Load data"
   ]
  },
  {
   "cell_type": "code",
   "execution_count": 16,
   "metadata": {},
   "outputs": [],
   "source": [
    "data = datasets.data_original()"
   ]
  },
  {
   "cell_type": "code",
   "execution_count": 17,
   "metadata": {},
   "outputs": [],
   "source": [
    "data = features.engineer(data)"
   ]
  },
  {
   "cell_type": "markdown",
   "metadata": {},
   "source": [
    "### Train test split (unprocessed)"
   ]
  },
  {
   "cell_type": "code",
   "execution_count": 18,
   "metadata": {},
   "outputs": [],
   "source": [
    "X_, y_ = data.drop('infected', axis=1), data['infected']\n",
    "X_train_, X_test_, y_train_, y_test_ = train_test_split(X_, y_, test_size = 0.2, random_state=42, stratify = y_)\n"
   ]
  },
  {
   "cell_type": "markdown",
   "metadata": {},
   "source": [
    "### Oversampling train data "
   ]
  },
  {
   "cell_type": "code",
   "execution_count": 19,
   "metadata": {},
   "outputs": [],
   "source": [
    "# identify categorical features \n",
    "# The dataset does not have categorical features with more than 4 categories\n",
    "cat_features = [c for c in X_train_.columns if X_train_[c].nunique() < 5]"
   ]
  },
  {
   "cell_type": "code",
   "execution_count": 20,
   "metadata": {},
   "outputs": [],
   "source": [
    "smote_nc = SMOTENC(categorical_features=cat_features, sampling_strategy=1.0, random_state=42)\n",
    "X_oversampled, y_oversampled = smote_nc.fit_resample(X_train_, y_train_) "
   ]
  },
  {
   "cell_type": "markdown",
   "metadata": {},
   "source": [
    "### Scaling the data "
   ]
  },
  {
   "cell_type": "code",
   "execution_count": 21,
   "metadata": {},
   "outputs": [],
   "source": [
    "scaler = StandardScaler()\n",
    "\n",
    "scaler.fit(X_train_)\n",
    "\n",
    "X_train_scaled_oversampled = scaler.transform(X_oversampled)\n",
    "X_test_scaled = pd.DataFrame(scaler.transform(X_test_), columns = X_train_.columns)\n",
    "X_train_scaled = pd.DataFrame(scaler.transform(X_train_), columns = X_train_.columns)"
   ]
  },
  {
   "cell_type": "markdown",
   "metadata": {},
   "source": [
    "### Data ready for Machine Learning"
   ]
  },
  {
   "cell_type": "code",
   "execution_count": 22,
   "metadata": {},
   "outputs": [],
   "source": [
    "X_train = pd.DataFrame(X_train_scaled_oversampled,columns=X_.columns)\n",
    "X_test = pd.DataFrame(X_test_scaled,columns=X_.columns)\n",
    "y_train =y_oversampled \n",
    "y_test = y_test_ "
   ]
  },
  {
   "cell_type": "markdown",
   "metadata": {},
   "source": [
    "## Train test evaluation"
   ]
  },
  {
   "cell_type": "markdown",
   "metadata": {},
   "source": [
    "### Load and train the models"
   ]
  },
  {
   "cell_type": "code",
   "execution_count": 40,
   "metadata": {},
   "outputs": [],
   "source": [
    "model1 = OffLogistic()\n",
    "model2 = OffLogistic2()\n",
    "model3 = OffLogistic3()"
   ]
  },
  {
   "cell_type": "code",
   "execution_count": 104,
   "metadata": {},
   "outputs": [
    {
     "data": {
      "text/plain": [
       "<__main__.OffLogistic3 at 0x1fb7475ae40>"
      ]
     },
     "execution_count": 104,
     "metadata": {},
     "output_type": "execute_result"
    }
   ],
   "source": [
    "model1.fit(X_train,y_train)\n",
    "model2.fit(X_train,y_train)\n",
    "model3.fit(X_train_,y_train_)"
   ]
  },
  {
   "cell_type": "code",
   "execution_count": 106,
   "metadata": {},
   "outputs": [
    {
     "data": {
      "text/plain": [
       "' last saved 17/01/2025\\nfilenames = [\\'models/offlogistic1_smote.pkl\\', \\'models/offlogistic2_smote.pkl\\', \\'models/offlogistic3.pkl\\']\\nmodels = [model1,model2,model3]\\n\\nfor filename, model in zip(filenames,models):\\n    with open(filename,\"wb\") as file:\\n        pickle.dump(model,file)\\n'"
      ]
     },
     "execution_count": 106,
     "metadata": {},
     "output_type": "execute_result"
    }
   ],
   "source": [
    "import pickle\n",
    "\"\"\" last saved 17/01/2025\n",
    "filenames = ['models/offlogistic1_smote.pkl', 'models/offlogistic2_smote.pkl', 'models/offlogistic3.pkl']\n",
    "models = [model1,model2,model3]\n",
    "\n",
    "for filename, model in zip(filenames,models):\n",
    "    with open(filename,\"wb\") as file:\n",
    "        pickle.dump(model,file)\n",
    "\"\"\"\n"
   ]
  },
  {
   "cell_type": "markdown",
   "metadata": {},
   "source": [
    "### Test accuracy and recall"
   ]
  },
  {
   "cell_type": "code",
   "execution_count": 42,
   "metadata": {},
   "outputs": [],
   "source": [
    "y_pred1 = model1.predict(X_test)\n",
    "y_pred2 = model2.predict(X_test)\n",
    "y_pred3 = model3.predict(X_test_)"
   ]
  },
  {
   "cell_type": "code",
   "execution_count": 45,
   "metadata": {},
   "outputs": [
    {
     "name": "stdout",
     "output_type": "stream",
     "text": [
      "OffLogistic test accuracy 0.8995327102803738\n",
      "OffLogistic2 test accuracy 0.9112149532710281\n",
      "OffLogistic3 test accuracy 0.8925233644859814\n"
     ]
    }
   ],
   "source": [
    "print(\"OffLogistic test accuracy\", accuracy_score(y_test,y_pred1))\n",
    "print(\"OffLogistic2 test accuracy\", accuracy_score(y_test,y_pred2))\n",
    "print(\"OffLogistic3 test accuracy\", accuracy_score(y_test,y_pred3))"
   ]
  },
  {
   "cell_type": "code",
   "execution_count": 46,
   "metadata": {},
   "outputs": [
    {
     "name": "stdout",
     "output_type": "stream",
     "text": [
      "OffLogistic test recall 0.8076923076923077\n",
      "OffLogistic2 test recall 0.8365384615384616\n",
      "OffLogistic2 test recall 0.8557692307692307\n"
     ]
    }
   ],
   "source": [
    "print(\"OffLogistic test recall\", recall_score(y_test,y_pred1))\n",
    "print(\"OffLogistic2 test recall\", recall_score(y_test,y_pred2))\n",
    "print(\"OffLogistic3 test recall\", recall_score(y_test,y_pred3))"
   ]
  },
  {
   "cell_type": "markdown",
   "metadata": {},
   "source": [
    "## CV accuracy and recall"
   ]
  },
  {
   "cell_type": "code",
   "execution_count": 47,
   "metadata": {},
   "outputs": [
    {
     "data": {
      "text/html": [
       "<style>#sk-container-id-1 {\n",
       "  /* Definition of color scheme common for light and dark mode */\n",
       "  --sklearn-color-text: black;\n",
       "  --sklearn-color-line: gray;\n",
       "  /* Definition of color scheme for unfitted estimators */\n",
       "  --sklearn-color-unfitted-level-0: #fff5e6;\n",
       "  --sklearn-color-unfitted-level-1: #f6e4d2;\n",
       "  --sklearn-color-unfitted-level-2: #ffe0b3;\n",
       "  --sklearn-color-unfitted-level-3: chocolate;\n",
       "  /* Definition of color scheme for fitted estimators */\n",
       "  --sklearn-color-fitted-level-0: #f0f8ff;\n",
       "  --sklearn-color-fitted-level-1: #d4ebff;\n",
       "  --sklearn-color-fitted-level-2: #b3dbfd;\n",
       "  --sklearn-color-fitted-level-3: cornflowerblue;\n",
       "\n",
       "  /* Specific color for light theme */\n",
       "  --sklearn-color-text-on-default-background: var(--sg-text-color, var(--theme-code-foreground, var(--jp-content-font-color1, black)));\n",
       "  --sklearn-color-background: var(--sg-background-color, var(--theme-background, var(--jp-layout-color0, white)));\n",
       "  --sklearn-color-border-box: var(--sg-text-color, var(--theme-code-foreground, var(--jp-content-font-color1, black)));\n",
       "  --sklearn-color-icon: #696969;\n",
       "\n",
       "  @media (prefers-color-scheme: dark) {\n",
       "    /* Redefinition of color scheme for dark theme */\n",
       "    --sklearn-color-text-on-default-background: var(--sg-text-color, var(--theme-code-foreground, var(--jp-content-font-color1, white)));\n",
       "    --sklearn-color-background: var(--sg-background-color, var(--theme-background, var(--jp-layout-color0, #111)));\n",
       "    --sklearn-color-border-box: var(--sg-text-color, var(--theme-code-foreground, var(--jp-content-font-color1, white)));\n",
       "    --sklearn-color-icon: #878787;\n",
       "  }\n",
       "}\n",
       "\n",
       "#sk-container-id-1 {\n",
       "  color: var(--sklearn-color-text);\n",
       "}\n",
       "\n",
       "#sk-container-id-1 pre {\n",
       "  padding: 0;\n",
       "}\n",
       "\n",
       "#sk-container-id-1 input.sk-hidden--visually {\n",
       "  border: 0;\n",
       "  clip: rect(1px 1px 1px 1px);\n",
       "  clip: rect(1px, 1px, 1px, 1px);\n",
       "  height: 1px;\n",
       "  margin: -1px;\n",
       "  overflow: hidden;\n",
       "  padding: 0;\n",
       "  position: absolute;\n",
       "  width: 1px;\n",
       "}\n",
       "\n",
       "#sk-container-id-1 div.sk-dashed-wrapped {\n",
       "  border: 1px dashed var(--sklearn-color-line);\n",
       "  margin: 0 0.4em 0.5em 0.4em;\n",
       "  box-sizing: border-box;\n",
       "  padding-bottom: 0.4em;\n",
       "  background-color: var(--sklearn-color-background);\n",
       "}\n",
       "\n",
       "#sk-container-id-1 div.sk-container {\n",
       "  /* jupyter's `normalize.less` sets `[hidden] { display: none; }`\n",
       "     but bootstrap.min.css set `[hidden] { display: none !important; }`\n",
       "     so we also need the `!important` here to be able to override the\n",
       "     default hidden behavior on the sphinx rendered scikit-learn.org.\n",
       "     See: https://github.com/scikit-learn/scikit-learn/issues/21755 */\n",
       "  display: inline-block !important;\n",
       "  position: relative;\n",
       "}\n",
       "\n",
       "#sk-container-id-1 div.sk-text-repr-fallback {\n",
       "  display: none;\n",
       "}\n",
       "\n",
       "div.sk-parallel-item,\n",
       "div.sk-serial,\n",
       "div.sk-item {\n",
       "  /* draw centered vertical line to link estimators */\n",
       "  background-image: linear-gradient(var(--sklearn-color-text-on-default-background), var(--sklearn-color-text-on-default-background));\n",
       "  background-size: 2px 100%;\n",
       "  background-repeat: no-repeat;\n",
       "  background-position: center center;\n",
       "}\n",
       "\n",
       "/* Parallel-specific style estimator block */\n",
       "\n",
       "#sk-container-id-1 div.sk-parallel-item::after {\n",
       "  content: \"\";\n",
       "  width: 100%;\n",
       "  border-bottom: 2px solid var(--sklearn-color-text-on-default-background);\n",
       "  flex-grow: 1;\n",
       "}\n",
       "\n",
       "#sk-container-id-1 div.sk-parallel {\n",
       "  display: flex;\n",
       "  align-items: stretch;\n",
       "  justify-content: center;\n",
       "  background-color: var(--sklearn-color-background);\n",
       "  position: relative;\n",
       "}\n",
       "\n",
       "#sk-container-id-1 div.sk-parallel-item {\n",
       "  display: flex;\n",
       "  flex-direction: column;\n",
       "}\n",
       "\n",
       "#sk-container-id-1 div.sk-parallel-item:first-child::after {\n",
       "  align-self: flex-end;\n",
       "  width: 50%;\n",
       "}\n",
       "\n",
       "#sk-container-id-1 div.sk-parallel-item:last-child::after {\n",
       "  align-self: flex-start;\n",
       "  width: 50%;\n",
       "}\n",
       "\n",
       "#sk-container-id-1 div.sk-parallel-item:only-child::after {\n",
       "  width: 0;\n",
       "}\n",
       "\n",
       "/* Serial-specific style estimator block */\n",
       "\n",
       "#sk-container-id-1 div.sk-serial {\n",
       "  display: flex;\n",
       "  flex-direction: column;\n",
       "  align-items: center;\n",
       "  background-color: var(--sklearn-color-background);\n",
       "  padding-right: 1em;\n",
       "  padding-left: 1em;\n",
       "}\n",
       "\n",
       "\n",
       "/* Toggleable style: style used for estimator/Pipeline/ColumnTransformer box that is\n",
       "clickable and can be expanded/collapsed.\n",
       "- Pipeline and ColumnTransformer use this feature and define the default style\n",
       "- Estimators will overwrite some part of the style using the `sk-estimator` class\n",
       "*/\n",
       "\n",
       "/* Pipeline and ColumnTransformer style (default) */\n",
       "\n",
       "#sk-container-id-1 div.sk-toggleable {\n",
       "  /* Default theme specific background. It is overwritten whether we have a\n",
       "  specific estimator or a Pipeline/ColumnTransformer */\n",
       "  background-color: var(--sklearn-color-background);\n",
       "}\n",
       "\n",
       "/* Toggleable label */\n",
       "#sk-container-id-1 label.sk-toggleable__label {\n",
       "  cursor: pointer;\n",
       "  display: block;\n",
       "  width: 100%;\n",
       "  margin-bottom: 0;\n",
       "  padding: 0.5em;\n",
       "  box-sizing: border-box;\n",
       "  text-align: center;\n",
       "}\n",
       "\n",
       "#sk-container-id-1 label.sk-toggleable__label-arrow:before {\n",
       "  /* Arrow on the left of the label */\n",
       "  content: \"▸\";\n",
       "  float: left;\n",
       "  margin-right: 0.25em;\n",
       "  color: var(--sklearn-color-icon);\n",
       "}\n",
       "\n",
       "#sk-container-id-1 label.sk-toggleable__label-arrow:hover:before {\n",
       "  color: var(--sklearn-color-text);\n",
       "}\n",
       "\n",
       "/* Toggleable content - dropdown */\n",
       "\n",
       "#sk-container-id-1 div.sk-toggleable__content {\n",
       "  max-height: 0;\n",
       "  max-width: 0;\n",
       "  overflow: hidden;\n",
       "  text-align: left;\n",
       "  /* unfitted */\n",
       "  background-color: var(--sklearn-color-unfitted-level-0);\n",
       "}\n",
       "\n",
       "#sk-container-id-1 div.sk-toggleable__content.fitted {\n",
       "  /* fitted */\n",
       "  background-color: var(--sklearn-color-fitted-level-0);\n",
       "}\n",
       "\n",
       "#sk-container-id-1 div.sk-toggleable__content pre {\n",
       "  margin: 0.2em;\n",
       "  border-radius: 0.25em;\n",
       "  color: var(--sklearn-color-text);\n",
       "  /* unfitted */\n",
       "  background-color: var(--sklearn-color-unfitted-level-0);\n",
       "}\n",
       "\n",
       "#sk-container-id-1 div.sk-toggleable__content.fitted pre {\n",
       "  /* unfitted */\n",
       "  background-color: var(--sklearn-color-fitted-level-0);\n",
       "}\n",
       "\n",
       "#sk-container-id-1 input.sk-toggleable__control:checked~div.sk-toggleable__content {\n",
       "  /* Expand drop-down */\n",
       "  max-height: 200px;\n",
       "  max-width: 100%;\n",
       "  overflow: auto;\n",
       "}\n",
       "\n",
       "#sk-container-id-1 input.sk-toggleable__control:checked~label.sk-toggleable__label-arrow:before {\n",
       "  content: \"▾\";\n",
       "}\n",
       "\n",
       "/* Pipeline/ColumnTransformer-specific style */\n",
       "\n",
       "#sk-container-id-1 div.sk-label input.sk-toggleable__control:checked~label.sk-toggleable__label {\n",
       "  color: var(--sklearn-color-text);\n",
       "  background-color: var(--sklearn-color-unfitted-level-2);\n",
       "}\n",
       "\n",
       "#sk-container-id-1 div.sk-label.fitted input.sk-toggleable__control:checked~label.sk-toggleable__label {\n",
       "  background-color: var(--sklearn-color-fitted-level-2);\n",
       "}\n",
       "\n",
       "/* Estimator-specific style */\n",
       "\n",
       "/* Colorize estimator box */\n",
       "#sk-container-id-1 div.sk-estimator input.sk-toggleable__control:checked~label.sk-toggleable__label {\n",
       "  /* unfitted */\n",
       "  background-color: var(--sklearn-color-unfitted-level-2);\n",
       "}\n",
       "\n",
       "#sk-container-id-1 div.sk-estimator.fitted input.sk-toggleable__control:checked~label.sk-toggleable__label {\n",
       "  /* fitted */\n",
       "  background-color: var(--sklearn-color-fitted-level-2);\n",
       "}\n",
       "\n",
       "#sk-container-id-1 div.sk-label label.sk-toggleable__label,\n",
       "#sk-container-id-1 div.sk-label label {\n",
       "  /* The background is the default theme color */\n",
       "  color: var(--sklearn-color-text-on-default-background);\n",
       "}\n",
       "\n",
       "/* On hover, darken the color of the background */\n",
       "#sk-container-id-1 div.sk-label:hover label.sk-toggleable__label {\n",
       "  color: var(--sklearn-color-text);\n",
       "  background-color: var(--sklearn-color-unfitted-level-2);\n",
       "}\n",
       "\n",
       "/* Label box, darken color on hover, fitted */\n",
       "#sk-container-id-1 div.sk-label.fitted:hover label.sk-toggleable__label.fitted {\n",
       "  color: var(--sklearn-color-text);\n",
       "  background-color: var(--sklearn-color-fitted-level-2);\n",
       "}\n",
       "\n",
       "/* Estimator label */\n",
       "\n",
       "#sk-container-id-1 div.sk-label label {\n",
       "  font-family: monospace;\n",
       "  font-weight: bold;\n",
       "  display: inline-block;\n",
       "  line-height: 1.2em;\n",
       "}\n",
       "\n",
       "#sk-container-id-1 div.sk-label-container {\n",
       "  text-align: center;\n",
       "}\n",
       "\n",
       "/* Estimator-specific */\n",
       "#sk-container-id-1 div.sk-estimator {\n",
       "  font-family: monospace;\n",
       "  border: 1px dotted var(--sklearn-color-border-box);\n",
       "  border-radius: 0.25em;\n",
       "  box-sizing: border-box;\n",
       "  margin-bottom: 0.5em;\n",
       "  /* unfitted */\n",
       "  background-color: var(--sklearn-color-unfitted-level-0);\n",
       "}\n",
       "\n",
       "#sk-container-id-1 div.sk-estimator.fitted {\n",
       "  /* fitted */\n",
       "  background-color: var(--sklearn-color-fitted-level-0);\n",
       "}\n",
       "\n",
       "/* on hover */\n",
       "#sk-container-id-1 div.sk-estimator:hover {\n",
       "  /* unfitted */\n",
       "  background-color: var(--sklearn-color-unfitted-level-2);\n",
       "}\n",
       "\n",
       "#sk-container-id-1 div.sk-estimator.fitted:hover {\n",
       "  /* fitted */\n",
       "  background-color: var(--sklearn-color-fitted-level-2);\n",
       "}\n",
       "\n",
       "/* Specification for estimator info (e.g. \"i\" and \"?\") */\n",
       "\n",
       "/* Common style for \"i\" and \"?\" */\n",
       "\n",
       ".sk-estimator-doc-link,\n",
       "a:link.sk-estimator-doc-link,\n",
       "a:visited.sk-estimator-doc-link {\n",
       "  float: right;\n",
       "  font-size: smaller;\n",
       "  line-height: 1em;\n",
       "  font-family: monospace;\n",
       "  background-color: var(--sklearn-color-background);\n",
       "  border-radius: 1em;\n",
       "  height: 1em;\n",
       "  width: 1em;\n",
       "  text-decoration: none !important;\n",
       "  margin-left: 1ex;\n",
       "  /* unfitted */\n",
       "  border: var(--sklearn-color-unfitted-level-1) 1pt solid;\n",
       "  color: var(--sklearn-color-unfitted-level-1);\n",
       "}\n",
       "\n",
       ".sk-estimator-doc-link.fitted,\n",
       "a:link.sk-estimator-doc-link.fitted,\n",
       "a:visited.sk-estimator-doc-link.fitted {\n",
       "  /* fitted */\n",
       "  border: var(--sklearn-color-fitted-level-1) 1pt solid;\n",
       "  color: var(--sklearn-color-fitted-level-1);\n",
       "}\n",
       "\n",
       "/* On hover */\n",
       "div.sk-estimator:hover .sk-estimator-doc-link:hover,\n",
       ".sk-estimator-doc-link:hover,\n",
       "div.sk-label-container:hover .sk-estimator-doc-link:hover,\n",
       ".sk-estimator-doc-link:hover {\n",
       "  /* unfitted */\n",
       "  background-color: var(--sklearn-color-unfitted-level-3);\n",
       "  color: var(--sklearn-color-background);\n",
       "  text-decoration: none;\n",
       "}\n",
       "\n",
       "div.sk-estimator.fitted:hover .sk-estimator-doc-link.fitted:hover,\n",
       ".sk-estimator-doc-link.fitted:hover,\n",
       "div.sk-label-container:hover .sk-estimator-doc-link.fitted:hover,\n",
       ".sk-estimator-doc-link.fitted:hover {\n",
       "  /* fitted */\n",
       "  background-color: var(--sklearn-color-fitted-level-3);\n",
       "  color: var(--sklearn-color-background);\n",
       "  text-decoration: none;\n",
       "}\n",
       "\n",
       "/* Span, style for the box shown on hovering the info icon */\n",
       ".sk-estimator-doc-link span {\n",
       "  display: none;\n",
       "  z-index: 9999;\n",
       "  position: relative;\n",
       "  font-weight: normal;\n",
       "  right: .2ex;\n",
       "  padding: .5ex;\n",
       "  margin: .5ex;\n",
       "  width: min-content;\n",
       "  min-width: 20ex;\n",
       "  max-width: 50ex;\n",
       "  color: var(--sklearn-color-text);\n",
       "  box-shadow: 2pt 2pt 4pt #999;\n",
       "  /* unfitted */\n",
       "  background: var(--sklearn-color-unfitted-level-0);\n",
       "  border: .5pt solid var(--sklearn-color-unfitted-level-3);\n",
       "}\n",
       "\n",
       ".sk-estimator-doc-link.fitted span {\n",
       "  /* fitted */\n",
       "  background: var(--sklearn-color-fitted-level-0);\n",
       "  border: var(--sklearn-color-fitted-level-3);\n",
       "}\n",
       "\n",
       ".sk-estimator-doc-link:hover span {\n",
       "  display: block;\n",
       "}\n",
       "\n",
       "/* \"?\"-specific style due to the `<a>` HTML tag */\n",
       "\n",
       "#sk-container-id-1 a.estimator_doc_link {\n",
       "  float: right;\n",
       "  font-size: 1rem;\n",
       "  line-height: 1em;\n",
       "  font-family: monospace;\n",
       "  background-color: var(--sklearn-color-background);\n",
       "  border-radius: 1rem;\n",
       "  height: 1rem;\n",
       "  width: 1rem;\n",
       "  text-decoration: none;\n",
       "  /* unfitted */\n",
       "  color: var(--sklearn-color-unfitted-level-1);\n",
       "  border: var(--sklearn-color-unfitted-level-1) 1pt solid;\n",
       "}\n",
       "\n",
       "#sk-container-id-1 a.estimator_doc_link.fitted {\n",
       "  /* fitted */\n",
       "  border: var(--sklearn-color-fitted-level-1) 1pt solid;\n",
       "  color: var(--sklearn-color-fitted-level-1);\n",
       "}\n",
       "\n",
       "/* On hover */\n",
       "#sk-container-id-1 a.estimator_doc_link:hover {\n",
       "  /* unfitted */\n",
       "  background-color: var(--sklearn-color-unfitted-level-3);\n",
       "  color: var(--sklearn-color-background);\n",
       "  text-decoration: none;\n",
       "}\n",
       "\n",
       "#sk-container-id-1 a.estimator_doc_link.fitted:hover {\n",
       "  /* fitted */\n",
       "  background-color: var(--sklearn-color-fitted-level-3);\n",
       "}\n",
       "</style><div id=\"sk-container-id-1\" class=\"sk-top-container\"><div class=\"sk-text-repr-fallback\"><pre>StandardScaler()</pre><b>In a Jupyter environment, please rerun this cell to show the HTML representation or trust the notebook. <br />On GitHub, the HTML representation is unable to render, please try loading this page with nbviewer.org.</b></div><div class=\"sk-container\" hidden><div class=\"sk-item\"><div class=\"sk-estimator fitted sk-toggleable\"><input class=\"sk-toggleable__control sk-hidden--visually\" id=\"sk-estimator-id-1\" type=\"checkbox\" checked><label for=\"sk-estimator-id-1\" class=\"sk-toggleable__label fitted sk-toggleable__label-arrow fitted\">&nbsp;&nbsp;StandardScaler<a class=\"sk-estimator-doc-link fitted\" rel=\"noreferrer\" target=\"_blank\" href=\"https://scikit-learn.org/1.5/modules/generated/sklearn.preprocessing.StandardScaler.html\">?<span>Documentation for StandardScaler</span></a><span class=\"sk-estimator-doc-link fitted\">i<span>Fitted</span></span></label><div class=\"sk-toggleable__content fitted\"><pre>StandardScaler()</pre></div> </div></div></div></div>"
      ],
      "text/plain": [
       "StandardScaler()"
      ]
     },
     "execution_count": 47,
     "metadata": {},
     "output_type": "execute_result"
    }
   ],
   "source": [
    "\n",
    "scaler = StandardScaler()\n",
    "\n",
    "scaler.fit(X_train_)"
   ]
  },
  {
   "cell_type": "markdown",
   "metadata": {},
   "source": [
    "### CV scoring with an ad hoc algorithm"
   ]
  },
  {
   "cell_type": "code",
   "execution_count": 48,
   "metadata": {},
   "outputs": [],
   "source": [
    "from sklearn.base import clone"
   ]
  },
  {
   "cell_type": "code",
   "execution_count": 95,
   "metadata": {},
   "outputs": [],
   "source": [
    "scaler = StandardScaler()\n",
    "scaler.fit(X_train_)\n",
    "\n",
    "def cv_accuracy_recall(Xtrain, ytrain, model, title= \"modelname\", verbose = False, n_splits = 5, scale = True):\n",
    "    # Create the K-Fold cross-validator\n",
    "    cv = StratifiedKFold(n_splits=n_splits, shuffle=True, random_state=42)\n",
    "\n",
    "    if scale:\n",
    "        #scaling\n",
    "        Xtrain_scaled = pd.DataFrame(scaler.transform(Xtrain), columns = X_train_.columns)\n",
    "        X_train_reindexed = Xtrain_scaled.copy()\n",
    "    else:\n",
    "        X_train_reindexed = Xtrain.copy()\n",
    "\n",
    "    \n",
    "    # prepare the data\n",
    "    #X_train_reindexed = Xtrain_scaled.copy()\n",
    "    X_train_reindexed.reset_index(inplace=True, drop = True)\n",
    "    y_train_reindexed = ytrain.copy()\n",
    "    y_train_reindexed.reset_index(drop=True, inplace=True)\n",
    "    \n",
    "    # initialize arrays to store the evaluations of each fold\n",
    "    recall = []\n",
    "    accuracy = []\n",
    "    i = 0\n",
    "\n",
    "    # the syntax to perform cv using cv.split(X,y) has been learned from\n",
    "    # source https://kiwidamien.github.io/how-to-do-cross-validation-when-upsampling-data.html\n",
    "    for train_fold_index, val_fold_index in cv.split(X_train_reindexed, y_train_reindexed):\n",
    "        \n",
    "        # Get the training data\n",
    "        X_train_fold, y_train_fold = X_train_reindexed.iloc[train_fold_index], y_train_reindexed[train_fold_index]\n",
    "        # Get the validation data\n",
    "        X_val_fold, y_val_fold = X_train_reindexed.iloc[val_fold_index], y_train_reindexed[val_fold_index]\n",
    "\n",
    "        if verbose:\n",
    "            print(\"fold number :\", i)\n",
    "\n",
    "        # create a untrained copy of the model with same hyperparameters (requires .get_params)\n",
    "        model_cv = clone(model)\n",
    "        \n",
    "        # fit, evaluate and save the results\n",
    "        model_cv.fit(X_train_fold, y_train_fold)\n",
    "        y_pred  = model_cv.predict(X_val_fold)\n",
    "\n",
    "        accuracy.append(accuracy_score(y_val_fold,y_pred))\n",
    "        recall.append(recall_score(y_val_fold,y_pred))\n",
    "\n",
    "        i+=1\n",
    "\n",
    "    # organize the results in a dictionary\n",
    "    cv_scores = {\n",
    "        \"model\" : title,\n",
    "        \"accuracy\" : sum(accuracy)/n_splits,\n",
    "        \"recall\" : sum(recall)/n_splits\n",
    "    }\n",
    "    return cv_scores"
   ]
  },
  {
   "cell_type": "markdown",
   "metadata": {},
   "source": [
    "### CV ad hoc with oversampling"
   ]
  },
  {
   "cell_type": "code",
   "execution_count": 57,
   "metadata": {},
   "outputs": [],
   "source": [
    "from imblearn.over_sampling import SMOTENC\n"
   ]
  },
  {
   "cell_type": "code",
   "execution_count": 89,
   "metadata": {},
   "outputs": [],
   "source": [
    "scaler = StandardScaler()\n",
    "scaler.fit(X_train_)\n",
    "\n",
    "def cv_accuracy_recall_oversampled(Xtrain, ytrain, model, title= \"modelname\", verbose = False, n_splits = 5):\n",
    "    # Create the K-Fold cross-validator\n",
    "    cv = StratifiedKFold(n_splits=n_splits, shuffle=True, random_state=42)\n",
    "    \n",
    "    cat_features = [c for c in Xtrain if Xtrain[c].nunique() < 5]\n",
    "    smote_nc =  SMOTENC(categorical_features=cat_features, sampling_strategy=1.0, random_state=42)\n",
    "\n",
    "\n",
    "    # prepare the data\n",
    "    X_train_reindexed = Xtrain.copy()\n",
    "    X_train_reindexed.reset_index(inplace=True, drop = True)\n",
    "    y_train_reindexed = ytrain.copy()\n",
    "    y_train_reindexed.reset_index(drop=True, inplace=True)\n",
    "    \n",
    "    # initialize arrays to store the evaluations of each fold\n",
    "    recall = []\n",
    "    accuracy = []\n",
    "    i = 0\n",
    "\n",
    "    # the syntax to perform cv using cv.split(X,y) has been learned from\n",
    "    # source https://kiwidamien.github.io/how-to-do-cross-validation-when-upsampling-data.html\n",
    "    for train_fold_index, val_fold_index in cv.split(X_train_reindexed, y_train_reindexed):\n",
    "        \n",
    "        # Get the training data\n",
    "        X_train_fold, y_train_fold = X_train_reindexed.iloc[train_fold_index], y_train_reindexed[train_fold_index]\n",
    "        # Get the validation data\n",
    "        X_val_fold, y_val_fold = X_train_reindexed.iloc[val_fold_index], y_train_reindexed[val_fold_index]\n",
    "        # Oversample the train data\n",
    "        X_train_oversampled, y_train_oversampled = smote_nc.fit_resample(X_train_fold,y_train_fold)\n",
    "        \n",
    "        # scaling\n",
    "        Xtrain_oversampled_scaled = pd.DataFrame(scaler.transform(X_train_oversampled), columns = X_train_.columns)\n",
    "        Xval_scaled = pd.DataFrame(scaler.transform(X_val_fold), columns = X_train_.columns)\n",
    "\n",
    "\n",
    "        if verbose:\n",
    "            print(\"fold number :\", i)\n",
    "\n",
    "        # create a untrained copy of the model with same hyperparameters (requires .get_params)\n",
    "        model_cv = clone(model)\n",
    "        \n",
    "        # fit, evaluate and save the results\n",
    "        model_cv.fit(Xtrain_oversampled_scaled, y_train_oversampled)\n",
    "        y_pred  = model_cv.predict(Xval_scaled)\n",
    "\n",
    "        accuracy.append(accuracy_score(y_val_fold,y_pred))\n",
    "        recall.append(recall_score(y_val_fold, y_pred))\n",
    "\n",
    "        i+=1\n",
    "\n",
    "    # organize the results in a dictionary\n",
    "    cv_scores = {\n",
    "        \"model\" : title,\n",
    "        \"accuracy\" : sum(accuracy)/n_splits,\n",
    "        \"recall\" : sum(recall)/n_splits\n",
    "    }\n",
    "    return cv_scores #, accuracy, recall"
   ]
  },
  {
   "cell_type": "markdown",
   "metadata": {},
   "source": [
    "#### CV accuracy recall results"
   ]
  },
  {
   "cell_type": "code",
   "execution_count": 90,
   "metadata": {},
   "outputs": [
    {
     "data": {
      "text/plain": [
       "{'model': 'OffLogistic',\n",
       " 'accuracy': 0.8871992907438665,\n",
       " 'recall': np.float64(0.7218875502008032)}"
      ]
     },
     "execution_count": 90,
     "metadata": {},
     "output_type": "execute_result"
    }
   ],
   "source": [
    "cv_accuracy_recall(X_train_,y_train_,model1, \"OffLogistic\")"
   ]
  },
  {
   "cell_type": "code",
   "execution_count": 91,
   "metadata": {},
   "outputs": [
    {
     "data": {
      "text/plain": [
       "{'model': 'OffLogistic2',\n",
       " 'accuracy': 0.8942117197756296,\n",
       " 'recall': np.float64(0.72429718875502)}"
      ]
     },
     "execution_count": 91,
     "metadata": {},
     "output_type": "execute_result"
    }
   ],
   "source": [
    "cv_accuracy_recall(X_train_,y_train_,model2, \"OffLogistic2\")"
   ]
  },
  {
   "cell_type": "code",
   "execution_count": 92,
   "metadata": {},
   "outputs": [
    {
     "data": {
      "text/plain": [
       "{'model': 'OffLogistic_smotenc',\n",
       " 'accuracy': 0.875503384311118,\n",
       " 'recall': np.float64(0.8033849684452093)}"
      ]
     },
     "execution_count": 92,
     "metadata": {},
     "output_type": "execute_result"
    }
   ],
   "source": [
    "cv_accuracy_recall_oversampled(X_train_,y_train_,model1, \"OffLogistic_smotenc\")"
   ]
  },
  {
   "cell_type": "code",
   "execution_count": 93,
   "metadata": {},
   "outputs": [
    {
     "data": {
      "text/plain": [
       "{'model': 'OffLogistic2_smotenc',\n",
       " 'accuracy': 0.8813445177569775,\n",
       " 'recall': np.float64(0.8464429145152037)}"
      ]
     },
     "execution_count": 93,
     "metadata": {},
     "output_type": "execute_result"
    }
   ],
   "source": [
    "cv_accuracy_recall_oversampled(X_train_,y_train_,model2, \"OffLogistic2_smotenc\")"
   ]
  },
  {
   "cell_type": "code",
   "execution_count": 96,
   "metadata": {},
   "outputs": [
    {
     "data": {
      "text/plain": [
       "{'model': 'OffLogistic3',\n",
       " 'accuracy': 0.8644025028557788,\n",
       " 'recall': np.float64(0.884853700516351)}"
      ]
     },
     "execution_count": 96,
     "metadata": {},
     "output_type": "execute_result"
    }
   ],
   "source": [
    "cv_accuracy_recall(X_train_,y_train_,model3,\"OffLogistic3\", scale = False)"
   ]
  },
  {
   "cell_type": "markdown",
   "metadata": {},
   "source": [
    "### CV scoring with imnblearn pipelines - not yet working with custom model"
   ]
  },
  {
   "cell_type": "markdown",
   "metadata": {},
   "source": [
    "the function cross_validation takes steps which turn the data into 2d arrays - our model requires named columns"
   ]
  },
  {
   "cell_type": "markdown",
   "metadata": {},
   "source": [
    "#### Smote_NC wrapper for column names"
   ]
  },
  {
   "cell_type": "code",
   "execution_count": 79,
   "metadata": {},
   "outputs": [],
   "source": [
    "from sklearn.base import BaseEstimator, TransformerMixin\n",
    "\n",
    "# this class performs SMOTE_nc by keeping the columns names\n",
    "class SMOTENCWrapper(BaseEstimator):\n",
    "    def __init__(self, smote_nc, column_names):\n",
    "        self.smote_nc = smote_nc\n",
    "        self.column_names = column_names\n",
    "\n",
    "    def fit(self, X, y):\n",
    "        self.smote_nc.fit(X, y)\n",
    "        return self\n",
    "\n",
    "    def fit_resample(self, X, y=None):\n",
    "        X_resampled, y_resampled = self.smote_nc.fit_resample(X,y)\n",
    "        return pd.DataFrame(X_resampled, columns=self.column_names), y_resampled\n"
   ]
  },
  {
   "cell_type": "code",
   "execution_count": 59,
   "metadata": {},
   "outputs": [],
   "source": [
    "from imblearn.over_sampling import SMOTENC\n"
   ]
  },
  {
   "cell_type": "code",
   "execution_count": 80,
   "metadata": {},
   "outputs": [],
   "source": [
    "cat_features = [c for c in X_train_ if X_train_[c].nunique() < 5]\n",
    "smote_nc =  SMOTENC(categorical_features=cat_features, sampling_strategy=1.0, random_state=42)\n",
    "smote_wrapper = SMOTENCWrapper(smote_nc, column_names=X_train_.columns)"
   ]
  },
  {
   "cell_type": "markdown",
   "metadata": {},
   "source": [
    "#### Imblearn pipeline"
   ]
  },
  {
   "cell_type": "code",
   "execution_count": 67,
   "metadata": {},
   "outputs": [],
   "source": [
    "from imblearn.pipeline import Pipeline, make_pipeline"
   ]
  },
  {
   "cell_type": "code",
   "execution_count": 81,
   "metadata": {},
   "outputs": [],
   "source": [
    "model = OffLogistic2()\n",
    "imba_pipeline = make_pipeline(smote_wrapper, model)"
   ]
  },
  {
   "cell_type": "code",
   "execution_count": 74,
   "metadata": {},
   "outputs": [],
   "source": [
    "from src.model_selection import cv_accuracy_recall"
   ]
  },
  {
   "cell_type": "code",
   "execution_count": 82,
   "metadata": {},
   "outputs": [
    {
     "data": {
      "text/plain": [
       "{'accuracy': np.float64(nan),\n",
       " 'recall': np.float64(nan),\n",
       " 'model': 'OffLogistic2_imblearn'}"
      ]
     },
     "execution_count": 82,
     "metadata": {},
     "output_type": "execute_result"
    }
   ],
   "source": [
    "\n",
    "cv_accuracy_recall(X_train_scaled,y_train_, imba_pipeline, \"OffLogistic2_imblearn\")"
   ]
  },
  {
   "cell_type": "markdown",
   "metadata": {},
   "source": [
    "## RFE algorithm"
   ]
  },
  {
   "cell_type": "markdown",
   "metadata": {},
   "source": [
    "### Load RFE features"
   ]
  },
  {
   "cell_type": "code",
   "execution_count": 97,
   "metadata": {},
   "outputs": [],
   "source": [
    "import pickle"
   ]
  },
  {
   "cell_type": "code",
   "execution_count": 98,
   "metadata": {},
   "outputs": [],
   "source": [
    "with open(\"models/rfe_features_off.pkl\", \"rb\") as file:\n",
    "    rfe_features_df = pickle.load(file)\n",
    "\n",
    "results_rfe_kfold_cv = pd.DataFrame()\n",
    "results_rfe_kfold_cv['features'] = rfe_features_df\n"
   ]
  },
  {
   "cell_type": "code",
   "execution_count": 99,
   "metadata": {},
   "outputs": [
    {
     "data": {
      "text/plain": [
       "k\n",
       "1                                             [time730]\n",
       "2                                      [cd420, time730]\n",
       "3                                 [age, cd420, time730]\n",
       "4                        [age, preanti, cd420, time730]\n",
       "5                  [age, hemo, preanti, cd420, time730]\n",
       "6            [age, hemo, preanti, race, cd420, time730]\n",
       "7     [age, hemo, preanti, race, cd420, time730, tim...\n",
       "8     [age, hemo, z30, preanti, race, cd420, time730...\n",
       "9     [age, hemo, z30, preanti, race, str2, cd420, t...\n",
       "10    [age, hemo, z30, preanti, race, str2, symptom,...\n",
       "11    [age, hemo, z30, preanti, race, str2, strat, s...\n",
       "12    [age, hemo, drugs, z30, preanti, race, str2, s...\n",
       "13    [age, hemo, homo, drugs, z30, preanti, race, s...\n",
       "14    [age, hemo, homo, drugs, z30, preanti, race, g...\n",
       "15    [age, hemo, homo, drugs, z30, preanti, race, g...\n",
       "16    [age, hemo, homo, drugs, oprior, z30, preanti,...\n",
       "17    [age, hemo, homo, drugs, oprior, z30, preanti,...\n",
       "18    [age, hemo, homo, drugs, oprior, z30, preanti,...\n",
       "19    [age, hemo, homo, drugs, karnof, oprior, z30, ...\n",
       "20    [age, hemo, homo, drugs, karnof, oprior, z30, ...\n",
       "21    [age, hemo, homo, drugs, karnof, oprior, z30, ...\n",
       "22    [age, hemo, homo, drugs, karnof, oprior, z30, ...\n",
       "23    [age, wtkg, hemo, homo, drugs, karnof, oprior,...\n",
       "Name: features, dtype: object"
      ]
     },
     "execution_count": 99,
     "metadata": {},
     "output_type": "execute_result"
    }
   ],
   "source": [
    "rfe_features_df"
   ]
  },
  {
   "cell_type": "code",
   "execution_count": 100,
   "metadata": {},
   "outputs": [
    {
     "name": "stdout",
     "output_type": "stream",
     "text": [
      "0 {'time730'}\n",
      "1 {'cd420'}\n",
      "2 {'age'}\n",
      "3 {'preanti'}\n",
      "4 {'hemo'}\n",
      "5 {'race'}\n",
      "6 {'time_censored'}\n",
      "7 {'z30'}\n",
      "8 {'str2'}\n",
      "9 {'symptom'}\n",
      "10 {'strat'}\n",
      "11 {'drugs'}\n",
      "12 {'homo'}\n",
      "13 {'gender'}\n",
      "14 {'cd80'}\n",
      "15 {'oprior'}\n",
      "16 {'trt0'}\n",
      "17 {'trt2'}\n",
      "18 {'karnof'}\n",
      "19 {'cd820'}\n",
      "20 {'trt1'}\n",
      "21 {'cd40'}\n",
      "22 {'wtkg'}\n"
     ]
    }
   ],
   "source": [
    "old_rfe_features = set()\n",
    "for k in range(len(results_rfe_kfold_cv['features'])):\n",
    "    new_rfe_features = set(list(results_rfe_kfold_cv['features'])[k])\n",
    "    new_feature = new_rfe_features - old_rfe_features\n",
    "    old_rfe_features = new_rfe_features\n",
    "    print(k, new_feature)\n"
   ]
  },
  {
   "cell_type": "markdown",
   "metadata": {},
   "source": [
    "### Compare OffLogistic2 with LinearRegression"
   ]
  },
  {
   "cell_type": "code",
   "execution_count": 101,
   "metadata": {},
   "outputs": [
    {
     "name": "stdout",
     "output_type": "stream",
     "text": [
      "1 0.8294392523364486 0.8461538461538461 compare 0.8177570093457944 0.8076923076923077\n",
      "2 0.8574766355140186 0.8365384615384616 compare 0.8574766355140186 0.8557692307692307\n",
      "3 0.866822429906542 0.8365384615384616 compare 0.852803738317757 0.8557692307692307\n",
      "4 0.8761682242990654 0.8461538461538461 compare 0.8551401869158879 0.8461538461538461\n",
      "5 0.8761682242990654 0.8365384615384616 compare 0.8574766355140186 0.8461538461538461\n",
      "6 0.8901869158878505 0.8269230769230769 compare 0.8714953271028038 0.7980769230769231\n",
      "7 0.8925233644859814 0.8269230769230769 compare 0.8714953271028038 0.8173076923076923\n",
      "8 0.8925233644859814 0.8269230769230769 compare 0.8714953271028038 0.8173076923076923\n",
      "9 0.8901869158878505 0.8269230769230769 compare 0.8644859813084113 0.8076923076923077\n",
      "10 0.8925233644859814 0.8269230769230769 compare 0.8644859813084113 0.8076923076923077\n",
      "11 0.8925233644859814 0.8269230769230769 compare 0.8644859813084113 0.8076923076923077\n",
      "12 0.9042056074766355 0.8269230769230769 compare 0.8855140186915887 0.7980769230769231\n",
      "13 0.9042056074766355 0.8269230769230769 compare 0.8901869158878505 0.7980769230769231\n",
      "14 0.9042056074766355 0.8365384615384616 compare 0.8948598130841121 0.7980769230769231\n",
      "15 0.9088785046728972 0.8365384615384616 compare 0.8925233644859814 0.7980769230769231\n",
      "16 0.9088785046728972 0.8365384615384616 compare 0.8925233644859814 0.7980769230769231\n",
      "17 0.9065420560747663 0.8365384615384616 compare 0.8948598130841121 0.7980769230769231\n",
      "18 0.9065420560747663 0.8365384615384616 compare 0.8925233644859814 0.7980769230769231\n",
      "19 0.9065420560747663 0.8365384615384616 compare 0.8925233644859814 0.7980769230769231\n",
      "20 0.9088785046728972 0.8365384615384616 compare 0.8948598130841121 0.7980769230769231\n",
      "21 0.9065420560747663 0.8269230769230769 compare 0.8925233644859814 0.7980769230769231\n",
      "22 0.9065420560747663 0.8269230769230769 compare 0.8925233644859814 0.7980769230769231\n",
      "23 0.9088785046728972 0.8269230769230769 compare 0.8855140186915887 0.7980769230769231\n"
     ]
    }
   ],
   "source": [
    "for rfe_features in results_rfe_kfold_cv['features']:\n",
    "    #rfe_features = ['hemo', 'drugs', 'z30', 'race', 'gender', 'offtrt', 'cd420', 'time730', 'time_censored', 'cd80']\n",
    "\n",
    "    model = OffLogistic2(features_off=rfe_features)\n",
    "    model.fit(X_train,y_train)\n",
    "    y_pred = model.predict(X_test)\n",
    "    acc = accuracy_score(y_test,y_pred)\n",
    "    rec = recall_score(y_test,y_pred)\n",
    "\n",
    "    model = LogisticRegression(random_state = 42)\n",
    "    X_rfe = X_train[rfe_features  + ['offtrt']]\n",
    "    model.fit(X_rfe,y_train)\n",
    "    y_pred = model.predict(X_test[rfe_features  + ['offtrt']])\n",
    "    acc2 = accuracy_score(y_test,y_pred)\n",
    "    rec2 = recall_score(y_test,y_pred)\n",
    "\n",
    "    print(len(rfe_features), acc, rec , \"compare\", acc2, rec2)"
   ]
  },
  {
   "cell_type": "code",
   "execution_count": 102,
   "metadata": {},
   "outputs": [],
   "source": [
    "def testme(k):\n",
    "    global all_features\n",
    "    rfe_features = all_features[:k+1]\n",
    "    model = OffLogistic2(features_off=rfe_features)\n",
    "    model.fit(X_train,y_train)\n",
    "    y_pred = model.predict(X_test)\n",
    "    acc = accuracy_score(y_test,y_pred)\n",
    "    rec = recall_score(y_test,y_pred)\n",
    "\n",
    "    model = LogisticRegression(random_state = 42)\n",
    "    X_rfe = X_train[rfe_features  + ['offtrt']]\n",
    "    model.fit(X_rfe,y_train)\n",
    "    y_pred = model.predict(X_test[rfe_features  + ['offtrt']])\n",
    "    acc2 = accuracy_score(y_test,y_pred)\n",
    "    rec2 = recall_score(y_test,y_pred)\n",
    "\n",
    "    print(len(rfe_features), round(acc,5), round(rec,5) , \"compare\", round(acc2,5), round(rec2,5))"
   ]
  },
  {
   "cell_type": "code",
   "execution_count": 103,
   "metadata": {},
   "outputs": [
    {
     "name": "stdout",
     "output_type": "stream",
     "text": [
      "1 0.79206 0.84615 compare 0.5514 0.51923\n",
      "2 0.8014 0.79808 compare 0.51402 0.625\n",
      "3 0.79206 0.79808 compare 0.39252 0.78846\n",
      "4 0.79907 0.79808 compare 0.39486 0.78846\n",
      "5 0.82009 0.80769 compare 0.60514 0.63462\n",
      "6 0.83178 0.78846 compare 0.53505 0.625\n",
      "7 0.84579 0.78846 compare 0.68224 0.63462\n",
      "8 0.90888 0.83654 compare 0.88318 0.78846\n",
      "9 0.90888 0.83654 compare 0.88551 0.78846\n",
      "10 0.91121 0.83654 compare 0.89252 0.80769\n"
     ]
    }
   ],
   "source": [
    "all_features = ['age', 'drugs', 'hemo', 'cd820', 'preanti', 'race', 'cd420', 'time730', 'z30', 'time_censored']\n",
    "for k in range(len(all_features)):\n",
    "    testme(k)\n"
   ]
  },
  {
   "cell_type": "markdown",
   "metadata": {},
   "source": [
    "## Interpret model coefficients "
   ]
  },
  {
   "cell_type": "code",
   "execution_count": 167,
   "metadata": {},
   "outputs": [],
   "source": [
    "model3 = OffLogistic3()\n",
    "model3.fit(X_train_,y_train_)\n",
    "model_on = model3.model_on_\n",
    "model_off = model3.model_off_"
   ]
  },
  {
   "cell_type": "markdown",
   "metadata": {},
   "source": [
    "### ONTRT Model coefficients "
   ]
  },
  {
   "cell_type": "code",
   "execution_count": 114,
   "metadata": {},
   "outputs": [
    {
     "data": {
      "text/plain": [
       "['z30', 'cd420', 'time730']"
      ]
     },
     "execution_count": 114,
     "metadata": {},
     "output_type": "execute_result"
    }
   ],
   "source": [
    "model = model_on\n",
    "features = list(model.feature_names_in_)\n",
    "features"
   ]
  },
  {
   "cell_type": "code",
   "execution_count": 112,
   "metadata": {},
   "outputs": [
    {
     "data": {
      "text/plain": [
       "np.float64(-2.0559628875399203)"
      ]
     },
     "execution_count": 112,
     "metadata": {},
     "output_type": "execute_result"
    }
   ],
   "source": [
    "# model intercept:\n",
    "model.intercept_[0]"
   ]
  },
  {
   "cell_type": "markdown",
   "metadata": {},
   "source": [
    "The intercept is negative. It means that an average ON2 patient is evaluated by the models with a bias. This bias is towards the \"non-infected\" class. "
   ]
  },
  {
   "cell_type": "code",
   "execution_count": 166,
   "metadata": {},
   "outputs": [
    {
     "data": {
      "text/html": [
       "<div>\n",
       "<style scoped>\n",
       "    .dataframe tbody tr th:only-of-type {\n",
       "        vertical-align: middle;\n",
       "    }\n",
       "\n",
       "    .dataframe tbody tr th {\n",
       "        vertical-align: top;\n",
       "    }\n",
       "\n",
       "    .dataframe thead th {\n",
       "        text-align: right;\n",
       "    }\n",
       "</style>\n",
       "<table border=\"1\" class=\"dataframe\">\n",
       "  <thead>\n",
       "    <tr style=\"text-align: right;\">\n",
       "      <th></th>\n",
       "      <th>feature</th>\n",
       "      <th>coefficient</th>\n",
       "    </tr>\n",
       "  </thead>\n",
       "  <tbody>\n",
       "    <tr>\n",
       "      <th>2</th>\n",
       "      <td>time730</td>\n",
       "      <td>-2.726078</td>\n",
       "    </tr>\n",
       "    <tr>\n",
       "      <th>1</th>\n",
       "      <td>cd420</td>\n",
       "      <td>-0.596889</td>\n",
       "    </tr>\n",
       "    <tr>\n",
       "      <th>0</th>\n",
       "      <td>z30</td>\n",
       "      <td>0.741065</td>\n",
       "    </tr>\n",
       "  </tbody>\n",
       "</table>\n",
       "</div>"
      ],
      "text/plain": [
       "   feature  coefficient\n",
       "2  time730    -2.726078\n",
       "1    cd420    -0.596889\n",
       "0      z30     0.741065"
      ]
     },
     "execution_count": 166,
     "metadata": {},
     "output_type": "execute_result"
    }
   ],
   "source": [
    "# we calculate the model coefficients for each feature \n",
    "\n",
    "coefficients = pd.DataFrame({\n",
    "    \"feature\": features,\n",
    "    \"coefficient\": model.coef_[0]\n",
    "})\n",
    "\n",
    "coefficients.sort_values(by=\"coefficient\", inplace=True)\n",
    "coefficients\n"
   ]
  },
  {
   "cell_type": "code",
   "execution_count": 119,
   "metadata": {},
   "outputs": [
    {
     "data": {
      "image/png": "[encoded data removed]",
      "text/plain": [
       "<Figure size 640x480 with 1 Axes>"
      ]
     },
     "metadata": {},
     "output_type": "display_data"
    }
   ],
   "source": [
    "#fig, axes = plt.subplots(1,2, figsize = (8,3))\n",
    "\n",
    "sns.barplot(data = coefficients, y = \"feature\", x = \"coefficient\", ax = None)\n",
    "\n",
    "plt.title(\"Scaled coefficients for ON2 model\")\n",
    "\n",
    "plt.tight_layout()\n",
    "plt.show()"
   ]
  },
  {
   "cell_type": "markdown",
   "metadata": {},
   "source": [
    "The previous chart emphasizes the feature importances and their contribution. More time and more cd4 count biases towards \"not infected\". Someone that has taken zidovudine previous to the study has bias towards \"infected\"."
   ]
  },
  {
   "cell_type": "markdown",
   "metadata": {},
   "source": [
    "#### Obtain coefficients for the unscaled variables"
   ]
  },
  {
   "cell_type": "markdown",
   "metadata": {},
   "source": [
    "The coefficients found in the previous section are relative to the features scaled with StandardScaler. They are therefore hard to interpret as they are. \n",
    "We now calculate the coefficients one gets for the un-scaled regressors. "
   ]
  },
  {
   "cell_type": "code",
   "execution_count": 123,
   "metadata": {},
   "outputs": [],
   "source": [
    "scaler = model3.scaler_on_"
   ]
  },
  {
   "cell_type": "code",
   "execution_count": 143,
   "metadata": {},
   "outputs": [
    {
     "data": {
      "text/html": [
       "<div>\n",
       "<style scoped>\n",
       "    .dataframe tbody tr th:only-of-type {\n",
       "        vertical-align: middle;\n",
       "    }\n",
       "\n",
       "    .dataframe tbody tr th {\n",
       "        vertical-align: top;\n",
       "    }\n",
       "\n",
       "    .dataframe thead th {\n",
       "        text-align: right;\n",
       "    }\n",
       "</style>\n",
       "<table border=\"1\" class=\"dataframe\">\n",
       "  <thead>\n",
       "    <tr style=\"text-align: right;\">\n",
       "      <th></th>\n",
       "      <th>feature</th>\n",
       "      <th>scaling_factor</th>\n",
       "      <th>average</th>\n",
       "      <th>coefficients</th>\n",
       "      <th>coefficient_unscaled</th>\n",
       "    </tr>\n",
       "  </thead>\n",
       "  <tbody>\n",
       "    <tr>\n",
       "      <th>0</th>\n",
       "      <td>z30</td>\n",
       "      <td>0.497018</td>\n",
       "      <td>0.554527</td>\n",
       "      <td>0.741065</td>\n",
       "      <td>1.491023</td>\n",
       "    </tr>\n",
       "    <tr>\n",
       "      <th>1</th>\n",
       "      <td>cd420</td>\n",
       "      <td>140.359609</td>\n",
       "      <td>408.644033</td>\n",
       "      <td>-0.596889</td>\n",
       "      <td>-0.004253</td>\n",
       "    </tr>\n",
       "    <tr>\n",
       "      <th>2</th>\n",
       "      <td>time730</td>\n",
       "      <td>105.734379</td>\n",
       "      <td>320.912551</td>\n",
       "      <td>-2.726078</td>\n",
       "      <td>-0.025782</td>\n",
       "    </tr>\n",
       "  </tbody>\n",
       "</table>\n",
       "</div>"
      ],
      "text/plain": [
       "   feature  scaling_factor     average  coefficients  coefficient_unscaled\n",
       "0      z30        0.497018    0.554527      0.741065              1.491023\n",
       "1    cd420      140.359609  408.644033     -0.596889             -0.004253\n",
       "2  time730      105.734379  320.912551     -2.726078             -0.025782"
      ]
     },
     "execution_count": 143,
     "metadata": {},
     "output_type": "execute_result"
    }
   ],
   "source": [
    "# for each variable we calculate the rate of scaling \n",
    "scaling_factors = pd.DataFrame({\n",
    "    \"feature\": model3.features_on,\n",
    "    \"scaling_factor\": model3.scaler_on_.scale_,\n",
    "    \"average\" : scaler.inverse_transform([[0,0,0]])[0],\n",
    "    \"coefficients\" : model.coef_[0]\n",
    "})\n",
    "scaling_factors['coefficient_unscaled'] = scaling_factors['coefficients']/scaling_factors['scaling_factor']\n",
    "scaling_factors"
   ]
  },
  {
   "cell_type": "markdown",
   "metadata": {},
   "source": [
    "Let's calculate the base score."
   ]
  },
  {
   "cell_type": "code",
   "execution_count": 161,
   "metadata": {},
   "outputs": [
    {
     "name": "stdout",
     "output_type": "stream",
     "text": [
      "[-1.11570771 -2.91140761 -3.0350824 ]\n",
      "[ 0.74106528 -0.59688894 -2.72607757]\n",
      "[-0.82681224  1.737787    8.27387007]\n",
      "-2.0559628875399203\n",
      "\n"
     ]
    }
   ],
   "source": [
    "transformed_zeros = scaler.transform(pd.DataFrame({feat : [0] for feat in features}))[0]\n",
    "print(transformed_zeros)\n",
    "print(model.coef_[0])\n",
    "print(model.coef_[0]* transformed_zeros)\n",
    "print(model.intercept_[0])\n",
    "print()\n",
    "base_score = model.intercept_[0] + sum(model.coef_[0]* transformed_zeros)\n",
    "\n",
    "\n"
   ]
  },
  {
   "cell_type": "code",
   "execution_count": 162,
   "metadata": {},
   "outputs": [
    {
     "name": "stdout",
     "output_type": "stream",
     "text": [
      "A patient with null features has a base total score of \n",
      "7.128881935304737\n",
      "z30 adds the score 1.4910231913012755\n",
      "+100 count of cd420 adds the score -0.4252569127356164\n",
      "30 days of time 730 adds the score -0.7734695975717656\n",
      "if the final score is > 0 then the patient is classified as infected\n"
     ]
    }
   ],
   "source": [
    "print(\"A patient with null features has a base total score of \")\n",
    "print(base_score)\n",
    "incremental_scores = scaling_factors['coefficient_unscaled']\n",
    "print('z30 adds the score', incremental_scores[0])\n",
    "print('+100 count of cd420 adds the score', incremental_scores[1]*100)\n",
    "print('30 days of time 730 adds the score', incremental_scores[2]*30)\n",
    "print(\"if the final score is > 0 then the patient is classified as infected\")"
   ]
  },
  {
   "cell_type": "markdown",
   "metadata": {},
   "source": [
    "Let us rescale the scores so that the base score is 0 and the 0 score is 100. "
   ]
  },
  {
   "cell_type": "code",
   "execution_count": 165,
   "metadata": {},
   "outputs": [
    {
     "name": "stdout",
     "output_type": "stream",
     "text": [
      "A patient with null features has a base total score of \n",
      "0\n",
      "z30 adds the score -20.915245964689117\n",
      "+100 count of cd420 adds the score 5.965267998472443\n",
      "30 days of time 730 adds the score 10.8498023195092\n",
      "if the final score is <100 then the patient is classified as infected\n"
     ]
    }
   ],
   "source": [
    "def rebase_score(z):\n",
    "    return -100*z/base_score\n",
    "\n",
    "\n",
    "print(\"A patient with null features has a base total score of \")\n",
    "print(0)\n",
    "incremental_scores = scaling_factors['coefficient_unscaled']\n",
    "print('z30 adds the score', rebase_score(incremental_scores[0]))\n",
    "print('+100 count of cd420 adds the score', rebase_score(incremental_scores[1]*100))\n",
    "print('30 days of time 730 adds the score', rebase_score(incremental_scores[2]*30))\n",
    "print(\"if the final score is <100 then the patient is classified as infected\")"
   ]
  },
  {
   "cell_type": "markdown",
   "metadata": {},
   "source": [
    "### OFFTRT Model coefficients"
   ]
  },
  {
   "cell_type": "code",
   "execution_count": 168,
   "metadata": {},
   "outputs": [
    {
     "data": {
      "text/plain": [
       "['age',\n",
       " 'drugs',\n",
       " 'hemo',\n",
       " 'cd820',\n",
       " 'preanti',\n",
       " 'race',\n",
       " 'cd420',\n",
       " 'time730',\n",
       " 'z30',\n",
       " 'time_censored']"
      ]
     },
     "execution_count": 168,
     "metadata": {},
     "output_type": "execute_result"
    }
   ],
   "source": [
    "model = model_off\n",
    "features = list(model.feature_names_in_)\n",
    "features"
   ]
  },
  {
   "cell_type": "code",
   "execution_count": 169,
   "metadata": {},
   "outputs": [
    {
     "data": {
      "text/plain": [
       "np.float64(-0.7937829394568983)"
      ]
     },
     "execution_count": 169,
     "metadata": {},
     "output_type": "execute_result"
    }
   ],
   "source": [
    "# model intercept:\n",
    "model.intercept_[0]"
   ]
  },
  {
   "cell_type": "markdown",
   "metadata": {},
   "source": [
    "The intercept is negative. It means that an average OFF patient is evaluated by the models with a bias. This bias is towards the \"non-infected\" class. "
   ]
  },
  {
   "cell_type": "code",
   "execution_count": 170,
   "metadata": {},
   "outputs": [
    {
     "data": {
      "text/html": [
       "<div>\n",
       "<style scoped>\n",
       "    .dataframe tbody tr th:only-of-type {\n",
       "        vertical-align: middle;\n",
       "    }\n",
       "\n",
       "    .dataframe tbody tr th {\n",
       "        vertical-align: top;\n",
       "    }\n",
       "\n",
       "    .dataframe thead th {\n",
       "        text-align: right;\n",
       "    }\n",
       "</style>\n",
       "<table border=\"1\" class=\"dataframe\">\n",
       "  <thead>\n",
       "    <tr style=\"text-align: right;\">\n",
       "      <th></th>\n",
       "      <th>feature</th>\n",
       "      <th>coefficient</th>\n",
       "    </tr>\n",
       "  </thead>\n",
       "  <tbody>\n",
       "    <tr>\n",
       "      <th>7</th>\n",
       "      <td>time730</td>\n",
       "      <td>-1.887500</td>\n",
       "    </tr>\n",
       "    <tr>\n",
       "      <th>6</th>\n",
       "      <td>cd420</td>\n",
       "      <td>-1.052369</td>\n",
       "    </tr>\n",
       "    <tr>\n",
       "      <th>2</th>\n",
       "      <td>hemo</td>\n",
       "      <td>-0.436777</td>\n",
       "    </tr>\n",
       "    <tr>\n",
       "      <th>5</th>\n",
       "      <td>race</td>\n",
       "      <td>-0.409325</td>\n",
       "    </tr>\n",
       "    <tr>\n",
       "      <th>9</th>\n",
       "      <td>time_censored</td>\n",
       "      <td>-0.391324</td>\n",
       "    </tr>\n",
       "    <tr>\n",
       "      <th>1</th>\n",
       "      <td>drugs</td>\n",
       "      <td>-0.187272</td>\n",
       "    </tr>\n",
       "    <tr>\n",
       "      <th>4</th>\n",
       "      <td>preanti</td>\n",
       "      <td>0.106265</td>\n",
       "    </tr>\n",
       "    <tr>\n",
       "      <th>3</th>\n",
       "      <td>cd820</td>\n",
       "      <td>0.120662</td>\n",
       "    </tr>\n",
       "    <tr>\n",
       "      <th>8</th>\n",
       "      <td>z30</td>\n",
       "      <td>0.304699</td>\n",
       "    </tr>\n",
       "    <tr>\n",
       "      <th>0</th>\n",
       "      <td>age</td>\n",
       "      <td>0.452847</td>\n",
       "    </tr>\n",
       "  </tbody>\n",
       "</table>\n",
       "</div>"
      ],
      "text/plain": [
       "         feature  coefficient\n",
       "7        time730    -1.887500\n",
       "6          cd420    -1.052369\n",
       "2           hemo    -0.436777\n",
       "5           race    -0.409325\n",
       "9  time_censored    -0.391324\n",
       "1          drugs    -0.187272\n",
       "4        preanti     0.106265\n",
       "3          cd820     0.120662\n",
       "8            z30     0.304699\n",
       "0            age     0.452847"
      ]
     },
     "execution_count": 170,
     "metadata": {},
     "output_type": "execute_result"
    }
   ],
   "source": [
    "# we calculate the model coefficients for each feature \n",
    "\n",
    "coefficients = pd.DataFrame({\n",
    "    \"feature\": features,\n",
    "    \"coefficient\": model.coef_[0]\n",
    "})\n",
    "\n",
    "coefficients.sort_values(by=\"coefficient\", inplace=True)\n",
    "coefficients\n"
   ]
  },
  {
   "cell_type": "code",
   "execution_count": 171,
   "metadata": {},
   "outputs": [
    {
     "data": {
      "image/png": "[encoded data removed]",
      "text/plain": [
       "<Figure size 640x480 with 1 Axes>"
      ]
     },
     "metadata": {},
     "output_type": "display_data"
    }
   ],
   "source": [
    "#fig, axes = plt.subplots(1,2, figsize = (8,3))\n",
    "\n",
    "sns.barplot(data = coefficients, y = \"feature\", x = \"coefficient\", ax = None)\n",
    "\n",
    "plt.title(\"Scaled coefficients for ON2 model\")\n",
    "\n",
    "plt.tight_layout()\n",
    "plt.show()"
   ]
  },
  {
   "cell_type": "markdown",
   "metadata": {},
   "source": [
    "The previous chart emphasizes the feature importances and their contribution. More time and more cd4 count biases towards \"not infected\". Someone that has taken zidovudine previous to the study has bias towards \"infected\"."
   ]
  },
  {
   "cell_type": "markdown",
   "metadata": {},
   "source": [
    "#### Obtain coefficients for the unscaled variables"
   ]
  },
  {
   "cell_type": "markdown",
   "metadata": {},
   "source": [
    "The coefficients found in the previous section are relative to the features scaled with StandardScaler. They are therefore hard to interpret as they are. \n",
    "We now calculate the coefficients one gets for the un-scaled regressors. "
   ]
  },
  {
   "cell_type": "code",
   "execution_count": 174,
   "metadata": {},
   "outputs": [],
   "source": [
    "scaler = model3.scaler_off_"
   ]
  },
  {
   "cell_type": "code",
   "execution_count": 194,
   "metadata": {},
   "outputs": [
    {
     "data": {
      "text/html": [
       "<div>\n",
       "<style scoped>\n",
       "    .dataframe tbody tr th:only-of-type {\n",
       "        vertical-align: middle;\n",
       "    }\n",
       "\n",
       "    .dataframe tbody tr th {\n",
       "        vertical-align: top;\n",
       "    }\n",
       "\n",
       "    .dataframe thead th {\n",
       "        text-align: right;\n",
       "    }\n",
       "</style>\n",
       "<table border=\"1\" class=\"dataframe\">\n",
       "  <thead>\n",
       "    <tr style=\"text-align: right;\">\n",
       "      <th></th>\n",
       "      <th>feature</th>\n",
       "      <th>scaling_factor</th>\n",
       "      <th>coefficients</th>\n",
       "      <th>coefficient_unscaled</th>\n",
       "    </tr>\n",
       "  </thead>\n",
       "  <tbody>\n",
       "    <tr>\n",
       "      <th>0</th>\n",
       "      <td>age</td>\n",
       "      <td>8.523222</td>\n",
       "      <td>0.452847</td>\n",
       "      <td>0.053131</td>\n",
       "    </tr>\n",
       "    <tr>\n",
       "      <th>1</th>\n",
       "      <td>drugs</td>\n",
       "      <td>0.358502</td>\n",
       "      <td>-0.187272</td>\n",
       "      <td>-0.522372</td>\n",
       "    </tr>\n",
       "    <tr>\n",
       "      <th>2</th>\n",
       "      <td>hemo</td>\n",
       "      <td>0.278421</td>\n",
       "      <td>-0.436777</td>\n",
       "      <td>-1.568765</td>\n",
       "    </tr>\n",
       "    <tr>\n",
       "      <th>3</th>\n",
       "      <td>cd820</td>\n",
       "      <td>428.540543</td>\n",
       "      <td>0.120662</td>\n",
       "      <td>0.000282</td>\n",
       "    </tr>\n",
       "    <tr>\n",
       "      <th>4</th>\n",
       "      <td>preanti</td>\n",
       "      <td>459.580908</td>\n",
       "      <td>0.106265</td>\n",
       "      <td>0.000231</td>\n",
       "    </tr>\n",
       "    <tr>\n",
       "      <th>5</th>\n",
       "      <td>race</td>\n",
       "      <td>0.451422</td>\n",
       "      <td>-0.409325</td>\n",
       "      <td>-0.906745</td>\n",
       "    </tr>\n",
       "    <tr>\n",
       "      <th>6</th>\n",
       "      <td>cd420</td>\n",
       "      <td>141.604681</td>\n",
       "      <td>-1.052369</td>\n",
       "      <td>-0.007432</td>\n",
       "    </tr>\n",
       "    <tr>\n",
       "      <th>7</th>\n",
       "      <td>time730</td>\n",
       "      <td>137.846009</td>\n",
       "      <td>-1.887500</td>\n",
       "      <td>-0.013693</td>\n",
       "    </tr>\n",
       "    <tr>\n",
       "      <th>8</th>\n",
       "      <td>z30</td>\n",
       "      <td>0.498339</td>\n",
       "      <td>0.304699</td>\n",
       "      <td>0.611428</td>\n",
       "    </tr>\n",
       "    <tr>\n",
       "      <th>9</th>\n",
       "      <td>time_censored</td>\n",
       "      <td>200.470965</td>\n",
       "      <td>-0.391324</td>\n",
       "      <td>-0.001952</td>\n",
       "    </tr>\n",
       "  </tbody>\n",
       "</table>\n",
       "</div>"
      ],
      "text/plain": [
       "         feature  scaling_factor  coefficients  coefficient_unscaled\n",
       "0            age        8.523222      0.452847              0.053131\n",
       "1          drugs        0.358502     -0.187272             -0.522372\n",
       "2           hemo        0.278421     -0.436777             -1.568765\n",
       "3          cd820      428.540543      0.120662              0.000282\n",
       "4        preanti      459.580908      0.106265              0.000231\n",
       "5           race        0.451422     -0.409325             -0.906745\n",
       "6          cd420      141.604681     -1.052369             -0.007432\n",
       "7        time730      137.846009     -1.887500             -0.013693\n",
       "8            z30        0.498339      0.304699              0.611428\n",
       "9  time_censored      200.470965     -0.391324             -0.001952"
      ]
     },
     "execution_count": 194,
     "metadata": {},
     "output_type": "execute_result"
    }
   ],
   "source": [
    "# for each variable we calculate the rate of scaling \n",
    "scaling_factors = pd.DataFrame({\n",
    "    \"feature\": model3.features_off,\n",
    "    \"scaling_factor\": model3.scaler_off_.scale_,\n",
    "    \"coefficients\" : model.coef_[0]\n",
    "})\n",
    "scaling_factors['coefficient_unscaled'] = scaling_factors['coefficients']/scaling_factors['scaling_factor']\n",
    "scaling_factors"
   ]
  },
  {
   "cell_type": "markdown",
   "metadata": {},
   "source": [
    "Let's calculate the base score."
   ]
  },
  {
   "cell_type": "code",
   "execution_count": 195,
   "metadata": {},
   "outputs": [
    {
     "name": "stdout",
     "output_type": "stream",
     "text": [
      "[-4.0424146  -0.42249601 -0.304182   -2.15585895 -0.76136495 -0.6313741\n",
      " -2.388905   -0.89621085 -1.08503685 -0.78552807]\n",
      "[ 0.45284729 -0.18727167 -0.43677662  0.12066241  0.10626511 -0.40932494\n",
      " -1.0523691  -1.88749978  0.30469887 -0.39132371]\n",
      "[-1.8305965   0.07912153  0.13285959 -0.26013114 -0.08090653  0.25843716\n",
      "  2.5140098   1.69159777 -0.3306095   0.30739576]\n",
      "-0.7937829394568983\n",
      "\n"
     ]
    }
   ],
   "source": [
    "transformed_zeros = scaler.transform(pd.DataFrame({feat : [0] for feat in features}))[0]\n",
    "print(transformed_zeros)\n",
    "print(model.coef_[0])\n",
    "print(model.coef_[0]* transformed_zeros)\n",
    "print(model.intercept_[0])\n",
    "print()\n",
    "base_score = model.intercept_[0] + sum(model.coef_[0]* transformed_zeros)\n",
    "\n",
    "\n"
   ]
  },
  {
   "cell_type": "code",
   "execution_count": 196,
   "metadata": {},
   "outputs": [
    {
     "name": "stdout",
     "output_type": "stream",
     "text": [
      "A patient with null features has a base total score of \n",
      "1.6873949991866168\n",
      "0 age adds the score 0.0531\n",
      "1 drugs adds the score -0.5224\n",
      "2 hemo adds the score -1.5688\n",
      "3 cd820 adds the score 0.0003\n",
      "4 preanti adds the score 0.0002\n",
      "5 race adds the score -0.9067\n",
      "6 cd420 adds the score -0.0074\n",
      "7 time730 adds the score -0.0137\n",
      "8 z30 adds the score 0.6114\n",
      "9 time_censored adds the score -0.002\n",
      "if the final score is > 0 then the patient is classified as infected\n"
     ]
    }
   ],
   "source": [
    "print(\"A patient with null features has a base total score of \")\n",
    "print(base_score)\n",
    "incremental_scores = scaling_factors['coefficient_unscaled'].copy()\n",
    "\n",
    "for i,feat in enumerate(features) :\n",
    "    print(f'{i} {feat} adds the score {round(incremental_scores[i],4)}')\n",
    "print(\"if the final score is > 0 then the patient is classified as infected\")"
   ]
  },
  {
   "cell_type": "markdown",
   "metadata": {},
   "source": [
    "Let us rescale the scores so that the base score is 0 and the 0 score is 100. "
   ]
  },
  {
   "cell_type": "code",
   "execution_count": 198,
   "metadata": {},
   "outputs": [
    {
     "name": "stdout",
     "output_type": "stream",
     "text": [
      "A patient with null features has a base total score of \n",
      "0\n",
      "0 age adds the score -31.5\n",
      "1 drugs adds the score 31.0\n",
      "2 hemo adds the score 93.0\n",
      "3 cd820 adds the score -1.7\n",
      "4 preanti adds the score -0.4\n",
      "5 race adds the score 53.7\n",
      "6 cd420 adds the score 44.0\n",
      "7 time730 adds the score 24.3\n",
      "8 z30 adds the score -36.2\n",
      "9 time_censored adds the score 3.5\n",
      "if the final score is > 0 then the patient is classified as infected\n"
     ]
    }
   ],
   "source": [
    "def rebase_score(z):\n",
    "    return -100*z/base_score\n",
    "\n",
    "def multiplier_coefficient(feature):\n",
    "    if feat in \"time preanti time_censored time730\".split():\n",
    "        return 30\n",
    "    elif feat in \"cd80 cd820 cd40 cd420\".split():\n",
    "        return 100\n",
    "    elif feat in \"age wtkg karnof\".split():\n",
    "        return 10\n",
    "    else:\n",
    "        return 1\n",
    "\n",
    "incremental_scores = scaling_factors['coefficient_unscaled'].copy()\n",
    "\n",
    "print(\"A patient with null features has a base total score of \")\n",
    "print(0)\n",
    "for i,feat in enumerate(features) :\n",
    "    score = incremental_scores[i] * multiplier_coefficient(feat)\n",
    "    print(f'{i} {feat} adds the score {round(rebase_score(score),1)}')\n",
    "print(\"if the final score is > 0 then the patient is classified as infected\")"
   ]
  },
  {
   "cell_type": "markdown",
   "metadata": {},
   "source": [
    "## Other"
   ]
  },
  {
   "cell_type": "code",
   "execution_count": 189,
   "metadata": {},
   "outputs": [
    {
     "ename": "NameError",
     "evalue": "name 'coefficients_skb' is not defined",
     "output_type": "error",
     "traceback": [
      "\u001b[1;31m---------------------------------------------------------------------------\u001b[0m",
      "\u001b[1;31mNameError\u001b[0m                                 Traceback (most recent call last)",
      "Cell \u001b[1;32mIn[189], line 2\u001b[0m\n\u001b[0;32m      1\u001b[0m \u001b[38;5;66;03m# we merge with model coefficients \u001b[39;00m\n\u001b[1;32m----> 2\u001b[0m coefficients_and_scaling_skb \u001b[38;5;241m=\u001b[39m \u001b[43mcoefficients_skb\u001b[49m\u001b[38;5;241m.\u001b[39mmerge(scaling_factors)\n\u001b[0;32m      3\u001b[0m coefficients_and_scaling_rfe \u001b[38;5;241m=\u001b[39m coefficients_rfe\u001b[38;5;241m.\u001b[39mmerge(scaling_factors)\n\u001b[0;32m      5\u001b[0m \u001b[38;5;66;03m# calculate un-scaled coefficient\u001b[39;00m\n",
      "\u001b[1;31mNameError\u001b[0m: name 'coefficients_skb' is not defined"
     ]
    }
   ],
   "source": [
    "# we merge with model coefficients \n",
    "coefficients_and_scaling_skb = coefficients_skb.merge(scaling_factors)\n",
    "coefficients_and_scaling_rfe = coefficients_rfe.merge(scaling_factors)\n",
    "\n",
    "# calculate un-scaled coefficient\n",
    "coefficients_and_scaling_skb[\"coefficient_unscaled\"] = coefficients_and_scaling_skb[\"coefficient\"] / coefficients_and_scaling_skb[\"scaling_factor\"]\n",
    "coefficients_and_scaling_rfe[\"coefficient_unscaled\"] = coefficients_and_scaling_rfe[\"coefficient\"] / coefficients_and_scaling_rfe[\"scaling_factor\"]\n",
    "\n",
    "# order and print the results\n",
    "coefficients_and_scaling_skb.sort_values(by=\"coefficient\", ascending=False, inplace=True)\n",
    "coefficients_and_scaling_rfe.sort_values(by=\"coefficient\", ascending=False, inplace=True)\n",
    "\n",
    "print(\"Feature coefficients of the model selected by SKB:\")\n",
    "print(coefficients_and_scaling_skb)\n",
    "print()\n",
    "print(\"Feature coefficients of the model selected by RFE:\")\n",
    "print(coefficients_and_scaling_skb)\n",
    "\n"
   ]
  },
  {
   "cell_type": "markdown",
   "metadata": {},
   "source": [
    "### 049-b Model coefficients separately for binary vs continuous features"
   ]
  },
  {
   "cell_type": "markdown",
   "metadata": {},
   "source": [
    "The log-odd contribution of our categorical variables is binary. The contribution of continuous features is proportional to their value. \n",
    "It is best to interpret the two types of variables separately. "
   ]
  },
  {
   "cell_type": "code",
   "execution_count": 190,
   "metadata": {},
   "outputs": [
    {
     "ename": "NameError",
     "evalue": "name 'coefficients_and_scaling_skb' is not defined",
     "output_type": "error",
     "traceback": [
      "\u001b[1;31m---------------------------------------------------------------------------\u001b[0m",
      "\u001b[1;31mNameError\u001b[0m                                 Traceback (most recent call last)",
      "Cell \u001b[1;32mIn[190], line 2\u001b[0m\n\u001b[0;32m      1\u001b[0m \u001b[38;5;66;03m# we filter the categorical (binary) features \u001b[39;00m\n\u001b[1;32m----> 2\u001b[0m binary_skb_mask \u001b[38;5;241m=\u001b[39m \u001b[43mcoefficients_and_scaling_skb\u001b[49m[\u001b[38;5;124m'\u001b[39m\u001b[38;5;124mfeature\u001b[39m\u001b[38;5;124m'\u001b[39m]\u001b[38;5;241m.\u001b[39misin(cat_features)\n\u001b[0;32m      3\u001b[0m binary_rfe_mask \u001b[38;5;241m=\u001b[39m coefficients_and_scaling_rfe[\u001b[38;5;124m'\u001b[39m\u001b[38;5;124mfeature\u001b[39m\u001b[38;5;124m'\u001b[39m]\u001b[38;5;241m.\u001b[39misin(cat_features)\n\u001b[0;32m      5\u001b[0m coefficients_unscaled_skb_binary \u001b[38;5;241m=\u001b[39m coefficients_and_scaling_skb[binary_skb_mask]\u001b[38;5;241m.\u001b[39mdrop(columns \u001b[38;5;241m=\u001b[39m [\u001b[38;5;124m\"\u001b[39m\u001b[38;5;124mcoefficient\u001b[39m\u001b[38;5;124m\"\u001b[39m,\u001b[38;5;124m\"\u001b[39m\u001b[38;5;124mscaling_factor\u001b[39m\u001b[38;5;124m\"\u001b[39m])\n",
      "\u001b[1;31mNameError\u001b[0m: name 'coefficients_and_scaling_skb' is not defined"
     ]
    }
   ],
   "source": [
    "# we filter the categorical (binary) features \n",
    "binary_skb_mask = coefficients_and_scaling_skb['feature'].isin(cat_features)\n",
    "binary_rfe_mask = coefficients_and_scaling_rfe['feature'].isin(cat_features)\n",
    "\n",
    "coefficients_unscaled_skb_binary = coefficients_and_scaling_skb[binary_skb_mask].drop(columns = [\"coefficient\",\"scaling_factor\"])\n",
    "coefficients_unscaled_rfe_binary = coefficients_and_scaling_rfe[binary_rfe_mask].drop(columns = [\"coefficient\",\"scaling_factor\"])\n",
    "\n",
    "coefficients_unscaled_skb_continuous = coefficients_and_scaling_skb[~binary_skb_mask].drop(columns = [\"coefficient\",\"scaling_factor\"])\n",
    "coefficients_unscaled_rfe_continuous = coefficients_and_scaling_rfe[~binary_rfe_mask].drop(columns = [\"coefficient\",\"scaling_factor\"])\n",
    "\n",
    "# print for example\n",
    "coefficients_unscaled_skb_binary\n"
   ]
  },
  {
   "cell_type": "markdown",
   "metadata": {},
   "source": [
    "To better understand and compare the variables and coefficients we further custom-rescale the continuous variables."
   ]
  },
  {
   "cell_type": "code",
   "execution_count": 191,
   "metadata": {},
   "outputs": [
    {
     "ename": "NameError",
     "evalue": "name 'coefficients_unscaled_skb_continuous' is not defined",
     "output_type": "error",
     "traceback": [
      "\u001b[1;31m---------------------------------------------------------------------------\u001b[0m",
      "\u001b[1;31mNameError\u001b[0m                                 Traceback (most recent call last)",
      "Cell \u001b[1;32mIn[191], line 3\u001b[0m\n\u001b[0;32m      1\u001b[0m \u001b[38;5;66;03m# custom scale continuous features \u001b[39;00m\n\u001b[1;32m----> 3\u001b[0m \u001b[38;5;28;01mfor\u001b[39;00m coefficients_unscaled \u001b[38;5;129;01min\u001b[39;00m [\u001b[43mcoefficients_unscaled_skb_continuous\u001b[49m, coefficients_unscaled_rfe_continuous]:\n\u001b[0;32m      4\u001b[0m \n\u001b[0;32m      5\u001b[0m     \u001b[38;5;66;03m# - time730, time_censored : unit = month (scale 30)\u001b[39;00m\n\u001b[0;32m      6\u001b[0m     time_features_mask \u001b[38;5;241m=\u001b[39m coefficients_unscaled[\u001b[38;5;124m\"\u001b[39m\u001b[38;5;124mfeature\u001b[39m\u001b[38;5;124m\"\u001b[39m]\u001b[38;5;241m.\u001b[39misin([\u001b[38;5;124m\"\u001b[39m\u001b[38;5;124mtime730\u001b[39m\u001b[38;5;124m\"\u001b[39m,\u001b[38;5;124m\"\u001b[39m\u001b[38;5;124mtime_censored\u001b[39m\u001b[38;5;124m\"\u001b[39m])\n\u001b[0;32m      8\u001b[0m     coefficients_unscaled\u001b[38;5;241m.\u001b[39mloc[time_features_mask, \u001b[38;5;124m\"\u001b[39m\u001b[38;5;124mfeature\u001b[39m\u001b[38;5;124m\"\u001b[39m] \u001b[38;5;241m+\u001b[39m\u001b[38;5;241m=\u001b[39m \u001b[38;5;124m\"\u001b[39m\u001b[38;5;124m (months)\u001b[39m\u001b[38;5;124m\"\u001b[39m\n",
      "\u001b[1;31mNameError\u001b[0m: name 'coefficients_unscaled_skb_continuous' is not defined"
     ]
    }
   ],
   "source": [
    "# custom scale continuous features \n",
    "\n",
    "for coefficients_unscaled in [coefficients_unscaled_skb_continuous, coefficients_unscaled_rfe_continuous]:\n",
    "\n",
    "    # - time730, time_censored : unit = month (scale 30)\n",
    "    time_features_mask = coefficients_unscaled[\"feature\"].isin([\"time730\",\"time_censored\"])\n",
    "\n",
    "    coefficients_unscaled.loc[time_features_mask, \"feature\"] += \" (months)\"\n",
    "    coefficients_unscaled.loc[time_features_mask, \"coefficient_unscaled\"] *= 30\n",
    "\n",
    "    # - cd40, cd420 : unit = hundreds (scale 100)\n",
    "    lab_features_mask = coefficients_unscaled[\"feature\"].isin([\"cd40\",\"cd420\"])\n",
    "\n",
    "    coefficients_unscaled.loc[lab_features_mask, \"feature\"] += \" (x100)\"\n",
    "    coefficients_unscaled.loc[lab_features_mask, \"coefficient_unscaled\"] *= 100\n",
    "\n",
    "print(\"Unscaled coefficients for SKB model\")\n",
    "print(coefficients_unscaled_skb_continuous)\n",
    "print()\n",
    "print(\"Unscaled coefficients for RFE model\")\n",
    "print(coefficients_unscaled_rfe_continuous)\n"
   ]
  },
  {
   "cell_type": "markdown",
   "metadata": {},
   "source": [
    "### 049-c Visualize coefficients of unscaled variables"
   ]
  },
  {
   "cell_type": "code",
   "execution_count": 192,
   "metadata": {},
   "outputs": [
    {
     "ename": "NameError",
     "evalue": "name 'coefficients_unscaled_skb_binary' is not defined",
     "output_type": "error",
     "traceback": [
      "\u001b[1;31m---------------------------------------------------------------------------\u001b[0m",
      "\u001b[1;31mNameError\u001b[0m                                 Traceback (most recent call last)",
      "Cell \u001b[1;32mIn[192], line 4\u001b[0m\n\u001b[0;32m      1\u001b[0m \u001b[38;5;66;03m# Plot coefficients of binary features \u001b[39;00m\n\u001b[0;32m      2\u001b[0m fig, axes \u001b[38;5;241m=\u001b[39m plt\u001b[38;5;241m.\u001b[39msubplots(\u001b[38;5;241m1\u001b[39m,\u001b[38;5;241m2\u001b[39m, figsize \u001b[38;5;241m=\u001b[39m (\u001b[38;5;241m12\u001b[39m,\u001b[38;5;241m3\u001b[39m))\n\u001b[1;32m----> 4\u001b[0m sns\u001b[38;5;241m.\u001b[39mbarplot(data \u001b[38;5;241m=\u001b[39m \u001b[43mcoefficients_unscaled_skb_binary\u001b[49m, y \u001b[38;5;241m=\u001b[39m \u001b[38;5;124m\"\u001b[39m\u001b[38;5;124mfeature\u001b[39m\u001b[38;5;124m\"\u001b[39m, x \u001b[38;5;241m=\u001b[39m \u001b[38;5;124m\"\u001b[39m\u001b[38;5;124mcoefficient_unscaled\u001b[39m\u001b[38;5;124m\"\u001b[39m, ax \u001b[38;5;241m=\u001b[39m axes[\u001b[38;5;241m0\u001b[39m])\n\u001b[0;32m      5\u001b[0m sns\u001b[38;5;241m.\u001b[39mbarplot(data \u001b[38;5;241m=\u001b[39m coefficients_unscaled_rfe_binary, y \u001b[38;5;241m=\u001b[39m \u001b[38;5;124m\"\u001b[39m\u001b[38;5;124mfeature\u001b[39m\u001b[38;5;124m\"\u001b[39m, x \u001b[38;5;241m=\u001b[39m \u001b[38;5;124m\"\u001b[39m\u001b[38;5;124mcoefficient_unscaled\u001b[39m\u001b[38;5;124m\"\u001b[39m, ax \u001b[38;5;241m=\u001b[39m axes[\u001b[38;5;241m1\u001b[39m])\n\u001b[0;32m      7\u001b[0m axes[\u001b[38;5;241m0\u001b[39m]\u001b[38;5;241m.\u001b[39mset_title(\u001b[38;5;124m\"\u001b[39m\u001b[38;5;124mUnscaled coefficients for best SKB model\u001b[39m\u001b[38;5;124m\"\u001b[39m)\n",
      "\u001b[1;31mNameError\u001b[0m: name 'coefficients_unscaled_skb_binary' is not defined"
     ]
    },
    {
     "data": {
      "image/png": "[encoded data removed]",
      "text/plain": [
       "<Figure size 1200x300 with 2 Axes>"
      ]
     },
     "metadata": {},
     "output_type": "display_data"
    }
   ],
   "source": [
    "# Plot coefficients of binary features \n",
    "fig, axes = plt.subplots(1,2, figsize = (12,3))\n",
    "\n",
    "sns.barplot(data = coefficients_unscaled_skb_binary, y = \"feature\", x = \"coefficient_unscaled\", ax = axes[0])\n",
    "sns.barplot(data = coefficients_unscaled_rfe_binary, y = \"feature\", x = \"coefficient_unscaled\", ax = axes[1])\n",
    "\n",
    "axes[0].set_title(\"Unscaled coefficients for best SKB model\")\n",
    "axes[1].set_title(\"Unscaled coefficients for best RFE model\")\n",
    "\n",
    "axes[0].set_ylabel(\"binary features\")\n",
    "axes[1].set_ylabel(\"binary features\")\n",
    "plt.tight_layout()\n",
    "plt.show()\n",
    "\n",
    "# Plot coefficients of continuous features\n",
    "fig, axes = plt.subplots(1,2, figsize = (12,3))\n",
    "\n",
    "sns.barplot(data = coefficients_unscaled_skb_continuous, y = \"feature\", x = \"coefficient_unscaled\", ax = axes[0])\n",
    "sns.barplot(data = coefficients_unscaled_rfe_continuous, y = \"feature\", x = \"coefficient_unscaled\", ax = axes[1])\n",
    "\n",
    "axes[0].set_title(\"Unscaled coefficients for best SKB model\")\n",
    "axes[1].set_title(\"Unscaled coefficients for best RFE model\")\n",
    "\n",
    "axes[0].set_ylabel(\"continuous features\")\n",
    "axes[1].set_ylabel(\"continous features\")\n",
    "\n",
    "plt.tight_layout()\n",
    "plt.show()"
   ]
  },
  {
   "cell_type": "markdown",
   "metadata": {},
   "source": []
  },
  {
   "cell_type": "markdown",
   "metadata": {},
   "source": [
    "## 050 + 052 Test set performance "
   ]
  },
  {
   "cell_type": "markdown",
   "metadata": {},
   "source": [
    "### Test performance with RFE"
   ]
  },
  {
   "cell_type": "code",
   "execution_count": null,
   "metadata": {},
   "outputs": [],
   "source": [
    "y_pred_rfe = model_rfe.predict(X_rfe_test)"
   ]
  },
  {
   "cell_type": "code",
   "execution_count": null,
   "metadata": {},
   "outputs": [
    {
     "data": {
      "text/plain": [
       "{'accuracy': 0.8948598130841121,\n",
       " 'recall': np.float64(0.8076923076923077),\n",
       " 'selectivity': np.float64(0.9228395061728395),\n",
       " 'precision': np.float64(0.7706422018348624),\n",
       " 'NPV': np.float64(0.9373040752351097),\n",
       " 'f1': np.float64(0.7887323943661971),\n",
       " 'f3': np.float64(0.8038277511961722)}"
      ]
     },
     "metadata": {},
     "output_type": "display_data"
    }
   ],
   "source": [
    "results_test_rfe = {\n",
    "    \"accuracy\": accuracy_score(y_test,y_pred_rfe),\n",
    "    \"recall\": recall_score(y_test,y_pred_rfe),\n",
    "    \"selectivity\": recall_score(y_test,y_pred_rfe,pos_label = 0),\n",
    "    \"precision\": precision_score(y_test,y_pred_rfe),\n",
    "    \"NPV\": precision_score(y_test,y_pred_rfe, pos_label = 0),\n",
    "    \"f1\": f1_score(y_test,y_pred_rfe),\n",
    "    \"f3\": fbeta_score(y_test,y_pred_rfe,beta = 3)\n",
    "}\n",
    "\n",
    "results_test_rfe"
   ]
  },
  {
   "cell_type": "markdown",
   "metadata": {},
   "source": [
    "The recall score has dropped. The reason is clear: in cross-validation we used over-sampling. It would be better to oversample as part of the model. "
   ]
  },
  {
   "cell_type": "markdown",
   "metadata": {},
   "source": [
    "### Test performance with SKB"
   ]
  },
  {
   "cell_type": "code",
   "execution_count": 193,
   "metadata": {},
   "outputs": [
    {
     "ename": "NameError",
     "evalue": "name 'model_skb' is not defined",
     "output_type": "error",
     "traceback": [
      "\u001b[1;31m---------------------------------------------------------------------------\u001b[0m",
      "\u001b[1;31mNameError\u001b[0m                                 Traceback (most recent call last)",
      "Cell \u001b[1;32mIn[193], line 1\u001b[0m\n\u001b[1;32m----> 1\u001b[0m y_pred_skb \u001b[38;5;241m=\u001b[39m \u001b[43mmodel_skb\u001b[49m\u001b[38;5;241m.\u001b[39mpredict(X_skb_test)\n",
      "\u001b[1;31mNameError\u001b[0m: name 'model_skb' is not defined"
     ]
    }
   ],
   "source": [
    "y_pred_skb = model_skb.predict(X_skb_test)"
   ]
  },
  {
   "cell_type": "code",
   "execution_count": 194,
   "metadata": {},
   "outputs": [
    {
     "ename": "NameError",
     "evalue": "name 'y_pred_skb' is not defined",
     "output_type": "error",
     "traceback": [
      "\u001b[1;31m---------------------------------------------------------------------------\u001b[0m",
      "\u001b[1;31mNameError\u001b[0m                                 Traceback (most recent call last)",
      "Cell \u001b[1;32mIn[194], line 2\u001b[0m\n\u001b[0;32m      1\u001b[0m results_test_skb \u001b[38;5;241m=\u001b[39m {\n\u001b[1;32m----> 2\u001b[0m     \u001b[38;5;124m\"\u001b[39m\u001b[38;5;124maccuracy\u001b[39m\u001b[38;5;124m\"\u001b[39m: accuracy_score(y_test,\u001b[43my_pred_skb\u001b[49m),\n\u001b[0;32m      3\u001b[0m     \u001b[38;5;124m\"\u001b[39m\u001b[38;5;124mrecall\u001b[39m\u001b[38;5;124m\"\u001b[39m: recall_score(y_test,y_pred_skb),\n\u001b[0;32m      4\u001b[0m     \u001b[38;5;124m\"\u001b[39m\u001b[38;5;124mselectivity\u001b[39m\u001b[38;5;124m\"\u001b[39m: recall_score(y_test,y_pred_skb,pos_label \u001b[38;5;241m=\u001b[39m \u001b[38;5;241m0\u001b[39m),\n\u001b[0;32m      5\u001b[0m     \u001b[38;5;124m\"\u001b[39m\u001b[38;5;124mprecision\u001b[39m\u001b[38;5;124m\"\u001b[39m: precision_score(y_test,y_pred_skb),\n\u001b[0;32m      6\u001b[0m     \u001b[38;5;124m\"\u001b[39m\u001b[38;5;124mNPV\u001b[39m\u001b[38;5;124m\"\u001b[39m: precision_score(y_test,y_pred_skb, pos_label \u001b[38;5;241m=\u001b[39m \u001b[38;5;241m0\u001b[39m),\n\u001b[0;32m      7\u001b[0m     \u001b[38;5;124m\"\u001b[39m\u001b[38;5;124mf1\u001b[39m\u001b[38;5;124m\"\u001b[39m: f1_score(y_test,y_pred_skb),\n\u001b[0;32m      8\u001b[0m     \u001b[38;5;124m\"\u001b[39m\u001b[38;5;124mf3\u001b[39m\u001b[38;5;124m\"\u001b[39m: fbeta_score(y_test,y_pred_rfe,beta \u001b[38;5;241m=\u001b[39m \u001b[38;5;241m3\u001b[39m)\n\u001b[0;32m      9\u001b[0m \n\u001b[0;32m     10\u001b[0m }\n\u001b[0;32m     12\u001b[0m results_test_skb\n",
      "\u001b[1;31mNameError\u001b[0m: name 'y_pred_skb' is not defined"
     ]
    }
   ],
   "source": [
    "results_test_skb = {\n",
    "    \"accuracy\": accuracy_score(y_test,y_pred_skb),\n",
    "    \"recall\": recall_score(y_test,y_pred_skb),\n",
    "    \"selectivity\": recall_score(y_test,y_pred_skb,pos_label = 0),\n",
    "    \"precision\": precision_score(y_test,y_pred_skb),\n",
    "    \"NPV\": precision_score(y_test,y_pred_skb, pos_label = 0),\n",
    "    \"f1\": f1_score(y_test,y_pred_skb),\n",
    "    \"f3\": fbeta_score(y_test,y_pred_rfe,beta = 3)\n",
    "\n",
    "}\n",
    "\n",
    "results_test_skb"
   ]
  },
  {
   "cell_type": "markdown",
   "metadata": {},
   "source": [
    "Interestingly, the recall is higher than the selectivity with this model. It would be interesting to know which features do help to increase the recall score.\n"
   ]
  },
  {
   "cell_type": "code",
   "execution_count": 195,
   "metadata": {},
   "outputs": [
    {
     "name": "stdout",
     "output_type": "stream",
     "text": [
      "['hemo', 'gender', 'time730', 'offtrt', 'time_censored', 'race', 'z30', 'cd420', 'drugs']\n",
      "['race', 'time_censored', 'time730', 'cd420', 'offtrt']\n"
     ]
    }
   ],
   "source": [
    "print(rfe_selected_features)\n",
    "print(skb_selected_features)"
   ]
  },
  {
   "cell_type": "markdown",
   "metadata": {},
   "source": [
    "## 051 Confusion matrix \n"
   ]
  },
  {
   "cell_type": "code",
   "execution_count": 196,
   "metadata": {},
   "outputs": [
    {
     "ename": "NameError",
     "evalue": "name 'y_pred_rfe' is not defined",
     "output_type": "error",
     "traceback": [
      "\u001b[1;31m---------------------------------------------------------------------------\u001b[0m",
      "\u001b[1;31mNameError\u001b[0m                                 Traceback (most recent call last)",
      "Cell \u001b[1;32mIn[196], line 1\u001b[0m\n\u001b[1;32m----> 1\u001b[0m cm_rfe  \u001b[38;5;241m=\u001b[39m confusion_matrix(y_test,\u001b[43my_pred_rfe\u001b[49m)\n\u001b[0;32m      2\u001b[0m cm_skb  \u001b[38;5;241m=\u001b[39m confusion_matrix(y_test,y_pred_skb)\n",
      "\u001b[1;31mNameError\u001b[0m: name 'y_pred_rfe' is not defined"
     ]
    }
   ],
   "source": [
    "cm_rfe  = confusion_matrix(y_test,y_pred_rfe)\n",
    "cm_skb  = confusion_matrix(y_test,y_pred_skb)"
   ]
  },
  {
   "cell_type": "code",
   "execution_count": 197,
   "metadata": {},
   "outputs": [
    {
     "ename": "NameError",
     "evalue": "name 'cm_skb' is not defined",
     "output_type": "error",
     "traceback": [
      "\u001b[1;31m---------------------------------------------------------------------------\u001b[0m",
      "\u001b[1;31mNameError\u001b[0m                                 Traceback (most recent call last)",
      "Cell \u001b[1;32mIn[197], line 3\u001b[0m\n\u001b[0;32m      1\u001b[0m fig,ax \u001b[38;5;241m=\u001b[39m plt\u001b[38;5;241m.\u001b[39msubplots(\u001b[38;5;241m1\u001b[39m,\u001b[38;5;241m2\u001b[39m,figsize \u001b[38;5;241m=\u001b[39m (\u001b[38;5;241m8\u001b[39m,\u001b[38;5;241m3\u001b[39m))\n\u001b[1;32m----> 3\u001b[0m sns\u001b[38;5;241m.\u001b[39mheatmap(\u001b[43mcm_skb\u001b[49m, annot\u001b[38;5;241m=\u001b[39m\u001b[38;5;28;01mTrue\u001b[39;00m, fmt\u001b[38;5;241m=\u001b[39m\u001b[38;5;124m'\u001b[39m\u001b[38;5;124md\u001b[39m\u001b[38;5;124m'\u001b[39m, cmap\u001b[38;5;241m=\u001b[39m\u001b[38;5;124m'\u001b[39m\u001b[38;5;124mBlues\u001b[39m\u001b[38;5;124m'\u001b[39m, cbar\u001b[38;5;241m=\u001b[39m\u001b[38;5;28;01mFalse\u001b[39;00m, ax \u001b[38;5;241m=\u001b[39m ax[\u001b[38;5;241m0\u001b[39m])\n\u001b[0;32m      4\u001b[0m sns\u001b[38;5;241m.\u001b[39mheatmap(cm_rfe, annot\u001b[38;5;241m=\u001b[39m\u001b[38;5;28;01mTrue\u001b[39;00m, fmt\u001b[38;5;241m=\u001b[39m\u001b[38;5;124m'\u001b[39m\u001b[38;5;124md\u001b[39m\u001b[38;5;124m'\u001b[39m, cmap\u001b[38;5;241m=\u001b[39m\u001b[38;5;124m'\u001b[39m\u001b[38;5;124mBlues\u001b[39m\u001b[38;5;124m'\u001b[39m, cbar\u001b[38;5;241m=\u001b[39m\u001b[38;5;28;01mFalse\u001b[39;00m, ax \u001b[38;5;241m=\u001b[39m ax[\u001b[38;5;241m1\u001b[39m])\n\u001b[0;32m      6\u001b[0m ax[\u001b[38;5;241m0\u001b[39m]\u001b[38;5;241m.\u001b[39mset_title(\u001b[38;5;124m\"\u001b[39m\u001b[38;5;124mConfusion matrix of SKB model\u001b[39m\u001b[38;5;124m\"\u001b[39m)\n",
      "\u001b[1;31mNameError\u001b[0m: name 'cm_skb' is not defined"
     ]
    },
    {
     "data": {
      "image/png": "[encoded data removed]",
      "text/plain": [
       "<Figure size 800x300 with 2 Axes>"
      ]
     },
     "metadata": {},
     "output_type": "display_data"
    }
   ],
   "source": [
    "fig,ax = plt.subplots(1,2,figsize = (8,3))\n",
    "\n",
    "sns.heatmap(cm_skb, annot=True, fmt='d', cmap='Blues', cbar=False, ax = ax[0])\n",
    "sns.heatmap(cm_rfe, annot=True, fmt='d', cmap='Blues', cbar=False, ax = ax[1])\n",
    "\n",
    "ax[0].set_title(\"Confusion matrix of SKB model\")\n",
    "ax[1].set_title(\"Confusion matrix of RFE model\")\n",
    "for i in [0,1]:\n",
    "    ax[i].set_xlabel(\"Predicted Labels\")\n",
    "    ax[i].set_ylabel(\"True Labels\")\n",
    "\n",
    "plt.show()"
   ]
  },
  {
   "cell_type": "code",
   "execution_count": null,
   "metadata": {},
   "outputs": [
    {
     "data": {
      "text/plain": [
       "array([299,  25])"
      ]
     },
     "metadata": {},
     "output_type": "display_data"
    }
   ],
   "source": [
    "cm_rfe [0]"
   ]
  },
  {
   "cell_type": "code",
   "execution_count": null,
   "metadata": {},
   "outputs": [
    {
     "data": {
      "text/plain": [
       "[324, 104]"
      ]
     },
     "metadata": {},
     "output_type": "display_data"
    }
   ],
   "source": [
    "\n",
    "num_test = [int(sum(cm_rfe[0])),int(sum(cm_rfe[1]))]\n",
    "num_test"
   ]
  },
  {
   "cell_type": "markdown",
   "metadata": {},
   "source": [
    "## 053 Visualize confusion matrix data"
   ]
  },
  {
   "cell_type": "code",
   "execution_count": null,
   "metadata": {},
   "outputs": [
    {
     "data": {
      "image/png": "[encoded data removed]",
      "text/plain": [
       "<Figure size 700x300 with 2 Axes>"
      ]
     },
     "metadata": {},
     "output_type": "display_data"
    },
    {
     "data": {
      "image/png": "[encoded data removed]",
      "text/plain": [
       "<Figure size 700x300 with 2 Axes>"
      ]
     },
     "metadata": {},
     "output_type": "display_data"
    }
   ],
   "source": [
    "fig,ax = plt.subplots(1,2,figsize = (7,3))\n",
    "\n",
    "# true infected vs true not infected test data count\n",
    "num_test = [int(sum(cm_skb[0])),int(sum(cm_skb[1]))]\n",
    "\n",
    "\n",
    "ax[0].set_title(\"True positives vs false negatives\")\n",
    "ax[1].set_title(\"True negatives vs False positives\")\n",
    "labels_pie = [[\"FN\", \"TP\"],[\"FP\", \"TN\"]]\n",
    "\n",
    "for i in [0,1]:\n",
    "    ax[i].pie(cm_skb[i], \n",
    "        labels = labels_pie[i], \n",
    "        colors = [sns.color_palette()[i], sns.color_palette()[1-i]], \n",
    "        radius = np.sqrt(2*num_test[i] / (num_test[0] + num_test[1])),\n",
    "        autopct= lambda p: f'{int(num_test[i] * p / 100 )}') # to compute the count instead of the percentage\n",
    "    \n",
    "ax[0].set_xlabel(f\"Selectivity: {results_test_skb[\"selectivity\"]:.3f}\")\n",
    "ax[1].set_xlabel(f\"Recall: {results_test_skb[\"recall\"]:.3f}\")\n",
    "fig.suptitle(\"Test performance for simple model\")\n",
    "plt.tight_layout()\n",
    "plt.show()\n",
    "\n",
    "\n",
    "fig,ax = plt.subplots(1,2,figsize = (7,3))\n",
    "\n",
    "# true infected vs true not infected test data count\n",
    "num_test = [int(sum(cm_rfe[0])),int(sum(cm_rfe[1]))]\n",
    "\n",
    "\n",
    "ax[0].set_title(\"True positives vs false negatives\")\n",
    "ax[1].set_title(\"True negatives vs False positives\")\n",
    "labels_pie = [[\"FN\", \"TP\"],[\"FP\", \"TN\"]]\n",
    "\n",
    "for i in [0,1]:\n",
    "    ax[i].pie(cm_rfe[i], \n",
    "        labels = labels_pie[i], \n",
    "        colors = [sns.color_palette()[i], sns.color_palette()[1-i]], \n",
    "        radius = np.sqrt(2*num_test[i] / (num_test[0] + num_test[1])),\n",
    "        autopct= lambda p: f'{int(num_test[i] * p / 100 )}') # to compute the count instead of the percentage\n",
    "    \n",
    "ax[0].set_xlabel(f\"Selectivity: {results_test_rfe[\"selectivity\"]:.3f}\")\n",
    "ax[1].set_xlabel(f\"Recall: {results_test_rfe[\"recall\"]:.3f}\")\n",
    "fig.suptitle(\"Test performance for performant model\")\n",
    "\n",
    "\n",
    "plt.tight_layout()\n",
    "plt.show()\n",
    "\n"
   ]
  },
  {
   "cell_type": "markdown",
   "metadata": {},
   "source": [
    "## Save Logistic Regression Model"
   ]
  },
  {
   "cell_type": "code",
   "execution_count": 198,
   "metadata": {},
   "outputs": [],
   "source": [
    "import pickle"
   ]
  },
  {
   "cell_type": "code",
   "execution_count": null,
   "metadata": {},
   "outputs": [],
   "source": [
    "# Save model to file\n",
    "model = model_rfe\n",
    "filename = \"models/logistic_RFE9.pkl\"\n",
    "file = open(filename, \"wb\")\n",
    "#pickle.dump(model, file)\n",
    "\n",
    "# The wb indicates that the file is opened for writing in binary mode.\n",
    "\n",
    "\n"
   ]
  },
  {
   "cell_type": "markdown",
   "metadata": {},
   "source": [
    "We also save to file the features"
   ]
  },
  {
   "cell_type": "code",
   "execution_count": null,
   "metadata": {},
   "outputs": [],
   "source": [
    "#pickle.dump(results_rfe_kfold_cv['features'], open(\"models/rfe_features_250103.pkl\", \"wb\"))"
   ]
  },
  {
   "cell_type": "code",
   "execution_count": null,
   "metadata": {},
   "outputs": [],
   "source": []
  },
  {
   "cell_type": "code",
   "execution_count": null,
   "metadata": {},
   "outputs": [],
   "source": []
  }
 ],
 "metadata": {
  "kernelspec": {
   "display_name": ".venv",
   "language": "python",
   "name": "python3"
  },
  "language_info": {
   "codemirror_mode": {
    "name": "ipython",
    "version": 3
   },
   "file_extension": ".py",
   "mimetype": "text/x-python",
   "name": "python",
   "nbconvert_exporter": "python",
   "pygments_lexer": "ipython3",
   "version": "3.13.0"
  }
 },
 "nbformat": 4,
 "nbformat_minor": 2
}
