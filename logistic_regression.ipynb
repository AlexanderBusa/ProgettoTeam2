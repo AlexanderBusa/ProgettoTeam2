{
 "cells": [
  {
   "cell_type": "markdown",
   "metadata": {},
   "source": [
    "# Logistic regression"
   ]
  },
  {
   "cell_type": "code",
   "execution_count": 2,
   "metadata": {},
   "outputs": [],
   "source": [
    "import numpy as np\n",
    "import pandas as pd\n",
    "import matplotlib.pyplot as plt\n",
    "import seaborn as sns\n",
    "\n",
    "from sklearn.preprocessing import MinMaxScaler\n",
    "from sklearn.metrics import *\n",
    "from sklearn.model_selection import train_test_split, KFold, StratifiedKFold, cross_val_score, cross_validate\n",
    "\n",
    "from sklearn.ensemble import RandomForestClassifier\n",
    "from sklearn.feature_selection import SelectKBest, RFE\n",
    "from sklearn.feature_selection import f_classif\n",
    "from sklearn.preprocessing import StandardScaler \n",
    "from sklearn.metrics import accuracy_score\n",
    "from sklearn.metrics import accuracy_score, recall_score, make_scorer\n",
    "\n",
    "\n",
    "from sklearn.linear_model import LogisticRegression\n",
    "\n",
    "from matplotlib_venn import venn2\n",
    "from tqdm import tqdm\n",
    "\n",
    "from imblearn.over_sampling import SMOTENC\n",
    "\n",
    "\n",
    "\n",
    "import src.features as features\n",
    "import src.model_selection as model_selection \n",
    "import src.functions as functions\n",
    "import src.datasets as datasets \n",
    "\n",
    "# import custom functions\n",
    "from src.functions import plot_correlations, plot_mutual_info, hello\n",
    "from src.datasets import xy_train, xy_train_test, data_original, data_50000, data_balanced\n",
    "\n",
    "\n",
    "def data_time730(dataset = data_original(), drop_censored = False):\n",
    "    \"\"\" \n",
    "    replaces feature \"time\" with \n",
    "    - time730: counts the days over the 2 years time target \n",
    "    - time_censored: counts the censored days up to the 2 years time target\n",
    "    \"\"\"\n",
    "\n",
    "    if \"time\" not in df.columns:\n",
    "      print(\"Warning: the data does not have a feature 'time' to be replaced with time730.\")\n",
    "      return df\n",
    "\n",
    "    # this shifted ReLU does the job:\n",
    "    df[\"time730\"] = np.maximum(0, df['time'] - 730)\n",
    "\n",
    "    # censored patients: they quit the study before 2 years\n",
    "    if not drop_censored:\n",
    "      df[\"time_censored\"] = np.maximum(0,730 - df['time'])\n",
    "\n",
    "    df= df.drop(columns = ['time'])\n",
    "    return df"
   ]
  },
  {
   "cell_type": "markdown",
   "metadata": {},
   "source": [
    "## 042 Data preprocessing and oversampling"
   ]
  },
  {
   "cell_type": "markdown",
   "metadata": {},
   "source": [
    "### Load dataset"
   ]
  },
  {
   "cell_type": "code",
   "execution_count": 2,
   "metadata": {},
   "outputs": [],
   "source": [
    "data = datasets.data_original()"
   ]
  },
  {
   "cell_type": "markdown",
   "metadata": {},
   "source": [
    "### Feature engineering "
   ]
  },
  {
   "cell_type": "code",
   "execution_count": 3,
   "metadata": {},
   "outputs": [],
   "source": [
    "data = features.engineer(data)"
   ]
  },
  {
   "cell_type": "markdown",
   "metadata": {},
   "source": [
    "### Train test split (unprocessed)"
   ]
  },
  {
   "cell_type": "code",
   "execution_count": 4,
   "metadata": {},
   "outputs": [],
   "source": [
    "X_, y_ = data.drop('infected', axis=1), data['infected']\n",
    "X_train_, X_test_, y_train_, y_test_ = train_test_split(X_, y_, test_size = 0.2, random_state=42, stratify = y_)\n"
   ]
  },
  {
   "cell_type": "markdown",
   "metadata": {},
   "source": [
    "### Oversampling train data "
   ]
  },
  {
   "cell_type": "code",
   "execution_count": 5,
   "metadata": {},
   "outputs": [],
   "source": [
    "# identify categorical features \n",
    "# The dataset does not have categorical features with more than 4 categories\n",
    "cat_features = [c for c in X_train_.columns if X_train_[c].nunique() < 5]"
   ]
  },
  {
   "cell_type": "code",
   "execution_count": 6,
   "metadata": {},
   "outputs": [],
   "source": [
    "smote_nc = SMOTENC(categorical_features=cat_features, sampling_strategy=1.0, random_state=42)\n",
    "X_oversampled, y_oversampled = smote_nc.fit_resample(X_train_, y_train_) "
   ]
  },
  {
   "cell_type": "markdown",
   "metadata": {},
   "source": [
    "### Scaling the data "
   ]
  },
  {
   "cell_type": "code",
   "execution_count": 68,
   "metadata": {},
   "outputs": [],
   "source": [
    "scaler = StandardScaler()\n",
    "\n",
    "scaler.fit(X_train_)\n",
    "\n",
    "X_train_scaled_oversampled = scaler.transform(X_oversampled)\n",
    "X_test_scaled = scaler.transform(X_test_)"
   ]
  },
  {
   "cell_type": "markdown",
   "metadata": {},
   "source": [
    "### Data ready for Machine Learning"
   ]
  },
  {
   "cell_type": "code",
   "execution_count": 69,
   "metadata": {},
   "outputs": [],
   "source": [
    "X_train =pd.DataFrame(X_train_scaled_oversampled,columns=X_.columns)\n",
    "X_test =pd.DataFrame(X_test_scaled,columns=X_.columns)\n",
    "y_train =y_oversampled \n",
    "y_test = y_test_ "
   ]
  },
  {
   "cell_type": "markdown",
   "metadata": {},
   "source": [
    "## 042-Sprint2 feature selection for oversampled data"
   ]
  },
  {
   "cell_type": "code",
   "execution_count": 70,
   "metadata": {},
   "outputs": [],
   "source": [
    "\n",
    "def cv_mean_scores(Xtrain, ytrain, model = LogisticRegression(random_state=42), n_splits  = 5):\n",
    "    # Create the K-Fold cross-validator\n",
    "    cv = StratifiedKFold(n_splits=n_splits, shuffle=True, random_state=42)\n",
    "     \n",
    "    # Choose the scores to be computed\n",
    "    selectivity_score = make_scorer(recall_score, pos_label = 0)\n",
    "\n",
    "    f3_score = make_scorer(fbeta_score,beta = 3)\n",
    "\n",
    "    my_scores= {\n",
    "        \"accuracy\": \"accuracy\",\n",
    "        \"f3\": f3_score,\n",
    "        \"recall\": \"recall\",\n",
    "        \"selectivity\": selectivity_score, \n",
    "        \"precision\": \"precision\",\n",
    "        \"f1\": \"f1\"\n",
    "    }\n",
    "\n",
    "    # Perform cross-validation measuring the scores\n",
    "    cv_results = cross_validate(\n",
    "        model, Xtrain, ytrain, cv=cv, n_jobs=-1, scoring= my_scores\n",
    "    )\n",
    "\n",
    "\n",
    "    # Calculate the mean of each score\n",
    "    mean_scores =  {score : cv_results[\"test_\"+score].mean() for score in my_scores}\n",
    "    return mean_scores\n",
    "\n"
   ]
  },
  {
   "cell_type": "markdown",
   "metadata": {},
   "source": [
    "### 042-043 Cross-validation for RFE "
   ]
  },
  {
   "cell_type": "code",
   "execution_count": 71,
   "metadata": {},
   "outputs": [],
   "source": [
    "def rfe_kfold_cv(X, y, max_k=None, cv=5, verbose = False):\n",
    "    if max_k is None:\n",
    "        max_k = X.shape[1]\n",
    "    \n",
    "    results_rfe_kfold_cv = []\n",
    "    for k in range(1, max_k + 1):\n",
    "        \n",
    "        \n",
    "        rfe = RFE(estimator=LogisticRegression(solver=\"newton-cg\",random_state=42), n_features_to_select=k)\n",
    "        rfe.fit(X, y)\n",
    "        selected_features = X.columns[rfe.support_]\n",
    "        \n",
    "        model = LogisticRegression(solver=\"newton-cg\", random_state=42)\n",
    "        skf = StratifiedKFold(n_splits=cv, shuffle=True, random_state=42)\n",
    "        \n",
    "        cv_scores = cv_mean_scores(X[selected_features], y, model)\n",
    "        \n",
    "        cv_scores[\"k\"] = k\n",
    "        cv_scores[\"features\"] = list(selected_features)\n",
    "\n",
    "        results_rfe_kfold_cv.append( cv_scores)\n",
    "\n",
    "        if verbose:\n",
    "            print(k)\n",
    "            print(pd.DataFrame(cv_scores))\n",
    "    \n",
    "    return pd.DataFrame(results_rfe_kfold_cv).set_index('k')"
   ]
  },
  {
   "cell_type": "code",
   "execution_count": 72,
   "metadata": {},
   "outputs": [],
   "source": [
    "results_rfe_kfold_cv = rfe_kfold_cv(X_train,y_train,cv=5)\n"
   ]
  },
  {
   "cell_type": "code",
   "execution_count": 73,
   "metadata": {},
   "outputs": [
    {
     "name": "stdout",
     "output_type": "stream",
     "text": [
      "    accuracy        f3    recall  selectivity  precision        f1  \\\n",
      "k                                                                    \n",
      "1   0.846198  0.851311  0.852378     0.839999   0.842696  0.847268   \n",
      "2   0.867834  0.893226  0.898749     0.836922   0.846566  0.871833   \n",
      "3   0.882903  0.902242  0.906477     0.859334   0.866108  0.885754   \n",
      "4   0.889474  0.904681  0.908027     0.870932   0.875809  0.891579   \n",
      "5   0.892565  0.905868  0.908797     0.876337   0.880439  0.894364   \n",
      "6   0.896042  0.906476  0.908791     0.883302   0.886236  0.897350   \n",
      "7   0.901067  0.912450  0.914989     0.887160   0.890439  0.902484   \n",
      "8   0.899910  0.912234  0.914983     0.884846   0.888301  0.901420   \n",
      "9   0.904157  0.918038  0.921158     0.887160   0.890939  0.905780   \n",
      "10  0.904158  0.914894  0.917297     0.891024   0.893929  0.905431   \n",
      "11  0.906479  0.914038  0.915752     0.897202   0.899136  0.907301   \n",
      "12  0.905706  0.913907  0.915755     0.895657   0.897803  0.906633   \n",
      "13  0.903774  0.913546  0.915752     0.891796   0.894411  0.904884   \n",
      "14  0.908023  0.916854  0.918847     0.897199   0.899483  0.909010   \n",
      "15  0.910729  0.918619  0.920394     0.901063   0.903102  0.911620   \n",
      "16  0.909180  0.917069  0.918841     0.899515   0.901583  0.910086   \n",
      "17  0.907635  0.915528  0.917300     0.897974   0.900096  0.908557   \n",
      "18  0.907249  0.914827  0.916527     0.897974   0.900001  0.908132   \n",
      "19  0.906476  0.913427  0.914983     0.897971   0.900001  0.907332   \n",
      "20  0.907249  0.913566  0.914980     0.899518   0.901287  0.908011   \n",
      "21  0.908022  0.914337  0.915752     0.900293   0.902045  0.908776   \n",
      "22  0.905317  0.912583  0.914205     0.896429   0.898411  0.906190   \n",
      "23  0.905317  0.913214  0.914977     0.895657   0.897756  0.906253   \n",
      "24  0.906862  0.914129  0.915749     0.897974   0.899979  0.907745   \n",
      "\n",
      "                                             features  \n",
      "k                                                      \n",
      "1                                           [time730]  \n",
      "2                                   [offtrt, time730]  \n",
      "3                            [offtrt, cd420, time730]  \n",
      "4                      [race, offtrt, cd420, time730]  \n",
      "5                [hemo, race, offtrt, cd420, time730]  \n",
      "6         [hemo, drugs, race, offtrt, cd420, time730]  \n",
      "7    [hemo, drugs, z30, race, offtrt, cd420, time730]  \n",
      "8   [hemo, drugs, z30, race, gender, offtrt, cd420...  \n",
      "9   [hemo, drugs, z30, race, gender, offtrt, cd420...  \n",
      "10  [hemo, drugs, z30, race, gender, offtrt, cd420...  \n",
      "11  [hemo, drugs, z30, race, gender, offtrt, cd420...  \n",
      "12  [hemo, drugs, z30, race, gender, str2, offtrt,...  \n",
      "13  [hemo, drugs, z30, preanti, race, gender, str2...  \n",
      "14  [hemo, drugs, z30, preanti, race, gender, str2...  \n",
      "15  [age, hemo, drugs, z30, preanti, race, gender,...  \n",
      "16  [age, hemo, drugs, karnof, z30, preanti, race,...  \n",
      "17  [age, wtkg, hemo, drugs, karnof, z30, preanti,...  \n",
      "18  [age, wtkg, hemo, drugs, karnof, z30, preanti,...  \n",
      "19  [age, wtkg, hemo, drugs, karnof, z30, preanti,...  \n",
      "20  [age, wtkg, hemo, drugs, karnof, z30, preanti,...  \n",
      "21  [age, wtkg, hemo, drugs, karnof, oprior, z30, ...  \n",
      "22  [age, wtkg, hemo, drugs, karnof, oprior, z30, ...  \n",
      "23  [age, wtkg, hemo, homo, drugs, karnof, oprior,...  \n",
      "24  [age, wtkg, hemo, homo, drugs, karnof, oprior,...  \n"
     ]
    }
   ],
   "source": [
    "print(results_rfe_kfold_cv)\n"
   ]
  },
  {
   "cell_type": "code",
   "execution_count": 74,
   "metadata": {},
   "outputs": [
    {
     "name": "stdout",
     "output_type": "stream",
     "text": [
      "['time730']\n",
      "['offtrt', 'time730']\n",
      "['offtrt', 'cd420', 'time730']\n",
      "['race', 'offtrt', 'cd420', 'time730']\n",
      "['hemo', 'race', 'offtrt', 'cd420', 'time730']\n",
      "['hemo', 'drugs', 'race', 'offtrt', 'cd420', 'time730']\n",
      "['hemo', 'drugs', 'z30', 'race', 'offtrt', 'cd420', 'time730']\n",
      "['hemo', 'drugs', 'z30', 'race', 'gender', 'offtrt', 'cd420', 'time730']\n",
      "['hemo', 'drugs', 'z30', 'race', 'gender', 'offtrt', 'cd420', 'time730', 'time_censored']\n",
      "['hemo', 'drugs', 'z30', 'race', 'gender', 'offtrt', 'cd420', 'time730', 'time_censored', 'trt1']\n",
      "['hemo', 'drugs', 'z30', 'race', 'gender', 'offtrt', 'cd420', 'time730', 'time_censored', 'trt1', 'trt2']\n",
      "['hemo', 'drugs', 'z30', 'race', 'gender', 'str2', 'offtrt', 'cd420', 'time730', 'time_censored', 'trt1', 'trt2']\n",
      "['hemo', 'drugs', 'z30', 'preanti', 'race', 'gender', 'str2', 'offtrt', 'cd420', 'time730', 'time_censored', 'trt1', 'trt2']\n",
      "['hemo', 'drugs', 'z30', 'preanti', 'race', 'gender', 'str2', 'offtrt', 'cd420', 'cd80', 'time730', 'time_censored', 'trt1', 'trt2']\n",
      "['age', 'hemo', 'drugs', 'z30', 'preanti', 'race', 'gender', 'str2', 'offtrt', 'cd420', 'cd80', 'time730', 'time_censored', 'trt1', 'trt2']\n",
      "['age', 'hemo', 'drugs', 'karnof', 'z30', 'preanti', 'race', 'gender', 'str2', 'offtrt', 'cd420', 'cd80', 'time730', 'time_censored', 'trt1', 'trt2']\n",
      "['age', 'wtkg', 'hemo', 'drugs', 'karnof', 'z30', 'preanti', 'race', 'gender', 'str2', 'offtrt', 'cd420', 'cd80', 'time730', 'time_censored', 'trt1', 'trt2']\n",
      "['age', 'wtkg', 'hemo', 'drugs', 'karnof', 'z30', 'preanti', 'race', 'gender', 'str2', 'offtrt', 'cd40', 'cd420', 'cd80', 'time730', 'time_censored', 'trt1', 'trt2']\n",
      "['age', 'wtkg', 'hemo', 'drugs', 'karnof', 'z30', 'preanti', 'race', 'gender', 'str2', 'offtrt', 'cd40', 'cd420', 'cd80', 'cd820', 'time730', 'time_censored', 'trt1', 'trt2']\n",
      "['age', 'wtkg', 'hemo', 'drugs', 'karnof', 'z30', 'preanti', 'race', 'gender', 'str2', 'offtrt', 'cd40', 'cd420', 'cd80', 'cd820', 'time730', 'time_censored', 'trt0', 'trt1', 'trt2']\n",
      "['age', 'wtkg', 'hemo', 'drugs', 'karnof', 'oprior', 'z30', 'preanti', 'race', 'gender', 'str2', 'offtrt', 'cd40', 'cd420', 'cd80', 'cd820', 'time730', 'time_censored', 'trt0', 'trt1', 'trt2']\n",
      "['age', 'wtkg', 'hemo', 'drugs', 'karnof', 'oprior', 'z30', 'preanti', 'race', 'gender', 'str2', 'symptom', 'offtrt', 'cd40', 'cd420', 'cd80', 'cd820', 'time730', 'time_censored', 'trt0', 'trt1', 'trt2']\n",
      "['age', 'wtkg', 'hemo', 'homo', 'drugs', 'karnof', 'oprior', 'z30', 'preanti', 'race', 'gender', 'str2', 'symptom', 'offtrt', 'cd40', 'cd420', 'cd80', 'cd820', 'time730', 'time_censored', 'trt0', 'trt1', 'trt2']\n",
      "['age', 'wtkg', 'hemo', 'homo', 'drugs', 'karnof', 'oprior', 'z30', 'preanti', 'race', 'gender', 'str2', 'strat', 'symptom', 'offtrt', 'cd40', 'cd420', 'cd80', 'cd820', 'time730', 'time_censored', 'trt0', 'trt1', 'trt2']\n"
     ]
    }
   ],
   "source": [
    "for rfe_features in results_rfe_kfold_cv['features']:\n",
    "    print(rfe_features)\n"
   ]
  },
  {
   "cell_type": "markdown",
   "metadata": {},
   "source": [
    "### 042-045 Visualize Cross-validation scores "
   ]
  },
  {
   "cell_type": "code",
   "execution_count": 75,
   "metadata": {},
   "outputs": [
    {
     "data": {
      "image/png": "[encoded data removed]",
      "text/plain": [
       "<Figure size 640x480 with 1 Axes>"
      ]
     },
     "metadata": {},
     "output_type": "display_data"
    }
   ],
   "source": [
    "results_by_score = {}\n",
    "for score in [\"accuracy\", \"f3\", \"recall\", \"selectivity\"]:\n",
    "    results_by_score[score] = results_rfe_kfold_cv.copy()\n",
    "    results_by_score[score]['label'] = \"RFE cv \" + score\n",
    "    results_by_score[score][\"score\"] = results_rfe_kfold_cv[score]\n",
    "\n",
    "\n",
    "results_all = pd.concat(results_by_score.values())\n",
    "\n",
    "sns.lineplot(data = results_all, x = \"k\", y = \"score\", hue=\"label\")\n",
    "plt.ylabel(\"cv accuracy\")\n",
    "plt.xlabel(\"k = number of features\")\n",
    "plt.title(\"RFE scores on the oversampled dataset\")\n",
    "plt.show()"
   ]
  },
  {
   "cell_type": "markdown",
   "metadata": {},
   "source": [
    "## 046 Choose best models "
   ]
  },
  {
   "cell_type": "markdown",
   "metadata": {},
   "source": [
    "Here we choose the best models selected with both the RFE algorithm."
   ]
  },
  {
   "cell_type": "code",
   "execution_count": 76,
   "metadata": {},
   "outputs": [
    {
     "name": "stdout",
     "output_type": "stream",
     "text": [
      "selected features for performance: 9 ['hemo', 'drugs', 'z30', 'race', 'gender', 'offtrt', 'cd420', 'time730', 'time_censored']\n",
      "\n",
      "selected features for simplicity: 4 ['race', 'offtrt', 'cd420', 'time730']\n"
     ]
    }
   ],
   "source": [
    "k_rfe = 9\n",
    "rfe_selected_features=results_rfe_kfold_cv.loc[k_rfe,\"features\"]\n",
    "\n",
    "k_skb = 4\n",
    "skb_selected_features=results_rfe_kfold_cv.loc[k_skb,\"features\"]\n",
    "\n",
    "print(f\"selected features for performance:\",k_rfe, rfe_selected_features) \n",
    "print(f\"\\nselected features for simplicity:\",k_skb, skb_selected_features) "
   ]
  },
  {
   "cell_type": "markdown",
   "metadata": {},
   "source": [
    "Now we fit the best models"
   ]
  },
  {
   "cell_type": "code",
   "execution_count": 77,
   "metadata": {},
   "outputs": [
    {
     "data": {
      "text/html": [
       "<style>#sk-container-id-3 {\n",
       "  /* Definition of color scheme common for light and dark mode */\n",
       "  --sklearn-color-text: black;\n",
       "  --sklearn-color-line: gray;\n",
       "  /* Definition of color scheme for unfitted estimators */\n",
       "  --sklearn-color-unfitted-level-0: #fff5e6;\n",
       "  --sklearn-color-unfitted-level-1: #f6e4d2;\n",
       "  --sklearn-color-unfitted-level-2: #ffe0b3;\n",
       "  --sklearn-color-unfitted-level-3: chocolate;\n",
       "  /* Definition of color scheme for fitted estimators */\n",
       "  --sklearn-color-fitted-level-0: #f0f8ff;\n",
       "  --sklearn-color-fitted-level-1: #d4ebff;\n",
       "  --sklearn-color-fitted-level-2: #b3dbfd;\n",
       "  --sklearn-color-fitted-level-3: cornflowerblue;\n",
       "\n",
       "  /* Specific color for light theme */\n",
       "  --sklearn-color-text-on-default-background: var(--sg-text-color, var(--theme-code-foreground, var(--jp-content-font-color1, black)));\n",
       "  --sklearn-color-background: var(--sg-background-color, var(--theme-background, var(--jp-layout-color0, white)));\n",
       "  --sklearn-color-border-box: var(--sg-text-color, var(--theme-code-foreground, var(--jp-content-font-color1, black)));\n",
       "  --sklearn-color-icon: #696969;\n",
       "\n",
       "  @media (prefers-color-scheme: dark) {\n",
       "    /* Redefinition of color scheme for dark theme */\n",
       "    --sklearn-color-text-on-default-background: var(--sg-text-color, var(--theme-code-foreground, var(--jp-content-font-color1, white)));\n",
       "    --sklearn-color-background: var(--sg-background-color, var(--theme-background, var(--jp-layout-color0, #111)));\n",
       "    --sklearn-color-border-box: var(--sg-text-color, var(--theme-code-foreground, var(--jp-content-font-color1, white)));\n",
       "    --sklearn-color-icon: #878787;\n",
       "  }\n",
       "}\n",
       "\n",
       "#sk-container-id-3 {\n",
       "  color: var(--sklearn-color-text);\n",
       "}\n",
       "\n",
       "#sk-container-id-3 pre {\n",
       "  padding: 0;\n",
       "}\n",
       "\n",
       "#sk-container-id-3 input.sk-hidden--visually {\n",
       "  border: 0;\n",
       "  clip: rect(1px 1px 1px 1px);\n",
       "  clip: rect(1px, 1px, 1px, 1px);\n",
       "  height: 1px;\n",
       "  margin: -1px;\n",
       "  overflow: hidden;\n",
       "  padding: 0;\n",
       "  position: absolute;\n",
       "  width: 1px;\n",
       "}\n",
       "\n",
       "#sk-container-id-3 div.sk-dashed-wrapped {\n",
       "  border: 1px dashed var(--sklearn-color-line);\n",
       "  margin: 0 0.4em 0.5em 0.4em;\n",
       "  box-sizing: border-box;\n",
       "  padding-bottom: 0.4em;\n",
       "  background-color: var(--sklearn-color-background);\n",
       "}\n",
       "\n",
       "#sk-container-id-3 div.sk-container {\n",
       "  /* jupyter's `normalize.less` sets `[hidden] { display: none; }`\n",
       "     but bootstrap.min.css set `[hidden] { display: none !important; }`\n",
       "     so we also need the `!important` here to be able to override the\n",
       "     default hidden behavior on the sphinx rendered scikit-learn.org.\n",
       "     See: https://github.com/scikit-learn/scikit-learn/issues/21755 */\n",
       "  display: inline-block !important;\n",
       "  position: relative;\n",
       "}\n",
       "\n",
       "#sk-container-id-3 div.sk-text-repr-fallback {\n",
       "  display: none;\n",
       "}\n",
       "\n",
       "div.sk-parallel-item,\n",
       "div.sk-serial,\n",
       "div.sk-item {\n",
       "  /* draw centered vertical line to link estimators */\n",
       "  background-image: linear-gradient(var(--sklearn-color-text-on-default-background), var(--sklearn-color-text-on-default-background));\n",
       "  background-size: 2px 100%;\n",
       "  background-repeat: no-repeat;\n",
       "  background-position: center center;\n",
       "}\n",
       "\n",
       "/* Parallel-specific style estimator block */\n",
       "\n",
       "#sk-container-id-3 div.sk-parallel-item::after {\n",
       "  content: \"\";\n",
       "  width: 100%;\n",
       "  border-bottom: 2px solid var(--sklearn-color-text-on-default-background);\n",
       "  flex-grow: 1;\n",
       "}\n",
       "\n",
       "#sk-container-id-3 div.sk-parallel {\n",
       "  display: flex;\n",
       "  align-items: stretch;\n",
       "  justify-content: center;\n",
       "  background-color: var(--sklearn-color-background);\n",
       "  position: relative;\n",
       "}\n",
       "\n",
       "#sk-container-id-3 div.sk-parallel-item {\n",
       "  display: flex;\n",
       "  flex-direction: column;\n",
       "}\n",
       "\n",
       "#sk-container-id-3 div.sk-parallel-item:first-child::after {\n",
       "  align-self: flex-end;\n",
       "  width: 50%;\n",
       "}\n",
       "\n",
       "#sk-container-id-3 div.sk-parallel-item:last-child::after {\n",
       "  align-self: flex-start;\n",
       "  width: 50%;\n",
       "}\n",
       "\n",
       "#sk-container-id-3 div.sk-parallel-item:only-child::after {\n",
       "  width: 0;\n",
       "}\n",
       "\n",
       "/* Serial-specific style estimator block */\n",
       "\n",
       "#sk-container-id-3 div.sk-serial {\n",
       "  display: flex;\n",
       "  flex-direction: column;\n",
       "  align-items: center;\n",
       "  background-color: var(--sklearn-color-background);\n",
       "  padding-right: 1em;\n",
       "  padding-left: 1em;\n",
       "}\n",
       "\n",
       "\n",
       "/* Toggleable style: style used for estimator/Pipeline/ColumnTransformer box that is\n",
       "clickable and can be expanded/collapsed.\n",
       "- Pipeline and ColumnTransformer use this feature and define the default style\n",
       "- Estimators will overwrite some part of the style using the `sk-estimator` class\n",
       "*/\n",
       "\n",
       "/* Pipeline and ColumnTransformer style (default) */\n",
       "\n",
       "#sk-container-id-3 div.sk-toggleable {\n",
       "  /* Default theme specific background. It is overwritten whether we have a\n",
       "  specific estimator or a Pipeline/ColumnTransformer */\n",
       "  background-color: var(--sklearn-color-background);\n",
       "}\n",
       "\n",
       "/* Toggleable label */\n",
       "#sk-container-id-3 label.sk-toggleable__label {\n",
       "  cursor: pointer;\n",
       "  display: block;\n",
       "  width: 100%;\n",
       "  margin-bottom: 0;\n",
       "  padding: 0.5em;\n",
       "  box-sizing: border-box;\n",
       "  text-align: center;\n",
       "}\n",
       "\n",
       "#sk-container-id-3 label.sk-toggleable__label-arrow:before {\n",
       "  /* Arrow on the left of the label */\n",
       "  content: \"▸\";\n",
       "  float: left;\n",
       "  margin-right: 0.25em;\n",
       "  color: var(--sklearn-color-icon);\n",
       "}\n",
       "\n",
       "#sk-container-id-3 label.sk-toggleable__label-arrow:hover:before {\n",
       "  color: var(--sklearn-color-text);\n",
       "}\n",
       "\n",
       "/* Toggleable content - dropdown */\n",
       "\n",
       "#sk-container-id-3 div.sk-toggleable__content {\n",
       "  max-height: 0;\n",
       "  max-width: 0;\n",
       "  overflow: hidden;\n",
       "  text-align: left;\n",
       "  /* unfitted */\n",
       "  background-color: var(--sklearn-color-unfitted-level-0);\n",
       "}\n",
       "\n",
       "#sk-container-id-3 div.sk-toggleable__content.fitted {\n",
       "  /* fitted */\n",
       "  background-color: var(--sklearn-color-fitted-level-0);\n",
       "}\n",
       "\n",
       "#sk-container-id-3 div.sk-toggleable__content pre {\n",
       "  margin: 0.2em;\n",
       "  border-radius: 0.25em;\n",
       "  color: var(--sklearn-color-text);\n",
       "  /* unfitted */\n",
       "  background-color: var(--sklearn-color-unfitted-level-0);\n",
       "}\n",
       "\n",
       "#sk-container-id-3 div.sk-toggleable__content.fitted pre {\n",
       "  /* unfitted */\n",
       "  background-color: var(--sklearn-color-fitted-level-0);\n",
       "}\n",
       "\n",
       "#sk-container-id-3 input.sk-toggleable__control:checked~div.sk-toggleable__content {\n",
       "  /* Expand drop-down */\n",
       "  max-height: 200px;\n",
       "  max-width: 100%;\n",
       "  overflow: auto;\n",
       "}\n",
       "\n",
       "#sk-container-id-3 input.sk-toggleable__control:checked~label.sk-toggleable__label-arrow:before {\n",
       "  content: \"▾\";\n",
       "}\n",
       "\n",
       "/* Pipeline/ColumnTransformer-specific style */\n",
       "\n",
       "#sk-container-id-3 div.sk-label input.sk-toggleable__control:checked~label.sk-toggleable__label {\n",
       "  color: var(--sklearn-color-text);\n",
       "  background-color: var(--sklearn-color-unfitted-level-2);\n",
       "}\n",
       "\n",
       "#sk-container-id-3 div.sk-label.fitted input.sk-toggleable__control:checked~label.sk-toggleable__label {\n",
       "  background-color: var(--sklearn-color-fitted-level-2);\n",
       "}\n",
       "\n",
       "/* Estimator-specific style */\n",
       "\n",
       "/* Colorize estimator box */\n",
       "#sk-container-id-3 div.sk-estimator input.sk-toggleable__control:checked~label.sk-toggleable__label {\n",
       "  /* unfitted */\n",
       "  background-color: var(--sklearn-color-unfitted-level-2);\n",
       "}\n",
       "\n",
       "#sk-container-id-3 div.sk-estimator.fitted input.sk-toggleable__control:checked~label.sk-toggleable__label {\n",
       "  /* fitted */\n",
       "  background-color: var(--sklearn-color-fitted-level-2);\n",
       "}\n",
       "\n",
       "#sk-container-id-3 div.sk-label label.sk-toggleable__label,\n",
       "#sk-container-id-3 div.sk-label label {\n",
       "  /* The background is the default theme color */\n",
       "  color: var(--sklearn-color-text-on-default-background);\n",
       "}\n",
       "\n",
       "/* On hover, darken the color of the background */\n",
       "#sk-container-id-3 div.sk-label:hover label.sk-toggleable__label {\n",
       "  color: var(--sklearn-color-text);\n",
       "  background-color: var(--sklearn-color-unfitted-level-2);\n",
       "}\n",
       "\n",
       "/* Label box, darken color on hover, fitted */\n",
       "#sk-container-id-3 div.sk-label.fitted:hover label.sk-toggleable__label.fitted {\n",
       "  color: var(--sklearn-color-text);\n",
       "  background-color: var(--sklearn-color-fitted-level-2);\n",
       "}\n",
       "\n",
       "/* Estimator label */\n",
       "\n",
       "#sk-container-id-3 div.sk-label label {\n",
       "  font-family: monospace;\n",
       "  font-weight: bold;\n",
       "  display: inline-block;\n",
       "  line-height: 1.2em;\n",
       "}\n",
       "\n",
       "#sk-container-id-3 div.sk-label-container {\n",
       "  text-align: center;\n",
       "}\n",
       "\n",
       "/* Estimator-specific */\n",
       "#sk-container-id-3 div.sk-estimator {\n",
       "  font-family: monospace;\n",
       "  border: 1px dotted var(--sklearn-color-border-box);\n",
       "  border-radius: 0.25em;\n",
       "  box-sizing: border-box;\n",
       "  margin-bottom: 0.5em;\n",
       "  /* unfitted */\n",
       "  background-color: var(--sklearn-color-unfitted-level-0);\n",
       "}\n",
       "\n",
       "#sk-container-id-3 div.sk-estimator.fitted {\n",
       "  /* fitted */\n",
       "  background-color: var(--sklearn-color-fitted-level-0);\n",
       "}\n",
       "\n",
       "/* on hover */\n",
       "#sk-container-id-3 div.sk-estimator:hover {\n",
       "  /* unfitted */\n",
       "  background-color: var(--sklearn-color-unfitted-level-2);\n",
       "}\n",
       "\n",
       "#sk-container-id-3 div.sk-estimator.fitted:hover {\n",
       "  /* fitted */\n",
       "  background-color: var(--sklearn-color-fitted-level-2);\n",
       "}\n",
       "\n",
       "/* Specification for estimator info (e.g. \"i\" and \"?\") */\n",
       "\n",
       "/* Common style for \"i\" and \"?\" */\n",
       "\n",
       ".sk-estimator-doc-link,\n",
       "a:link.sk-estimator-doc-link,\n",
       "a:visited.sk-estimator-doc-link {\n",
       "  float: right;\n",
       "  font-size: smaller;\n",
       "  line-height: 1em;\n",
       "  font-family: monospace;\n",
       "  background-color: var(--sklearn-color-background);\n",
       "  border-radius: 1em;\n",
       "  height: 1em;\n",
       "  width: 1em;\n",
       "  text-decoration: none !important;\n",
       "  margin-left: 1ex;\n",
       "  /* unfitted */\n",
       "  border: var(--sklearn-color-unfitted-level-1) 1pt solid;\n",
       "  color: var(--sklearn-color-unfitted-level-1);\n",
       "}\n",
       "\n",
       ".sk-estimator-doc-link.fitted,\n",
       "a:link.sk-estimator-doc-link.fitted,\n",
       "a:visited.sk-estimator-doc-link.fitted {\n",
       "  /* fitted */\n",
       "  border: var(--sklearn-color-fitted-level-1) 1pt solid;\n",
       "  color: var(--sklearn-color-fitted-level-1);\n",
       "}\n",
       "\n",
       "/* On hover */\n",
       "div.sk-estimator:hover .sk-estimator-doc-link:hover,\n",
       ".sk-estimator-doc-link:hover,\n",
       "div.sk-label-container:hover .sk-estimator-doc-link:hover,\n",
       ".sk-estimator-doc-link:hover {\n",
       "  /* unfitted */\n",
       "  background-color: var(--sklearn-color-unfitted-level-3);\n",
       "  color: var(--sklearn-color-background);\n",
       "  text-decoration: none;\n",
       "}\n",
       "\n",
       "div.sk-estimator.fitted:hover .sk-estimator-doc-link.fitted:hover,\n",
       ".sk-estimator-doc-link.fitted:hover,\n",
       "div.sk-label-container:hover .sk-estimator-doc-link.fitted:hover,\n",
       ".sk-estimator-doc-link.fitted:hover {\n",
       "  /* fitted */\n",
       "  background-color: var(--sklearn-color-fitted-level-3);\n",
       "  color: var(--sklearn-color-background);\n",
       "  text-decoration: none;\n",
       "}\n",
       "\n",
       "/* Span, style for the box shown on hovering the info icon */\n",
       ".sk-estimator-doc-link span {\n",
       "  display: none;\n",
       "  z-index: 9999;\n",
       "  position: relative;\n",
       "  font-weight: normal;\n",
       "  right: .2ex;\n",
       "  padding: .5ex;\n",
       "  margin: .5ex;\n",
       "  width: min-content;\n",
       "  min-width: 20ex;\n",
       "  max-width: 50ex;\n",
       "  color: var(--sklearn-color-text);\n",
       "  box-shadow: 2pt 2pt 4pt #999;\n",
       "  /* unfitted */\n",
       "  background: var(--sklearn-color-unfitted-level-0);\n",
       "  border: .5pt solid var(--sklearn-color-unfitted-level-3);\n",
       "}\n",
       "\n",
       ".sk-estimator-doc-link.fitted span {\n",
       "  /* fitted */\n",
       "  background: var(--sklearn-color-fitted-level-0);\n",
       "  border: var(--sklearn-color-fitted-level-3);\n",
       "}\n",
       "\n",
       ".sk-estimator-doc-link:hover span {\n",
       "  display: block;\n",
       "}\n",
       "\n",
       "/* \"?\"-specific style due to the `<a>` HTML tag */\n",
       "\n",
       "#sk-container-id-3 a.estimator_doc_link {\n",
       "  float: right;\n",
       "  font-size: 1rem;\n",
       "  line-height: 1em;\n",
       "  font-family: monospace;\n",
       "  background-color: var(--sklearn-color-background);\n",
       "  border-radius: 1rem;\n",
       "  height: 1rem;\n",
       "  width: 1rem;\n",
       "  text-decoration: none;\n",
       "  /* unfitted */\n",
       "  color: var(--sklearn-color-unfitted-level-1);\n",
       "  border: var(--sklearn-color-unfitted-level-1) 1pt solid;\n",
       "}\n",
       "\n",
       "#sk-container-id-3 a.estimator_doc_link.fitted {\n",
       "  /* fitted */\n",
       "  border: var(--sklearn-color-fitted-level-1) 1pt solid;\n",
       "  color: var(--sklearn-color-fitted-level-1);\n",
       "}\n",
       "\n",
       "/* On hover */\n",
       "#sk-container-id-3 a.estimator_doc_link:hover {\n",
       "  /* unfitted */\n",
       "  background-color: var(--sklearn-color-unfitted-level-3);\n",
       "  color: var(--sklearn-color-background);\n",
       "  text-decoration: none;\n",
       "}\n",
       "\n",
       "#sk-container-id-3 a.estimator_doc_link.fitted:hover {\n",
       "  /* fitted */\n",
       "  background-color: var(--sklearn-color-fitted-level-3);\n",
       "}\n",
       "</style><div id=\"sk-container-id-3\" class=\"sk-top-container\"><div class=\"sk-text-repr-fallback\"><pre>LogisticRegression(random_state=42)</pre><b>In a Jupyter environment, please rerun this cell to show the HTML representation or trust the notebook. <br />On GitHub, the HTML representation is unable to render, please try loading this page with nbviewer.org.</b></div><div class=\"sk-container\" hidden><div class=\"sk-item\"><div class=\"sk-estimator fitted sk-toggleable\"><input class=\"sk-toggleable__control sk-hidden--visually\" id=\"sk-estimator-id-3\" type=\"checkbox\" checked><label for=\"sk-estimator-id-3\" class=\"sk-toggleable__label fitted sk-toggleable__label-arrow fitted\">&nbsp;&nbsp;LogisticRegression<a class=\"sk-estimator-doc-link fitted\" rel=\"noreferrer\" target=\"_blank\" href=\"https://scikit-learn.org/1.5/modules/generated/sklearn.linear_model.LogisticRegression.html\">?<span>Documentation for LogisticRegression</span></a><span class=\"sk-estimator-doc-link fitted\">i<span>Fitted</span></span></label><div class=\"sk-toggleable__content fitted\"><pre>LogisticRegression(random_state=42)</pre></div> </div></div></div></div>"
      ],
      "text/plain": [
       "LogisticRegression(random_state=42)"
      ]
     },
     "execution_count": 77,
     "metadata": {},
     "output_type": "execute_result"
    }
   ],
   "source": [
    "model_rfe = LogisticRegression(random_state=42) \n",
    "X_rfe_train = X_train[rfe_selected_features]\n",
    "X_rfe_test = X_test[rfe_selected_features]\n",
    "model_rfe.fit(X_rfe_train,y_train)"
   ]
  },
  {
   "cell_type": "code",
   "execution_count": 78,
   "metadata": {},
   "outputs": [
    {
     "data": {
      "text/html": [
       "<style>#sk-container-id-4 {\n",
       "  /* Definition of color scheme common for light and dark mode */\n",
       "  --sklearn-color-text: black;\n",
       "  --sklearn-color-line: gray;\n",
       "  /* Definition of color scheme for unfitted estimators */\n",
       "  --sklearn-color-unfitted-level-0: #fff5e6;\n",
       "  --sklearn-color-unfitted-level-1: #f6e4d2;\n",
       "  --sklearn-color-unfitted-level-2: #ffe0b3;\n",
       "  --sklearn-color-unfitted-level-3: chocolate;\n",
       "  /* Definition of color scheme for fitted estimators */\n",
       "  --sklearn-color-fitted-level-0: #f0f8ff;\n",
       "  --sklearn-color-fitted-level-1: #d4ebff;\n",
       "  --sklearn-color-fitted-level-2: #b3dbfd;\n",
       "  --sklearn-color-fitted-level-3: cornflowerblue;\n",
       "\n",
       "  /* Specific color for light theme */\n",
       "  --sklearn-color-text-on-default-background: var(--sg-text-color, var(--theme-code-foreground, var(--jp-content-font-color1, black)));\n",
       "  --sklearn-color-background: var(--sg-background-color, var(--theme-background, var(--jp-layout-color0, white)));\n",
       "  --sklearn-color-border-box: var(--sg-text-color, var(--theme-code-foreground, var(--jp-content-font-color1, black)));\n",
       "  --sklearn-color-icon: #696969;\n",
       "\n",
       "  @media (prefers-color-scheme: dark) {\n",
       "    /* Redefinition of color scheme for dark theme */\n",
       "    --sklearn-color-text-on-default-background: var(--sg-text-color, var(--theme-code-foreground, var(--jp-content-font-color1, white)));\n",
       "    --sklearn-color-background: var(--sg-background-color, var(--theme-background, var(--jp-layout-color0, #111)));\n",
       "    --sklearn-color-border-box: var(--sg-text-color, var(--theme-code-foreground, var(--jp-content-font-color1, white)));\n",
       "    --sklearn-color-icon: #878787;\n",
       "  }\n",
       "}\n",
       "\n",
       "#sk-container-id-4 {\n",
       "  color: var(--sklearn-color-text);\n",
       "}\n",
       "\n",
       "#sk-container-id-4 pre {\n",
       "  padding: 0;\n",
       "}\n",
       "\n",
       "#sk-container-id-4 input.sk-hidden--visually {\n",
       "  border: 0;\n",
       "  clip: rect(1px 1px 1px 1px);\n",
       "  clip: rect(1px, 1px, 1px, 1px);\n",
       "  height: 1px;\n",
       "  margin: -1px;\n",
       "  overflow: hidden;\n",
       "  padding: 0;\n",
       "  position: absolute;\n",
       "  width: 1px;\n",
       "}\n",
       "\n",
       "#sk-container-id-4 div.sk-dashed-wrapped {\n",
       "  border: 1px dashed var(--sklearn-color-line);\n",
       "  margin: 0 0.4em 0.5em 0.4em;\n",
       "  box-sizing: border-box;\n",
       "  padding-bottom: 0.4em;\n",
       "  background-color: var(--sklearn-color-background);\n",
       "}\n",
       "\n",
       "#sk-container-id-4 div.sk-container {\n",
       "  /* jupyter's `normalize.less` sets `[hidden] { display: none; }`\n",
       "     but bootstrap.min.css set `[hidden] { display: none !important; }`\n",
       "     so we also need the `!important` here to be able to override the\n",
       "     default hidden behavior on the sphinx rendered scikit-learn.org.\n",
       "     See: https://github.com/scikit-learn/scikit-learn/issues/21755 */\n",
       "  display: inline-block !important;\n",
       "  position: relative;\n",
       "}\n",
       "\n",
       "#sk-container-id-4 div.sk-text-repr-fallback {\n",
       "  display: none;\n",
       "}\n",
       "\n",
       "div.sk-parallel-item,\n",
       "div.sk-serial,\n",
       "div.sk-item {\n",
       "  /* draw centered vertical line to link estimators */\n",
       "  background-image: linear-gradient(var(--sklearn-color-text-on-default-background), var(--sklearn-color-text-on-default-background));\n",
       "  background-size: 2px 100%;\n",
       "  background-repeat: no-repeat;\n",
       "  background-position: center center;\n",
       "}\n",
       "\n",
       "/* Parallel-specific style estimator block */\n",
       "\n",
       "#sk-container-id-4 div.sk-parallel-item::after {\n",
       "  content: \"\";\n",
       "  width: 100%;\n",
       "  border-bottom: 2px solid var(--sklearn-color-text-on-default-background);\n",
       "  flex-grow: 1;\n",
       "}\n",
       "\n",
       "#sk-container-id-4 div.sk-parallel {\n",
       "  display: flex;\n",
       "  align-items: stretch;\n",
       "  justify-content: center;\n",
       "  background-color: var(--sklearn-color-background);\n",
       "  position: relative;\n",
       "}\n",
       "\n",
       "#sk-container-id-4 div.sk-parallel-item {\n",
       "  display: flex;\n",
       "  flex-direction: column;\n",
       "}\n",
       "\n",
       "#sk-container-id-4 div.sk-parallel-item:first-child::after {\n",
       "  align-self: flex-end;\n",
       "  width: 50%;\n",
       "}\n",
       "\n",
       "#sk-container-id-4 div.sk-parallel-item:last-child::after {\n",
       "  align-self: flex-start;\n",
       "  width: 50%;\n",
       "}\n",
       "\n",
       "#sk-container-id-4 div.sk-parallel-item:only-child::after {\n",
       "  width: 0;\n",
       "}\n",
       "\n",
       "/* Serial-specific style estimator block */\n",
       "\n",
       "#sk-container-id-4 div.sk-serial {\n",
       "  display: flex;\n",
       "  flex-direction: column;\n",
       "  align-items: center;\n",
       "  background-color: var(--sklearn-color-background);\n",
       "  padding-right: 1em;\n",
       "  padding-left: 1em;\n",
       "}\n",
       "\n",
       "\n",
       "/* Toggleable style: style used for estimator/Pipeline/ColumnTransformer box that is\n",
       "clickable and can be expanded/collapsed.\n",
       "- Pipeline and ColumnTransformer use this feature and define the default style\n",
       "- Estimators will overwrite some part of the style using the `sk-estimator` class\n",
       "*/\n",
       "\n",
       "/* Pipeline and ColumnTransformer style (default) */\n",
       "\n",
       "#sk-container-id-4 div.sk-toggleable {\n",
       "  /* Default theme specific background. It is overwritten whether we have a\n",
       "  specific estimator or a Pipeline/ColumnTransformer */\n",
       "  background-color: var(--sklearn-color-background);\n",
       "}\n",
       "\n",
       "/* Toggleable label */\n",
       "#sk-container-id-4 label.sk-toggleable__label {\n",
       "  cursor: pointer;\n",
       "  display: block;\n",
       "  width: 100%;\n",
       "  margin-bottom: 0;\n",
       "  padding: 0.5em;\n",
       "  box-sizing: border-box;\n",
       "  text-align: center;\n",
       "}\n",
       "\n",
       "#sk-container-id-4 label.sk-toggleable__label-arrow:before {\n",
       "  /* Arrow on the left of the label */\n",
       "  content: \"▸\";\n",
       "  float: left;\n",
       "  margin-right: 0.25em;\n",
       "  color: var(--sklearn-color-icon);\n",
       "}\n",
       "\n",
       "#sk-container-id-4 label.sk-toggleable__label-arrow:hover:before {\n",
       "  color: var(--sklearn-color-text);\n",
       "}\n",
       "\n",
       "/* Toggleable content - dropdown */\n",
       "\n",
       "#sk-container-id-4 div.sk-toggleable__content {\n",
       "  max-height: 0;\n",
       "  max-width: 0;\n",
       "  overflow: hidden;\n",
       "  text-align: left;\n",
       "  /* unfitted */\n",
       "  background-color: var(--sklearn-color-unfitted-level-0);\n",
       "}\n",
       "\n",
       "#sk-container-id-4 div.sk-toggleable__content.fitted {\n",
       "  /* fitted */\n",
       "  background-color: var(--sklearn-color-fitted-level-0);\n",
       "}\n",
       "\n",
       "#sk-container-id-4 div.sk-toggleable__content pre {\n",
       "  margin: 0.2em;\n",
       "  border-radius: 0.25em;\n",
       "  color: var(--sklearn-color-text);\n",
       "  /* unfitted */\n",
       "  background-color: var(--sklearn-color-unfitted-level-0);\n",
       "}\n",
       "\n",
       "#sk-container-id-4 div.sk-toggleable__content.fitted pre {\n",
       "  /* unfitted */\n",
       "  background-color: var(--sklearn-color-fitted-level-0);\n",
       "}\n",
       "\n",
       "#sk-container-id-4 input.sk-toggleable__control:checked~div.sk-toggleable__content {\n",
       "  /* Expand drop-down */\n",
       "  max-height: 200px;\n",
       "  max-width: 100%;\n",
       "  overflow: auto;\n",
       "}\n",
       "\n",
       "#sk-container-id-4 input.sk-toggleable__control:checked~label.sk-toggleable__label-arrow:before {\n",
       "  content: \"▾\";\n",
       "}\n",
       "\n",
       "/* Pipeline/ColumnTransformer-specific style */\n",
       "\n",
       "#sk-container-id-4 div.sk-label input.sk-toggleable__control:checked~label.sk-toggleable__label {\n",
       "  color: var(--sklearn-color-text);\n",
       "  background-color: var(--sklearn-color-unfitted-level-2);\n",
       "}\n",
       "\n",
       "#sk-container-id-4 div.sk-label.fitted input.sk-toggleable__control:checked~label.sk-toggleable__label {\n",
       "  background-color: var(--sklearn-color-fitted-level-2);\n",
       "}\n",
       "\n",
       "/* Estimator-specific style */\n",
       "\n",
       "/* Colorize estimator box */\n",
       "#sk-container-id-4 div.sk-estimator input.sk-toggleable__control:checked~label.sk-toggleable__label {\n",
       "  /* unfitted */\n",
       "  background-color: var(--sklearn-color-unfitted-level-2);\n",
       "}\n",
       "\n",
       "#sk-container-id-4 div.sk-estimator.fitted input.sk-toggleable__control:checked~label.sk-toggleable__label {\n",
       "  /* fitted */\n",
       "  background-color: var(--sklearn-color-fitted-level-2);\n",
       "}\n",
       "\n",
       "#sk-container-id-4 div.sk-label label.sk-toggleable__label,\n",
       "#sk-container-id-4 div.sk-label label {\n",
       "  /* The background is the default theme color */\n",
       "  color: var(--sklearn-color-text-on-default-background);\n",
       "}\n",
       "\n",
       "/* On hover, darken the color of the background */\n",
       "#sk-container-id-4 div.sk-label:hover label.sk-toggleable__label {\n",
       "  color: var(--sklearn-color-text);\n",
       "  background-color: var(--sklearn-color-unfitted-level-2);\n",
       "}\n",
       "\n",
       "/* Label box, darken color on hover, fitted */\n",
       "#sk-container-id-4 div.sk-label.fitted:hover label.sk-toggleable__label.fitted {\n",
       "  color: var(--sklearn-color-text);\n",
       "  background-color: var(--sklearn-color-fitted-level-2);\n",
       "}\n",
       "\n",
       "/* Estimator label */\n",
       "\n",
       "#sk-container-id-4 div.sk-label label {\n",
       "  font-family: monospace;\n",
       "  font-weight: bold;\n",
       "  display: inline-block;\n",
       "  line-height: 1.2em;\n",
       "}\n",
       "\n",
       "#sk-container-id-4 div.sk-label-container {\n",
       "  text-align: center;\n",
       "}\n",
       "\n",
       "/* Estimator-specific */\n",
       "#sk-container-id-4 div.sk-estimator {\n",
       "  font-family: monospace;\n",
       "  border: 1px dotted var(--sklearn-color-border-box);\n",
       "  border-radius: 0.25em;\n",
       "  box-sizing: border-box;\n",
       "  margin-bottom: 0.5em;\n",
       "  /* unfitted */\n",
       "  background-color: var(--sklearn-color-unfitted-level-0);\n",
       "}\n",
       "\n",
       "#sk-container-id-4 div.sk-estimator.fitted {\n",
       "  /* fitted */\n",
       "  background-color: var(--sklearn-color-fitted-level-0);\n",
       "}\n",
       "\n",
       "/* on hover */\n",
       "#sk-container-id-4 div.sk-estimator:hover {\n",
       "  /* unfitted */\n",
       "  background-color: var(--sklearn-color-unfitted-level-2);\n",
       "}\n",
       "\n",
       "#sk-container-id-4 div.sk-estimator.fitted:hover {\n",
       "  /* fitted */\n",
       "  background-color: var(--sklearn-color-fitted-level-2);\n",
       "}\n",
       "\n",
       "/* Specification for estimator info (e.g. \"i\" and \"?\") */\n",
       "\n",
       "/* Common style for \"i\" and \"?\" */\n",
       "\n",
       ".sk-estimator-doc-link,\n",
       "a:link.sk-estimator-doc-link,\n",
       "a:visited.sk-estimator-doc-link {\n",
       "  float: right;\n",
       "  font-size: smaller;\n",
       "  line-height: 1em;\n",
       "  font-family: monospace;\n",
       "  background-color: var(--sklearn-color-background);\n",
       "  border-radius: 1em;\n",
       "  height: 1em;\n",
       "  width: 1em;\n",
       "  text-decoration: none !important;\n",
       "  margin-left: 1ex;\n",
       "  /* unfitted */\n",
       "  border: var(--sklearn-color-unfitted-level-1) 1pt solid;\n",
       "  color: var(--sklearn-color-unfitted-level-1);\n",
       "}\n",
       "\n",
       ".sk-estimator-doc-link.fitted,\n",
       "a:link.sk-estimator-doc-link.fitted,\n",
       "a:visited.sk-estimator-doc-link.fitted {\n",
       "  /* fitted */\n",
       "  border: var(--sklearn-color-fitted-level-1) 1pt solid;\n",
       "  color: var(--sklearn-color-fitted-level-1);\n",
       "}\n",
       "\n",
       "/* On hover */\n",
       "div.sk-estimator:hover .sk-estimator-doc-link:hover,\n",
       ".sk-estimator-doc-link:hover,\n",
       "div.sk-label-container:hover .sk-estimator-doc-link:hover,\n",
       ".sk-estimator-doc-link:hover {\n",
       "  /* unfitted */\n",
       "  background-color: var(--sklearn-color-unfitted-level-3);\n",
       "  color: var(--sklearn-color-background);\n",
       "  text-decoration: none;\n",
       "}\n",
       "\n",
       "div.sk-estimator.fitted:hover .sk-estimator-doc-link.fitted:hover,\n",
       ".sk-estimator-doc-link.fitted:hover,\n",
       "div.sk-label-container:hover .sk-estimator-doc-link.fitted:hover,\n",
       ".sk-estimator-doc-link.fitted:hover {\n",
       "  /* fitted */\n",
       "  background-color: var(--sklearn-color-fitted-level-3);\n",
       "  color: var(--sklearn-color-background);\n",
       "  text-decoration: none;\n",
       "}\n",
       "\n",
       "/* Span, style for the box shown on hovering the info icon */\n",
       ".sk-estimator-doc-link span {\n",
       "  display: none;\n",
       "  z-index: 9999;\n",
       "  position: relative;\n",
       "  font-weight: normal;\n",
       "  right: .2ex;\n",
       "  padding: .5ex;\n",
       "  margin: .5ex;\n",
       "  width: min-content;\n",
       "  min-width: 20ex;\n",
       "  max-width: 50ex;\n",
       "  color: var(--sklearn-color-text);\n",
       "  box-shadow: 2pt 2pt 4pt #999;\n",
       "  /* unfitted */\n",
       "  background: var(--sklearn-color-unfitted-level-0);\n",
       "  border: .5pt solid var(--sklearn-color-unfitted-level-3);\n",
       "}\n",
       "\n",
       ".sk-estimator-doc-link.fitted span {\n",
       "  /* fitted */\n",
       "  background: var(--sklearn-color-fitted-level-0);\n",
       "  border: var(--sklearn-color-fitted-level-3);\n",
       "}\n",
       "\n",
       ".sk-estimator-doc-link:hover span {\n",
       "  display: block;\n",
       "}\n",
       "\n",
       "/* \"?\"-specific style due to the `<a>` HTML tag */\n",
       "\n",
       "#sk-container-id-4 a.estimator_doc_link {\n",
       "  float: right;\n",
       "  font-size: 1rem;\n",
       "  line-height: 1em;\n",
       "  font-family: monospace;\n",
       "  background-color: var(--sklearn-color-background);\n",
       "  border-radius: 1rem;\n",
       "  height: 1rem;\n",
       "  width: 1rem;\n",
       "  text-decoration: none;\n",
       "  /* unfitted */\n",
       "  color: var(--sklearn-color-unfitted-level-1);\n",
       "  border: var(--sklearn-color-unfitted-level-1) 1pt solid;\n",
       "}\n",
       "\n",
       "#sk-container-id-4 a.estimator_doc_link.fitted {\n",
       "  /* fitted */\n",
       "  border: var(--sklearn-color-fitted-level-1) 1pt solid;\n",
       "  color: var(--sklearn-color-fitted-level-1);\n",
       "}\n",
       "\n",
       "/* On hover */\n",
       "#sk-container-id-4 a.estimator_doc_link:hover {\n",
       "  /* unfitted */\n",
       "  background-color: var(--sklearn-color-unfitted-level-3);\n",
       "  color: var(--sklearn-color-background);\n",
       "  text-decoration: none;\n",
       "}\n",
       "\n",
       "#sk-container-id-4 a.estimator_doc_link.fitted:hover {\n",
       "  /* fitted */\n",
       "  background-color: var(--sklearn-color-fitted-level-3);\n",
       "}\n",
       "</style><div id=\"sk-container-id-4\" class=\"sk-top-container\"><div class=\"sk-text-repr-fallback\"><pre>LogisticRegression(random_state=42)</pre><b>In a Jupyter environment, please rerun this cell to show the HTML representation or trust the notebook. <br />On GitHub, the HTML representation is unable to render, please try loading this page with nbviewer.org.</b></div><div class=\"sk-container\" hidden><div class=\"sk-item\"><div class=\"sk-estimator fitted sk-toggleable\"><input class=\"sk-toggleable__control sk-hidden--visually\" id=\"sk-estimator-id-4\" type=\"checkbox\" checked><label for=\"sk-estimator-id-4\" class=\"sk-toggleable__label fitted sk-toggleable__label-arrow fitted\">&nbsp;&nbsp;LogisticRegression<a class=\"sk-estimator-doc-link fitted\" rel=\"noreferrer\" target=\"_blank\" href=\"https://scikit-learn.org/1.5/modules/generated/sklearn.linear_model.LogisticRegression.html\">?<span>Documentation for LogisticRegression</span></a><span class=\"sk-estimator-doc-link fitted\">i<span>Fitted</span></span></label><div class=\"sk-toggleable__content fitted\"><pre>LogisticRegression(random_state=42)</pre></div> </div></div></div></div>"
      ],
      "text/plain": [
       "LogisticRegression(random_state=42)"
      ]
     },
     "execution_count": 78,
     "metadata": {},
     "output_type": "execute_result"
    }
   ],
   "source": [
    "model_skb = LogisticRegression(random_state=42) \n",
    "X_skb_train = X_train[skb_selected_features]\n",
    "X_skb_test = X_test[skb_selected_features]\n",
    "model_skb.fit(X_skb_train,y_train)"
   ]
  },
  {
   "cell_type": "markdown",
   "metadata": {},
   "source": [
    "## 047 Discuss model performance"
   ]
  },
  {
   "cell_type": "code",
   "execution_count": 79,
   "metadata": {},
   "outputs": [],
   "source": [
    "f3_score = make_scorer(fbeta_score, beta = 3)"
   ]
  },
  {
   "cell_type": "code",
   "execution_count": 80,
   "metadata": {},
   "outputs": [],
   "source": [
    "from sklearn.model_selection import cross_validate \n",
    "def cv_mean_scores(Xtrain, ytrain, model = LogisticRegression(random_state=42), n_splits  = 5):\n",
    "    # Create the K-Fold cross-validator\n",
    "    cv = StratifiedKFold(n_splits=n_splits, shuffle=True, random_state=42)\n",
    "     \n",
    "    # Choose the scores to be computed\n",
    "    selectivity_score = make_scorer(recall_score, pos_label = 0)\n",
    "    negative_predictive_value = make_scorer(precision_score, pos_label = 0)\n",
    "\n",
    "\n",
    "    my_scores= {\n",
    "        \"accuracy\": \"accuracy\",\n",
    "        \"recall\": \"recall\",   # true positive rate\n",
    "        \"selectivity\": selectivity_score,   # true negative rate\n",
    "        \"precision\": \"precision\",  # positive predictive value \n",
    "        \"NPV\": negative_predictive_value, # negative predictive value,\n",
    "        \"f1\": \"f1\",\n",
    "        \"f3\": f3_score,\n",
    "        \"ROC_AUC\": \"roc_auc\"\n",
    "    }\n",
    "\n",
    "    # Perform cross-validation measuring the scores\n",
    "    cv_results = cross_validate(\n",
    "        model, Xtrain, ytrain, cv=cv, n_jobs=-1, scoring= my_scores\n",
    "    )\n",
    "\n",
    "\n",
    "    # Calculate the mean of each score\n",
    "    mean_scores =  {score : cv_results[\"test_\"+score].mean() for score in my_scores}\n",
    "    return mean_scores"
   ]
  },
  {
   "cell_type": "markdown",
   "metadata": {},
   "source": [
    "We evaluate the best SKB model"
   ]
  },
  {
   "cell_type": "code",
   "execution_count": 81,
   "metadata": {},
   "outputs": [
    {
     "name": "stdout",
     "output_type": "stream",
     "text": [
      "accuracy : 0.889\n",
      "recall : 0.908\n",
      "selectivity : 0.871\n",
      "precision : 0.876\n",
      "NPV : 0.904\n",
      "f1 : 0.892\n",
      "f3 : 0.905\n",
      "ROC_AUC : 0.956\n"
     ]
    }
   ],
   "source": [
    "best_skb_cv_scores = cv_mean_scores(X_skb_train,y_train)\n",
    "for score in best_skb_cv_scores:\n",
    "    print(score, \":\", f\"{best_skb_cv_scores[score]:.3f}\") "
   ]
  },
  {
   "cell_type": "code",
   "execution_count": 82,
   "metadata": {},
   "outputs": [
    {
     "name": "stdout",
     "output_type": "stream",
     "text": [
      "accuracy : 0.904\n",
      "recall : 0.921\n",
      "selectivity : 0.887\n",
      "precision : 0.891\n",
      "NPV : 0.918\n",
      "f1 : 0.906\n",
      "f3 : 0.918\n",
      "ROC_AUC : 0.962\n"
     ]
    }
   ],
   "source": [
    "best_rfe_cv_scores = cv_mean_scores(X_rfe_train,y_train)\n",
    "for score in best_rfe_cv_scores:\n",
    "    print(score, \":\", f\"{best_rfe_cv_scores[score]:.3f}\") "
   ]
  },
  {
   "cell_type": "markdown",
   "metadata": {},
   "source": [
    "The model has no obvious weaknesses and it is very good on Recall (true positive rate), which is actually what we care about the most. \n",
    "In cross-validation, if a patient is truly \"infected\" then the model classifies the patient correctly 92% of the times, on cv_average. "
   ]
  },
  {
   "cell_type": "markdown",
   "metadata": {},
   "source": [
    "**Caveat** We are doing cross validation on a train set in which the target class \"infected\" has been oversampled. For this reason the score \"Recall\" may be too optimistic."
   ]
  },
  {
   "cell_type": "markdown",
   "metadata": {},
   "source": [
    "## 048 Interpret model coefficients "
   ]
  },
  {
   "cell_type": "code",
   "execution_count": 83,
   "metadata": {},
   "outputs": [
    {
     "name": "stdout",
     "output_type": "stream",
     "text": [
      "The intercept of the best SKB model is equal to -1.6209\n",
      "The intercept of the best RFE model is equal to -1.8831\n"
     ]
    }
   ],
   "source": [
    "# model intercept:\n",
    "\n",
    "intercept_rfe = model_rfe.intercept_[0]\n",
    "intercept_skb = model_skb.intercept_[0]\n",
    "\n",
    "\n",
    "print(f\"The intercept of the best SKB model is equal to {intercept_skb:.4f}\")\n",
    "print(f\"The intercept of the best RFE model is equal to {intercept_rfe:.4f}\")"
   ]
  },
  {
   "cell_type": "markdown",
   "metadata": {},
   "source": [
    "The intercept is negative. It means that an average patient is evaluated by the models with a bias. This bias is towards the \"non-infected\" class. "
   ]
  },
  {
   "cell_type": "code",
   "execution_count": 84,
   "metadata": {},
   "outputs": [],
   "source": [
    "# we calculate the model coefficients for each feature \n",
    "\n",
    "coefficients_skb = pd.DataFrame({\n",
    "    \"feature\": skb_selected_features,\n",
    "    \"coefficient\": model_skb.coef_[0]\n",
    "})\n",
    "\n",
    "coefficients_rfe = pd.DataFrame({\n",
    "    \"feature\": rfe_selected_features,\n",
    "    \"coefficient\": model_rfe.coef_[0]\n",
    "})\n",
    "\n",
    "coefficients_rfe.sort_values(by=\"coefficient\", inplace=True)\n",
    "coefficients_skb.sort_values(by=\"coefficient\", inplace=True)\n"
   ]
  },
  {
   "cell_type": "code",
   "execution_count": 85,
   "metadata": {},
   "outputs": [
    {
     "data": {
      "image/png": "[encoded data removed]",
      "text/plain": [
       "<Figure size 800x300 with 2 Axes>"
      ]
     },
     "metadata": {},
     "output_type": "display_data"
    }
   ],
   "source": [
    "fig, axes = plt.subplots(1,2, figsize = (8,3))\n",
    "\n",
    "sns.barplot(data = coefficients_skb, y = \"feature\", x = \"coefficient\", ax = axes[0])\n",
    "sns.barplot(data = coefficients_rfe, y = \"feature\", x = \"coefficient\", ax = axes[1])\n",
    "\n",
    "axes[0].set_title(\"Scaled coefficients for best SKB model\")\n",
    "axes[1].set_title(\"Scaled coefficients for best RFE model\")\n",
    "\n",
    "plt.tight_layout()\n",
    "plt.show()"
   ]
  },
  {
   "cell_type": "markdown",
   "metadata": {},
   "source": [
    "## 049 Render coefficients insights "
   ]
  },
  {
   "cell_type": "markdown",
   "metadata": {},
   "source": [
    "### 049-a Obtain coefficients for the unscaled variables"
   ]
  },
  {
   "cell_type": "markdown",
   "metadata": {},
   "source": [
    "The coefficients found in 048 are relative to the features scaled with StandardScaler. They are therefore hard to interpret as they are. \n",
    "We now calculate the coefficients one gets for the un-scaled regressors. "
   ]
  },
  {
   "cell_type": "code",
   "execution_count": 86,
   "metadata": {},
   "outputs": [
    {
     "data": {
      "text/html": [
       "<div>\n",
       "<style scoped>\n",
       "    .dataframe tbody tr th:only-of-type {\n",
       "        vertical-align: middle;\n",
       "    }\n",
       "\n",
       "    .dataframe tbody tr th {\n",
       "        vertical-align: top;\n",
       "    }\n",
       "\n",
       "    .dataframe thead th {\n",
       "        text-align: right;\n",
       "    }\n",
       "</style>\n",
       "<table border=\"1\" class=\"dataframe\">\n",
       "  <thead>\n",
       "    <tr style=\"text-align: right;\">\n",
       "      <th></th>\n",
       "      <th>feature</th>\n",
       "      <th>scaling_factor</th>\n",
       "    </tr>\n",
       "  </thead>\n",
       "  <tbody>\n",
       "    <tr>\n",
       "      <th>0</th>\n",
       "      <td>age</td>\n",
       "      <td>8.676423</td>\n",
       "    </tr>\n",
       "    <tr>\n",
       "      <th>1</th>\n",
       "      <td>wtkg</td>\n",
       "      <td>13.182555</td>\n",
       "    </tr>\n",
       "    <tr>\n",
       "      <th>2</th>\n",
       "      <td>hemo</td>\n",
       "      <td>0.274985</td>\n",
       "    </tr>\n",
       "  </tbody>\n",
       "</table>\n",
       "</div>"
      ],
      "text/plain": [
       "  feature  scaling_factor\n",
       "0     age        8.676423\n",
       "1    wtkg       13.182555\n",
       "2    hemo        0.274985"
      ]
     },
     "execution_count": 86,
     "metadata": {},
     "output_type": "execute_result"
    }
   ],
   "source": [
    "# for each variable we calculate the rate of scaling \n",
    "scaling_factors = pd.DataFrame({\n",
    "    \"feature\": X_.columns,\n",
    "    \"scaling_factor\": scaler.scale_\n",
    "})\n",
    "scaling_factors.head(3)"
   ]
  },
  {
   "cell_type": "code",
   "execution_count": 87,
   "metadata": {},
   "outputs": [
    {
     "name": "stdout",
     "output_type": "stream",
     "text": [
      "Feature coefficients of the model selected by SKB:\n",
      "   feature  coefficient  scaling_factor  coefficient_unscaled\n",
      "3     race    -0.714222        0.452621             -1.577970\n",
      "2    cd420    -1.023867      146.104521             -0.007008\n",
      "1   offtrt    -1.491194        0.479664             -3.108829\n",
      "0  time730    -3.084019      160.579635             -0.019206\n",
      "\n",
      "Feature coefficients of the model selected by RFE:\n",
      "   feature  coefficient  scaling_factor  coefficient_unscaled\n",
      "3     race    -0.714222        0.452621             -1.577970\n",
      "2    cd420    -1.023867      146.104521             -0.007008\n",
      "1   offtrt    -1.491194        0.479664             -3.108829\n",
      "0  time730    -3.084019      160.579635             -0.019206\n"
     ]
    }
   ],
   "source": [
    "# we merge with model coefficients \n",
    "coefficients_and_scaling_skb = coefficients_skb.merge(scaling_factors)\n",
    "coefficients_and_scaling_rfe = coefficients_rfe.merge(scaling_factors)\n",
    "\n",
    "# calculate un-scaled coefficient\n",
    "coefficients_and_scaling_skb[\"coefficient_unscaled\"] = coefficients_and_scaling_skb[\"coefficient\"] / coefficients_and_scaling_skb[\"scaling_factor\"]\n",
    "coefficients_and_scaling_rfe[\"coefficient_unscaled\"] = coefficients_and_scaling_rfe[\"coefficient\"] / coefficients_and_scaling_rfe[\"scaling_factor\"]\n",
    "\n",
    "# order and print the results\n",
    "coefficients_and_scaling_skb.sort_values(by=\"coefficient\", ascending=False, inplace=True)\n",
    "coefficients_and_scaling_rfe.sort_values(by=\"coefficient\", ascending=False, inplace=True)\n",
    "\n",
    "print(\"Feature coefficients of the model selected by SKB:\")\n",
    "print(coefficients_and_scaling_skb)\n",
    "print()\n",
    "print(\"Feature coefficients of the model selected by RFE:\")\n",
    "print(coefficients_and_scaling_skb)\n",
    "\n"
   ]
  },
  {
   "cell_type": "markdown",
   "metadata": {},
   "source": [
    "### 049-b Model coefficients separately for binary vs continuous features"
   ]
  },
  {
   "cell_type": "markdown",
   "metadata": {},
   "source": [
    "The log-odd contribution of our categorical variables is binary. The contribution of continuous features is proportional to their value. \n",
    "It is best to interpret the two types of variables separately. "
   ]
  },
  {
   "cell_type": "code",
   "execution_count": 88,
   "metadata": {},
   "outputs": [
    {
     "data": {
      "text/html": [
       "<div>\n",
       "<style scoped>\n",
       "    .dataframe tbody tr th:only-of-type {\n",
       "        vertical-align: middle;\n",
       "    }\n",
       "\n",
       "    .dataframe tbody tr th {\n",
       "        vertical-align: top;\n",
       "    }\n",
       "\n",
       "    .dataframe thead th {\n",
       "        text-align: right;\n",
       "    }\n",
       "</style>\n",
       "<table border=\"1\" class=\"dataframe\">\n",
       "  <thead>\n",
       "    <tr style=\"text-align: right;\">\n",
       "      <th></th>\n",
       "      <th>feature</th>\n",
       "      <th>coefficient_unscaled</th>\n",
       "    </tr>\n",
       "  </thead>\n",
       "  <tbody>\n",
       "    <tr>\n",
       "      <th>3</th>\n",
       "      <td>race</td>\n",
       "      <td>-1.577970</td>\n",
       "    </tr>\n",
       "    <tr>\n",
       "      <th>1</th>\n",
       "      <td>offtrt</td>\n",
       "      <td>-3.108829</td>\n",
       "    </tr>\n",
       "  </tbody>\n",
       "</table>\n",
       "</div>"
      ],
      "text/plain": [
       "  feature  coefficient_unscaled\n",
       "3    race             -1.577970\n",
       "1  offtrt             -3.108829"
      ]
     },
     "execution_count": 88,
     "metadata": {},
     "output_type": "execute_result"
    }
   ],
   "source": [
    "# we filter the categorical (binary) features \n",
    "binary_skb_mask = coefficients_and_scaling_skb['feature'].isin(cat_features)\n",
    "binary_rfe_mask = coefficients_and_scaling_rfe['feature'].isin(cat_features)\n",
    "\n",
    "coefficients_unscaled_skb_binary = coefficients_and_scaling_skb[binary_skb_mask].drop(columns = [\"coefficient\",\"scaling_factor\"])\n",
    "coefficients_unscaled_rfe_binary = coefficients_and_scaling_rfe[binary_rfe_mask].drop(columns = [\"coefficient\",\"scaling_factor\"])\n",
    "\n",
    "coefficients_unscaled_skb_continuous = coefficients_and_scaling_skb[~binary_skb_mask].drop(columns = [\"coefficient\",\"scaling_factor\"])\n",
    "coefficients_unscaled_rfe_continuous = coefficients_and_scaling_rfe[~binary_rfe_mask].drop(columns = [\"coefficient\",\"scaling_factor\"])\n",
    "\n",
    "# print for example\n",
    "coefficients_unscaled_skb_binary\n"
   ]
  },
  {
   "cell_type": "markdown",
   "metadata": {},
   "source": [
    "To better understand and compare the variables and coefficients we further custom-rescale the continuous variables."
   ]
  },
  {
   "cell_type": "code",
   "execution_count": 89,
   "metadata": {},
   "outputs": [
    {
     "name": "stdout",
     "output_type": "stream",
     "text": [
      "Unscaled coefficients for SKB model\n",
      "            feature  coefficient_unscaled\n",
      "2      cd420 (x100)             -0.700777\n",
      "0  time730 (months)             -0.576166\n",
      "\n",
      "Unscaled coefficients for RFE model\n",
      "                  feature  coefficient_unscaled\n",
      "6  time_censored (months)             -0.071461\n",
      "2            cd420 (x100)             -0.659762\n",
      "0        time730 (months)             -0.647585\n"
     ]
    }
   ],
   "source": [
    "# custom scale continuous features \n",
    "\n",
    "for coefficients_unscaled in [coefficients_unscaled_skb_continuous, coefficients_unscaled_rfe_continuous]:\n",
    "\n",
    "    # - time730, time_censored : unit = month (scale 30)\n",
    "    time_features_mask = coefficients_unscaled[\"feature\"].isin([\"time730\",\"time_censored\"])\n",
    "\n",
    "    coefficients_unscaled.loc[time_features_mask, \"feature\"] += \" (months)\"\n",
    "    coefficients_unscaled.loc[time_features_mask, \"coefficient_unscaled\"] *= 30\n",
    "\n",
    "    # - cd40, cd420 : unit = hundreds (scale 100)\n",
    "    lab_features_mask = coefficients_unscaled[\"feature\"].isin([\"cd40\",\"cd420\"])\n",
    "\n",
    "    coefficients_unscaled.loc[lab_features_mask, \"feature\"] += \" (x100)\"\n",
    "    coefficients_unscaled.loc[lab_features_mask, \"coefficient_unscaled\"] *= 100\n",
    "\n",
    "print(\"Unscaled coefficients for SKB model\")\n",
    "print(coefficients_unscaled_skb_continuous)\n",
    "print()\n",
    "print(\"Unscaled coefficients for RFE model\")\n",
    "print(coefficients_unscaled_rfe_continuous)\n"
   ]
  },
  {
   "cell_type": "markdown",
   "metadata": {},
   "source": [
    "### 049-c Visualize coefficients of unscaled variables"
   ]
  },
  {
   "cell_type": "code",
   "execution_count": 90,
   "metadata": {},
   "outputs": [
    {
     "data": {
      "image/png": "[encoded data removed]",
      "text/plain": [
       "<Figure size 1200x300 with 2 Axes>"
      ]
     },
     "metadata": {},
     "output_type": "display_data"
    },
    {
     "data": {
      "image/png": "[encoded data removed]",
      "text/plain": [
       "<Figure size 1200x300 with 2 Axes>"
      ]
     },
     "metadata": {},
     "output_type": "display_data"
    }
   ],
   "source": [
    "# Plot coefficients of binary features \n",
    "fig, axes = plt.subplots(1,2, figsize = (12,3))\n",
    "\n",
    "sns.barplot(data = coefficients_unscaled_skb_binary, y = \"feature\", x = \"coefficient_unscaled\", ax = axes[0])\n",
    "sns.barplot(data = coefficients_unscaled_rfe_binary, y = \"feature\", x = \"coefficient_unscaled\", ax = axes[1])\n",
    "\n",
    "axes[0].set_title(\"Unscaled coefficients for best SKB model\")\n",
    "axes[1].set_title(\"Unscaled coefficients for best RFE model\")\n",
    "\n",
    "axes[0].set_ylabel(\"binary features\")\n",
    "axes[1].set_ylabel(\"binary features\")\n",
    "plt.tight_layout()\n",
    "plt.show()\n",
    "\n",
    "# Plot coefficients of continuous features\n",
    "fig, axes = plt.subplots(1,2, figsize = (12,3))\n",
    "\n",
    "sns.barplot(data = coefficients_unscaled_skb_continuous, y = \"feature\", x = \"coefficient_unscaled\", ax = axes[0])\n",
    "sns.barplot(data = coefficients_unscaled_rfe_continuous, y = \"feature\", x = \"coefficient_unscaled\", ax = axes[1])\n",
    "\n",
    "axes[0].set_title(\"Unscaled coefficients for best SKB model\")\n",
    "axes[1].set_title(\"Unscaled coefficients for best RFE model\")\n",
    "\n",
    "axes[0].set_ylabel(\"continuous features\")\n",
    "axes[1].set_ylabel(\"continous features\")\n",
    "\n",
    "plt.tight_layout()\n",
    "plt.show()"
   ]
  },
  {
   "cell_type": "markdown",
   "metadata": {},
   "source": []
  },
  {
   "cell_type": "markdown",
   "metadata": {},
   "source": [
    "## 050 + 052 Test set performance "
   ]
  },
  {
   "cell_type": "markdown",
   "metadata": {},
   "source": [
    "### Test performance with RFE"
   ]
  },
  {
   "cell_type": "code",
   "execution_count": 91,
   "metadata": {},
   "outputs": [],
   "source": [
    "y_pred_rfe = model_rfe.predict(X_rfe_test)"
   ]
  },
  {
   "cell_type": "code",
   "execution_count": 92,
   "metadata": {},
   "outputs": [
    {
     "data": {
      "text/plain": [
       "{'accuracy': 0.8948598130841121,\n",
       " 'recall': np.float64(0.8076923076923077),\n",
       " 'selectivity': np.float64(0.9228395061728395),\n",
       " 'precision': np.float64(0.7706422018348624),\n",
       " 'NPV': np.float64(0.9373040752351097),\n",
       " 'f1': np.float64(0.7887323943661971),\n",
       " 'f3': np.float64(0.8038277511961722)}"
      ]
     },
     "execution_count": 92,
     "metadata": {},
     "output_type": "execute_result"
    }
   ],
   "source": [
    "results_test_rfe = {\n",
    "    \"accuracy\": accuracy_score(y_test,y_pred_rfe),\n",
    "    \"recall\": recall_score(y_test,y_pred_rfe),\n",
    "    \"selectivity\": recall_score(y_test,y_pred_rfe,pos_label = 0),\n",
    "    \"precision\": precision_score(y_test,y_pred_rfe),\n",
    "    \"NPV\": precision_score(y_test,y_pred_rfe, pos_label = 0),\n",
    "    \"f1\": f1_score(y_test,y_pred_rfe),\n",
    "    \"f3\": fbeta_score(y_test,y_pred_rfe,beta = 3)\n",
    "}\n",
    "\n",
    "results_test_rfe"
   ]
  },
  {
   "cell_type": "markdown",
   "metadata": {},
   "source": [
    "The recall score has dropped. The reason is clear: in cross-validation we used over-sampling. It would be better to oversample as part of the model. "
   ]
  },
  {
   "cell_type": "markdown",
   "metadata": {},
   "source": [
    "### Test performance with SKB"
   ]
  },
  {
   "cell_type": "code",
   "execution_count": 93,
   "metadata": {},
   "outputs": [],
   "source": [
    "y_pred_skb = model_skb.predict(X_skb_test)"
   ]
  },
  {
   "cell_type": "code",
   "execution_count": 94,
   "metadata": {},
   "outputs": [
    {
     "data": {
      "text/plain": [
       "{'accuracy': 0.8621495327102804,\n",
       " 'recall': np.float64(0.8173076923076923),\n",
       " 'selectivity': np.float64(0.8765432098765432),\n",
       " 'precision': np.float64(0.68),\n",
       " 'NPV': np.float64(0.9372937293729373),\n",
       " 'f1': np.float64(0.74235807860262),\n",
       " 'f3': np.float64(0.8038277511961722)}"
      ]
     },
     "execution_count": 94,
     "metadata": {},
     "output_type": "execute_result"
    }
   ],
   "source": [
    "results_test_skb = {\n",
    "    \"accuracy\": accuracy_score(y_test,y_pred_skb),\n",
    "    \"recall\": recall_score(y_test,y_pred_skb),\n",
    "    \"selectivity\": recall_score(y_test,y_pred_skb,pos_label = 0),\n",
    "    \"precision\": precision_score(y_test,y_pred_skb),\n",
    "    \"NPV\": precision_score(y_test,y_pred_skb, pos_label = 0),\n",
    "    \"f1\": f1_score(y_test,y_pred_skb),\n",
    "    \"f3\": fbeta_score(y_test,y_pred_rfe,beta = 3)\n",
    "\n",
    "}\n",
    "\n",
    "results_test_skb"
   ]
  },
  {
   "cell_type": "markdown",
   "metadata": {},
   "source": [
    "Interestingly, the recall is higher than the selectivity with this model. It would be interesting to know which features do help to increase the recall score.\n"
   ]
  },
  {
   "cell_type": "code",
   "execution_count": 95,
   "metadata": {},
   "outputs": [
    {
     "name": "stdout",
     "output_type": "stream",
     "text": [
      "['hemo', 'drugs', 'z30', 'race', 'gender', 'offtrt', 'cd420', 'time730', 'time_censored']\n",
      "['race', 'offtrt', 'cd420', 'time730']\n"
     ]
    }
   ],
   "source": [
    "print(rfe_selected_features)\n",
    "print(skb_selected_features)"
   ]
  },
  {
   "cell_type": "markdown",
   "metadata": {},
   "source": [
    "## 051 Confusion matrix \n"
   ]
  },
  {
   "cell_type": "code",
   "execution_count": 96,
   "metadata": {},
   "outputs": [],
   "source": [
    "cm_rfe  = confusion_matrix(y_test,y_pred_rfe)\n",
    "cm_skb  = confusion_matrix(y_test,y_pred_skb)"
   ]
  },
  {
   "cell_type": "code",
   "execution_count": 97,
   "metadata": {},
   "outputs": [
    {
     "data": {
      "image/png": "[encoded data removed]",
      "text/plain": [
       "<Figure size 800x300 with 2 Axes>"
      ]
     },
     "metadata": {},
     "output_type": "display_data"
    }
   ],
   "source": [
    "fig,ax = plt.subplots(1,2,figsize = (8,3))\n",
    "\n",
    "sns.heatmap(cm_skb, annot=True, fmt='d', cmap='Blues', cbar=False, ax = ax[0])\n",
    "sns.heatmap(cm_rfe, annot=True, fmt='d', cmap='Blues', cbar=False, ax = ax[1])\n",
    "\n",
    "ax[0].set_title(\"Confusion matrix of SKB model\")\n",
    "ax[1].set_title(\"Confusion matrix of RFE model\")\n",
    "for i in [0,1]:\n",
    "    ax[i].set_xlabel(\"Predicted Labels\")\n",
    "    ax[i].set_ylabel(\"True Labels\")\n",
    "\n",
    "plt.show()"
   ]
  },
  {
   "cell_type": "code",
   "execution_count": 98,
   "metadata": {},
   "outputs": [
    {
     "data": {
      "text/plain": [
       "array([299,  25])"
      ]
     },
     "execution_count": 98,
     "metadata": {},
     "output_type": "execute_result"
    }
   ],
   "source": [
    "cm_rfe [0]"
   ]
  },
  {
   "cell_type": "code",
   "execution_count": 99,
   "metadata": {},
   "outputs": [
    {
     "data": {
      "text/plain": [
       "[324, 104]"
      ]
     },
     "execution_count": 99,
     "metadata": {},
     "output_type": "execute_result"
    }
   ],
   "source": [
    "\n",
    "num_test = [int(sum(cm_rfe[0])),int(sum(cm_rfe[1]))]\n",
    "num_test"
   ]
  },
  {
   "cell_type": "markdown",
   "metadata": {},
   "source": [
    "## 053 Visualize confusion matrix data"
   ]
  },
  {
   "cell_type": "code",
   "execution_count": 100,
   "metadata": {},
   "outputs": [
    {
     "data": {
      "image/png": "[encoded data removed]",
      "text/plain": [
       "<Figure size 700x300 with 2 Axes>"
      ]
     },
     "metadata": {},
     "output_type": "display_data"
    },
    {
     "data": {
      "image/png": "[encoded data removed]",
      "text/plain": [
       "<Figure size 700x300 with 2 Axes>"
      ]
     },
     "metadata": {},
     "output_type": "display_data"
    }
   ],
   "source": [
    "fig,ax = plt.subplots(1,2,figsize = (7,3))\n",
    "\n",
    "# true infected vs true not infected test data count\n",
    "num_test = [int(sum(cm_skb[0])),int(sum(cm_skb[1]))]\n",
    "\n",
    "\n",
    "ax[0].set_title(\"True positives vs false negatives\")\n",
    "ax[1].set_title(\"True negatives vs False positives\")\n",
    "labels_pie = [[\"FN\", \"TP\"],[\"FP\", \"TN\"]]\n",
    "\n",
    "for i in [0,1]:\n",
    "    ax[i].pie(cm_skb[i], \n",
    "        labels = labels_pie[i], \n",
    "        colors = [sns.color_palette()[i], sns.color_palette()[1-i]], \n",
    "        radius = np.sqrt(2*num_test[i] / (num_test[0] + num_test[1])),\n",
    "        autopct= lambda p: f'{int(num_test[i] * p / 100 )}') # to compute the count instead of the percentage\n",
    "    \n",
    "ax[0].set_xlabel(f\"Selectivity: {results_test_skb[\"selectivity\"]:.3f}\")\n",
    "ax[1].set_xlabel(f\"Recall: {results_test_skb[\"recall\"]:.3f}\")\n",
    "fig.suptitle(\"Test performance for simple model\")\n",
    "plt.tight_layout()\n",
    "plt.show()\n",
    "\n",
    "\n",
    "fig,ax = plt.subplots(1,2,figsize = (7,3))\n",
    "\n",
    "# true infected vs true not infected test data count\n",
    "num_test = [int(sum(cm_rfe[0])),int(sum(cm_rfe[1]))]\n",
    "\n",
    "\n",
    "ax[0].set_title(\"True positives vs false negatives\")\n",
    "ax[1].set_title(\"True negatives vs False positives\")\n",
    "labels_pie = [[\"FN\", \"TP\"],[\"FP\", \"TN\"]]\n",
    "\n",
    "for i in [0,1]:\n",
    "    ax[i].pie(cm_rfe[i], \n",
    "        labels = labels_pie[i], \n",
    "        colors = [sns.color_palette()[i], sns.color_palette()[1-i]], \n",
    "        radius = np.sqrt(2*num_test[i] / (num_test[0] + num_test[1])),\n",
    "        autopct= lambda p: f'{int(num_test[i] * p / 100 )}') # to compute the count instead of the percentage\n",
    "    \n",
    "ax[0].set_xlabel(f\"Selectivity: {results_test_rfe[\"selectivity\"]:.3f}\")\n",
    "ax[1].set_xlabel(f\"Recall: {results_test_rfe[\"recall\"]:.3f}\")\n",
    "fig.suptitle(\"Test performance for performant model\")\n",
    "\n",
    "\n",
    "plt.tight_layout()\n",
    "plt.show()\n",
    "\n"
   ]
  },
  {
   "cell_type": "markdown",
   "metadata": {},
   "source": [
    "## Save Logistic Regression Model"
   ]
  },
  {
   "cell_type": "code",
   "execution_count": 101,
   "metadata": {},
   "outputs": [],
   "source": [
    "import pickle"
   ]
  },
  {
   "cell_type": "code",
   "execution_count": 105,
   "metadata": {},
   "outputs": [],
   "source": [
    "# Save model to file\n",
    "model = model_rfe\n",
    "filename = \"models/logistic_RFE9.pkl\"\n",
    "file = open(filename, \"wb\")\n",
    "pickle.dump(model, file)\n",
    "\n",
    "# The wb indicates that the file is opened for writing in binary mode.\n",
    "\n",
    "\n"
   ]
  },
  {
   "cell_type": "markdown",
   "metadata": {},
   "source": [
    "We also save to file the features"
   ]
  },
  {
   "cell_type": "code",
   "execution_count": 103,
   "metadata": {},
   "outputs": [],
   "source": [
    "pickle.dump(results_rfe_kfold_cv['features'], open(\"models/rfe_features_250103.pkl\", \"wb\"))"
   ]
  },
  {
   "cell_type": "code",
   "execution_count": null,
   "metadata": {},
   "outputs": [],
   "source": []
  },
  {
   "cell_type": "code",
   "execution_count": null,
   "metadata": {},
   "outputs": [],
   "source": []
  },
  {
   "cell_type": "code",
   "execution_count": null,
   "metadata": {},
   "outputs": [],
   "source": []
  },
  {
   "cell_type": "code",
   "execution_count": null,
   "metadata": {},
   "outputs": [],
   "source": []
  },
  {
   "cell_type": "code",
   "execution_count": null,
   "metadata": {},
   "outputs": [],
   "source": []
  },
  {
   "cell_type": "code",
   "execution_count": null,
   "metadata": {},
   "outputs": [],
   "source": []
  }
 ],
 "metadata": {
  "kernelspec": {
   "display_name": ".venv",
   "language": "python",
   "name": "python3"
  },
  "language_info": {
   "codemirror_mode": {
    "name": "ipython",
    "version": 3
   },
   "file_extension": ".py",
   "mimetype": "text/x-python",
   "name": "python",
   "nbconvert_exporter": "python",
   "pygments_lexer": "ipython3",
   "version": "3.13.0"
  }
 },
 "nbformat": 4,
 "nbformat_minor": 2
}
