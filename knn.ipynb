{
 "cells": [
  {
   "cell_type": "code",
   "execution_count": 1,
   "metadata": {},
   "outputs": [],
   "source": [
    "import numpy as np\n",
    "import matplotlib.pyplot as plt\n",
    "from sklearn.neighbors import KNeighborsClassifier\n",
    "from sklearn.model_selection import GridSearchCV\n",
    "import pandas as pd\n",
    "from sklearn.model_selection import train_test_split\n",
    "from sklearn.metrics import accuracy_score, confusion_matrix\n",
    "from mpl_toolkits.mplot3d import Axes3D\n",
    "import seaborn as sns"
   ]
  },
  {
   "cell_type": "code",
   "execution_count": 2,
   "metadata": {},
   "outputs": [],
   "source": [
    "import src\n",
    "from src import *"
   ]
  },
  {
   "cell_type": "code",
   "execution_count": 3,
   "metadata": {},
   "outputs": [
    {
     "data": {
      "text/plain": [
       "(2139, 23)"
      ]
     },
     "execution_count": 3,
     "metadata": {},
     "output_type": "execute_result"
    }
   ],
   "source": [
    "data = datasets.data_original()\n",
    "data.shape\n"
   ]
  },
  {
   "cell_type": "code",
   "execution_count": 4,
   "metadata": {},
   "outputs": [],
   "source": [
    "data = features.engineer(data)"
   ]
  },
  {
   "cell_type": "code",
   "execution_count": 5,
   "metadata": {},
   "outputs": [
    {
     "data": {
      "text/html": [
       "<div>\n",
       "<style scoped>\n",
       "    .dataframe tbody tr th:only-of-type {\n",
       "        vertical-align: middle;\n",
       "    }\n",
       "\n",
       "    .dataframe tbody tr th {\n",
       "        vertical-align: top;\n",
       "    }\n",
       "\n",
       "    .dataframe thead th {\n",
       "        text-align: right;\n",
       "    }\n",
       "</style>\n",
       "<table border=\"1\" class=\"dataframe\">\n",
       "  <thead>\n",
       "    <tr style=\"text-align: right;\">\n",
       "      <th></th>\n",
       "      <th>age</th>\n",
       "      <th>wtkg</th>\n",
       "      <th>hemo</th>\n",
       "      <th>homo</th>\n",
       "      <th>drugs</th>\n",
       "      <th>karnof</th>\n",
       "      <th>oprior</th>\n",
       "      <th>z30</th>\n",
       "      <th>preanti</th>\n",
       "      <th>race</th>\n",
       "      <th>...</th>\n",
       "      <th>cd40</th>\n",
       "      <th>cd420</th>\n",
       "      <th>cd80</th>\n",
       "      <th>cd820</th>\n",
       "      <th>infected</th>\n",
       "      <th>time730</th>\n",
       "      <th>time_censored</th>\n",
       "      <th>trt0</th>\n",
       "      <th>trt1</th>\n",
       "      <th>trt2</th>\n",
       "    </tr>\n",
       "  </thead>\n",
       "  <tbody>\n",
       "    <tr>\n",
       "      <th>0</th>\n",
       "      <td>48</td>\n",
       "      <td>89.8128</td>\n",
       "      <td>0</td>\n",
       "      <td>0</td>\n",
       "      <td>0</td>\n",
       "      <td>100</td>\n",
       "      <td>0</td>\n",
       "      <td>0</td>\n",
       "      <td>0</td>\n",
       "      <td>0</td>\n",
       "      <td>...</td>\n",
       "      <td>422</td>\n",
       "      <td>477</td>\n",
       "      <td>566</td>\n",
       "      <td>324</td>\n",
       "      <td>0</td>\n",
       "      <td>218</td>\n",
       "      <td>0</td>\n",
       "      <td>0</td>\n",
       "      <td>0</td>\n",
       "      <td>1</td>\n",
       "    </tr>\n",
       "    <tr>\n",
       "      <th>1</th>\n",
       "      <td>61</td>\n",
       "      <td>49.4424</td>\n",
       "      <td>0</td>\n",
       "      <td>0</td>\n",
       "      <td>0</td>\n",
       "      <td>90</td>\n",
       "      <td>0</td>\n",
       "      <td>1</td>\n",
       "      <td>895</td>\n",
       "      <td>0</td>\n",
       "      <td>...</td>\n",
       "      <td>162</td>\n",
       "      <td>218</td>\n",
       "      <td>392</td>\n",
       "      <td>564</td>\n",
       "      <td>1</td>\n",
       "      <td>272</td>\n",
       "      <td>0</td>\n",
       "      <td>0</td>\n",
       "      <td>0</td>\n",
       "      <td>0</td>\n",
       "    </tr>\n",
       "    <tr>\n",
       "      <th>2</th>\n",
       "      <td>45</td>\n",
       "      <td>88.4520</td>\n",
       "      <td>0</td>\n",
       "      <td>1</td>\n",
       "      <td>1</td>\n",
       "      <td>90</td>\n",
       "      <td>0</td>\n",
       "      <td>1</td>\n",
       "      <td>707</td>\n",
       "      <td>0</td>\n",
       "      <td>...</td>\n",
       "      <td>326</td>\n",
       "      <td>274</td>\n",
       "      <td>2063</td>\n",
       "      <td>1893</td>\n",
       "      <td>0</td>\n",
       "      <td>231</td>\n",
       "      <td>0</td>\n",
       "      <td>0</td>\n",
       "      <td>0</td>\n",
       "      <td>0</td>\n",
       "    </tr>\n",
       "    <tr>\n",
       "      <th>3</th>\n",
       "      <td>47</td>\n",
       "      <td>85.2768</td>\n",
       "      <td>0</td>\n",
       "      <td>1</td>\n",
       "      <td>0</td>\n",
       "      <td>100</td>\n",
       "      <td>0</td>\n",
       "      <td>1</td>\n",
       "      <td>1399</td>\n",
       "      <td>0</td>\n",
       "      <td>...</td>\n",
       "      <td>287</td>\n",
       "      <td>394</td>\n",
       "      <td>1590</td>\n",
       "      <td>966</td>\n",
       "      <td>0</td>\n",
       "      <td>436</td>\n",
       "      <td>0</td>\n",
       "      <td>0</td>\n",
       "      <td>0</td>\n",
       "      <td>0</td>\n",
       "    </tr>\n",
       "    <tr>\n",
       "      <th>4</th>\n",
       "      <td>43</td>\n",
       "      <td>66.6792</td>\n",
       "      <td>0</td>\n",
       "      <td>1</td>\n",
       "      <td>0</td>\n",
       "      <td>100</td>\n",
       "      <td>0</td>\n",
       "      <td>1</td>\n",
       "      <td>1352</td>\n",
       "      <td>0</td>\n",
       "      <td>...</td>\n",
       "      <td>504</td>\n",
       "      <td>353</td>\n",
       "      <td>870</td>\n",
       "      <td>782</td>\n",
       "      <td>0</td>\n",
       "      <td>360</td>\n",
       "      <td>0</td>\n",
       "      <td>1</td>\n",
       "      <td>0</td>\n",
       "      <td>0</td>\n",
       "    </tr>\n",
       "  </tbody>\n",
       "</table>\n",
       "<p>5 rows × 25 columns</p>\n",
       "</div>"
      ],
      "text/plain": [
       "   age     wtkg  hemo  homo  drugs  karnof  oprior  z30  preanti  race  ...  \\\n",
       "0   48  89.8128     0     0      0     100       0    0        0     0  ...   \n",
       "1   61  49.4424     0     0      0      90       0    1      895     0  ...   \n",
       "2   45  88.4520     0     1      1      90       0    1      707     0  ...   \n",
       "3   47  85.2768     0     1      0     100       0    1     1399     0  ...   \n",
       "4   43  66.6792     0     1      0     100       0    1     1352     0  ...   \n",
       "\n",
       "   cd40  cd420  cd80  cd820  infected  time730  time_censored  trt0  trt1  \\\n",
       "0   422    477   566    324         0      218              0     0     0   \n",
       "1   162    218   392    564         1      272              0     0     0   \n",
       "2   326    274  2063   1893         0      231              0     0     0   \n",
       "3   287    394  1590    966         0      436              0     0     0   \n",
       "4   504    353   870    782         0      360              0     1     0   \n",
       "\n",
       "   trt2  \n",
       "0     1  \n",
       "1     0  \n",
       "2     0  \n",
       "3     0  \n",
       "4     0  \n",
       "\n",
       "[5 rows x 25 columns]"
      ]
     },
     "execution_count": 5,
     "metadata": {},
     "output_type": "execute_result"
    }
   ],
   "source": [
    "data.head()"
   ]
  },
  {
   "cell_type": "code",
   "execution_count": 7,
   "metadata": {},
   "outputs": [],
   "source": [
    "df=data\n",
    "X=df.drop(\"infected\",axis=1)\n",
    "y=df[\"infected\"]"
   ]
  },
  {
   "cell_type": "markdown",
   "metadata": {},
   "source": [
    "## 059-Tune KNN Hyperparameters ##"
   ]
  },
  {
   "cell_type": "code",
   "execution_count": 8,
   "metadata": {},
   "outputs": [],
   "source": [
    "X_train, X_test, y_train, y_test = train_test_split(X, y, test_size=0.2, random_state=42)"
   ]
  },
  {
   "cell_type": "code",
   "execution_count": 9,
   "metadata": {},
   "outputs": [],
   "source": [
    "knn = KNeighborsClassifier()"
   ]
  },
  {
   "cell_type": "code",
   "execution_count": 21,
   "metadata": {},
   "outputs": [
    {
     "name": "stdout",
     "output_type": "stream",
     "text": [
      "Best parameters: {'metric': 'manhattan', 'n_neighbors': 7}\n",
      "Best score: 0.8416057149676913\n",
      "Test accuracy: 0.8411214953271028\n"
     ]
    }
   ],
   "source": [
    "param_grid = {'n_neighbors': [3, 5, 7, 10],'metric': ['euclidean', 'manhattan']}\n",
    "\n",
    "grid_search = GridSearchCV(estimator=knn, param_grid=param_grid, cv=5, scoring='accuracy')\n",
    "grid_search.fit(X_train, y_train)\n",
    "best_knn = grid_search.best_estimator_\n",
    "y_pred = best_knn.predict(X_test)\n",
    "\n",
    "print(f'Best parameters: {grid_search.best_params_}')\n",
    "print(f'Best score: {grid_search.best_score_}')\n",
    "print(f'Test accuracy: {accuracy_score(y_test, y_pred)}')"
   ]
  },
  {
   "cell_type": "code",
   "execution_count": 22,
   "metadata": {},
   "outputs": [
    {
     "data": {
      "image/png": "[encoded data removed]",
      "text/plain": [
       "<Figure size 600x500 with 2 Axes>"
      ]
     },
     "metadata": {},
     "output_type": "display_data"
    }
   ],
   "source": [
    "cm = confusion_matrix(y_test, y_pred)\n",
    "plt.figure(figsize=(6, 5))\n",
    "sns.heatmap(cm, annot=True, fmt='d', cmap='Blues', xticklabels=['Not infected', 'Infected'], yticklabels=['Not infected', 'Infected'])\n",
    "plt.title('Confusion Matrix')\n",
    "plt.xlabel('Prediction')\n",
    "plt.ylabel('True value')\n",
    "plt.show()"
   ]
  },
  {
   "cell_type": "markdown",
   "metadata": {},
   "source": [
    "## 060-Cross Validation for KNN ##"
   ]
  },
  {
   "cell_type": "code",
   "execution_count": 23,
   "metadata": {},
   "outputs": [
    {
     "name": "stdout",
     "output_type": "stream",
     "text": [
      "Best parameters: {'metric': 'manhattan', 'n_neighbors': 7}\n",
      "Best score(mean): 0.838230208584123\n",
      "cv mean accuracy: 0.838230208584123\n",
      "fold's accuracy: [0.85747664 0.81074766 0.84813084 0.86214953 0.81264637]\n"
     ]
    }
   ],
   "source": [
    "param_grid = {\n",
    "    'n_neighbors': [3, 5, 7, 10],'metric': ['euclidean', 'manhattan']}\n",
    "\n",
    "knn = KNeighborsClassifier()\n",
    "grid_search = GridSearchCV(estimator=knn, param_grid=param_grid, cv=5, scoring='accuracy')\n",
    "grid_search.fit(X, y)\n",
    "best_knn = grid_search.best_estimator_\n",
    "cv_scores = cross_val_score(best_knn, X, y, cv=5, scoring='accuracy')\n",
    "\n",
    "\n",
    "print(f'Best parameters: {grid_search.best_params_}')\n",
    "print(f'Best score(mean): {grid_search.best_score_}')\n",
    "\n",
    "print(f'cv mean accuracy: {cv_scores.mean()}')\n",
    "print(f\"fold's accuracy: {cv_scores}\")"
   ]
  },
  {
   "cell_type": "code",
   "execution_count": 25,
   "metadata": {},
   "outputs": [
    {
     "data": {
      "image/png": "[encoded data removed]",
      "text/plain": [
       "<Figure size 600x500 with 2 Axes>"
      ]
     },
     "metadata": {},
     "output_type": "display_data"
    }
   ],
   "source": [
    "y_pred_cv = best_knn.predict(X_test)\n",
    "cm_cv = confusion_matrix(y_test, y_pred_cv)\n",
    "plt.figure(figsize=(6, 5))\n",
    "sns.heatmap(cm_cv, annot=True, fmt='d', cmap='Blues', xticklabels=['Not infected', 'Infected'], yticklabels=['Not infected', 'Infected'])\n",
    "plt.title('Confusion matrix-kfold cv')\n",
    "plt.xlabel('Prediction')\n",
    "plt.ylabel('True value')\n",
    "plt.show()"
   ]
  }
 ],
 "metadata": {
  "kernelspec": {
   "display_name": ".venv",
   "language": "python",
   "name": "python3"
  },
  "language_info": {
   "codemirror_mode": {
    "name": "ipython",
    "version": 3
   },
   "file_extension": ".py",
   "mimetype": "text/x-python",
   "name": "python",
   "nbconvert_exporter": "python",
   "pygments_lexer": "ipython3",
   "version": "3.13.1"
  }
 },
 "nbformat": 4,
 "nbformat_minor": 2
}
