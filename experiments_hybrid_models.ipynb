{
 "cells": [
  {
   "cell_type": "code",
   "execution_count": 2,
   "metadata": {},
   "outputs": [],
   "source": [
    "import numpy as np\n",
    "import pandas as pd\n",
    "import matplotlib.pyplot as plt\n",
    "import seaborn as sns\n",
    "\n",
    "from sklearn.preprocessing import MinMaxScaler\n",
    "from sklearn.metrics import *\n",
    "from sklearn.model_selection import train_test_split, KFold, StratifiedKFold, cross_val_score, cross_validate\n",
    "\n",
    "from sklearn.ensemble import RandomForestClassifier\n",
    "from sklearn.feature_selection import SelectKBest, RFE\n",
    "from sklearn.feature_selection import f_classif\n",
    "from sklearn.preprocessing import StandardScaler \n",
    "from sklearn.metrics import accuracy_score\n",
    "from sklearn.metrics import accuracy_score, recall_score, make_scorer\n",
    "\n",
    "\n",
    "from sklearn.linear_model import LogisticRegression\n",
    "\n",
    "from matplotlib_venn import venn2\n",
    "from tqdm import tqdm\n",
    "\n",
    "from imblearn.over_sampling import SMOTENC\n",
    "\n",
    "\n",
    "\n",
    "import src.features as features\n",
    "import src.model_selection as model_selection \n",
    "import src.functions as functions\n",
    "import src.datasets as datasets \n",
    "\n",
    "# import custom functions\n",
    "from src.functions import plot_correlations, plot_mutual_info, hello\n",
    "from src.datasets import xy_train, xy_train_test, data_original, data_50000, data_balanced\n"
   ]
  },
  {
   "cell_type": "markdown",
   "metadata": {},
   "source": [
    "## Prepare"
   ]
  },
  {
   "cell_type": "code",
   "execution_count": 3,
   "metadata": {},
   "outputs": [],
   "source": [
    "data = datasets.data_original()"
   ]
  },
  {
   "cell_type": "code",
   "execution_count": 4,
   "metadata": {},
   "outputs": [],
   "source": [
    "data = features.engineer(data)"
   ]
  },
  {
   "cell_type": "code",
   "execution_count": 5,
   "metadata": {},
   "outputs": [],
   "source": [
    "### Train test split (unprocessed)\n",
    "X_, y_ = data.drop('infected', axis=1), data['infected']\n",
    "X_train_, X_test_, y_train_, y_test_ = train_test_split(X_, y_, test_size = 0.2, random_state=42, stratify = y_)\n"
   ]
  },
  {
   "cell_type": "code",
   "execution_count": 6,
   "metadata": {},
   "outputs": [],
   "source": [
    "scaler = StandardScaler()\n",
    "\n",
    "scaler.fit(X_train_)\n",
    "\n",
    "X_train_scaled = scaler.transform(X_train_)\n",
    "X_test_scaled = scaler.transform(X_test_)"
   ]
  },
  {
   "cell_type": "code",
   "execution_count": 7,
   "metadata": {},
   "outputs": [],
   "source": [
    "y_train_.reset_index(inplace = True, drop = True)"
   ]
  },
  {
   "cell_type": "code",
   "execution_count": 8,
   "metadata": {},
   "outputs": [],
   "source": [
    "X_train =pd.DataFrame(X_train_scaled,columns=X_.columns)\n",
    "X_test =pd.DataFrame(X_test_scaled,columns=X_.columns)\n",
    "y_train = y_train_\n",
    "y_test = y_test_ "
   ]
  },
  {
   "cell_type": "markdown",
   "metadata": {},
   "source": [
    "## Ready"
   ]
  },
  {
   "cell_type": "code",
   "execution_count": 9,
   "metadata": {},
   "outputs": [],
   "source": [
    "model = LogisticRegression(random_state=42)"
   ]
  },
  {
   "cell_type": "code",
   "execution_count": 10,
   "metadata": {},
   "outputs": [],
   "source": [
    "from src.model_selection import validation_accuracy_score as score"
   ]
  },
  {
   "cell_type": "code",
   "execution_count": 11,
   "metadata": {},
   "outputs": [],
   "source": [
    "acc = score(X_train,y_train, model, 3)"
   ]
  },
  {
   "cell_type": "code",
   "execution_count": 12,
   "metadata": {},
   "outputs": [
    {
     "data": {
      "text/plain": [
       "np.float64(0.8860294343564691)"
      ]
     },
     "execution_count": 12,
     "metadata": {},
     "output_type": "execute_result"
    }
   ],
   "source": [
    "acc"
   ]
  },
  {
   "cell_type": "markdown",
   "metadata": {},
   "source": [
    "### Bin features"
   ]
  },
  {
   "cell_type": "code",
   "execution_count": 13,
   "metadata": {},
   "outputs": [
    {
     "data": {
      "text/plain": [
       "['hemo',\n",
       " 'homo',\n",
       " 'drugs',\n",
       " 'oprior',\n",
       " 'z30',\n",
       " 'race',\n",
       " 'gender',\n",
       " 'str2',\n",
       " 'symptom',\n",
       " 'offtrt',\n",
       " 'trt0',\n",
       " 'trt1',\n",
       " 'trt2']"
      ]
     },
     "execution_count": 13,
     "metadata": {},
     "output_type": "execute_result"
    }
   ],
   "source": [
    "bin_features = [col for col in X_train.columns if X_train[col].nunique() == 2]\n",
    "bin_features"
   ]
  },
  {
   "cell_type": "code",
   "execution_count": 15,
   "metadata": {},
   "outputs": [
    {
     "data": {
      "text/plain": [
       "'r = []\\n\\nfor col in bin_features:\\n\\n    X0 = X_train[X_train[col] < 0]\\n    X1 = X_train[X_train[col] > 0]\\n\\n    y0 = y_train[X_train[col] < 0]\\n    y1 = y_train[X_train[col] > 0]\\n\\n    n0 = X0.shape[0]\\n    n1 = X1.shape[0]\\n    n = n0+n1\\n\\n    acc0 = score(X0,y0,LogisticRegression(random_state = 42), 3)\\n    acc1 = score(X1,y1,LogisticRegression(random_state = 42), 3)\\n\\n    results = {\\n        \"col\" : col,\\n        \"n0\" : n0,\\n        \"n1\" : n1,\\n        \"acc0\" : acc0, \\n        \"acc1\" : acc1,\\n        \"acc01\" : (acc0 * n0 + acc1*n1) / (n0+n1), \\n        \"acc\" : acc\\n    }\\n\\n    for i in \"acc acc0 acc1 acc01\".split():\\n        results[i] = round(results[i],4)\\n        results[i] = float(results[i])\\n\\n    r.append(results)\\n\\nrr = pd.DataFrame(r)\\nrr\\n'"
      ]
     },
     "execution_count": 15,
     "metadata": {},
     "output_type": "execute_result"
    }
   ],
   "source": [
    "\"\"\"r = []\n",
    "\n",
    "for col in bin_features:\n",
    "\n",
    "    X0 = X_train[X_train[col] < 0]\n",
    "    X1 = X_train[X_train[col] > 0]\n",
    "\n",
    "    y0 = y_train[X_train[col] < 0]\n",
    "    y1 = y_train[X_train[col] > 0]\n",
    "\n",
    "    n0 = X0.shape[0]\n",
    "    n1 = X1.shape[0]\n",
    "    n = n0+n1\n",
    "\n",
    "    acc0 = score(X0,y0,LogisticRegression(random_state = 42), 3)\n",
    "    acc1 = score(X1,y1,LogisticRegression(random_state = 42), 3)\n",
    "\n",
    "    results = {\n",
    "        \"col\" : col,\n",
    "        \"n0\" : n0,\n",
    "        \"n1\" : n1,\n",
    "        \"acc0\" : acc0, \n",
    "        \"acc1\" : acc1,\n",
    "        \"acc01\" : (acc0 * n0 + acc1*n1) / (n0+n1), \n",
    "        \"acc\" : acc\n",
    "    }\n",
    "\n",
    "    for i in \"acc acc0 acc1 acc01\".split():\n",
    "        results[i] = round(results[i],4)\n",
    "        results[i] = float(results[i])\n",
    "\n",
    "    r.append(results)\n",
    "\n",
    "rr = pd.DataFrame(r)\n",
    "rr\n",
    "\"\"\"\n",
    "\n"
   ]
  },
  {
   "cell_type": "markdown",
   "metadata": {},
   "source": [
    "Resutls: technique is good for \"offtrt\" and \"trt2\", ti is ad otherwise. \n",
    "\n",
    "It is especially good on offtrt = 0. \n",
    "\n",
    "It is good-ish on \"gender\"= 0 and \"trt = 0\""
   ]
  },
  {
   "cell_type": "markdown",
   "metadata": {},
   "source": [
    "## time"
   ]
  },
  {
   "cell_type": "code",
   "execution_count": 28,
   "metadata": {},
   "outputs": [],
   "source": [
    "data = datasets.data_original()\n",
    "data = features.engineer(data, time = None)\n",
    "### Train test split (unprocessed)\n",
    "X_, y_ = data.drop('infected', axis=1), data['infected']\n",
    "X_train_, X_test_, y_train_, y_test_ = train_test_split(X_, y_, test_size = 0.2, random_state=42, stratify = y_)\n",
    "\n",
    "scaler = StandardScaler()\n",
    "\n",
    "scaler.fit(X_train_)\n",
    "\n",
    "X_train_scaled = scaler.transform(X_train_)\n",
    "X_test_scaled = scaler.transform(X_test_)\n",
    "y_train_.reset_index(inplace = True, drop = True)\n",
    "X_train =pd.DataFrame(X_train_scaled,columns=X_.columns)\n",
    "X_test =pd.DataFrame(X_test_scaled,columns=X_.columns)\n",
    "y_train = y_train_\n",
    "y_test = y_test_ "
   ]
  },
  {
   "cell_type": "code",
   "execution_count": 29,
   "metadata": {},
   "outputs": [
    {
     "data": {
      "text/html": [
       "<div>\n",
       "<style scoped>\n",
       "    .dataframe tbody tr th:only-of-type {\n",
       "        vertical-align: middle;\n",
       "    }\n",
       "\n",
       "    .dataframe tbody tr th {\n",
       "        vertical-align: top;\n",
       "    }\n",
       "\n",
       "    .dataframe thead th {\n",
       "        text-align: right;\n",
       "    }\n",
       "</style>\n",
       "<table border=\"1\" class=\"dataframe\">\n",
       "  <thead>\n",
       "    <tr style=\"text-align: right;\">\n",
       "      <th></th>\n",
       "      <th>time</th>\n",
       "      <th>age</th>\n",
       "      <th>wtkg</th>\n",
       "      <th>hemo</th>\n",
       "      <th>homo</th>\n",
       "      <th>drugs</th>\n",
       "      <th>karnof</th>\n",
       "      <th>oprior</th>\n",
       "      <th>z30</th>\n",
       "      <th>preanti</th>\n",
       "      <th>...</th>\n",
       "      <th>strat</th>\n",
       "      <th>symptom</th>\n",
       "      <th>offtrt</th>\n",
       "      <th>cd40</th>\n",
       "      <th>cd420</th>\n",
       "      <th>cd80</th>\n",
       "      <th>cd820</th>\n",
       "      <th>trt0</th>\n",
       "      <th>trt1</th>\n",
       "      <th>trt2</th>\n",
       "    </tr>\n",
       "  </thead>\n",
       "  <tbody>\n",
       "    <tr>\n",
       "      <th>0</th>\n",
       "      <td>967</td>\n",
       "      <td>38</td>\n",
       "      <td>77.7000</td>\n",
       "      <td>0</td>\n",
       "      <td>0</td>\n",
       "      <td>1</td>\n",
       "      <td>90</td>\n",
       "      <td>0</td>\n",
       "      <td>1</td>\n",
       "      <td>817</td>\n",
       "      <td>...</td>\n",
       "      <td>3</td>\n",
       "      <td>0</td>\n",
       "      <td>1</td>\n",
       "      <td>356</td>\n",
       "      <td>341</td>\n",
       "      <td>499</td>\n",
       "      <td>614</td>\n",
       "      <td>1</td>\n",
       "      <td>0</td>\n",
       "      <td>0</td>\n",
       "    </tr>\n",
       "    <tr>\n",
       "      <th>1</th>\n",
       "      <td>896</td>\n",
       "      <td>38</td>\n",
       "      <td>68.0400</td>\n",
       "      <td>0</td>\n",
       "      <td>1</td>\n",
       "      <td>0</td>\n",
       "      <td>100</td>\n",
       "      <td>0</td>\n",
       "      <td>0</td>\n",
       "      <td>0</td>\n",
       "      <td>...</td>\n",
       "      <td>1</td>\n",
       "      <td>1</td>\n",
       "      <td>0</td>\n",
       "      <td>177</td>\n",
       "      <td>433</td>\n",
       "      <td>1242</td>\n",
       "      <td>1347</td>\n",
       "      <td>0</td>\n",
       "      <td>1</td>\n",
       "      <td>0</td>\n",
       "    </tr>\n",
       "    <tr>\n",
       "      <th>2</th>\n",
       "      <td>977</td>\n",
       "      <td>30</td>\n",
       "      <td>78.4728</td>\n",
       "      <td>0</td>\n",
       "      <td>1</td>\n",
       "      <td>0</td>\n",
       "      <td>100</td>\n",
       "      <td>0</td>\n",
       "      <td>0</td>\n",
       "      <td>0</td>\n",
       "      <td>...</td>\n",
       "      <td>1</td>\n",
       "      <td>0</td>\n",
       "      <td>0</td>\n",
       "      <td>389</td>\n",
       "      <td>355</td>\n",
       "      <td>654</td>\n",
       "      <td>397</td>\n",
       "      <td>0</td>\n",
       "      <td>0</td>\n",
       "      <td>0</td>\n",
       "    </tr>\n",
       "    <tr>\n",
       "      <th>3</th>\n",
       "      <td>894</td>\n",
       "      <td>28</td>\n",
       "      <td>58.5144</td>\n",
       "      <td>0</td>\n",
       "      <td>1</td>\n",
       "      <td>0</td>\n",
       "      <td>100</td>\n",
       "      <td>0</td>\n",
       "      <td>0</td>\n",
       "      <td>1016</td>\n",
       "      <td>...</td>\n",
       "      <td>3</td>\n",
       "      <td>0</td>\n",
       "      <td>0</td>\n",
       "      <td>549</td>\n",
       "      <td>475</td>\n",
       "      <td>875</td>\n",
       "      <td>591</td>\n",
       "      <td>0</td>\n",
       "      <td>0</td>\n",
       "      <td>0</td>\n",
       "    </tr>\n",
       "    <tr>\n",
       "      <th>4</th>\n",
       "      <td>1167</td>\n",
       "      <td>49</td>\n",
       "      <td>100.0000</td>\n",
       "      <td>0</td>\n",
       "      <td>1</td>\n",
       "      <td>0</td>\n",
       "      <td>90</td>\n",
       "      <td>0</td>\n",
       "      <td>1</td>\n",
       "      <td>1500</td>\n",
       "      <td>...</td>\n",
       "      <td>3</td>\n",
       "      <td>0</td>\n",
       "      <td>0</td>\n",
       "      <td>428</td>\n",
       "      <td>349</td>\n",
       "      <td>500</td>\n",
       "      <td>449</td>\n",
       "      <td>1</td>\n",
       "      <td>0</td>\n",
       "      <td>0</td>\n",
       "    </tr>\n",
       "    <tr>\n",
       "      <th>...</th>\n",
       "      <td>...</td>\n",
       "      <td>...</td>\n",
       "      <td>...</td>\n",
       "      <td>...</td>\n",
       "      <td>...</td>\n",
       "      <td>...</td>\n",
       "      <td>...</td>\n",
       "      <td>...</td>\n",
       "      <td>...</td>\n",
       "      <td>...</td>\n",
       "      <td>...</td>\n",
       "      <td>...</td>\n",
       "      <td>...</td>\n",
       "      <td>...</td>\n",
       "      <td>...</td>\n",
       "      <td>...</td>\n",
       "      <td>...</td>\n",
       "      <td>...</td>\n",
       "      <td>...</td>\n",
       "      <td>...</td>\n",
       "      <td>...</td>\n",
       "    </tr>\n",
       "    <tr>\n",
       "      <th>1706</th>\n",
       "      <td>1160</td>\n",
       "      <td>24</td>\n",
       "      <td>71.0000</td>\n",
       "      <td>0</td>\n",
       "      <td>0</td>\n",
       "      <td>0</td>\n",
       "      <td>100</td>\n",
       "      <td>0</td>\n",
       "      <td>0</td>\n",
       "      <td>0</td>\n",
       "      <td>...</td>\n",
       "      <td>1</td>\n",
       "      <td>0</td>\n",
       "      <td>0</td>\n",
       "      <td>439</td>\n",
       "      <td>428</td>\n",
       "      <td>2069</td>\n",
       "      <td>1305</td>\n",
       "      <td>0</td>\n",
       "      <td>1</td>\n",
       "      <td>0</td>\n",
       "    </tr>\n",
       "    <tr>\n",
       "      <th>1707</th>\n",
       "      <td>575</td>\n",
       "      <td>24</td>\n",
       "      <td>61.6896</td>\n",
       "      <td>0</td>\n",
       "      <td>0</td>\n",
       "      <td>0</td>\n",
       "      <td>90</td>\n",
       "      <td>0</td>\n",
       "      <td>0</td>\n",
       "      <td>34</td>\n",
       "      <td>...</td>\n",
       "      <td>2</td>\n",
       "      <td>0</td>\n",
       "      <td>0</td>\n",
       "      <td>210</td>\n",
       "      <td>231</td>\n",
       "      <td>1327</td>\n",
       "      <td>1733</td>\n",
       "      <td>0</td>\n",
       "      <td>1</td>\n",
       "      <td>0</td>\n",
       "    </tr>\n",
       "    <tr>\n",
       "      <th>1708</th>\n",
       "      <td>419</td>\n",
       "      <td>37</td>\n",
       "      <td>79.8336</td>\n",
       "      <td>0</td>\n",
       "      <td>1</td>\n",
       "      <td>0</td>\n",
       "      <td>100</td>\n",
       "      <td>0</td>\n",
       "      <td>0</td>\n",
       "      <td>0</td>\n",
       "      <td>...</td>\n",
       "      <td>1</td>\n",
       "      <td>1</td>\n",
       "      <td>0</td>\n",
       "      <td>356</td>\n",
       "      <td>324</td>\n",
       "      <td>2884</td>\n",
       "      <td>2106</td>\n",
       "      <td>0</td>\n",
       "      <td>0</td>\n",
       "      <td>0</td>\n",
       "    </tr>\n",
       "    <tr>\n",
       "      <th>1709</th>\n",
       "      <td>1032</td>\n",
       "      <td>40</td>\n",
       "      <td>75.7512</td>\n",
       "      <td>0</td>\n",
       "      <td>1</td>\n",
       "      <td>0</td>\n",
       "      <td>90</td>\n",
       "      <td>0</td>\n",
       "      <td>0</td>\n",
       "      <td>0</td>\n",
       "      <td>...</td>\n",
       "      <td>1</td>\n",
       "      <td>0</td>\n",
       "      <td>0</td>\n",
       "      <td>308</td>\n",
       "      <td>487</td>\n",
       "      <td>868</td>\n",
       "      <td>1104</td>\n",
       "      <td>0</td>\n",
       "      <td>1</td>\n",
       "      <td>0</td>\n",
       "    </tr>\n",
       "    <tr>\n",
       "      <th>1710</th>\n",
       "      <td>1153</td>\n",
       "      <td>37</td>\n",
       "      <td>77.5000</td>\n",
       "      <td>0</td>\n",
       "      <td>1</td>\n",
       "      <td>0</td>\n",
       "      <td>100</td>\n",
       "      <td>0</td>\n",
       "      <td>1</td>\n",
       "      <td>953</td>\n",
       "      <td>...</td>\n",
       "      <td>3</td>\n",
       "      <td>0</td>\n",
       "      <td>0</td>\n",
       "      <td>422</td>\n",
       "      <td>469</td>\n",
       "      <td>991</td>\n",
       "      <td>847</td>\n",
       "      <td>0</td>\n",
       "      <td>0</td>\n",
       "      <td>0</td>\n",
       "    </tr>\n",
       "  </tbody>\n",
       "</table>\n",
       "<p>1711 rows × 23 columns</p>\n",
       "</div>"
      ],
      "text/plain": [
       "      time  age      wtkg  hemo  homo  drugs  karnof  oprior  z30  preanti  \\\n",
       "0      967   38   77.7000     0     0      1      90       0    1      817   \n",
       "1      896   38   68.0400     0     1      0     100       0    0        0   \n",
       "2      977   30   78.4728     0     1      0     100       0    0        0   \n",
       "3      894   28   58.5144     0     1      0     100       0    0     1016   \n",
       "4     1167   49  100.0000     0     1      0      90       0    1     1500   \n",
       "...    ...  ...       ...   ...   ...    ...     ...     ...  ...      ...   \n",
       "1706  1160   24   71.0000     0     0      0     100       0    0        0   \n",
       "1707   575   24   61.6896     0     0      0      90       0    0       34   \n",
       "1708   419   37   79.8336     0     1      0     100       0    0        0   \n",
       "1709  1032   40   75.7512     0     1      0      90       0    0        0   \n",
       "1710  1153   37   77.5000     0     1      0     100       0    1      953   \n",
       "\n",
       "      ...  strat  symptom  offtrt  cd40  cd420  cd80  cd820  trt0  trt1  trt2  \n",
       "0     ...      3        0       1   356    341   499    614     1     0     0  \n",
       "1     ...      1        1       0   177    433  1242   1347     0     1     0  \n",
       "2     ...      1        0       0   389    355   654    397     0     0     0  \n",
       "3     ...      3        0       0   549    475   875    591     0     0     0  \n",
       "4     ...      3        0       0   428    349   500    449     1     0     0  \n",
       "...   ...    ...      ...     ...   ...    ...   ...    ...   ...   ...   ...  \n",
       "1706  ...      1        0       0   439    428  2069   1305     0     1     0  \n",
       "1707  ...      2        0       0   210    231  1327   1733     0     1     0  \n",
       "1708  ...      1        1       0   356    324  2884   2106     0     0     0  \n",
       "1709  ...      1        0       0   308    487   868   1104     0     1     0  \n",
       "1710  ...      3        0       0   422    469   991    847     0     0     0  \n",
       "\n",
       "[1711 rows x 23 columns]"
      ]
     },
     "execution_count": 29,
     "metadata": {},
     "output_type": "execute_result"
    }
   ],
   "source": [
    "X_train_.reset_index(inplace = True,drop = True)\n",
    "X_train_"
   ]
  },
  {
   "cell_type": "code",
   "execution_count": 31,
   "metadata": {},
   "outputs": [
    {
     "name": "stdout",
     "output_type": "stream",
     "text": [
      "{'col': 'time', 'n0': 433, 'n1': 1278, 'acc0': 0.7945, 'acc1': 0.9155, 'acc01': 0.8849, 'acc': 0.886}\n"
     ]
    },
    {
     "ename": "NameError",
     "evalue": "name 'r' is not defined",
     "output_type": "error",
     "traceback": [
      "\u001b[1;31m---------------------------------------------------------------------------\u001b[0m",
      "\u001b[1;31mNameError\u001b[0m                                 Traceback (most recent call last)",
      "Cell \u001b[1;32mIn[31], line 33\u001b[0m\n\u001b[0;32m     28\u001b[0m     results[i] \u001b[38;5;241m=\u001b[39m \u001b[38;5;28mfloat\u001b[39m(results[i])\n\u001b[0;32m     30\u001b[0m \u001b[38;5;28mprint\u001b[39m(results)\n\u001b[1;32m---> 33\u001b[0m \u001b[43mr\u001b[49m\u001b[38;5;241m.\u001b[39mappend(results)\n\u001b[0;32m     35\u001b[0m rr \u001b[38;5;241m=\u001b[39m pd\u001b[38;5;241m.\u001b[39mDataFrame(r)\n\u001b[0;32m     36\u001b[0m rr\n",
      "\u001b[1;31mNameError\u001b[0m: name 'r' is not defined"
     ]
    }
   ],
   "source": [
    "col = \"time\"\n",
    "\n",
    "X0 = X_train[X_train_[col] < 730]\n",
    "X1 = X_train[X_train_[col] >= 730]\n",
    "\n",
    "y0 = y_train[X_train_[col] < 730]\n",
    "y1 = y_train[X_train_[col] >= 730]\n",
    "\n",
    "n0 = X0.shape[0]\n",
    "n1 = X1.shape[0]\n",
    "n = n0+n1\n",
    "\n",
    "acc0 = score(X0,y0,LogisticRegression(random_state = 42), 3)\n",
    "acc1 = score(X1,y1,LogisticRegression(random_state = 42), 3)\n",
    "\n",
    "results = {\n",
    "    \"col\" : col,\n",
    "    \"n0\" : n0,\n",
    "    \"n1\" : n1,\n",
    "    \"acc0\" : acc0, \n",
    "    \"acc1\" : acc1,\n",
    "    \"acc01\" : (acc0 * n0 + acc1*n1) / (n0+n1), \n",
    "    \"acc\" : acc\n",
    "}\n",
    "\n",
    "for i in \"acc acc0 acc1 acc01\".split():\n",
    "    results[i] = round(results[i],4)\n",
    "    results[i] = float(results[i])\n",
    "\n",
    "print(results)\n",
    "\n",
    "r = []\n",
    "r.append(results)\n",
    "\n",
    "rr = pd.DataFrame(r)\n",
    "rr\n"
   ]
  },
  {
   "cell_type": "markdown",
   "metadata": {},
   "source": [
    "It is good on \"time>=730\" but then on average is not so good. "
   ]
  },
  {
   "cell_type": "markdown",
   "metadata": {},
   "source": [
    "## trt"
   ]
  },
  {
   "cell_type": "code",
   "execution_count": 36,
   "metadata": {},
   "outputs": [],
   "source": [
    "data = datasets.data_original()\n",
    "data = features.engineer(data)\n",
    "### Train test split (unprocessed)\n",
    "X_, y_ = data.drop('infected', axis=1), data['infected']\n",
    "X_train_, X_test_, y_train_, y_test_ = train_test_split(X_, y_, test_size = 0.2, random_state=42, stratify = y_)\n",
    "X_train_.reset_index(inplace = True,drop = True)\n",
    "\n",
    "\n",
    "scaler = StandardScaler()\n",
    "\n",
    "scaler.fit(X_train_)\n",
    "\n",
    "X_train_scaled = scaler.transform(X_train_)\n",
    "X_test_scaled = scaler.transform(X_test_)\n",
    "y_train_.reset_index(inplace = True, drop = True)\n",
    "X_train =pd.DataFrame(X_train_scaled,columns=X_.columns)\n",
    "X_test =pd.DataFrame(X_test_scaled,columns=X_.columns)\n",
    "y_train = y_train_\n",
    "y_test = y_test_ "
   ]
  },
  {
   "cell_type": "code",
   "execution_count": 44,
   "metadata": {},
   "outputs": [],
   "source": [
    "X_train[\"trt3\"] = 0.5 - X_train_[\"trt0\"] -X_train_[\"trt1\"] - X_train_[\"trt2\"]"
   ]
  },
  {
   "cell_type": "code",
   "execution_count": 49,
   "metadata": {},
   "outputs": [
    {
     "name": "stdout",
     "output_type": "stream",
     "text": [
      "trt0 433 0.8614463601532568\n",
      "trt1 409 0.8875590382138258\n",
      "trt2 418 0.8756252141144228\n",
      "trt3 451 0.893568800588668\n",
      "0.8860294343564691 old\n",
      "0.8796193975108901 new\n"
     ]
    }
   ],
   "source": [
    "\n",
    "XX  = [0,0,0,0]\n",
    "yy = [0,0,0,0]\n",
    "nn = [0,0,0,0]\n",
    "accc = [0,0,0,0]\n",
    "accw = [0,0,0,0]\n",
    "\n",
    "for i in range(4):\n",
    "    col = \"trt\" + str(i)\n",
    "    XX[i] = X_train[X_train[col] > 0]\n",
    "    yy[i] = y_train[X_train[col] > 0]\n",
    "    nn[i] = XX[i].shape[0]\n",
    "    accc[i] = score(XX[i],yy[i],LogisticRegression(random_state = 42), 3)\n",
    "    accw[i] = accc[i] * nn[i] \n",
    "\n",
    "    print(col, nn[i], accc[i])\n",
    "\n",
    "acctot  =    sum(accw) / sum(nn)\n",
    "\n",
    "print(acc, \"old\")\n",
    "print(acctot, \"new\")"
   ]
  },
  {
   "cell_type": "markdown",
   "metadata": {},
   "source": [
    "## Coefficients"
   ]
  },
  {
   "cell_type": "markdown",
   "metadata": {},
   "source": [
    "Now we need to check coefficients for offtrt"
   ]
  },
  {
   "cell_type": "code",
   "execution_count": null,
   "metadata": {},
   "outputs": [],
   "source": []
  },
  {
   "cell_type": "code",
   "execution_count": null,
   "metadata": {},
   "outputs": [],
   "source": []
  }
 ],
 "metadata": {
  "kernelspec": {
   "display_name": ".venv",
   "language": "python",
   "name": "python3"
  },
  "language_info": {
   "codemirror_mode": {
    "name": "ipython",
    "version": 3
   },
   "file_extension": ".py",
   "mimetype": "text/x-python",
   "name": "python",
   "nbconvert_exporter": "python",
   "pygments_lexer": "ipython3",
   "version": "3.13.0"
  }
 },
 "nbformat": 4,
 "nbformat_minor": 2
}
